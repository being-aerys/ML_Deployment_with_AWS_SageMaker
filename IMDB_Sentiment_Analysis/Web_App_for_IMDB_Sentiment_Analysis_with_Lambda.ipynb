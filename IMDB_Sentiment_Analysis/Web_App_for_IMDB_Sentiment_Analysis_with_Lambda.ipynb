{
 "cells": [
  {
   "cell_type": "markdown",
   "metadata": {},
   "source": [
    "# Sentiment Analysis Web App\n",
    "\n",
    "_Deep Learning Nanodegree Program | Deployment_\n",
    "\n",
    "---\n",
    "\n",
    "In this notebook we will use Amazon's SageMaker service to construct a random tree model to predict the sentiment of a movie review. In addition, we will deploy this model to an endpoint and construct a very simple web app which will interact with our model's deployed endpoint.\n",
    "\n",
    "## General Outline\n",
    "\n",
    "Typically, when using a notebook instance with SageMaker, you will proceed through the following steps. Of course, not every step will need to be done with each project. Also, there is quite a lot of room for variation in many of the steps, as you will see throughout these lessons.\n",
    "\n",
    "1. Download or otherwise retrieve the data.\n",
    "2. Process / Prepare the data.\n",
    "3. Upload the processed data to S3.\n",
    "4. Train a chosen model.\n",
    "5. Test the trained model (typically using a batch transform job).\n",
    "6. Deploy the trained model.\n",
    "7. Use the deployed model.\n",
    "\n",
    "In this notebook we will progress through each of the steps above. We will also see that the final step, using the deployed model, can be quite challenging."
   ]
  },
  {
   "cell_type": "code",
   "execution_count": 1,
   "metadata": {},
   "outputs": [
    {
     "name": "stdout",
     "output_type": "stream",
     "text": [
      "Collecting sagemaker==1.72.0\n",
      "  Downloading sagemaker-1.72.0.tar.gz (297 kB)\n",
      "\u001b[K     |████████████████████████████████| 297 kB 21.0 MB/s eta 0:00:01\n",
      "\u001b[?25hRequirement already satisfied: boto3>=1.14.12 in /home/ec2-user/anaconda3/envs/python3/lib/python3.6/site-packages (from sagemaker==1.72.0) (1.17.99)\n",
      "Requirement already satisfied: numpy>=1.9.0 in /home/ec2-user/anaconda3/envs/python3/lib/python3.6/site-packages (from sagemaker==1.72.0) (1.19.5)\n",
      "Requirement already satisfied: protobuf>=3.1 in /home/ec2-user/anaconda3/envs/python3/lib/python3.6/site-packages (from sagemaker==1.72.0) (3.15.2)\n",
      "Requirement already satisfied: scipy>=0.19.0 in /home/ec2-user/anaconda3/envs/python3/lib/python3.6/site-packages (from sagemaker==1.72.0) (1.5.3)\n",
      "Requirement already satisfied: protobuf3-to-dict>=0.1.5 in /home/ec2-user/anaconda3/envs/python3/lib/python3.6/site-packages (from sagemaker==1.72.0) (0.1.5)\n",
      "Collecting smdebug-rulesconfig==0.1.4\n",
      "  Downloading smdebug_rulesconfig-0.1.4-py2.py3-none-any.whl (10 kB)\n",
      "Requirement already satisfied: importlib-metadata>=1.4.0 in /home/ec2-user/anaconda3/envs/python3/lib/python3.6/site-packages (from sagemaker==1.72.0) (3.7.0)\n",
      "Requirement already satisfied: packaging>=20.0 in /home/ec2-user/anaconda3/envs/python3/lib/python3.6/site-packages (from sagemaker==1.72.0) (20.9)\n",
      "Requirement already satisfied: botocore<1.21.0,>=1.20.99 in /home/ec2-user/anaconda3/envs/python3/lib/python3.6/site-packages (from boto3>=1.14.12->sagemaker==1.72.0) (1.20.99)\n",
      "Requirement already satisfied: jmespath<1.0.0,>=0.7.1 in /home/ec2-user/anaconda3/envs/python3/lib/python3.6/site-packages (from boto3>=1.14.12->sagemaker==1.72.0) (0.10.0)\n",
      "Requirement already satisfied: s3transfer<0.5.0,>=0.4.0 in /home/ec2-user/anaconda3/envs/python3/lib/python3.6/site-packages (from boto3>=1.14.12->sagemaker==1.72.0) (0.4.2)\n",
      "Requirement already satisfied: python-dateutil<3.0.0,>=2.1 in /home/ec2-user/anaconda3/envs/python3/lib/python3.6/site-packages (from botocore<1.21.0,>=1.20.99->boto3>=1.14.12->sagemaker==1.72.0) (2.8.1)\n",
      "Requirement already satisfied: urllib3<1.27,>=1.25.4 in /home/ec2-user/anaconda3/envs/python3/lib/python3.6/site-packages (from botocore<1.21.0,>=1.20.99->boto3>=1.14.12->sagemaker==1.72.0) (1.26.5)\n",
      "Requirement already satisfied: zipp>=0.5 in /home/ec2-user/anaconda3/envs/python3/lib/python3.6/site-packages (from importlib-metadata>=1.4.0->sagemaker==1.72.0) (3.4.0)\n",
      "Requirement already satisfied: typing-extensions>=3.6.4 in /home/ec2-user/anaconda3/envs/python3/lib/python3.6/site-packages (from importlib-metadata>=1.4.0->sagemaker==1.72.0) (3.7.4.3)\n",
      "Requirement already satisfied: pyparsing>=2.0.2 in /home/ec2-user/anaconda3/envs/python3/lib/python3.6/site-packages (from packaging>=20.0->sagemaker==1.72.0) (2.4.7)\n",
      "Requirement already satisfied: six>=1.9 in /home/ec2-user/anaconda3/envs/python3/lib/python3.6/site-packages (from protobuf>=3.1->sagemaker==1.72.0) (1.15.0)\n",
      "Building wheels for collected packages: sagemaker\n",
      "  Building wheel for sagemaker (setup.py) ... \u001b[?25ldone\n",
      "\u001b[?25h  Created wheel for sagemaker: filename=sagemaker-1.72.0-py2.py3-none-any.whl size=386358 sha256=7e8b5ebdce2509c03e0c766516a9d4af8ade999e001f687e97b98b28a09937ca\n",
      "  Stored in directory: /home/ec2-user/.cache/pip/wheels/c3/58/70/85faf4437568bfaa4c419937569ba1fe54d44c5db42406bbd7\n",
      "Successfully built sagemaker\n",
      "Installing collected packages: smdebug-rulesconfig, sagemaker\n",
      "  Attempting uninstall: smdebug-rulesconfig\n",
      "    Found existing installation: smdebug-rulesconfig 1.0.1\n",
      "    Uninstalling smdebug-rulesconfig-1.0.1:\n",
      "      Successfully uninstalled smdebug-rulesconfig-1.0.1\n",
      "  Attempting uninstall: sagemaker\n",
      "    Found existing installation: sagemaker 2.45.0\n",
      "    Uninstalling sagemaker-2.45.0:\n",
      "      Successfully uninstalled sagemaker-2.45.0\n",
      "Successfully installed sagemaker-1.72.0 smdebug-rulesconfig-0.1.4\n",
      "\u001b[33mWARNING: You are using pip version 21.1.2; however, version 21.1.3 is available.\n",
      "You should consider upgrading via the '/home/ec2-user/anaconda3/envs/python3/bin/python -m pip install --upgrade pip' command.\u001b[0m\n"
     ]
    }
   ],
   "source": [
    "# Make sure that we use SageMaker 1.x\n",
    "!pip install sagemaker==1.72.0"
   ]
  },
  {
   "cell_type": "markdown",
   "metadata": {},
   "source": [
    "## Step 1: Downloading the data\n",
    "\n",
    "The dataset we are going to use is very popular among researchers in Natural Language Processing, usually referred to as the [IMDb dataset](http://ai.stanford.edu/~amaas/data/sentiment/). It consists of movie reviews from the website [imdb.com](http://www.imdb.com/), each labeled as either '**pos**itive', if the reviewer enjoyed the film, or '**neg**ative' otherwise.\n",
    "\n",
    "> Maas, Andrew L., et al. [Learning Word Vectors for Sentiment Analysis](http://ai.stanford.edu/~amaas/data/sentiment/). In _Proceedings of the 49th Annual Meeting of the Association for Computational Linguistics: Human Language Technologies_. Association for Computational Linguistics, 2011.\n",
    "\n",
    "We begin by using some Jupyter Notebook magic to download and extract the dataset."
   ]
  },
  {
   "cell_type": "code",
   "execution_count": 2,
   "metadata": {},
   "outputs": [
    {
     "name": "stdout",
     "output_type": "stream",
     "text": [
      "mkdir: cannot create directory ‘../data’: File exists\n",
      "--2021-07-23 01:16:38--  http://ai.stanford.edu/~amaas/data/sentiment/aclImdb_v1.tar.gz\n",
      "Resolving ai.stanford.edu (ai.stanford.edu)... 171.64.68.10\n",
      "Connecting to ai.stanford.edu (ai.stanford.edu)|171.64.68.10|:80... connected.\n",
      "HTTP request sent, awaiting response... 200 OK\n",
      "Length: 84125825 (80M) [application/x-gzip]\n",
      "Saving to: ‘../data/aclImdb_v1.tar.gz’\n",
      "\n",
      "../data/aclImdb_v1. 100%[===================>]  80.23M  21.6MB/s    in 5.2s    \n",
      "\n",
      "2021-07-23 01:16:44 (15.5 MB/s) - ‘../data/aclImdb_v1.tar.gz’ saved [84125825/84125825]\n",
      "\n"
     ]
    }
   ],
   "source": [
    "%mkdir ../data\n",
    "!wget -O ../data/aclImdb_v1.tar.gz http://ai.stanford.edu/~amaas/data/sentiment/aclImdb_v1.tar.gz\n",
    "!tar -zxf ../data/aclImdb_v1.tar.gz -C ../data"
   ]
  },
  {
   "cell_type": "markdown",
   "metadata": {},
   "source": [
    "## Step 2: Preparing and Processing the data\n",
    "\n",
    "The data we have downloaded is split into various files, each of which contains a single review. It will be much easier going forward if we combine these individual files into two large files, one for training and one for testing."
   ]
  },
  {
   "cell_type": "code",
   "execution_count": 3,
   "metadata": {},
   "outputs": [],
   "source": [
    "import os\n",
    "import glob\n",
    "\n",
    "def read_imdb_data(data_dir='../data/aclImdb'):\n",
    "    data = {}\n",
    "    labels = {}\n",
    "    \n",
    "    for data_type in ['train', 'test']:\n",
    "        data[data_type] = {}\n",
    "        labels[data_type] = {}\n",
    "        \n",
    "        for sentiment in ['pos', 'neg']:\n",
    "            data[data_type][sentiment] = []\n",
    "            labels[data_type][sentiment] = []\n",
    "            \n",
    "            path = os.path.join(data_dir, data_type, sentiment, '*.txt')\n",
    "            files = glob.glob(path)\n",
    "            \n",
    "            for f in files:\n",
    "                with open(f) as review:\n",
    "                    data[data_type][sentiment].append(review.read())\n",
    "                    # Here we represent a positive review by '1' and a negative review by '0'\n",
    "                    labels[data_type][sentiment].append(1 if sentiment == 'pos' else 0)\n",
    "                    \n",
    "            assert len(data[data_type][sentiment]) == len(labels[data_type][sentiment]), \\\n",
    "                    \"{}/{} data size does not match labels size\".format(data_type, sentiment)\n",
    "                \n",
    "    return data, labels"
   ]
  },
  {
   "cell_type": "code",
   "execution_count": 4,
   "metadata": {},
   "outputs": [
    {
     "name": "stdout",
     "output_type": "stream",
     "text": [
      "IMDB reviews: train = 12500 pos / 12500 neg, test = 12500 pos / 12500 neg\n"
     ]
    }
   ],
   "source": [
    "data, labels = read_imdb_data()\n",
    "print(\"IMDB reviews: train = {} pos / {} neg, test = {} pos / {} neg\".format(\n",
    "            len(data['train']['pos']), len(data['train']['neg']),\n",
    "            len(data['test']['pos']), len(data['test']['neg'])))"
   ]
  },
  {
   "cell_type": "code",
   "execution_count": 5,
   "metadata": {},
   "outputs": [],
   "source": [
    "from sklearn.utils import shuffle\n",
    "\n",
    "def prepare_imdb_data(data, labels):\n",
    "    \"\"\"Prepare training and test sets from IMDb movie reviews.\"\"\"\n",
    "    \n",
    "    #Combine positive and negative reviews and labels\n",
    "    data_train = data['train']['pos'] + data['train']['neg']\n",
    "    data_test = data['test']['pos'] + data['test']['neg']\n",
    "    labels_train = labels['train']['pos'] + labels['train']['neg']\n",
    "    labels_test = labels['test']['pos'] + labels['test']['neg']\n",
    "    \n",
    "    #Shuffle reviews and corresponding labels within training and test sets\n",
    "    data_train, labels_train = shuffle(data_train, labels_train)\n",
    "    data_test, labels_test = shuffle(data_test, labels_test)\n",
    "    \n",
    "    # Return a unified training data, test data, training labels, test labets\n",
    "    return data_train, data_test, labels_train, labels_test"
   ]
  },
  {
   "cell_type": "code",
   "execution_count": 6,
   "metadata": {},
   "outputs": [
    {
     "name": "stdout",
     "output_type": "stream",
     "text": [
      "IMDb reviews (combined): train = 25000, test = 25000\n"
     ]
    }
   ],
   "source": [
    "train_X, test_X, train_y, test_y = prepare_imdb_data(data, labels)\n",
    "print(\"IMDb reviews (combined): train = {}, test = {}\".format(len(train_X), len(test_X)))"
   ]
  },
  {
   "cell_type": "code",
   "execution_count": 7,
   "metadata": {},
   "outputs": [
    {
     "data": {
      "text/plain": [
       "'I saw this movie when it was released, and my distaste for it has stuck with me all these years. <br /><br />Here\\'s why: <br /><br />Greenaway\\'s goal seems to be to take every literary image in the Tempest and make it literal. If a character were to say, \"my heart takes flight,\" we\\'d be shown an actual human heart, with pigeon wings attached, flapping across the screen. <br /><br />This process makes for some lush tableaux, but ultimately it\\'s a facile exercise. And it becomes deadly boring.<br /><br />I don\\'t begrudge the pleasure other viewers found in this movie, but it\\'s worth knowing that not everyone in the audience was enraptured.'"
      ]
     },
     "execution_count": 7,
     "metadata": {},
     "output_type": "execute_result"
    }
   ],
   "source": [
    "train_X[100]"
   ]
  },
  {
   "cell_type": "markdown",
   "metadata": {},
   "source": [
    "## Processing the data\n",
    "\n",
    "Now that we have our training and testing datasets merged and ready to use, we need to start processing the raw data into something that will be useable by our machine learning algorithm. To begin with, we remove any html formatting and any non-alpha numeric characters that may appear in the reviews. We will do this in a very simplistic way using Python's regular expression module. We will discuss the reason for this rather simplistic pre-processing later on."
   ]
  },
  {
   "cell_type": "code",
   "execution_count": 8,
   "metadata": {},
   "outputs": [],
   "source": [
    "import re\n",
    "\n",
    "REPLACE_NO_SPACE = re.compile(\"(\\.)|(\\;)|(\\:)|(\\!)|(\\')|(\\?)|(\\,)|(\\\")|(\\()|(\\))|(\\[)|(\\])\")\n",
    "REPLACE_WITH_SPACE = re.compile(\"(<br\\s*/><br\\s*/>)|(\\-)|(\\/)\")\n",
    "\n",
    "def review_to_words(review):\n",
    "    words = REPLACE_NO_SPACE.sub(\"\", review.lower())\n",
    "    words = REPLACE_WITH_SPACE.sub(\" \", words)\n",
    "    return words"
   ]
  },
  {
   "cell_type": "code",
   "execution_count": 9,
   "metadata": {},
   "outputs": [
    {
     "data": {
      "text/plain": [
       "'i saw this movie when it was released and my distaste for it has stuck with me all these years  heres why  greenaways goal seems to be to take every literary image in the tempest and make it literal if a character were to say my heart takes flight wed be shown an actual human heart with pigeon wings attached flapping across the screen  this process makes for some lush tableaux but ultimately its a facile exercise and it becomes deadly boring i dont begrudge the pleasure other viewers found in this movie but its worth knowing that not everyone in the audience was enraptured'"
      ]
     },
     "execution_count": 9,
     "metadata": {},
     "output_type": "execute_result"
    }
   ],
   "source": [
    "review_to_words(train_X[100])"
   ]
  },
  {
   "cell_type": "code",
   "execution_count": 10,
   "metadata": {},
   "outputs": [],
   "source": [
    "import pickle\n",
    "\n",
    "cache_dir = os.path.join(\"../cache\", \"sentiment_web_app\")  # where to store cache files\n",
    "os.makedirs(cache_dir, exist_ok=True)  # ensure cache directory exists\n",
    "\n",
    "def preprocess_data(data_train, data_test, labels_train, labels_test,\n",
    "                    cache_dir=cache_dir, cache_file=\"preprocessed_data.pkl\"):\n",
    "    \"\"\"Convert each review to words; read from cache if available.\"\"\"\n",
    "\n",
    "    # If cache_file is not None, try to read from it first\n",
    "    cache_data = None\n",
    "    if cache_file is not None:\n",
    "        try:\n",
    "            with open(os.path.join(cache_dir, cache_file), \"rb\") as f:\n",
    "                cache_data = pickle.load(f)\n",
    "            print(\"Read preprocessed data from cache file:\", cache_file)\n",
    "        except:\n",
    "            pass  # unable to read from cache, but that's okay\n",
    "    \n",
    "    # If cache is missing, then do the heavy lifting\n",
    "    if cache_data is None:\n",
    "        # Preprocess training and test data to obtain words for each review\n",
    "        #words_train = list(map(review_to_words, data_train))\n",
    "        #words_test = list(map(review_to_words, data_test))\n",
    "        words_train = [review_to_words(review) for review in data_train]\n",
    "        words_test = [review_to_words(review) for review in data_test]\n",
    "        \n",
    "        # Write to cache file for future runs\n",
    "        if cache_file is not None:\n",
    "            cache_data = dict(words_train=words_train, words_test=words_test,\n",
    "                              labels_train=labels_train, labels_test=labels_test)\n",
    "            with open(os.path.join(cache_dir, cache_file), \"wb\") as f:\n",
    "                pickle.dump(cache_data, f)\n",
    "            print(\"Wrote preprocessed data to cache file:\", cache_file)\n",
    "    else:\n",
    "        # Unpack data loaded from cache file\n",
    "        words_train, words_test, labels_train, labels_test = (cache_data['words_train'],\n",
    "                cache_data['words_test'], cache_data['labels_train'], cache_data['labels_test'])\n",
    "    \n",
    "    return words_train, words_test, labels_train, labels_test"
   ]
  },
  {
   "cell_type": "code",
   "execution_count": 11,
   "metadata": {},
   "outputs": [
    {
     "name": "stdout",
     "output_type": "stream",
     "text": [
      "Read preprocessed data from cache file: preprocessed_data.pkl\n"
     ]
    }
   ],
   "source": [
    "# Preprocess data\n",
    "train_X, test_X, train_y, test_y = preprocess_data(train_X, test_X, train_y, test_y)"
   ]
  },
  {
   "cell_type": "markdown",
   "metadata": {},
   "source": [
    "### Extract Bag-of-Words features\n",
    "\n",
    "For the model we will be implementing, rather than using the reviews directly, we are going to transform each review into a Bag-of-Words feature representation. Keep in mind that 'in the wild' we will only have access to the training set so our transformer can only use the training set to construct a representation."
   ]
  },
  {
   "cell_type": "code",
   "execution_count": 12,
   "metadata": {},
   "outputs": [],
   "source": [
    "import numpy as np\n",
    "from sklearn.feature_extraction.text import CountVectorizer\n",
    "\n",
    "# sklearn.externals.joblib is deprecated in 0.21 and will be removed in 0.23. \n",
    "# from sklearn.externals import joblib\n",
    "\n",
    "# Import joblib package directly\n",
    "import joblib\n",
    "# joblib is an enhanced version of pickle that is more efficient for storing NumPy arrays\n",
    "\n",
    "def extract_BoW_features(words_train, words_test, vocabulary_size=5000,\n",
    "                         cache_dir=cache_dir, cache_file=\"bow_features.pkl\"):\n",
    "    \"\"\"Extract Bag-of-Words for a given set of documents, already preprocessed into words.\"\"\"\n",
    "    \n",
    "    # If cache_file is not None, try to read from it first\n",
    "    cache_data = None\n",
    "    if cache_file is not None:\n",
    "        try:\n",
    "            with open(os.path.join(cache_dir, cache_file), \"rb\") as f:\n",
    "                cache_data = joblib.load(f)\n",
    "            print(\"Read features from cache file:\", cache_file)\n",
    "        except:\n",
    "            pass  # unable to read from cache, but that's okay\n",
    "    \n",
    "    # If cache is missing, then do the heavy lifting\n",
    "    if cache_data is None:\n",
    "        # Fit a vectorizer to training documents and use it to transform them\n",
    "        # NOTE: Training documents have already been preprocessed and tokenized into words;\n",
    "        #       pass in dummy functions to skip those steps, e.g. preprocessor=lambda x: x\n",
    "        vectorizer = CountVectorizer(max_features=vocabulary_size)\n",
    "        features_train = vectorizer.fit_transform(words_train).toarray()\n",
    "\n",
    "        # Apply the same vectorizer to transform the test documents (ignore unknown words)\n",
    "        features_test = vectorizer.transform(words_test).toarray()\n",
    "        \n",
    "        # NOTE: Remember to convert the features using .toarray() for a compact representation\n",
    "        \n",
    "        # Write to cache file for future runs (store vocabulary as well)\n",
    "        if cache_file is not None:\n",
    "            vocabulary = vectorizer.vocabulary_\n",
    "            cache_data = dict(features_train=features_train, features_test=features_test,\n",
    "                             vocabulary=vocabulary)\n",
    "            with open(os.path.join(cache_dir, cache_file), \"wb\") as f:\n",
    "                joblib.dump(cache_data, f)\n",
    "            print(\"Wrote features to cache file:\", cache_file)\n",
    "    else:\n",
    "        # Unpack data loaded from cache file\n",
    "        features_train, features_test, vocabulary = (cache_data['features_train'],\n",
    "                cache_data['features_test'], cache_data['vocabulary'])\n",
    "    \n",
    "    # Return both the extracted features as well as the vocabulary\n",
    "    return features_train, features_test, vocabulary"
   ]
  },
  {
   "cell_type": "code",
   "execution_count": 13,
   "metadata": {},
   "outputs": [
    {
     "name": "stdout",
     "output_type": "stream",
     "text": [
      "Read features from cache file: bow_features.pkl\n"
     ]
    }
   ],
   "source": [
    "# Extract Bag of Words features for both training and test datasets\n",
    "train_X, test_X, vocabulary = extract_BoW_features(train_X, test_X)"
   ]
  },
  {
   "cell_type": "code",
   "execution_count": 14,
   "metadata": {},
   "outputs": [
    {
     "data": {
      "text/plain": [
       "5000"
      ]
     },
     "execution_count": 14,
     "metadata": {},
     "output_type": "execute_result"
    }
   ],
   "source": [
    "len(train_X[100])"
   ]
  },
  {
   "cell_type": "markdown",
   "metadata": {},
   "source": [
    "## Step 3: Upload data to S3\n",
    "\n",
    "Now that we have created the feature representation of our training (and testing) data, it is time to start setting up and using the XGBoost classifier provided by SageMaker.\n",
    "\n",
    "### Writing the datasets\n",
    "\n",
    "The XGBoost classifier that we will be using requires the dataset to be written to a file and stored using Amazon S3. To do this, we will start by splitting the training dataset into two parts, the data we will train the model with and a validation set. Then, we will write those datasets to a file locally and then upload the files to S3. In addition, we will write the test set to a file and upload that file to S3. This is so that we can use SageMakers Batch Transform functionality to test our model once we've fit it."
   ]
  },
  {
   "cell_type": "code",
   "execution_count": 15,
   "metadata": {},
   "outputs": [],
   "source": [
    "import pandas as pd\n",
    "\n",
    "# Earlier we shuffled the training dataset so to make things simple we can just assign\n",
    "# the first 10 000 reviews to the validation set and use the remaining reviews for training.\n",
    "val_X = pd.DataFrame(train_X[:10000])\n",
    "train_X = pd.DataFrame(train_X[10000:])\n",
    "\n",
    "val_y = pd.DataFrame(train_y[:10000])\n",
    "train_y = pd.DataFrame(train_y[10000:])"
   ]
  },
  {
   "cell_type": "markdown",
   "metadata": {},
   "source": [
    "The documentation for the XGBoost algorithm in SageMaker requires that the training and validation datasets should contain no headers or index and that the label should occur first for each sample.\n",
    "\n",
    "For more information about this and other algorithms, the SageMaker developer documentation can be found on __[Amazon's website.](https://docs.aws.amazon.com/sagemaker/latest/dg/)__"
   ]
  },
  {
   "cell_type": "code",
   "execution_count": 16,
   "metadata": {},
   "outputs": [],
   "source": [
    "# First we make sure that the local directory in which we'd like to store the training and validation csv files exists.\n",
    "data_dir = '../data/sentiment_web_app'\n",
    "if not os.path.exists(data_dir):\n",
    "    os.makedirs(data_dir)"
   ]
  },
  {
   "cell_type": "code",
   "execution_count": 17,
   "metadata": {},
   "outputs": [],
   "source": [
    "pd.DataFrame(test_X).to_csv(os.path.join(data_dir, 'test.csv'), header=False, index=False)\n",
    "\n",
    "pd.concat([val_y, val_X], axis=1).to_csv(os.path.join(data_dir, 'validation.csv'), header=False, index=False)\n",
    "pd.concat([train_y, train_X], axis=1).to_csv(os.path.join(data_dir, 'train.csv'), header=False, index=False)"
   ]
  },
  {
   "cell_type": "code",
   "execution_count": 18,
   "metadata": {},
   "outputs": [],
   "source": [
    "# To save a bit of memory we can set text_X, train_X, val_X, train_y and val_y to None.\n",
    "\n",
    "test_X = train_X = val_X = train_y = val_y = None"
   ]
  },
  {
   "cell_type": "markdown",
   "metadata": {},
   "source": [
    "### Uploading Training / Validation files to S3\n",
    "\n",
    "Amazon's S3 service allows us to store files that can be accessed by both the built-in training models such as the XGBoost model we will be using as well as custom models such as the one we will see a little later.\n",
    "\n",
    "For this and most other tasks we will be doing using SageMaker, there are two methods we could use. The first is to use the low level functionality of SageMaker which requires knowing each of the objects involved in the SageMaker environment. The second is to use the high level functionality in which certain choices have been made on the user's behalf. The low level approach benefits from allowing the user a great deal of flexibility while the high level approach makes development much quicker. For our purposes we will opt to use the high level approach although using the low-level approach is certainly an option.\n",
    "\n",
    "Recall the method `upload_data()` which is a member of the object representing our current SageMaker session. What this method does is upload the data to the default bucket (which is created if it does not exist) into the path described by the key_prefix variable. To see this for yourself, once you have uploaded the data files, go to the S3 console and look to see where the files have been uploaded.\n",
    "\n",
    "For additional resources, see the __[SageMaker API documentation](http://sagemaker.readthedocs.io/en/latest/)__ and in addition the __[SageMaker Developer Guide.](https://docs.aws.amazon.com/sagemaker/latest/dg/)__"
   ]
  },
  {
   "cell_type": "code",
   "execution_count": 19,
   "metadata": {},
   "outputs": [],
   "source": [
    "import sagemaker\n",
    "\n",
    "session = sagemaker.Session() # Store the current SageMaker session\n",
    "\n",
    "# S3 prefix (which folder will we use)\n",
    "prefix = 'sentiment-web-app'\n",
    "\n",
    "test_location = session.upload_data(os.path.join(data_dir, 'test.csv'), key_prefix=prefix)\n",
    "val_location = session.upload_data(os.path.join(data_dir, 'validation.csv'), key_prefix=prefix)\n",
    "train_location = session.upload_data(os.path.join(data_dir, 'train.csv'), key_prefix=prefix)"
   ]
  },
  {
   "cell_type": "markdown",
   "metadata": {},
   "source": [
    "## Step 4: Creating the XGBoost model\n",
    "\n",
    "Now that the data has been uploaded it is time to create the XGBoost model. To begin with, we need to do some setup. At this point it is worth discussing what a model is in SageMaker. It is easiest to think of a model of comprising three different objects in the SageMaker ecosystem, which interact with one another.\n",
    "\n",
    "- Model Artifacts\n",
    "- Training Code (Container)\n",
    "- Inference Code (Container)\n",
    "\n",
    "The Model Artifacts are what you might think of as the actual model itself. For example, if you were building a neural network, the model artifacts would be the weights of the various layers. In our case, for an XGBoost model, the artifacts are the actual trees that are created during training.\n",
    "\n",
    "The other two objects, the training code and the inference code are then used to manipulate the training artifacts. More precisely, the training code uses the training data that is provided and creates the model artifacts, while the inference code uses the model artifacts to make predictions on new data.\n",
    "\n",
    "The way that SageMaker runs the training and inference code is by making use of Docker containers. For now, think of a container as being a way of packaging code up so that dependencies aren't an issue."
   ]
  },
  {
   "cell_type": "code",
   "execution_count": 20,
   "metadata": {},
   "outputs": [],
   "source": [
    "from sagemaker import get_execution_role\n",
    "\n",
    "# Our current execution role is required when creating the model as the training\n",
    "# and inference code will need to access the model artifacts.\n",
    "role = get_execution_role()"
   ]
  },
  {
   "cell_type": "code",
   "execution_count": 21,
   "metadata": {},
   "outputs": [
    {
     "name": "stderr",
     "output_type": "stream",
     "text": [
      "'get_image_uri' method will be deprecated in favor of 'ImageURIProvider' class in SageMaker Python SDK v2.\n",
      "There is a more up to date SageMaker XGBoost image. To use the newer image, please set 'repo_version'='1.0-1'. For example:\n",
      "\tget_image_uri(region, 'xgboost', '1.0-1').\n"
     ]
    }
   ],
   "source": [
    "# We need to retrieve the location of the container which is provided by Amazon for using XGBoost.\n",
    "# As a matter of convenience, the training and inference code both use the same container.\n",
    "from sagemaker.amazon.amazon_estimator import get_image_uri\n",
    "\n",
    "container = get_image_uri(session.boto_region_name, 'xgboost')"
   ]
  },
  {
   "cell_type": "code",
   "execution_count": 22,
   "metadata": {},
   "outputs": [
    {
     "name": "stderr",
     "output_type": "stream",
     "text": [
      "Parameter image_name will be renamed to image_uri in SageMaker Python SDK v2.\n"
     ]
    }
   ],
   "source": [
    "# First we create a SageMaker estimator object for our model.\n",
    "xgb = sagemaker.estimator.Estimator(container, # The location of the container we wish to use\n",
    "                                    role,                                    # What is our current IAM Role\n",
    "                                    train_instance_count=1,                  # How many compute instances\n",
    "                                    train_instance_type='ml.m4.xlarge',      # What kind of compute instances\n",
    "                                    output_path='s3://{}/{}/output'.format(session.default_bucket(), prefix),\n",
    "                                    sagemaker_session=session)\n",
    "\n",
    "# And then set the algorithm specific parameters.\n",
    "xgb.set_hyperparameters(max_depth=5,\n",
    "                        eta=0.2,\n",
    "                        gamma=4,\n",
    "                        min_child_weight=6,\n",
    "                        subsample=0.8,\n",
    "                        silent=0,\n",
    "                        objective='binary:logistic',\n",
    "                        early_stopping_rounds=10,\n",
    "                        num_round=500)"
   ]
  },
  {
   "cell_type": "markdown",
   "metadata": {},
   "source": [
    "### Fit the XGBoost model\n",
    "\n",
    "Now that our model has been set up we simply need to attach the training and validation datasets and then ask SageMaker to set up the computation."
   ]
  },
  {
   "cell_type": "code",
   "execution_count": 23,
   "metadata": {},
   "outputs": [
    {
     "name": "stderr",
     "output_type": "stream",
     "text": [
      "'s3_input' class will be renamed to 'TrainingInput' in SageMaker Python SDK v2.\n",
      "'s3_input' class will be renamed to 'TrainingInput' in SageMaker Python SDK v2.\n"
     ]
    }
   ],
   "source": [
    "s3_input_train = sagemaker.s3_input(s3_data=train_location, content_type='csv')\n",
    "s3_input_validation = sagemaker.s3_input(s3_data=val_location, content_type='csv')"
   ]
  },
  {
   "cell_type": "code",
   "execution_count": 24,
   "metadata": {},
   "outputs": [
    {
     "name": "stdout",
     "output_type": "stream",
     "text": [
      "2021-07-23 01:26:21 Starting - Starting the training job...\n",
      "2021-07-23 01:26:22 Starting - Launching requested ML instances......\n",
      "2021-07-23 01:27:34 Starting - Preparing the instances for training............\n",
      "2021-07-23 01:29:44 Downloading - Downloading input data\n",
      "2021-07-23 01:29:44 Training - Downloading the training image..\n",
      "2021-07-23 01:30:04 Training - Training image download completed. Training in progress.\u001b[34mArguments: train\u001b[0m\n",
      "\u001b[34m[2021-07-23:01:30:06:INFO] Running standalone xgboost training.\u001b[0m\n",
      "\u001b[34m[2021-07-23:01:30:06:INFO] File size need to be processed in the node: 238.5mb. Available memory size in the node: 8389.8mb\u001b[0m\n",
      "\u001b[34m[2021-07-23:01:30:06:INFO] Determined delimiter of CSV input is ','\u001b[0m\n",
      "\u001b[34m[01:30:06] S3DistributionType set as FullyReplicated\u001b[0m\n",
      "\u001b[34m[01:30:07] 15000x5000 matrix with 75000000 entries loaded from /opt/ml/input/data/train?format=csv&label_column=0&delimiter=,\u001b[0m\n",
      "\u001b[34m[2021-07-23:01:30:07:INFO] Determined delimiter of CSV input is ','\u001b[0m\n",
      "\u001b[34m[01:30:07] S3DistributionType set as FullyReplicated\u001b[0m\n",
      "\u001b[34m[01:30:09] 10000x5000 matrix with 50000000 entries loaded from /opt/ml/input/data/validation?format=csv&label_column=0&delimiter=,\u001b[0m\n",
      "\u001b[34m[01:30:12] src/tree/updater_prune.cc:74: tree pruning end, 1 roots, 36 extra nodes, 10 pruned nodes, max_depth=5\u001b[0m\n",
      "\u001b[34m[0]#011train-error:0.306267#011validation-error:0.3132\u001b[0m\n",
      "\u001b[34mMultiple eval metrics have been passed: 'validation-error' will be used for early stopping.\n",
      "\u001b[0m\n",
      "\u001b[34mWill train until validation-error hasn't improved in 10 rounds.\u001b[0m\n",
      "\u001b[34m[01:30:14] src/tree/updater_prune.cc:74: tree pruning end, 1 roots, 44 extra nodes, 8 pruned nodes, max_depth=5\u001b[0m\n",
      "\u001b[34m[1]#011train-error:0.304333#011validation-error:0.3133\u001b[0m\n",
      "\u001b[34m[01:30:15] src/tree/updater_prune.cc:74: tree pruning end, 1 roots, 38 extra nodes, 8 pruned nodes, max_depth=5\u001b[0m\n",
      "\u001b[34m[2]#011train-error:0.284267#011validation-error:0.2987\u001b[0m\n",
      "\u001b[34m[01:30:17] src/tree/updater_prune.cc:74: tree pruning end, 1 roots, 36 extra nodes, 4 pruned nodes, max_depth=5\u001b[0m\n",
      "\u001b[34m[3]#011train-error:0.2752#011validation-error:0.2832\u001b[0m\n",
      "\u001b[34m[01:30:18] src/tree/updater_prune.cc:74: tree pruning end, 1 roots, 32 extra nodes, 4 pruned nodes, max_depth=5\u001b[0m\n",
      "\u001b[34m[4]#011train-error:0.2562#011validation-error:0.2721\u001b[0m\n",
      "\u001b[34m[01:30:20] src/tree/updater_prune.cc:74: tree pruning end, 1 roots, 32 extra nodes, 8 pruned nodes, max_depth=5\u001b[0m\n",
      "\u001b[34m[5]#011train-error:0.260933#011validation-error:0.2731\u001b[0m\n",
      "\u001b[34m[01:30:21] src/tree/updater_prune.cc:74: tree pruning end, 1 roots, 32 extra nodes, 6 pruned nodes, max_depth=5\u001b[0m\n",
      "\u001b[34m[6]#011train-error:0.242533#011validation-error:0.2621\u001b[0m\n",
      "\u001b[34m[01:30:23] src/tree/updater_prune.cc:74: tree pruning end, 1 roots, 34 extra nodes, 12 pruned nodes, max_depth=5\u001b[0m\n",
      "\u001b[34m[7]#011train-error:0.237#011validation-error:0.2531\u001b[0m\n",
      "\u001b[34m[01:30:24] src/tree/updater_prune.cc:74: tree pruning end, 1 roots, 30 extra nodes, 2 pruned nodes, max_depth=5\u001b[0m\n",
      "\u001b[34m[8]#011train-error:0.2332#011validation-error:0.2481\u001b[0m\n",
      "\u001b[34m[01:30:26] src/tree/updater_prune.cc:74: tree pruning end, 1 roots, 42 extra nodes, 2 pruned nodes, max_depth=5\u001b[0m\n",
      "\u001b[34m[9]#011train-error:0.226267#011validation-error:0.2428\u001b[0m\n",
      "\u001b[34m[01:30:27] src/tree/updater_prune.cc:74: tree pruning end, 1 roots, 28 extra nodes, 4 pruned nodes, max_depth=5\u001b[0m\n",
      "\u001b[34m[10]#011train-error:0.2198#011validation-error:0.2383\u001b[0m\n",
      "\u001b[34m[01:30:28] src/tree/updater_prune.cc:74: tree pruning end, 1 roots, 24 extra nodes, 14 pruned nodes, max_depth=5\u001b[0m\n",
      "\u001b[34m[11]#011train-error:0.213733#011validation-error:0.2365\u001b[0m\n",
      "\u001b[34m[01:30:30] src/tree/updater_prune.cc:74: tree pruning end, 1 roots, 30 extra nodes, 8 pruned nodes, max_depth=5\u001b[0m\n",
      "\u001b[34m[12]#011train-error:0.210667#011validation-error:0.2327\u001b[0m\n",
      "\u001b[34m[01:30:31] src/tree/updater_prune.cc:74: tree pruning end, 1 roots, 26 extra nodes, 10 pruned nodes, max_depth=5\u001b[0m\n",
      "\u001b[34m[13]#011train-error:0.209667#011validation-error:0.2318\u001b[0m\n",
      "\u001b[34m[01:30:32] src/tree/updater_prune.cc:74: tree pruning end, 1 roots, 30 extra nodes, 4 pruned nodes, max_depth=5\u001b[0m\n",
      "\u001b[34m[14]#011train-error:0.2062#011validation-error:0.2273\u001b[0m\n",
      "\u001b[34m[01:30:34] src/tree/updater_prune.cc:74: tree pruning end, 1 roots, 38 extra nodes, 6 pruned nodes, max_depth=5\u001b[0m\n",
      "\u001b[34m[15]#011train-error:0.203067#011validation-error:0.2244\u001b[0m\n",
      "\u001b[34m[01:30:35] src/tree/updater_prune.cc:74: tree pruning end, 1 roots, 30 extra nodes, 12 pruned nodes, max_depth=5\u001b[0m\n",
      "\u001b[34m[16]#011train-error:0.199067#011validation-error:0.2198\u001b[0m\n",
      "\u001b[34m[01:30:36] src/tree/updater_prune.cc:74: tree pruning end, 1 roots, 34 extra nodes, 6 pruned nodes, max_depth=5\u001b[0m\n",
      "\u001b[34m[17]#011train-error:0.1988#011validation-error:0.2192\u001b[0m\n",
      "\u001b[34m[01:30:38] src/tree/updater_prune.cc:74: tree pruning end, 1 roots, 28 extra nodes, 12 pruned nodes, max_depth=5\u001b[0m\n",
      "\u001b[34m[18]#011train-error:0.195533#011validation-error:0.2151\u001b[0m\n",
      "\u001b[34m[01:30:39] src/tree/updater_prune.cc:74: tree pruning end, 1 roots, 32 extra nodes, 6 pruned nodes, max_depth=5\u001b[0m\n",
      "\u001b[34m[19]#011train-error:0.192933#011validation-error:0.2134\u001b[0m\n",
      "\u001b[34m[01:30:40] src/tree/updater_prune.cc:74: tree pruning end, 1 roots, 22 extra nodes, 4 pruned nodes, max_depth=5\u001b[0m\n",
      "\u001b[34m[20]#011train-error:0.188933#011validation-error:0.2121\u001b[0m\n",
      "\u001b[34m[01:30:42] src/tree/updater_prune.cc:74: tree pruning end, 1 roots, 22 extra nodes, 10 pruned nodes, max_depth=5\u001b[0m\n",
      "\u001b[34m[21]#011train-error:0.1862#011validation-error:0.2104\u001b[0m\n",
      "\u001b[34m[01:30:43] src/tree/updater_prune.cc:74: tree pruning end, 1 roots, 36 extra nodes, 8 pruned nodes, max_depth=5\u001b[0m\n",
      "\u001b[34m[22]#011train-error:0.182733#011validation-error:0.2086\u001b[0m\n",
      "\u001b[34m[01:30:44] src/tree/updater_prune.cc:74: tree pruning end, 1 roots, 32 extra nodes, 10 pruned nodes, max_depth=5\u001b[0m\n",
      "\u001b[34m[23]#011train-error:0.1804#011validation-error:0.2084\u001b[0m\n",
      "\u001b[34m[01:30:46] src/tree/updater_prune.cc:74: tree pruning end, 1 roots, 38 extra nodes, 6 pruned nodes, max_depth=5\u001b[0m\n",
      "\u001b[34m[24]#011train-error:0.1772#011validation-error:0.2042\u001b[0m\n",
      "\u001b[34m[01:30:47] src/tree/updater_prune.cc:74: tree pruning end, 1 roots, 46 extra nodes, 10 pruned nodes, max_depth=5\u001b[0m\n",
      "\u001b[34m[25]#011train-error:0.173467#011validation-error:0.2005\u001b[0m\n",
      "\u001b[34m[01:30:49] src/tree/updater_prune.cc:74: tree pruning end, 1 roots, 24 extra nodes, 6 pruned nodes, max_depth=5\u001b[0m\n",
      "\u001b[34m[26]#011train-error:0.171667#011validation-error:0.1997\u001b[0m\n",
      "\u001b[34m[01:30:50] src/tree/updater_prune.cc:74: tree pruning end, 1 roots, 28 extra nodes, 8 pruned nodes, max_depth=5\u001b[0m\n",
      "\u001b[34m[27]#011train-error:0.168933#011validation-error:0.1985\u001b[0m\n",
      "\u001b[34m[01:30:51] src/tree/updater_prune.cc:74: tree pruning end, 1 roots, 22 extra nodes, 14 pruned nodes, max_depth=5\u001b[0m\n",
      "\u001b[34m[28]#011train-error:0.165933#011validation-error:0.1979\u001b[0m\n",
      "\u001b[34m[01:30:53] src/tree/updater_prune.cc:74: tree pruning end, 1 roots, 20 extra nodes, 6 pruned nodes, max_depth=5\u001b[0m\n",
      "\u001b[34m[29]#011train-error:0.1648#011validation-error:0.1958\u001b[0m\n",
      "\u001b[34m[01:30:54] src/tree/updater_prune.cc:74: tree pruning end, 1 roots, 28 extra nodes, 16 pruned nodes, max_depth=5\u001b[0m\n",
      "\u001b[34m[30]#011train-error:0.1636#011validation-error:0.1963\u001b[0m\n",
      "\u001b[34m[01:30:55] src/tree/updater_prune.cc:74: tree pruning end, 1 roots, 30 extra nodes, 10 pruned nodes, max_depth=5\u001b[0m\n",
      "\u001b[34m[31]#011train-error:0.162333#011validation-error:0.1952\u001b[0m\n",
      "\u001b[34m[01:30:57] src/tree/updater_prune.cc:74: tree pruning end, 1 roots, 18 extra nodes, 8 pruned nodes, max_depth=5\u001b[0m\n",
      "\u001b[34m[32]#011train-error:0.160333#011validation-error:0.1933\u001b[0m\n",
      "\u001b[34m[01:30:58] src/tree/updater_prune.cc:74: tree pruning end, 1 roots, 20 extra nodes, 12 pruned nodes, max_depth=5\u001b[0m\n",
      "\u001b[34m[33]#011train-error:0.1586#011validation-error:0.192\u001b[0m\n",
      "\u001b[34m[01:31:00] src/tree/updater_prune.cc:74: tree pruning end, 1 roots, 22 extra nodes, 8 pruned nodes, max_depth=5\u001b[0m\n",
      "\u001b[34m[34]#011train-error:0.157333#011validation-error:0.1904\u001b[0m\n",
      "\u001b[34m[01:31:01] src/tree/updater_prune.cc:74: tree pruning end, 1 roots, 16 extra nodes, 8 pruned nodes, max_depth=5\u001b[0m\n",
      "\u001b[34m[35]#011train-error:0.156067#011validation-error:0.1892\u001b[0m\n",
      "\u001b[34m[01:31:03] src/tree/updater_prune.cc:74: tree pruning end, 1 roots, 40 extra nodes, 6 pruned nodes, max_depth=5\u001b[0m\n",
      "\u001b[34m[36]#011train-error:0.154467#011validation-error:0.188\u001b[0m\n",
      "\u001b[34m[01:31:04] src/tree/updater_prune.cc:74: tree pruning end, 1 roots, 24 extra nodes, 10 pruned nodes, max_depth=5\u001b[0m\n",
      "\u001b[34m[37]#011train-error:0.153467#011validation-error:0.1873\u001b[0m\n",
      "\u001b[34m[01:31:06] src/tree/updater_prune.cc:74: tree pruning end, 1 roots, 26 extra nodes, 10 pruned nodes, max_depth=5\u001b[0m\n",
      "\u001b[34m[38]#011train-error:0.153333#011validation-error:0.1859\u001b[0m\n",
      "\u001b[34m[01:31:07] src/tree/updater_prune.cc:74: tree pruning end, 1 roots, 22 extra nodes, 8 pruned nodes, max_depth=5\u001b[0m\n",
      "\u001b[34m[39]#011train-error:0.1514#011validation-error:0.1837\u001b[0m\n",
      "\u001b[34m[01:31:08] src/tree/updater_prune.cc:74: tree pruning end, 1 roots, 26 extra nodes, 10 pruned nodes, max_depth=5\u001b[0m\n",
      "\u001b[34m[40]#011train-error:0.150867#011validation-error:0.1822\u001b[0m\n",
      "\u001b[34m[01:31:10] src/tree/updater_prune.cc:74: tree pruning end, 1 roots, 24 extra nodes, 8 pruned nodes, max_depth=5\u001b[0m\n",
      "\u001b[34m[41]#011train-error:0.148867#011validation-error:0.181\u001b[0m\n",
      "\u001b[34m[01:31:11] src/tree/updater_prune.cc:74: tree pruning end, 1 roots, 38 extra nodes, 8 pruned nodes, max_depth=5\u001b[0m\n",
      "\u001b[34m[42]#011train-error:0.148#011validation-error:0.1808\u001b[0m\n",
      "\u001b[34m[01:31:12] src/tree/updater_prune.cc:74: tree pruning end, 1 roots, 18 extra nodes, 4 pruned nodes, max_depth=5\u001b[0m\n",
      "\u001b[34m[43]#011train-error:0.146533#011validation-error:0.1792\u001b[0m\n",
      "\u001b[34m[01:31:14] src/tree/updater_prune.cc:74: tree pruning end, 1 roots, 28 extra nodes, 6 pruned nodes, max_depth=5\u001b[0m\n",
      "\u001b[34m[44]#011train-error:0.145667#011validation-error:0.1798\u001b[0m\n",
      "\u001b[34m[01:31:15] src/tree/updater_prune.cc:74: tree pruning end, 1 roots, 26 extra nodes, 12 pruned nodes, max_depth=5\u001b[0m\n",
      "\u001b[34m[45]#011train-error:0.1448#011validation-error:0.1785\u001b[0m\n",
      "\u001b[34m[01:31:17] src/tree/updater_prune.cc:74: tree pruning end, 1 roots, 18 extra nodes, 6 pruned nodes, max_depth=5\u001b[0m\n",
      "\u001b[34m[46]#011train-error:0.1432#011validation-error:0.1777\u001b[0m\n",
      "\u001b[34m[01:31:18] src/tree/updater_prune.cc:74: tree pruning end, 1 roots, 18 extra nodes, 8 pruned nodes, max_depth=5\u001b[0m\n",
      "\u001b[34m[47]#011train-error:0.1428#011validation-error:0.1778\u001b[0m\n",
      "\u001b[34m[01:31:19] src/tree/updater_prune.cc:74: tree pruning end, 1 roots, 14 extra nodes, 8 pruned nodes, max_depth=5\u001b[0m\n",
      "\u001b[34m[48]#011train-error:0.141733#011validation-error:0.177\u001b[0m\n",
      "\u001b[34m[01:31:21] src/tree/updater_prune.cc:74: tree pruning end, 1 roots, 16 extra nodes, 20 pruned nodes, max_depth=5\u001b[0m\n",
      "\u001b[34m[49]#011train-error:0.140867#011validation-error:0.177\u001b[0m\n",
      "\u001b[34m[01:31:22] src/tree/updater_prune.cc:74: tree pruning end, 1 roots, 22 extra nodes, 4 pruned nodes, max_depth=5\u001b[0m\n",
      "\u001b[34m[50]#011train-error:0.139933#011validation-error:0.1775\u001b[0m\n",
      "\u001b[34m[01:31:23] src/tree/updater_prune.cc:74: tree pruning end, 1 roots, 26 extra nodes, 10 pruned nodes, max_depth=5\u001b[0m\n",
      "\u001b[34m[51]#011train-error:0.138867#011validation-error:0.1757\u001b[0m\n",
      "\u001b[34m[01:31:25] src/tree/updater_prune.cc:74: tree pruning end, 1 roots, 16 extra nodes, 8 pruned nodes, max_depth=5\u001b[0m\n",
      "\u001b[34m[52]#011train-error:0.138067#011validation-error:0.1733\u001b[0m\n",
      "\u001b[34m[01:31:26] src/tree/updater_prune.cc:74: tree pruning end, 1 roots, 24 extra nodes, 10 pruned nodes, max_depth=5\u001b[0m\n",
      "\u001b[34m[53]#011train-error:0.135667#011validation-error:0.1738\u001b[0m\n",
      "\u001b[34m[01:31:28] src/tree/updater_prune.cc:74: tree pruning end, 1 roots, 20 extra nodes, 6 pruned nodes, max_depth=5\u001b[0m\n",
      "\u001b[34m[54]#011train-error:0.135067#011validation-error:0.174\u001b[0m\n",
      "\u001b[34m[01:31:29] src/tree/updater_prune.cc:74: tree pruning end, 1 roots, 20 extra nodes, 16 pruned nodes, max_depth=5\u001b[0m\n",
      "\u001b[34m[55]#011train-error:0.1344#011validation-error:0.1724\u001b[0m\n",
      "\u001b[34m[01:31:30] src/tree/updater_prune.cc:74: tree pruning end, 1 roots, 34 extra nodes, 8 pruned nodes, max_depth=5\u001b[0m\n",
      "\u001b[34m[56]#011train-error:0.1332#011validation-error:0.1725\u001b[0m\n",
      "\u001b[34m[01:31:32] src/tree/updater_prune.cc:74: tree pruning end, 1 roots, 16 extra nodes, 14 pruned nodes, max_depth=5\u001b[0m\n",
      "\u001b[34m[57]#011train-error:0.132933#011validation-error:0.1716\u001b[0m\n",
      "\u001b[34m[01:31:33] src/tree/updater_prune.cc:74: tree pruning end, 1 roots, 18 extra nodes, 8 pruned nodes, max_depth=5\u001b[0m\n",
      "\u001b[34m[58]#011train-error:0.1322#011validation-error:0.171\u001b[0m\n",
      "\u001b[34m[01:31:34] src/tree/updater_prune.cc:74: tree pruning end, 1 roots, 36 extra nodes, 8 pruned nodes, max_depth=5\u001b[0m\n",
      "\u001b[34m[59]#011train-error:0.131067#011validation-error:0.1698\u001b[0m\n",
      "\u001b[34m[01:31:36] src/tree/updater_prune.cc:74: tree pruning end, 1 roots, 14 extra nodes, 8 pruned nodes, max_depth=5\u001b[0m\n",
      "\u001b[34m[60]#011train-error:0.130533#011validation-error:0.1689\u001b[0m\n",
      "\u001b[34m[01:31:37] src/tree/updater_prune.cc:74: tree pruning end, 1 roots, 30 extra nodes, 10 pruned nodes, max_depth=5\u001b[0m\n",
      "\u001b[34m[61]#011train-error:0.129933#011validation-error:0.1693\u001b[0m\n",
      "\u001b[34m[01:31:38] src/tree/updater_prune.cc:74: tree pruning end, 1 roots, 14 extra nodes, 14 pruned nodes, max_depth=5\u001b[0m\n",
      "\u001b[34m[62]#011train-error:0.128533#011validation-error:0.1683\u001b[0m\n",
      "\u001b[34m[01:31:40] src/tree/updater_prune.cc:74: tree pruning end, 1 roots, 36 extra nodes, 10 pruned nodes, max_depth=5\u001b[0m\n",
      "\u001b[34m[63]#011train-error:0.126533#011validation-error:0.1684\u001b[0m\n",
      "\u001b[34m[01:31:41] src/tree/updater_prune.cc:74: tree pruning end, 1 roots, 30 extra nodes, 6 pruned nodes, max_depth=5\u001b[0m\n",
      "\u001b[34m[64]#011train-error:0.125133#011validation-error:0.1679\u001b[0m\n",
      "\u001b[34m[01:31:42] src/tree/updater_prune.cc:74: tree pruning end, 1 roots, 26 extra nodes, 10 pruned nodes, max_depth=5\u001b[0m\n",
      "\u001b[34m[65]#011train-error:0.124533#011validation-error:0.1672\u001b[0m\n",
      "\u001b[34m[01:31:44] src/tree/updater_prune.cc:74: tree pruning end, 1 roots, 18 extra nodes, 4 pruned nodes, max_depth=5\u001b[0m\n",
      "\u001b[34m[66]#011train-error:0.124133#011validation-error:0.1664\u001b[0m\n",
      "\u001b[34m[01:31:45] src/tree/updater_prune.cc:74: tree pruning end, 1 roots, 28 extra nodes, 6 pruned nodes, max_depth=5\u001b[0m\n",
      "\u001b[34m[67]#011train-error:0.122467#011validation-error:0.1658\u001b[0m\n",
      "\u001b[34m[01:31:46] src/tree/updater_prune.cc:74: tree pruning end, 1 roots, 24 extra nodes, 10 pruned nodes, max_depth=5\u001b[0m\n",
      "\u001b[34m[68]#011train-error:0.123067#011validation-error:0.1651\u001b[0m\n",
      "\u001b[34m[01:31:48] src/tree/updater_prune.cc:74: tree pruning end, 1 roots, 24 extra nodes, 12 pruned nodes, max_depth=5\u001b[0m\n",
      "\u001b[34m[69]#011train-error:0.122533#011validation-error:0.1651\u001b[0m\n",
      "\u001b[34m[01:31:49] src/tree/updater_prune.cc:74: tree pruning end, 1 roots, 12 extra nodes, 16 pruned nodes, max_depth=5\u001b[0m\n",
      "\u001b[34m[70]#011train-error:0.121533#011validation-error:0.1657\u001b[0m\n",
      "\u001b[34m[01:31:50] src/tree/updater_prune.cc:74: tree pruning end, 1 roots, 20 extra nodes, 14 pruned nodes, max_depth=5\u001b[0m\n",
      "\u001b[34m[71]#011train-error:0.1214#011validation-error:0.1659\u001b[0m\n",
      "\u001b[34m[01:31:52] src/tree/updater_prune.cc:74: tree pruning end, 1 roots, 26 extra nodes, 8 pruned nodes, max_depth=5\u001b[0m\n",
      "\u001b[34m[72]#011train-error:0.1202#011validation-error:0.1658\u001b[0m\n",
      "\u001b[34m[01:31:53] src/tree/updater_prune.cc:74: tree pruning end, 1 roots, 12 extra nodes, 12 pruned nodes, max_depth=5\u001b[0m\n",
      "\u001b[34m[73]#011train-error:0.120067#011validation-error:0.1648\u001b[0m\n",
      "\u001b[34m[01:31:55] src/tree/updater_prune.cc:74: tree pruning end, 1 roots, 28 extra nodes, 10 pruned nodes, max_depth=5\u001b[0m\n",
      "\u001b[34m[74]#011train-error:0.120333#011validation-error:0.1641\u001b[0m\n",
      "\u001b[34m[01:31:56] src/tree/updater_prune.cc:74: tree pruning end, 1 roots, 28 extra nodes, 10 pruned nodes, max_depth=5\u001b[0m\n",
      "\u001b[34m[75]#011train-error:0.118067#011validation-error:0.1628\u001b[0m\n",
      "\u001b[34m[01:31:57] src/tree/updater_prune.cc:74: tree pruning end, 1 roots, 20 extra nodes, 8 pruned nodes, max_depth=5\u001b[0m\n",
      "\u001b[34m[76]#011train-error:0.116467#011validation-error:0.1623\u001b[0m\n",
      "\u001b[34m[01:31:59] src/tree/updater_prune.cc:74: tree pruning end, 1 roots, 16 extra nodes, 14 pruned nodes, max_depth=5\u001b[0m\n",
      "\u001b[34m[77]#011train-error:0.116667#011validation-error:0.1621\u001b[0m\n",
      "\u001b[34m[01:32:00] src/tree/updater_prune.cc:74: tree pruning end, 1 roots, 18 extra nodes, 8 pruned nodes, max_depth=5\u001b[0m\n",
      "\u001b[34m[78]#011train-error:0.115467#011validation-error:0.1612\u001b[0m\n",
      "\u001b[34m[01:32:02] src/tree/updater_prune.cc:74: tree pruning end, 1 roots, 20 extra nodes, 10 pruned nodes, max_depth=5\u001b[0m\n",
      "\u001b[34m[79]#011train-error:0.115#011validation-error:0.1617\u001b[0m\n",
      "\u001b[34m[01:32:03] src/tree/updater_prune.cc:74: tree pruning end, 1 roots, 18 extra nodes, 8 pruned nodes, max_depth=5\u001b[0m\n",
      "\u001b[34m[80]#011train-error:0.115067#011validation-error:0.1623\u001b[0m\n",
      "\u001b[34m[01:32:05] src/tree/updater_prune.cc:74: tree pruning end, 1 roots, 14 extra nodes, 10 pruned nodes, max_depth=5\u001b[0m\n",
      "\u001b[34m[81]#011train-error:0.1146#011validation-error:0.1617\u001b[0m\n",
      "\u001b[34m[01:32:06] src/tree/updater_prune.cc:74: tree pruning end, 1 roots, 14 extra nodes, 4 pruned nodes, max_depth=5\u001b[0m\n",
      "\u001b[34m[82]#011train-error:0.114067#011validation-error:0.1614\u001b[0m\n",
      "\u001b[34m[01:32:08] src/tree/updater_prune.cc:74: tree pruning end, 1 roots, 32 extra nodes, 4 pruned nodes, max_depth=5\u001b[0m\n",
      "\u001b[34m[83]#011train-error:0.111933#011validation-error:0.1601\u001b[0m\n",
      "\u001b[34m[01:32:09] src/tree/updater_prune.cc:74: tree pruning end, 1 roots, 20 extra nodes, 8 pruned nodes, max_depth=5\u001b[0m\n",
      "\u001b[34m[84]#011train-error:0.111067#011validation-error:0.1609\u001b[0m\n",
      "\u001b[34m[01:32:10] src/tree/updater_prune.cc:74: tree pruning end, 1 roots, 26 extra nodes, 8 pruned nodes, max_depth=5\u001b[0m\n",
      "\u001b[34m[85]#011train-error:0.110467#011validation-error:0.1604\u001b[0m\n",
      "\u001b[34m[01:32:12] src/tree/updater_prune.cc:74: tree pruning end, 1 roots, 10 extra nodes, 6 pruned nodes, max_depth=5\u001b[0m\n",
      "\u001b[34m[86]#011train-error:0.1106#011validation-error:0.1607\u001b[0m\n",
      "\u001b[34m[01:32:13] src/tree/updater_prune.cc:74: tree pruning end, 1 roots, 24 extra nodes, 4 pruned nodes, max_depth=5\u001b[0m\n",
      "\u001b[34m[87]#011train-error:0.1098#011validation-error:0.1594\u001b[0m\n",
      "\u001b[34m[01:32:15] src/tree/updater_prune.cc:74: tree pruning end, 1 roots, 10 extra nodes, 2 pruned nodes, max_depth=5\u001b[0m\n",
      "\u001b[34m[88]#011train-error:0.109067#011validation-error:0.1599\u001b[0m\n",
      "\u001b[34m[01:32:16] src/tree/updater_prune.cc:74: tree pruning end, 1 roots, 18 extra nodes, 10 pruned nodes, max_depth=5\u001b[0m\n",
      "\u001b[34m[89]#011train-error:0.108267#011validation-error:0.1598\u001b[0m\n",
      "\u001b[34m[01:32:17] src/tree/updater_prune.cc:74: tree pruning end, 1 roots, 10 extra nodes, 10 pruned nodes, max_depth=5\u001b[0m\n",
      "\u001b[34m[90]#011train-error:0.107933#011validation-error:0.1593\u001b[0m\n",
      "\u001b[34m[01:32:19] src/tree/updater_prune.cc:74: tree pruning end, 1 roots, 10 extra nodes, 6 pruned nodes, max_depth=5\u001b[0m\n",
      "\u001b[34m[91]#011train-error:0.108067#011validation-error:0.1591\u001b[0m\n",
      "\u001b[34m[01:32:20] src/tree/updater_prune.cc:74: tree pruning end, 1 roots, 26 extra nodes, 6 pruned nodes, max_depth=5\u001b[0m\n",
      "\u001b[34m[92]#011train-error:0.106933#011validation-error:0.1588\u001b[0m\n",
      "\u001b[34m[01:32:21] src/tree/updater_prune.cc:74: tree pruning end, 1 roots, 12 extra nodes, 10 pruned nodes, max_depth=5\u001b[0m\n",
      "\u001b[34m[93]#011train-error:0.106667#011validation-error:0.1582\u001b[0m\n",
      "\u001b[34m[01:32:23] src/tree/updater_prune.cc:74: tree pruning end, 1 roots, 24 extra nodes, 6 pruned nodes, max_depth=5\u001b[0m\n",
      "\u001b[34m[94]#011train-error:0.1062#011validation-error:0.1575\u001b[0m\n",
      "\u001b[34m[01:32:24] src/tree/updater_prune.cc:74: tree pruning end, 1 roots, 30 extra nodes, 6 pruned nodes, max_depth=5\u001b[0m\n",
      "\u001b[34m[95]#011train-error:0.1052#011validation-error:0.1566\u001b[0m\n",
      "\u001b[34m[01:32:25] src/tree/updater_prune.cc:74: tree pruning end, 1 roots, 20 extra nodes, 8 pruned nodes, max_depth=5\u001b[0m\n",
      "\u001b[34m[96]#011train-error:0.104533#011validation-error:0.1558\u001b[0m\n",
      "\u001b[34m[01:32:27] src/tree/updater_prune.cc:74: tree pruning end, 1 roots, 22 extra nodes, 20 pruned nodes, max_depth=5\u001b[0m\n",
      "\u001b[34m[97]#011train-error:0.1034#011validation-error:0.1551\u001b[0m\n",
      "\u001b[34m[01:32:28] src/tree/updater_prune.cc:74: tree pruning end, 1 roots, 20 extra nodes, 8 pruned nodes, max_depth=5\u001b[0m\n",
      "\u001b[34m[98]#011train-error:0.102867#011validation-error:0.1552\u001b[0m\n",
      "\u001b[34m[01:32:30] src/tree/updater_prune.cc:74: tree pruning end, 1 roots, 26 extra nodes, 16 pruned nodes, max_depth=5\u001b[0m\n",
      "\u001b[34m[99]#011train-error:0.101867#011validation-error:0.1541\u001b[0m\n",
      "\u001b[34m[01:32:31] src/tree/updater_prune.cc:74: tree pruning end, 1 roots, 24 extra nodes, 12 pruned nodes, max_depth=5\u001b[0m\n",
      "\u001b[34m[100]#011train-error:0.101667#011validation-error:0.154\u001b[0m\n",
      "\u001b[34m[01:32:32] src/tree/updater_prune.cc:74: tree pruning end, 1 roots, 24 extra nodes, 6 pruned nodes, max_depth=5\u001b[0m\n",
      "\u001b[34m[101]#011train-error:0.101267#011validation-error:0.1539\u001b[0m\n",
      "\u001b[34m[01:32:34] src/tree/updater_prune.cc:74: tree pruning end, 1 roots, 22 extra nodes, 12 pruned nodes, max_depth=5\u001b[0m\n",
      "\u001b[34m[102]#011train-error:0.100467#011validation-error:0.1535\u001b[0m\n",
      "\u001b[34m[01:32:35] src/tree/updater_prune.cc:74: tree pruning end, 1 roots, 12 extra nodes, 6 pruned nodes, max_depth=5\u001b[0m\n",
      "\u001b[34m[103]#011train-error:0.099933#011validation-error:0.1535\u001b[0m\n",
      "\u001b[34m[01:32:36] src/tree/updater_prune.cc:74: tree pruning end, 1 roots, 14 extra nodes, 2 pruned nodes, max_depth=5\u001b[0m\n",
      "\u001b[34m[104]#011train-error:0.099133#011validation-error:0.1541\u001b[0m\n",
      "\u001b[34m[01:32:38] src/tree/updater_prune.cc:74: tree pruning end, 1 roots, 22 extra nodes, 8 pruned nodes, max_depth=5\u001b[0m\n",
      "\u001b[34m[105]#011train-error:0.099067#011validation-error:0.1539\u001b[0m\n",
      "\u001b[34m[01:32:39] src/tree/updater_prune.cc:74: tree pruning end, 1 roots, 16 extra nodes, 8 pruned nodes, max_depth=5\u001b[0m\n",
      "\u001b[34m[106]#011train-error:0.0976#011validation-error:0.1541\u001b[0m\n",
      "\u001b[34m[01:32:40] src/tree/updater_prune.cc:74: tree pruning end, 1 roots, 14 extra nodes, 14 pruned nodes, max_depth=5\u001b[0m\n",
      "\u001b[34m[107]#011train-error:0.097533#011validation-error:0.1544\u001b[0m\n",
      "\u001b[34m[01:32:42] src/tree/updater_prune.cc:74: tree pruning end, 1 roots, 10 extra nodes, 8 pruned nodes, max_depth=5\u001b[0m\n",
      "\u001b[34m[108]#011train-error:0.097#011validation-error:0.1532\u001b[0m\n",
      "\u001b[34m[01:32:43] src/tree/updater_prune.cc:74: tree pruning end, 1 roots, 12 extra nodes, 16 pruned nodes, max_depth=5\u001b[0m\n",
      "\u001b[34m[109]#011train-error:0.096733#011validation-error:0.153\u001b[0m\n",
      "\u001b[34m[01:32:45] src/tree/updater_prune.cc:74: tree pruning end, 1 roots, 14 extra nodes, 12 pruned nodes, max_depth=5\u001b[0m\n",
      "\u001b[34m[110]#011train-error:0.096533#011validation-error:0.1517\u001b[0m\n",
      "\u001b[34m[01:32:46] src/tree/updater_prune.cc:74: tree pruning end, 1 roots, 22 extra nodes, 6 pruned nodes, max_depth=5\u001b[0m\n",
      "\u001b[34m[111]#011train-error:0.095733#011validation-error:0.1522\u001b[0m\n",
      "\u001b[34m[01:32:47] src/tree/updater_prune.cc:74: tree pruning end, 1 roots, 18 extra nodes, 10 pruned nodes, max_depth=5\u001b[0m\n",
      "\u001b[34m[112]#011train-error:0.095667#011validation-error:0.1515\u001b[0m\n",
      "\u001b[34m[01:32:49] src/tree/updater_prune.cc:74: tree pruning end, 1 roots, 14 extra nodes, 4 pruned nodes, max_depth=5\u001b[0m\n",
      "\u001b[34m[113]#011train-error:0.096133#011validation-error:0.1512\u001b[0m\n",
      "\u001b[34m[01:32:50] src/tree/updater_prune.cc:74: tree pruning end, 1 roots, 22 extra nodes, 14 pruned nodes, max_depth=5\u001b[0m\n",
      "\u001b[34m[114]#011train-error:0.095#011validation-error:0.1515\u001b[0m\n",
      "\u001b[34m[01:32:51] src/tree/updater_prune.cc:74: tree pruning end, 1 roots, 28 extra nodes, 8 pruned nodes, max_depth=5\u001b[0m\n",
      "\u001b[34m[115]#011train-error:0.095867#011validation-error:0.1509\u001b[0m\n",
      "\u001b[34m[01:32:53] src/tree/updater_prune.cc:74: tree pruning end, 1 roots, 10 extra nodes, 10 pruned nodes, max_depth=5\u001b[0m\n",
      "\u001b[34m[116]#011train-error:0.095933#011validation-error:0.1505\u001b[0m\n",
      "\u001b[34m[01:32:54] src/tree/updater_prune.cc:74: tree pruning end, 1 roots, 28 extra nodes, 6 pruned nodes, max_depth=5\u001b[0m\n",
      "\u001b[34m[117]#011train-error:0.0948#011validation-error:0.1507\u001b[0m\n",
      "\u001b[34m[01:32:55] src/tree/updater_prune.cc:74: tree pruning end, 1 roots, 12 extra nodes, 2 pruned nodes, max_depth=5\u001b[0m\n",
      "\u001b[34m[118]#011train-error:0.094267#011validation-error:0.15\u001b[0m\n",
      "\u001b[34m[01:32:57] src/tree/updater_prune.cc:74: tree pruning end, 1 roots, 10 extra nodes, 4 pruned nodes, max_depth=5\u001b[0m\n",
      "\u001b[34m[119]#011train-error:0.094133#011validation-error:0.1502\u001b[0m\n",
      "\u001b[34m[01:32:58] src/tree/updater_prune.cc:74: tree pruning end, 1 roots, 14 extra nodes, 12 pruned nodes, max_depth=5\u001b[0m\n",
      "\u001b[34m[120]#011train-error:0.0932#011validation-error:0.1504\u001b[0m\n",
      "\u001b[34m[01:33:00] src/tree/updater_prune.cc:74: tree pruning end, 1 roots, 22 extra nodes, 2 pruned nodes, max_depth=5\u001b[0m\n",
      "\u001b[34m[121]#011train-error:0.093#011validation-error:0.1498\u001b[0m\n",
      "\u001b[34m[01:33:01] src/tree/updater_prune.cc:74: tree pruning end, 1 roots, 24 extra nodes, 6 pruned nodes, max_depth=5\u001b[0m\n",
      "\u001b[34m[122]#011train-error:0.092667#011validation-error:0.1506\u001b[0m\n",
      "\u001b[34m[01:33:03] src/tree/updater_prune.cc:74: tree pruning end, 1 roots, 22 extra nodes, 16 pruned nodes, max_depth=5\u001b[0m\n",
      "\u001b[34m[123]#011train-error:0.092333#011validation-error:0.1501\u001b[0m\n",
      "\u001b[34m[01:33:05] src/tree/updater_prune.cc:74: tree pruning end, 1 roots, 10 extra nodes, 8 pruned nodes, max_depth=5\u001b[0m\n",
      "\u001b[34m[124]#011train-error:0.092067#011validation-error:0.1506\u001b[0m\n",
      "\u001b[34m[01:33:06] src/tree/updater_prune.cc:74: tree pruning end, 1 roots, 12 extra nodes, 4 pruned nodes, max_depth=5\u001b[0m\n",
      "\u001b[34m[125]#011train-error:0.091867#011validation-error:0.1505\u001b[0m\n",
      "\u001b[34m[01:33:08] src/tree/updater_prune.cc:74: tree pruning end, 1 roots, 16 extra nodes, 16 pruned nodes, max_depth=5\u001b[0m\n",
      "\u001b[34m[126]#011train-error:0.091933#011validation-error:0.1502\u001b[0m\n",
      "\u001b[34m[01:33:09] src/tree/updater_prune.cc:74: tree pruning end, 1 roots, 30 extra nodes, 10 pruned nodes, max_depth=5\u001b[0m\n",
      "\u001b[34m[127]#011train-error:0.0914#011validation-error:0.1498\u001b[0m\n",
      "\u001b[34m[01:33:10] src/tree/updater_prune.cc:74: tree pruning end, 1 roots, 12 extra nodes, 6 pruned nodes, max_depth=5\u001b[0m\n",
      "\u001b[34m[128]#011train-error:0.090467#011validation-error:0.1494\u001b[0m\n",
      "\u001b[34m[01:33:12] src/tree/updater_prune.cc:74: tree pruning end, 1 roots, 18 extra nodes, 2 pruned nodes, max_depth=5\u001b[0m\n",
      "\u001b[34m[129]#011train-error:0.0896#011validation-error:0.1496\u001b[0m\n",
      "\u001b[34m[01:33:13] src/tree/updater_prune.cc:74: tree pruning end, 1 roots, 12 extra nodes, 14 pruned nodes, max_depth=5\u001b[0m\n",
      "\u001b[34m[130]#011train-error:0.0892#011validation-error:0.1489\u001b[0m\n",
      "\u001b[34m[01:33:14] src/tree/updater_prune.cc:74: tree pruning end, 1 roots, 14 extra nodes, 6 pruned nodes, max_depth=5\u001b[0m\n",
      "\u001b[34m[131]#011train-error:0.0884#011validation-error:0.1481\u001b[0m\n",
      "\u001b[34m[01:33:16] src/tree/updater_prune.cc:74: tree pruning end, 1 roots, 20 extra nodes, 16 pruned nodes, max_depth=5\u001b[0m\n",
      "\u001b[34m[132]#011train-error:0.087733#011validation-error:0.1481\u001b[0m\n",
      "\u001b[34m[01:33:17] src/tree/updater_prune.cc:74: tree pruning end, 1 roots, 12 extra nodes, 0 pruned nodes, max_depth=5\u001b[0m\n",
      "\u001b[34m[133]#011train-error:0.0872#011validation-error:0.1483\u001b[0m\n",
      "\u001b[34m[01:33:18] src/tree/updater_prune.cc:74: tree pruning end, 1 roots, 10 extra nodes, 22 pruned nodes, max_depth=5\u001b[0m\n",
      "\u001b[34m[134]#011train-error:0.087267#011validation-error:0.1477\u001b[0m\n",
      "\u001b[34m[01:33:20] src/tree/updater_prune.cc:74: tree pruning end, 1 roots, 16 extra nodes, 14 pruned nodes, max_depth=5\u001b[0m\n",
      "\u001b[34m[135]#011train-error:0.087267#011validation-error:0.1469\u001b[0m\n",
      "\u001b[34m[01:33:21] src/tree/updater_prune.cc:74: tree pruning end, 1 roots, 10 extra nodes, 12 pruned nodes, max_depth=5\u001b[0m\n",
      "\u001b[34m[136]#011train-error:0.087333#011validation-error:0.1467\u001b[0m\n",
      "\u001b[34m[01:33:22] src/tree/updater_prune.cc:74: tree pruning end, 1 roots, 14 extra nodes, 6 pruned nodes, max_depth=5\u001b[0m\n",
      "\u001b[34m[137]#011train-error:0.087267#011validation-error:0.1473\u001b[0m\n",
      "\u001b[34m[01:33:24] src/tree/updater_prune.cc:74: tree pruning end, 1 roots, 24 extra nodes, 14 pruned nodes, max_depth=5\u001b[0m\n",
      "\u001b[34m[138]#011train-error:0.086667#011validation-error:0.1466\u001b[0m\n",
      "\u001b[34m[01:33:25] src/tree/updater_prune.cc:74: tree pruning end, 1 roots, 14 extra nodes, 6 pruned nodes, max_depth=5\u001b[0m\n",
      "\u001b[34m[139]#011train-error:0.086267#011validation-error:0.1462\u001b[0m\n",
      "\u001b[34m[01:33:27] src/tree/updater_prune.cc:74: tree pruning end, 1 roots, 18 extra nodes, 16 pruned nodes, max_depth=5\u001b[0m\n",
      "\u001b[34m[140]#011train-error:0.0854#011validation-error:0.1465\u001b[0m\n",
      "\u001b[34m[01:33:28] src/tree/updater_prune.cc:74: tree pruning end, 1 roots, 22 extra nodes, 12 pruned nodes, max_depth=5\u001b[0m\n",
      "\u001b[34m[141]#011train-error:0.083933#011validation-error:0.1461\u001b[0m\n",
      "\u001b[34m[01:33:29] src/tree/updater_prune.cc:74: tree pruning end, 1 roots, 22 extra nodes, 4 pruned nodes, max_depth=5\u001b[0m\n",
      "\u001b[34m[142]#011train-error:0.084267#011validation-error:0.1451\u001b[0m\n",
      "\u001b[34m[01:33:31] src/tree/updater_prune.cc:74: tree pruning end, 1 roots, 12 extra nodes, 4 pruned nodes, max_depth=5\u001b[0m\n",
      "\u001b[34m[143]#011train-error:0.084333#011validation-error:0.1459\u001b[0m\n",
      "\u001b[34m[01:33:32] src/tree/updater_prune.cc:74: tree pruning end, 1 roots, 14 extra nodes, 8 pruned nodes, max_depth=5\u001b[0m\n",
      "\u001b[34m[144]#011train-error:0.084667#011validation-error:0.146\u001b[0m\n",
      "\u001b[34m[01:33:33] src/tree/updater_prune.cc:74: tree pruning end, 1 roots, 16 extra nodes, 14 pruned nodes, max_depth=5\u001b[0m\n",
      "\u001b[34m[145]#011train-error:0.084067#011validation-error:0.147\u001b[0m\n",
      "\u001b[34m[01:33:35] src/tree/updater_prune.cc:74: tree pruning end, 1 roots, 12 extra nodes, 8 pruned nodes, max_depth=5\u001b[0m\n",
      "\u001b[34m[146]#011train-error:0.083467#011validation-error:0.1464\u001b[0m\n",
      "\u001b[34m[01:33:36] src/tree/updater_prune.cc:74: tree pruning end, 1 roots, 22 extra nodes, 4 pruned nodes, max_depth=5\u001b[0m\n",
      "\u001b[34m[147]#011train-error:0.0828#011validation-error:0.1452\u001b[0m\n",
      "\u001b[34m[01:33:38] src/tree/updater_prune.cc:74: tree pruning end, 1 roots, 22 extra nodes, 10 pruned nodes, max_depth=5\u001b[0m\n",
      "\u001b[34m[148]#011train-error:0.082267#011validation-error:0.144\u001b[0m\n",
      "\u001b[34m[01:33:39] src/tree/updater_prune.cc:74: tree pruning end, 1 roots, 10 extra nodes, 2 pruned nodes, max_depth=5\u001b[0m\n",
      "\u001b[34m[149]#011train-error:0.082333#011validation-error:0.1441\u001b[0m\n",
      "\u001b[34m[01:33:40] src/tree/updater_prune.cc:74: tree pruning end, 1 roots, 18 extra nodes, 0 pruned nodes, max_depth=5\u001b[0m\n",
      "\u001b[34m[150]#011train-error:0.081667#011validation-error:0.144\u001b[0m\n",
      "\u001b[34m[01:33:42] src/tree/updater_prune.cc:74: tree pruning end, 1 roots, 20 extra nodes, 12 pruned nodes, max_depth=5\u001b[0m\n",
      "\u001b[34m[151]#011train-error:0.081333#011validation-error:0.1444\u001b[0m\n",
      "\u001b[34m[01:33:43] src/tree/updater_prune.cc:74: tree pruning end, 1 roots, 14 extra nodes, 10 pruned nodes, max_depth=5\u001b[0m\n",
      "\u001b[34m[152]#011train-error:0.0804#011validation-error:0.144\u001b[0m\n",
      "\u001b[34m[01:33:44] src/tree/updater_prune.cc:74: tree pruning end, 1 roots, 12 extra nodes, 8 pruned nodes, max_depth=5\u001b[0m\n",
      "\u001b[34m[153]#011train-error:0.079933#011validation-error:0.1443\u001b[0m\n",
      "\u001b[34m[01:33:46] src/tree/updater_prune.cc:74: tree pruning end, 1 roots, 14 extra nodes, 2 pruned nodes, max_depth=5\u001b[0m\n",
      "\u001b[34m[154]#011train-error:0.0796#011validation-error:0.1441\u001b[0m\n",
      "\u001b[34m[01:33:47] src/tree/updater_prune.cc:74: tree pruning end, 1 roots, 12 extra nodes, 18 pruned nodes, max_depth=5\u001b[0m\n",
      "\u001b[34m[155]#011train-error:0.0796#011validation-error:0.1441\u001b[0m\n",
      "\u001b[34m[01:33:48] src/tree/updater_prune.cc:74: tree pruning end, 1 roots, 12 extra nodes, 6 pruned nodes, max_depth=5\u001b[0m\n",
      "\u001b[34m[156]#011train-error:0.0794#011validation-error:0.144\u001b[0m\n",
      "\u001b[34m[01:33:50] src/tree/updater_prune.cc:74: tree pruning end, 1 roots, 10 extra nodes, 8 pruned nodes, max_depth=5\u001b[0m\n",
      "\u001b[34m[157]#011train-error:0.079133#011validation-error:0.1439\u001b[0m\n",
      "\u001b[34m[01:33:51] src/tree/updater_prune.cc:74: tree pruning end, 1 roots, 12 extra nodes, 4 pruned nodes, max_depth=5\u001b[0m\n",
      "\u001b[34m[158]#011train-error:0.079267#011validation-error:0.1435\u001b[0m\n",
      "\u001b[34m[01:33:52] src/tree/updater_prune.cc:74: tree pruning end, 1 roots, 10 extra nodes, 8 pruned nodes, max_depth=5\u001b[0m\n",
      "\u001b[34m[159]#011train-error:0.079267#011validation-error:0.1432\u001b[0m\n",
      "\u001b[34m[01:33:54] src/tree/updater_prune.cc:74: tree pruning end, 1 roots, 26 extra nodes, 6 pruned nodes, max_depth=5\u001b[0m\n",
      "\u001b[34m[160]#011train-error:0.079267#011validation-error:0.1433\u001b[0m\n",
      "\u001b[34m[01:33:55] src/tree/updater_prune.cc:74: tree pruning end, 1 roots, 12 extra nodes, 16 pruned nodes, max_depth=5\u001b[0m\n",
      "\u001b[34m[161]#011train-error:0.079#011validation-error:0.1423\u001b[0m\n",
      "\u001b[34m[01:33:57] src/tree/updater_prune.cc:74: tree pruning end, 1 roots, 16 extra nodes, 12 pruned nodes, max_depth=5\u001b[0m\n",
      "\u001b[34m[162]#011train-error:0.079067#011validation-error:0.1419\u001b[0m\n",
      "\u001b[34m[01:33:58] src/tree/updater_prune.cc:74: tree pruning end, 1 roots, 12 extra nodes, 4 pruned nodes, max_depth=5\u001b[0m\n",
      "\u001b[34m[163]#011train-error:0.079#011validation-error:0.1419\u001b[0m\n",
      "\u001b[34m[01:33:59] src/tree/updater_prune.cc:74: tree pruning end, 1 roots, 10 extra nodes, 0 pruned nodes, max_depth=5\u001b[0m\n",
      "\u001b[34m[164]#011train-error:0.078933#011validation-error:0.1417\u001b[0m\n",
      "\u001b[34m[01:34:01] src/tree/updater_prune.cc:74: tree pruning end, 1 roots, 12 extra nodes, 0 pruned nodes, max_depth=5\u001b[0m\n",
      "\u001b[34m[165]#011train-error:0.0788#011validation-error:0.1418\u001b[0m\n",
      "\u001b[34m[01:34:02] src/tree/updater_prune.cc:74: tree pruning end, 1 roots, 12 extra nodes, 4 pruned nodes, max_depth=5\u001b[0m\n",
      "\u001b[34m[166]#011train-error:0.078933#011validation-error:0.1421\u001b[0m\n",
      "\u001b[34m[01:34:04] src/tree/updater_prune.cc:74: tree pruning end, 1 roots, 14 extra nodes, 10 pruned nodes, max_depth=5\u001b[0m\n",
      "\u001b[34m[167]#011train-error:0.078733#011validation-error:0.1414\u001b[0m\n",
      "\u001b[34m[01:34:06] src/tree/updater_prune.cc:74: tree pruning end, 1 roots, 18 extra nodes, 4 pruned nodes, max_depth=5\u001b[0m\n",
      "\u001b[34m[168]#011train-error:0.078333#011validation-error:0.1417\u001b[0m\n",
      "\u001b[34m[01:34:07] src/tree/updater_prune.cc:74: tree pruning end, 1 roots, 18 extra nodes, 6 pruned nodes, max_depth=5\u001b[0m\n",
      "\u001b[34m[169]#011train-error:0.077667#011validation-error:0.1411\u001b[0m\n",
      "\u001b[34m[01:34:08] src/tree/updater_prune.cc:74: tree pruning end, 1 roots, 36 extra nodes, 8 pruned nodes, max_depth=5\u001b[0m\n",
      "\u001b[34m[170]#011train-error:0.077333#011validation-error:0.1408\u001b[0m\n",
      "\u001b[34m[01:34:10] src/tree/updater_prune.cc:74: tree pruning end, 1 roots, 26 extra nodes, 14 pruned nodes, max_depth=5\u001b[0m\n",
      "\u001b[34m[171]#011train-error:0.077133#011validation-error:0.1414\u001b[0m\n",
      "\u001b[34m[01:34:11] src/tree/updater_prune.cc:74: tree pruning end, 1 roots, 12 extra nodes, 6 pruned nodes, max_depth=5\u001b[0m\n",
      "\u001b[34m[172]#011train-error:0.0774#011validation-error:0.141\u001b[0m\n",
      "\u001b[34m[01:34:12] src/tree/updater_prune.cc:74: tree pruning end, 1 roots, 12 extra nodes, 12 pruned nodes, max_depth=5\u001b[0m\n",
      "\u001b[34m[173]#011train-error:0.0772#011validation-error:0.1409\u001b[0m\n",
      "\u001b[34m[01:34:14] src/tree/updater_prune.cc:74: tree pruning end, 1 roots, 12 extra nodes, 4 pruned nodes, max_depth=5\u001b[0m\n",
      "\u001b[34m[174]#011train-error:0.077533#011validation-error:0.141\u001b[0m\n",
      "\u001b[34m[01:34:15] src/tree/updater_prune.cc:74: tree pruning end, 1 roots, 12 extra nodes, 10 pruned nodes, max_depth=5\u001b[0m\n",
      "\u001b[34m[175]#011train-error:0.077467#011validation-error:0.1411\u001b[0m\n",
      "\u001b[34m[01:34:16] src/tree/updater_prune.cc:74: tree pruning end, 1 roots, 14 extra nodes, 4 pruned nodes, max_depth=5\u001b[0m\n",
      "\u001b[34m[176]#011train-error:0.077333#011validation-error:0.1403\u001b[0m\n",
      "\u001b[34m[01:34:18] src/tree/updater_prune.cc:74: tree pruning end, 1 roots, 16 extra nodes, 16 pruned nodes, max_depth=5\u001b[0m\n",
      "\u001b[34m[177]#011train-error:0.076667#011validation-error:0.1395\u001b[0m\n",
      "\u001b[34m[01:34:19] src/tree/updater_prune.cc:74: tree pruning end, 1 roots, 18 extra nodes, 16 pruned nodes, max_depth=5\u001b[0m\n",
      "\u001b[34m[178]#011train-error:0.076667#011validation-error:0.1398\u001b[0m\n",
      "\u001b[34m[01:34:20] src/tree/updater_prune.cc:74: tree pruning end, 1 roots, 12 extra nodes, 2 pruned nodes, max_depth=5\u001b[0m\n",
      "\u001b[34m[179]#011train-error:0.076733#011validation-error:0.1398\u001b[0m\n",
      "\u001b[34m[01:34:22] src/tree/updater_prune.cc:74: tree pruning end, 1 roots, 28 extra nodes, 0 pruned nodes, max_depth=5\u001b[0m\n",
      "\u001b[34m[180]#011train-error:0.075333#011validation-error:0.1391\u001b[0m\n",
      "\u001b[34m[01:34:23] src/tree/updater_prune.cc:74: tree pruning end, 1 roots, 16 extra nodes, 0 pruned nodes, max_depth=5\u001b[0m\n",
      "\u001b[34m[181]#011train-error:0.075133#011validation-error:0.1388\u001b[0m\n",
      "\u001b[34m[01:34:24] src/tree/updater_prune.cc:74: tree pruning end, 1 roots, 10 extra nodes, 6 pruned nodes, max_depth=5\u001b[0m\n",
      "\u001b[34m[182]#011train-error:0.074733#011validation-error:0.1381\u001b[0m\n",
      "\u001b[34m[01:34:26] src/tree/updater_prune.cc:74: tree pruning end, 1 roots, 28 extra nodes, 0 pruned nodes, max_depth=5\u001b[0m\n",
      "\u001b[34m[183]#011train-error:0.0734#011validation-error:0.1389\u001b[0m\n",
      "\u001b[34m[01:34:27] src/tree/updater_prune.cc:74: tree pruning end, 1 roots, 10 extra nodes, 4 pruned nodes, max_depth=5\u001b[0m\n",
      "\u001b[34m[184]#011train-error:0.0734#011validation-error:0.1387\u001b[0m\n",
      "\u001b[34m[01:34:29] src/tree/updater_prune.cc:74: tree pruning end, 1 roots, 26 extra nodes, 18 pruned nodes, max_depth=5\u001b[0m\n",
      "\u001b[34m[185]#011train-error:0.0726#011validation-error:0.1391\u001b[0m\n",
      "\u001b[34m[01:34:30] src/tree/updater_prune.cc:74: tree pruning end, 1 roots, 10 extra nodes, 6 pruned nodes, max_depth=5\u001b[0m\n",
      "\u001b[34m[186]#011train-error:0.072467#011validation-error:0.1391\u001b[0m\n",
      "\u001b[34m[01:34:31] src/tree/updater_prune.cc:74: tree pruning end, 1 roots, 18 extra nodes, 12 pruned nodes, max_depth=5\u001b[0m\n",
      "\u001b[34m[187]#011train-error:0.0724#011validation-error:0.1394\u001b[0m\n",
      "\u001b[34m[01:34:33] src/tree/updater_prune.cc:74: tree pruning end, 1 roots, 10 extra nodes, 12 pruned nodes, max_depth=5\u001b[0m\n",
      "\u001b[34m[188]#011train-error:0.072533#011validation-error:0.139\u001b[0m\n",
      "\u001b[34m[01:34:34] src/tree/updater_prune.cc:74: tree pruning end, 1 roots, 16 extra nodes, 0 pruned nodes, max_depth=5\u001b[0m\n",
      "\u001b[34m[189]#011train-error:0.072667#011validation-error:0.1397\u001b[0m\n",
      "\u001b[34m[01:34:35] src/tree/updater_prune.cc:74: tree pruning end, 1 roots, 16 extra nodes, 4 pruned nodes, max_depth=5\u001b[0m\n",
      "\u001b[34m[190]#011train-error:0.0722#011validation-error:0.1405\u001b[0m\n",
      "\u001b[34m[01:34:37] src/tree/updater_prune.cc:74: tree pruning end, 1 roots, 16 extra nodes, 12 pruned nodes, max_depth=5\u001b[0m\n",
      "\u001b[34m[191]#011train-error:0.0718#011validation-error:0.1399\u001b[0m\n",
      "\u001b[34m[01:34:38] src/tree/updater_prune.cc:74: tree pruning end, 1 roots, 14 extra nodes, 6 pruned nodes, max_depth=5\u001b[0m\n",
      "\u001b[34m[192]#011train-error:0.072#011validation-error:0.1404\u001b[0m\n",
      "\u001b[34mStopping. Best iteration:\u001b[0m\n",
      "\u001b[34m[182]#011train-error:0.074733#011validation-error:0.1381\n",
      "\u001b[0m\n",
      "\n",
      "2021-07-23 01:35:13 Uploading - Uploading generated training model\n",
      "2021-07-23 01:35:13 Completed - Training job completed\n",
      "Training seconds: 346\n",
      "Billable seconds: 346\n"
     ]
    }
   ],
   "source": [
    "xgb.fit({'train': s3_input_train, 'validation': s3_input_validation})"
   ]
  },
  {
   "cell_type": "markdown",
   "metadata": {},
   "source": [
    "## Step 5: Testing the model\n",
    "\n",
    "Now that we've fit our XGBoost model, it's time to see how well it performs. To do this we will use SageMakers Batch Transform functionality. Batch Transform is a convenient way to perform inference on a large dataset in a way that is not realtime. That is, we don't necessarily need to use our model's results immediately and instead we can perform inference on a large number of samples. An example of this in industry might be performing an end of month report. This method of inference can also be useful to us as it means that we can perform inference on our entire test set. \n",
    "\n",
    "To perform a Batch Transformation we need to first create a transformer objects from our trained estimator object."
   ]
  },
  {
   "cell_type": "code",
   "execution_count": 25,
   "metadata": {},
   "outputs": [
    {
     "name": "stderr",
     "output_type": "stream",
     "text": [
      "Parameter image will be renamed to image_uri in SageMaker Python SDK v2.\n"
     ]
    }
   ],
   "source": [
    "xgb_transformer = xgb.transformer(instance_count = 1, instance_type = 'ml.m4.xlarge')"
   ]
  },
  {
   "cell_type": "markdown",
   "metadata": {},
   "source": [
    "Next we actually perform the transform job. When doing so we need to make sure to specify the type of data we are sending so that it is serialized correctly in the background. In our case we are providing our model with csv data so we specify `text/csv`. Also, if the test data that we have provided is too large to process all at once then we need to specify how the data file should be split up. Since each line is a single entry in our data set we tell SageMaker that it can split the input on each line."
   ]
  },
  {
   "cell_type": "code",
   "execution_count": 26,
   "metadata": {},
   "outputs": [],
   "source": [
    "xgb_transformer.transform(test_location, content_type='text/csv', split_type='Line')"
   ]
  },
  {
   "cell_type": "markdown",
   "metadata": {},
   "source": [
    "Currently the transform job is running but it is doing so in the background. Since we wish to wait until the transform job is done and we would like a bit of feedback we can run the `wait()` method."
   ]
  },
  {
   "cell_type": "code",
   "execution_count": 27,
   "metadata": {},
   "outputs": [
    {
     "name": "stdout",
     "output_type": "stream",
     "text": [
      "...................................\u001b[34mArguments: serve\u001b[0m\n",
      "\u001b[34m[2021-07-23 01:43:00 +0000] [1] [INFO] Starting gunicorn 19.9.0\u001b[0m\n",
      "\u001b[34m[2021-07-23 01:43:00 +0000] [1] [INFO] Listening at: http://0.0.0.0:8080 (1)\u001b[0m\n",
      "\u001b[34m[2021-07-23 01:43:00 +0000] [1] [INFO] Using worker: gevent\u001b[0m\n",
      "\u001b[34m[2021-07-23 01:43:00 +0000] [21] [INFO] Booting worker with pid: 21\u001b[0m\n",
      "\u001b[34m/opt/amazon/lib/python3.7/site-packages/gunicorn/workers/ggevent.py:65: MonkeyPatchWarning: Monkey-patching ssl after ssl has already been imported may lead to errors, including RecursionError on Python 3.6. It may also silently lead to incorrect behaviour on Python 3.7. Please monkey-patch earlier. See https://github.com/gevent/gevent/issues/1016. Modules that had direct imports (NOT patched): ['urllib3.util (/opt/amazon/lib/python3.7/site-packages/urllib3/util/__init__.py)', 'urllib3.util.ssl_ (/opt/amazon/lib/python3.7/site-packages/urllib3/util/ssl_.py)']. \n",
      "  monkey.patch_all(subprocess=True)\u001b[0m\n",
      "\u001b[34m[2021-07-23:01:43:01:INFO] Model loaded successfully for worker : 21\u001b[0m\n",
      "\u001b[34m[2021-07-23 01:43:01 +0000] [22] [INFO] Booting worker with pid: 22\u001b[0m\n",
      "\u001b[34m[2021-07-23 01:43:01 +0000] [23] [INFO] Booting worker with pid: 23\u001b[0m\n",
      "\u001b[34m/opt/amazon/lib/python3.7/site-packages/gunicorn/workers/ggevent.py:65: MonkeyPatchWarning: Monkey-patching ssl after ssl has already been imported may lead to errors, including RecursionError on Python 3.6. It may also silently lead to incorrect behaviour on Python 3.7. Please monkey-patch earlier. See https://github.com/gevent/gevent/issues/1016. Modules that had direct imports (NOT patched): ['urllib3.util (/opt/amazon/lib/python3.7/site-packages/urllib3/util/__init__.py)', 'urllib3.util.ssl_ (/opt/amazon/lib/python3.7/site-packages/urllib3/util/ssl_.py)']. \n",
      "  monkey.patch_all(subprocess=True)\u001b[0m\n",
      "\u001b[34m/opt/amazon/lib/python3.7/site-packages/gunicorn/workers/ggevent.py:65: MonkeyPatchWarning: Monkey-patching ssl after ssl has already been imported may lead to errors, including RecursionError on Python 3.6. It may also silently lead to incorrect behaviour on Python 3.7. Please monkey-patch earlier. See https://github.com/gevent/gevent/issues/1016. Modules that had direct imports (NOT patched): ['urllib3.util (/opt/amazon/lib/python3.7/site-packages/urllib3/util/__init__.py)', 'urllib3.util.ssl_ (/opt/amazon/lib/python3.7/site-packages/urllib3/util/ssl_.py)']. \n",
      "  monkey.patch_all(subprocess=True)\u001b[0m\n",
      "\u001b[34m[2021-07-23:01:43:01:INFO] Model loaded successfully for worker : 22\u001b[0m\n",
      "\u001b[34m[2021-07-23:01:43:01:INFO] Model loaded successfully for worker : 23\u001b[0m\n",
      "\u001b[34m[2021-07-23 01:43:01 +0000] [24] [INFO] Booting worker with pid: 24\u001b[0m\n",
      "\u001b[34m/opt/amazon/lib/python3.7/site-packages/gunicorn/workers/ggevent.py:65: MonkeyPatchWarning: Monkey-patching ssl after ssl has already been imported may lead to errors, including RecursionError on Python 3.6. It may also silently lead to incorrect behaviour on Python 3.7. Please monkey-patch earlier. See https://github.com/gevent/gevent/issues/1016. Modules that had direct imports (NOT patched): ['urllib3.util (/opt/amazon/lib/python3.7/site-packages/urllib3/util/__init__.py)', 'urllib3.util.ssl_ (/opt/amazon/lib/python3.7/site-packages/urllib3/util/ssl_.py)']. \n",
      "  monkey.patch_all(subprocess=True)\u001b[0m\n",
      "\u001b[34m[2021-07-23:01:43:01:INFO] Model loaded successfully for worker : 24\u001b[0m\n",
      "\u001b[32m2021-07-23T01:43:04.909:[sagemaker logs]: MaxConcurrentTransforms=4, MaxPayloadInMB=6, BatchStrategy=MULTI_RECORD\u001b[0m\n",
      "\u001b[34m[2021-07-23:01:43:08:INFO] Sniff delimiter as ','\u001b[0m\n",
      "\u001b[34m[2021-07-23:01:43:08:INFO] Determined delimiter of CSV input is ','\u001b[0m\n",
      "\u001b[34m[2021-07-23:01:43:08:INFO] Sniff delimiter as ','\u001b[0m\n",
      "\u001b[34m[2021-07-23:01:43:08:INFO] Determined delimiter of CSV input is ','\u001b[0m\n",
      "\u001b[34m[2021-07-23:01:43:08:INFO] Sniff delimiter as ','\u001b[0m\n",
      "\u001b[34m[2021-07-23:01:43:08:INFO] Determined delimiter of CSV input is ','\u001b[0m\n",
      "\u001b[34m[2021-07-23:01:43:08:INFO] Sniff delimiter as ','\u001b[0m\n",
      "\u001b[34m[2021-07-23:01:43:08:INFO] Determined delimiter of CSV input is ','\u001b[0m\n",
      "\u001b[35m[2021-07-23:01:43:08:INFO] Sniff delimiter as ','\u001b[0m\n",
      "\u001b[35m[2021-07-23:01:43:08:INFO] Determined delimiter of CSV input is ','\u001b[0m\n",
      "\u001b[35m[2021-07-23:01:43:08:INFO] Sniff delimiter as ','\u001b[0m\n",
      "\u001b[35m[2021-07-23:01:43:08:INFO] Determined delimiter of CSV input is ','\u001b[0m\n",
      "\u001b[35m[2021-07-23:01:43:08:INFO] Sniff delimiter as ','\u001b[0m\n",
      "\u001b[35m[2021-07-23:01:43:08:INFO] Determined delimiter of CSV input is ','\u001b[0m\n",
      "\u001b[35m[2021-07-23:01:43:08:INFO] Sniff delimiter as ','\u001b[0m\n",
      "\u001b[35m[2021-07-23:01:43:08:INFO] Determined delimiter of CSV input is ','\u001b[0m\n",
      "\u001b[34m[2021-07-23:01:43:12:INFO] Sniff delimiter as ','\u001b[0m\n",
      "\u001b[34m[2021-07-23:01:43:12:INFO] Determined delimiter of CSV input is ','\u001b[0m\n",
      "\u001b[34m[2021-07-23:01:43:12:INFO] Sniff delimiter as ','\u001b[0m\n",
      "\u001b[34m[2021-07-23:01:43:12:INFO] Determined delimiter of CSV input is ','\u001b[0m\n",
      "\u001b[35m[2021-07-23:01:43:12:INFO] Sniff delimiter as ','\u001b[0m\n",
      "\u001b[35m[2021-07-23:01:43:12:INFO] Determined delimiter of CSV input is ','\u001b[0m\n",
      "\u001b[35m[2021-07-23:01:43:12:INFO] Sniff delimiter as ','\u001b[0m\n",
      "\u001b[35m[2021-07-23:01:43:12:INFO] Determined delimiter of CSV input is ','\u001b[0m\n",
      "\u001b[34m[2021-07-23:01:43:12:INFO] Sniff delimiter as ','\u001b[0m\n",
      "\u001b[34m[2021-07-23:01:43:12:INFO] Determined delimiter of CSV input is ','\u001b[0m\n",
      "\u001b[34m[2021-07-23:01:43:12:INFO] Sniff delimiter as ','\u001b[0m\n",
      "\u001b[34m[2021-07-23:01:43:12:INFO] Determined delimiter of CSV input is ','\u001b[0m\n",
      "\u001b[35m[2021-07-23:01:43:12:INFO] Sniff delimiter as ','\u001b[0m\n",
      "\u001b[35m[2021-07-23:01:43:12:INFO] Determined delimiter of CSV input is ','\u001b[0m\n",
      "\u001b[35m[2021-07-23:01:43:12:INFO] Sniff delimiter as ','\u001b[0m\n",
      "\u001b[35m[2021-07-23:01:43:12:INFO] Determined delimiter of CSV input is ','\u001b[0m\n",
      "\u001b[34m[2021-07-23:01:43:16:INFO] Sniff delimiter as ','\u001b[0m\n",
      "\u001b[34m[2021-07-23:01:43:16:INFO] Determined delimiter of CSV input is ','\u001b[0m\n",
      "\u001b[35m[2021-07-23:01:43:16:INFO] Sniff delimiter as ','\u001b[0m\n",
      "\u001b[35m[2021-07-23:01:43:16:INFO] Determined delimiter of CSV input is ','\u001b[0m\n",
      "\u001b[34m[2021-07-23:01:43:16:INFO] Sniff delimiter as ','\u001b[0m\n",
      "\u001b[34m[2021-07-23:01:43:16:INFO] Determined delimiter of CSV input is ','\u001b[0m\n",
      "\u001b[35m[2021-07-23:01:43:16:INFO] Sniff delimiter as ','\u001b[0m\n",
      "\u001b[35m[2021-07-23:01:43:16:INFO] Determined delimiter of CSV input is ','\u001b[0m\n",
      "\u001b[34m[2021-07-23:01:43:19:INFO] Sniff delimiter as ','\u001b[0m\n",
      "\u001b[34m[2021-07-23:01:43:19:INFO] Determined delimiter of CSV input is ','\u001b[0m\n",
      "\u001b[34m[2021-07-23:01:43:19:INFO] Sniff delimiter as ','\u001b[0m\n",
      "\u001b[34m[2021-07-23:01:43:19:INFO] Determined delimiter of CSV input is ','\u001b[0m\n",
      "\u001b[34m[2021-07-23:01:43:20:INFO] Sniff delimiter as ','\u001b[0m\n",
      "\u001b[34m[2021-07-23:01:43:20:INFO] Determined delimiter of CSV input is ','\u001b[0m\n",
      "\u001b[34m[2021-07-23:01:43:20:INFO] Sniff delimiter as ','\u001b[0m\n",
      "\u001b[34m[2021-07-23:01:43:20:INFO] Determined delimiter of CSV input is ','\u001b[0m\n",
      "\u001b[35m[2021-07-23:01:43:19:INFO] Sniff delimiter as ','\u001b[0m\n",
      "\u001b[35m[2021-07-23:01:43:19:INFO] Determined delimiter of CSV input is ','\u001b[0m\n",
      "\u001b[35m[2021-07-23:01:43:19:INFO] Sniff delimiter as ','\u001b[0m\n",
      "\u001b[35m[2021-07-23:01:43:19:INFO] Determined delimiter of CSV input is ','\u001b[0m\n",
      "\u001b[35m[2021-07-23:01:43:20:INFO] Sniff delimiter as ','\u001b[0m\n",
      "\u001b[35m[2021-07-23:01:43:20:INFO] Determined delimiter of CSV input is ','\u001b[0m\n",
      "\u001b[35m[2021-07-23:01:43:20:INFO] Sniff delimiter as ','\u001b[0m\n",
      "\u001b[35m[2021-07-23:01:43:20:INFO] Determined delimiter of CSV input is ','\u001b[0m\n",
      "\u001b[34m[2021-07-23:01:43:23:INFO] Sniff delimiter as ','\u001b[0m\n",
      "\u001b[34m[2021-07-23:01:43:23:INFO] Determined delimiter of CSV input is ','\u001b[0m\n",
      "\u001b[34m[2021-07-23:01:43:23:INFO] Sniff delimiter as ','\u001b[0m\n",
      "\u001b[34m[2021-07-23:01:43:23:INFO] Determined delimiter of CSV input is ','\u001b[0m\n",
      "\u001b[34m[2021-07-23:01:43:23:INFO] Sniff delimiter as ','\u001b[0m\n",
      "\u001b[34m[2021-07-23:01:43:23:INFO] Determined delimiter of CSV input is ','\u001b[0m\n",
      "\u001b[34m[2021-07-23:01:43:24:INFO] Sniff delimiter as ','\u001b[0m\n",
      "\u001b[34m[2021-07-23:01:43:24:INFO] Determined delimiter of CSV input is ','\u001b[0m\n",
      "\u001b[35m[2021-07-23:01:43:23:INFO] Sniff delimiter as ','\u001b[0m\n",
      "\u001b[35m[2021-07-23:01:43:23:INFO] Determined delimiter of CSV input is ','\u001b[0m\n",
      "\u001b[35m[2021-07-23:01:43:23:INFO] Sniff delimiter as ','\u001b[0m\n",
      "\u001b[35m[2021-07-23:01:43:23:INFO] Determined delimiter of CSV input is ','\u001b[0m\n",
      "\u001b[35m[2021-07-23:01:43:23:INFO] Sniff delimiter as ','\u001b[0m\n",
      "\u001b[35m[2021-07-23:01:43:23:INFO] Determined delimiter of CSV input is ','\u001b[0m\n",
      "\u001b[35m[2021-07-23:01:43:24:INFO] Sniff delimiter as ','\u001b[0m\n",
      "\u001b[35m[2021-07-23:01:43:24:INFO] Determined delimiter of CSV input is ','\u001b[0m\n",
      "\u001b[34m[2021-07-23:01:43:27:INFO] Sniff delimiter as ','\u001b[0m\n",
      "\u001b[34m[2021-07-23:01:43:27:INFO] Determined delimiter of CSV input is ','\u001b[0m\n",
      "\u001b[34m[2021-07-23:01:43:27:INFO] Sniff delimiter as ','\u001b[0m\n",
      "\u001b[35m[2021-07-23:01:43:27:INFO] Sniff delimiter as ','\u001b[0m\n",
      "\u001b[35m[2021-07-23:01:43:27:INFO] Determined delimiter of CSV input is ','\u001b[0m\n",
      "\u001b[35m[2021-07-23:01:43:27:INFO] Sniff delimiter as ','\u001b[0m\n",
      "\u001b[34m[2021-07-23:01:43:27:INFO] Determined delimiter of CSV input is ','\u001b[0m\n",
      "\u001b[34m[2021-07-23:01:43:27:INFO] Sniff delimiter as ','\u001b[0m\n",
      "\u001b[34m[2021-07-23:01:43:27:INFO] Determined delimiter of CSV input is ','\u001b[0m\n",
      "\u001b[34m[2021-07-23:01:43:28:INFO] Sniff delimiter as ','\u001b[0m\n",
      "\u001b[34m[2021-07-23:01:43:28:INFO] Determined delimiter of CSV input is ','\u001b[0m\n",
      "\u001b[35m[2021-07-23:01:43:27:INFO] Determined delimiter of CSV input is ','\u001b[0m\n",
      "\u001b[35m[2021-07-23:01:43:27:INFO] Sniff delimiter as ','\u001b[0m\n",
      "\u001b[35m[2021-07-23:01:43:27:INFO] Determined delimiter of CSV input is ','\u001b[0m\n",
      "\u001b[35m[2021-07-23:01:43:28:INFO] Sniff delimiter as ','\u001b[0m\n",
      "\u001b[35m[2021-07-23:01:43:28:INFO] Determined delimiter of CSV input is ','\u001b[0m\n",
      "\u001b[34m[2021-07-23:01:43:31:INFO] Determined delimiter of CSV input is ','\u001b[0m\n",
      "\u001b[34m[2021-07-23:01:43:31:INFO] Sniff delimiter as ','\u001b[0m\n",
      "\u001b[35m[2021-07-23:01:43:31:INFO] Determined delimiter of CSV input is ','\u001b[0m\n",
      "\u001b[35m[2021-07-23:01:43:31:INFO] Sniff delimiter as ','\u001b[0m\n",
      "\u001b[34m[2021-07-23:01:43:31:INFO] Determined delimiter of CSV input is ','\u001b[0m\n",
      "\u001b[35m[2021-07-23:01:43:31:INFO] Determined delimiter of CSV input is ','\u001b[0m\n",
      "\u001b[34m[2021-07-23:01:43:35:INFO] Sniff delimiter as ','\u001b[0m\n",
      "\u001b[34m[2021-07-23:01:43:35:INFO] Determined delimiter of CSV input is ','\u001b[0m\n",
      "\u001b[35m[2021-07-23:01:43:35:INFO] Sniff delimiter as ','\u001b[0m\n",
      "\u001b[35m[2021-07-23:01:43:35:INFO] Determined delimiter of CSV input is ','\u001b[0m\n",
      "\u001b[34m[2021-07-23:01:43:35:INFO] Sniff delimiter as ','\u001b[0m\n",
      "\u001b[34m[2021-07-23:01:43:35:INFO] Determined delimiter of CSV input is ','\u001b[0m\n",
      "\u001b[34m[2021-07-23:01:43:35:INFO] Sniff delimiter as ','\u001b[0m\n",
      "\u001b[34m[2021-07-23:01:43:35:INFO] Determined delimiter of CSV input is ','\u001b[0m\n",
      "\u001b[35m[2021-07-23:01:43:35:INFO] Sniff delimiter as ','\u001b[0m\n",
      "\u001b[35m[2021-07-23:01:43:35:INFO] Determined delimiter of CSV input is ','\u001b[0m\n",
      "\u001b[35m[2021-07-23:01:43:35:INFO] Sniff delimiter as ','\u001b[0m\n",
      "\u001b[35m[2021-07-23:01:43:35:INFO] Determined delimiter of CSV input is ','\u001b[0m\n",
      "\u001b[34m[2021-07-23:01:43:35:INFO] Sniff delimiter as ','\u001b[0m\n",
      "\u001b[34m[2021-07-23:01:43:35:INFO] Determined delimiter of CSV input is ','\u001b[0m\n",
      "\u001b[35m[2021-07-23:01:43:35:INFO] Sniff delimiter as ','\u001b[0m\n",
      "\u001b[35m[2021-07-23:01:43:35:INFO] Determined delimiter of CSV input is ','\u001b[0m\n",
      "\u001b[34m[2021-07-23:01:43:39:INFO] Sniff delimiter as ','\u001b[0m\n",
      "\u001b[34m[2021-07-23:01:43:39:INFO] Determined delimiter of CSV input is ','\u001b[0m\n",
      "\u001b[34m[2021-07-23:01:43:39:INFO] Sniff delimiter as ','\u001b[0m\n",
      "\u001b[34m[2021-07-23:01:43:39:INFO] Determined delimiter of CSV input is ','\u001b[0m\n",
      "\u001b[35m[2021-07-23:01:43:39:INFO] Sniff delimiter as ','\u001b[0m\n",
      "\u001b[35m[2021-07-23:01:43:39:INFO] Determined delimiter of CSV input is ','\u001b[0m\n",
      "\u001b[35m[2021-07-23:01:43:39:INFO] Sniff delimiter as ','\u001b[0m\n",
      "\u001b[35m[2021-07-23:01:43:39:INFO] Determined delimiter of CSV input is ','\u001b[0m\n",
      "\u001b[34m[2021-07-23:01:43:39:INFO] Sniff delimiter as ','\u001b[0m\n",
      "\u001b[34m[2021-07-23:01:43:39:INFO] Determined delimiter of CSV input is ','\u001b[0m\n",
      "\u001b[34m[2021-07-23:01:43:39:INFO] Sniff delimiter as ','\u001b[0m\n",
      "\u001b[35m[2021-07-23:01:43:39:INFO] Sniff delimiter as ','\u001b[0m\n",
      "\u001b[35m[2021-07-23:01:43:39:INFO] Determined delimiter of CSV input is ','\u001b[0m\n",
      "\u001b[35m[2021-07-23:01:43:39:INFO] Sniff delimiter as ','\u001b[0m\n",
      "\u001b[34m[2021-07-23:01:43:39:INFO] Determined delimiter of CSV input is ','\u001b[0m\n",
      "\u001b[35m[2021-07-23:01:43:39:INFO] Determined delimiter of CSV input is ','\u001b[0m\n",
      "\n",
      "\u001b[34m[2021-07-23:01:43:42:INFO] Determined delimiter of CSV input is ','\u001b[0m\n",
      "\u001b[34m[2021-07-23:01:43:43:INFO] Sniff delimiter as ','\u001b[0m\n",
      "\u001b[34m[2021-07-23:01:43:43:INFO] Determined delimiter of CSV input is ','\u001b[0m\n",
      "\u001b[34m[2021-07-23:01:43:43:INFO] Sniff delimiter as ','\u001b[0m\n",
      "\u001b[34m[2021-07-23:01:43:43:INFO] Determined delimiter of CSV input is ','\u001b[0m\n",
      "\u001b[34m[2021-07-23:01:43:43:INFO] Sniff delimiter as ','\u001b[0m\n",
      "\u001b[34m[2021-07-23:01:43:43:INFO] Determined delimiter of CSV input is ','\u001b[0m\n",
      "\u001b[35m[2021-07-23:01:43:42:INFO] Determined delimiter of CSV input is ','\u001b[0m\n",
      "\u001b[35m[2021-07-23:01:43:43:INFO] Sniff delimiter as ','\u001b[0m\n",
      "\u001b[35m[2021-07-23:01:43:43:INFO] Determined delimiter of CSV input is ','\u001b[0m\n",
      "\u001b[35m[2021-07-23:01:43:43:INFO] Sniff delimiter as ','\u001b[0m\n",
      "\u001b[35m[2021-07-23:01:43:43:INFO] Determined delimiter of CSV input is ','\u001b[0m\n",
      "\u001b[35m[2021-07-23:01:43:43:INFO] Sniff delimiter as ','\u001b[0m\n",
      "\u001b[35m[2021-07-23:01:43:43:INFO] Determined delimiter of CSV input is ','\u001b[0m\n"
     ]
    }
   ],
   "source": [
    "xgb_transformer.wait()"
   ]
  },
  {
   "cell_type": "markdown",
   "metadata": {},
   "source": [
    "Now the transform job has executed and the result, the estimated sentiment of each review, has been saved on S3. Since we would rather work on this file locally we can perform a bit of notebook magic to copy the file to the `data_dir`."
   ]
  },
  {
   "cell_type": "code",
   "execution_count": 28,
   "metadata": {},
   "outputs": [
    {
     "name": "stdout",
     "output_type": "stream",
     "text": [
      "download: s3://sagemaker-us-east-1-263044292598/xgboost-2021-07-23-01-37-14-668/test.csv.out to ../data/sentiment_web_app/test.csv.out\r\n"
     ]
    }
   ],
   "source": [
    "!aws s3 cp --recursive $xgb_transformer.output_path $data_dir"
   ]
  },
  {
   "cell_type": "markdown",
   "metadata": {},
   "source": [
    "The last step is now to read in the output from our model, convert the output to something a little more usable, in this case we want the sentiment to be either `1` (positive) or `0` (negative), and then compare to the ground truth labels."
   ]
  },
  {
   "cell_type": "code",
   "execution_count": 29,
   "metadata": {},
   "outputs": [],
   "source": [
    "predictions = pd.read_csv(os.path.join(data_dir, 'test.csv.out'), header=None)\n",
    "predictions = [round(num) for num in predictions.squeeze().values]"
   ]
  },
  {
   "cell_type": "code",
   "execution_count": 30,
   "metadata": {},
   "outputs": [
    {
     "data": {
      "text/plain": [
       "0.86396"
      ]
     },
     "execution_count": 30,
     "metadata": {},
     "output_type": "execute_result"
    }
   ],
   "source": [
    "from sklearn.metrics import accuracy_score\n",
    "accuracy_score(test_y, predictions)"
   ]
  },
  {
   "cell_type": "markdown",
   "metadata": {},
   "source": [
    "## Step 6: Deploying the model\n",
    "\n",
    "Once we construct and fit our model, SageMaker stores the resulting model artifacts and we can use those to deploy an endpoint (inference code). To see this, look in the SageMaker console and you should see that a model has been created along with a link to the S3 location where the model artifacts have been stored.\n",
    "\n",
    "Deploying an endpoint is a lot like training the model with a few important differences. The first is that a deployed model doesn't change the model artifacts, so as you send it various testing instances the model won't change. Another difference is that since we aren't performing a fixed computation, as we were in the training step or while performing a batch transform, the compute instance that gets started stays running until we tell it to stop. This is important to note as if we forget and leave it running we will be charged the entire time.\n",
    "\n",
    "In other words **If you are no longer using a deployed endpoint, shut it down!**"
   ]
  },
  {
   "cell_type": "code",
   "execution_count": 31,
   "metadata": {},
   "outputs": [
    {
     "name": "stderr",
     "output_type": "stream",
     "text": [
      "Parameter image will be renamed to image_uri in SageMaker Python SDK v2.\n",
      "Using already existing model: xgboost-2021-07-23-01-26-20-869\n"
     ]
    },
    {
     "name": "stdout",
     "output_type": "stream",
     "text": [
      "-----------------!"
     ]
    }
   ],
   "source": [
    "xgb_predictor = xgb.deploy(initial_instance_count = 1, instance_type = 'ml.m4.xlarge')"
   ]
  },
  {
   "cell_type": "markdown",
   "metadata": {},
   "source": [
    "### Testing the model (again)\n",
    "\n",
    "Now that we have deployed our endpoint, we can send the testing data to it and get back the inference results. We already did this earlier using the batch transform functionality of SageMaker, however, we will test our model again using the newly deployed endpoint so that we can make sure that it works properly and to get a bit of a feel for how the endpoint works.\n",
    "\n",
    "When using the created endpoint it is important to know that we are limited in the amount of information we can send in each call so we need to break the testing data up into chunks and then send each chunk. Also, we need to serialize our data before we send it to the endpoint to ensure that our data is transmitted properly. Fortunately, SageMaker can do the serialization part for us provided we tell it the format of our data."
   ]
  },
  {
   "cell_type": "code",
   "execution_count": 32,
   "metadata": {},
   "outputs": [],
   "source": [
    "from sagemaker.predictor import csv_serializer\n",
    "\n",
    "# We need to tell the endpoint what format the data we are sending is in so that SageMaker can perform the serialization.\n",
    "xgb_predictor.content_type = 'text/csv'\n",
    "xgb_predictor.serializer = csv_serializer"
   ]
  },
  {
   "cell_type": "code",
   "execution_count": 33,
   "metadata": {},
   "outputs": [],
   "source": [
    "# We split the data into chunks and send each chunk seperately, accumulating the results.\n",
    "\n",
    "def predict(data, rows=512):\n",
    "    split_array = np.array_split(data, int(data.shape[0] / float(rows) + 1))\n",
    "    predictions = ''\n",
    "    for array in split_array:\n",
    "        predictions = ','.join([predictions, xgb_predictor.predict(array).decode('utf-8')])\n",
    "    \n",
    "    return np.fromstring(predictions[1:], sep=',')"
   ]
  },
  {
   "cell_type": "code",
   "execution_count": 34,
   "metadata": {},
   "outputs": [],
   "source": [
    "test_X = pd.read_csv(os.path.join(data_dir, 'test.csv'), header=None).values\n",
    "\n",
    "predictions = predict(test_X)\n",
    "predictions = [round(num) for num in predictions]"
   ]
  },
  {
   "cell_type": "markdown",
   "metadata": {},
   "source": [
    "Lastly, we check to see what the accuracy of our model is."
   ]
  },
  {
   "cell_type": "code",
   "execution_count": 35,
   "metadata": {},
   "outputs": [
    {
     "data": {
      "text/plain": [
       "0.86396"
      ]
     },
     "execution_count": 35,
     "metadata": {},
     "output_type": "execute_result"
    }
   ],
   "source": [
    "from sklearn.metrics import accuracy_score\n",
    "accuracy_score(test_y, predictions)"
   ]
  },
  {
   "cell_type": "markdown",
   "metadata": {},
   "source": [
    "And the results here should agree with the model testing that we did earlier using the batch transform job.\n",
    "\n",
    "### Cleaning up\n",
    "\n",
    "Now that we've determined that deploying our model works as expected, we are going to shut it down. Remember that the longer the endpoint is left running, the greater the cost and since we have a bit more work to do before we are able to use our endpoint with our simple web app, we should shut everything down."
   ]
  },
  {
   "cell_type": "code",
   "execution_count": 36,
   "metadata": {},
   "outputs": [],
   "source": [
    "xgb_predictor.delete_endpoint()"
   ]
  },
  {
   "cell_type": "markdown",
   "metadata": {},
   "source": [
    "## Step 7: Putting our model to work\n",
    "\n",
    "As we've mentioned a few times now, our goal is to have our model deployed and then access it using a very simple web app. The intent is for this web app to take some user submitted data (a review), send it off to our endpoint (the model) and then display the result.\n",
    "\n",
    "However, there is a small catch. Currently the only way we can access the endpoint to send it data is using the SageMaker API. We can, if we wish, expose the actual URL that our model's endpoint is receiving data from, however, if we just send it data ourselves we will not get anything in return. This is because the endpoint created by SageMaker requires the entity accessing it have the correct permissions. So, we would need to somehow authenticate our web app with AWS.\n",
    "\n",
    "Having a website that authenticates to AWS seems a bit beyond the scope of this lesson so we will opt for an alternative approach. Namely, we will create a new endpoint which does not require authentication and which acts as a proxy for the SageMaker endpoint.\n",
    "\n",
    "As an additional constraint, we will try to avoid doing any data processing in the web app itself. Remember that when we constructed and tested our model we started with a movie review, then we simplified it by removing any html formatting and punctuation, then we constructed a bag of words embedding and the resulting vector is what we sent to our model. All of this needs to be done to our user input as well.\n",
    "\n",
    "Fortunately we can do all of this data processing in the backend, using Amazon's Lambda service.\n",
    "\n",
    "<img src=\"Web App Diagram.svg\">\n",
    "\n",
    "The diagram above gives an overview of how the various services will work together. On the far right is the model which we trained above and which will be deployed using SageMaker. On the far left is our web app that collects a user's movie review, sends it off and expects a positive or negative sentiment in return.\n",
    "\n",
    "In the middle is where some of the magic happens. We will construct a Lambda function, which you can think of as a straightforward Python function that can be executed whenever a specified event occurs. This Python function will do the data processing we need to perform on a user submitted review. In addition, we will give this function permission to send and recieve data from a SageMaker endpoint.\n",
    "\n",
    "Lastly, the method we will use to execute the Lambda function is a new endpoint that we will create using API Gateway. This endpoint will be a url that listens for data to be sent to it. Once it gets some data it will pass that data on to the Lambda function and then return whatever the Lambda function returns. Essentially it will act as an interface that lets our web app communicate with the Lambda function.\n",
    "\n",
    "### Processing a single review\n",
    "\n",
    "For now, suppose we are given a movie review by our user in the form of a string, like so:"
   ]
  },
  {
   "cell_type": "code",
   "execution_count": 37,
   "metadata": {},
   "outputs": [],
   "source": [
    "test_review = \"Nothing but a disgusting materialistic pageant of glistening abed remote control greed zombies, totally devoid of any heart or heat. A romantic comedy that has zero romantic chemestry and zero laughs!\""
   ]
  },
  {
   "cell_type": "markdown",
   "metadata": {},
   "source": [
    "How do we go from this string to the bag of words feature vector that is expected by our model?\n",
    "\n",
    "If we recall at the beginning of this notebook, the first step is to remove any unnecessary characters using the `review_to_words` method. Remember that we intentionally did this in a very simplistic way. This is because we are going to have to copy this method to our (eventual) Lambda function (we will go into more detail later) and this means it needs to be rather simplistic."
   ]
  },
  {
   "cell_type": "code",
   "execution_count": 38,
   "metadata": {},
   "outputs": [
    {
     "name": "stdout",
     "output_type": "stream",
     "text": [
      "nothing but a disgusting materialistic pageant of glistening abed remote control greed zombies totally devoid of any heart or heat a romantic comedy that has zero romantic chemestry and zero laughs\n"
     ]
    }
   ],
   "source": [
    "test_words = review_to_words(test_review)\n",
    "print(test_words)"
   ]
  },
  {
   "cell_type": "markdown",
   "metadata": {},
   "source": [
    "Next, we need to construct a bag of words embedding of the `test_words` string. To do this, remember that a bag of words embedding uses a `vocabulary` consisting of the most frequently appearing words in a set of documents. Then, for each word in the vocabulary we record the number of times that word appears in `test_words`. We constructed the `vocabulary` earlier using the training set for our problem so encoding `test_words` is relatively straightforward."
   ]
  },
  {
   "cell_type": "code",
   "execution_count": 39,
   "metadata": {},
   "outputs": [],
   "source": [
    "def bow_encoding(words, vocabulary):\n",
    "    bow = [0] * len(vocabulary) # Start by setting the count for each word in the vocabulary to zero.\n",
    "    for word in words.split():  # For each word in the string\n",
    "        if word in vocabulary:  # If the word is one that occurs in the vocabulary, increase its count.\n",
    "            bow[vocabulary[word]] += 1\n",
    "    return bow"
   ]
  },
  {
   "cell_type": "code",
   "execution_count": 40,
   "metadata": {},
   "outputs": [
    {
     "name": "stdout",
     "output_type": "stream",
     "text": [
      "[0, 0, 0, 0, 0, 0, 0, 0, 0, 0, 0, 0, 0, 0, 0, 0, 0, 0, 0, 0, 0, 0, 0, 0, 0, 0, 0, 0, 0, 0, 0, 0, 0, 0, 0, 0, 0, 0, 0, 0, 0, 0, 0, 0, 0, 0, 0, 0, 0, 0, 0, 0, 0, 0, 0, 0, 0, 0, 0, 0, 0, 0, 0, 0, 0, 0, 0, 0, 0, 0, 0, 0, 0, 0, 0, 0, 0, 0, 0, 0, 0, 0, 0, 0, 0, 0, 0, 0, 0, 0, 0, 0, 0, 0, 0, 0, 0, 0, 0, 0, 0, 0, 0, 0, 0, 0, 0, 0, 0, 0, 0, 0, 0, 0, 0, 0, 0, 0, 0, 0, 0, 0, 0, 0, 0, 0, 0, 0, 0, 0, 0, 0, 0, 0, 0, 0, 0, 0, 0, 0, 0, 0, 0, 0, 0, 0, 0, 0, 0, 0, 0, 0, 0, 0, 0, 0, 0, 0, 0, 0, 0, 0, 0, 0, 0, 0, 0, 0, 0, 0, 0, 0, 0, 0, 0, 0, 0, 0, 0, 0, 0, 0, 0, 0, 0, 0, 0, 0, 0, 0, 0, 0, 0, 0, 0, 0, 0, 0, 0, 0, 0, 0, 0, 0, 0, 0, 0, 0, 0, 0, 0, 0, 0, 0, 0, 0, 0, 0, 0, 0, 0, 0, 0, 0, 0, 0, 1, 0, 0, 0, 0, 0, 0, 0, 0, 0, 0, 0, 0, 0, 0, 0, 0, 0, 0, 0, 0, 0, 0, 0, 0, 0, 0, 0, 0, 0, 1, 0, 0, 0, 0, 0, 0, 0, 0, 0, 0, 0, 0, 0, 0, 0, 0, 0, 0, 0, 0, 0, 0, 0, 0, 0, 0, 0, 0, 0, 0, 0, 0, 0, 0, 0, 0, 0, 0, 0, 0, 0, 0, 0, 0, 0, 0, 0, 0, 0, 0, 0, 0, 0, 0, 0, 0, 0, 0, 0, 0, 0, 0, 0, 0, 0, 0, 0, 0, 0, 0, 0, 0, 0, 0, 0, 0, 0, 0, 0, 0, 0, 0, 0, 0, 0, 0, 0, 0, 0, 0, 0, 0, 0, 0, 0, 0, 0, 0, 0, 0, 0, 0, 0, 0, 0, 0, 0, 0, 0, 0, 0, 0, 0, 0, 0, 0, 0, 0, 0, 0, 0, 0, 0, 0, 0, 0, 0, 0, 0, 0, 0, 0, 0, 0, 0, 0, 0, 0, 0, 0, 0, 0, 0, 0, 0, 0, 0, 0, 0, 0, 0, 0, 0, 0, 0, 0, 0, 0, 0, 0, 0, 0, 0, 0, 0, 0, 0, 0, 0, 0, 0, 0, 0, 0, 0, 0, 0, 0, 0, 0, 0, 0, 0, 0, 0, 0, 0, 0, 0, 0, 0, 0, 0, 0, 0, 0, 0, 0, 0, 0, 0, 0, 0, 0, 0, 0, 0, 0, 0, 0, 0, 0, 0, 0, 0, 0, 0, 0, 0, 0, 0, 0, 0, 0, 0, 0, 0, 0, 0, 0, 0, 0, 0, 0, 0, 0, 0, 0, 0, 0, 0, 0, 0, 0, 0, 0, 0, 0, 0, 0, 0, 0, 0, 0, 0, 0, 0, 0, 0, 0, 0, 0, 0, 0, 0, 0, 0, 0, 0, 0, 0, 0, 0, 0, 0, 0, 0, 0, 0, 0, 0, 0, 0, 0, 0, 0, 0, 0, 0, 0, 0, 0, 0, 0, 0, 0, 0, 0, 0, 0, 0, 0, 0, 0, 0, 0, 0, 0, 0, 0, 0, 0, 0, 0, 0, 0, 0, 0, 0, 0, 0, 0, 0, 0, 0, 0, 0, 0, 0, 0, 0, 0, 0, 0, 0, 0, 0, 0, 0, 0, 0, 0, 0, 0, 0, 0, 0, 0, 0, 0, 0, 0, 0, 0, 0, 0, 0, 0, 0, 0, 0, 0, 0, 0, 0, 0, 0, 0, 0, 0, 0, 0, 0, 0, 0, 0, 0, 0, 0, 1, 0, 0, 0, 0, 0, 0, 0, 0, 0, 0, 0, 0, 0, 0, 0, 0, 0, 0, 0, 0, 0, 0, 0, 0, 0, 0, 0, 0, 0, 0, 0, 0, 0, 0, 0, 0, 0, 0, 0, 0, 0, 0, 0, 0, 0, 0, 0, 0, 0, 0, 0, 0, 0, 0, 0, 0, 0, 0, 0, 0, 0, 0, 0, 0, 0, 0, 0, 0, 0, 0, 0, 0, 0, 0, 0, 0, 0, 0, 0, 0, 0, 0, 0, 0, 0, 0, 0, 0, 0, 0, 0, 0, 0, 0, 0, 0, 0, 0, 0, 0, 0, 0, 0, 0, 0, 0, 0, 0, 0, 0, 0, 0, 0, 0, 0, 0, 0, 0, 0, 0, 0, 0, 0, 0, 0, 0, 0, 0, 0, 0, 0, 0, 0, 0, 0, 0, 0, 0, 0, 0, 0, 0, 0, 0, 0, 0, 0, 0, 0, 0, 0, 0, 0, 0, 0, 0, 0, 0, 0, 0, 0, 0, 0, 0, 0, 0, 0, 0, 0, 0, 0, 0, 0, 0, 0, 0, 0, 0, 0, 0, 0, 0, 0, 0, 0, 0, 0, 0, 0, 0, 0, 0, 0, 0, 0, 0, 0, 0, 0, 0, 0, 0, 0, 0, 0, 0, 0, 0, 0, 0, 0, 0, 0, 0, 0, 0, 0, 0, 0, 0, 0, 0, 0, 0, 0, 0, 0, 0, 0, 0, 0, 0, 0, 0, 0, 0, 0, 0, 0, 0, 0, 0, 0, 0, 0, 0, 0, 0, 0, 0, 0, 0, 0, 1, 0, 0, 0, 0, 0, 0, 0, 0, 0, 0, 0, 0, 0, 0, 0, 0, 0, 0, 0, 0, 0, 0, 0, 0, 0, 0, 0, 0, 0, 0, 0, 0, 0, 0, 0, 0, 0, 0, 0, 0, 0, 0, 0, 0, 0, 0, 0, 0, 0, 0, 0, 0, 0, 0, 0, 0, 0, 0, 0, 0, 0, 0, 0, 0, 0, 0, 0, 0, 0, 0, 0, 0, 0, 0, 0, 0, 0, 0, 0, 0, 0, 0, 0, 0, 0, 0, 1, 0, 0, 0, 0, 0, 0, 0, 0, 0, 0, 0, 0, 0, 0, 0, 0, 0, 0, 0, 0, 0, 0, 0, 0, 0, 0, 0, 0, 0, 0, 0, 0, 0, 0, 0, 0, 0, 0, 0, 0, 0, 0, 0, 0, 0, 0, 0, 0, 0, 0, 0, 0, 0, 0, 0, 0, 0, 0, 0, 0, 0, 0, 0, 0, 0, 0, 0, 0, 0, 0, 0, 0, 0, 0, 0, 0, 0, 0, 0, 0, 0, 0, 0, 0, 0, 0, 0, 0, 0, 0, 0, 0, 0, 0, 0, 0, 0, 0, 0, 0, 0, 0, 0, 0, 0, 0, 0, 0, 0, 0, 0, 0, 0, 0, 0, 0, 0, 0, 0, 0, 0, 0, 0, 0, 0, 0, 0, 0, 0, 0, 0, 0, 0, 0, 0, 0, 0, 0, 0, 0, 0, 0, 0, 0, 0, 0, 0, 0, 0, 0, 0, 0, 0, 0, 0, 0, 0, 0, 0, 0, 0, 0, 0, 0, 0, 0, 0, 0, 0, 0, 0, 0, 0, 0, 0, 0, 0, 0, 0, 0, 0, 0, 0, 0, 0, 0, 0, 0, 0, 0, 0, 0, 0, 0, 0, 0, 0, 0, 0, 0, 0, 0, 0, 0, 0, 0, 0, 0, 0, 0, 0, 0, 0, 0, 0, 0, 0, 0, 0, 0, 0, 0, 0, 0, 0, 0, 0, 0, 0, 0, 0, 0, 0, 0, 0, 0, 0, 0, 0, 0, 0, 0, 0, 0, 0, 0, 0, 0, 0, 0, 0, 0, 1, 0, 0, 0, 0, 0, 0, 0, 0, 0, 0, 0, 0, 0, 0, 0, 0, 0, 0, 0, 0, 0, 0, 0, 0, 0, 0, 0, 0, 0, 0, 0, 0, 0, 0, 0, 0, 0, 0, 0, 0, 0, 0, 0, 0, 0, 0, 0, 0, 0, 0, 0, 0, 0, 0, 0, 1, 0, 0, 0, 0, 0, 0, 0, 0, 0, 0, 0, 0, 0, 0, 0, 0, 0, 0, 0, 0, 0, 0, 0, 0, 0, 0, 0, 0, 0, 0, 0, 0, 0, 0, 0, 0, 0, 0, 0, 0, 0, 0, 0, 0, 0, 0, 0, 0, 0, 0, 0, 0, 0, 0, 0, 0, 0, 0, 0, 0, 0, 0, 0, 0, 0, 0, 0, 0, 0, 0, 0, 0, 0, 0, 0, 0, 0, 0, 0, 0, 0, 0, 0, 0, 0, 0, 0, 0, 0, 0, 0, 0, 0, 0, 0, 0, 0, 0, 0, 0, 0, 0, 0, 0, 0, 0, 0, 0, 0, 0, 0, 0, 0, 0, 0, 0, 0, 0, 0, 0, 0, 0, 0, 0, 0, 0, 0, 0, 0, 0, 0, 0, 0, 0, 0, 0, 0, 0, 0, 0, 0, 0, 0, 0, 0, 0, 0, 0, 0, 0, 0, 0, 0, 0, 0, 0, 0, 0, 0, 0, 0, 0, 0, 0, 0, 0, 0, 0, 0, 0, 0, 0, 0, 0, 0, 0, 0, 0, 0, 0, 0, 0, 0, 0, 0, 0, 0, 0, 0, 0, 0, 0, 0, 0, 0, 0, 0, 0, 0, 0, 0, 0, 0, 0, 0, 0, 0, 0, 0, 0, 0, 0, 0, 0, 0, 0, 0, 0, 0, 0, 0, 0, 0, 0, 0, 0, 0, 0, 0, 0, 0, 0, 0, 0, 0, 0, 0, 0, 0, 0, 0, 0, 0, 0, 0, 0, 0, 0, 0, 0, 0, 0, 0, 0, 0, 0, 0, 0, 0, 0, 0, 0, 0, 0, 0, 0, 0, 0, 0, 0, 0, 0, 0, 0, 0, 0, 0, 0, 0, 0, 0, 0, 0, 0, 0, 0, 0, 0, 0, 0, 0, 0, 0, 0, 0, 0, 0, 0, 0, 0, 0, 0, 0, 0, 0, 0, 0, 0, 0, 0, 0, 0, 0, 0, 0, 0, 0, 0, 0, 0, 0, 0, 0, 0, 0, 0, 0, 0, 0, 0, 0, 0, 0, 0, 0, 0, 0, 0, 0, 0, 0, 0, 0, 0, 0, 0, 0, 0, 0, 0, 0, 0, 0, 0, 0, 0, 0, 0, 0, 0, 0, 0, 0, 0, 0, 0, 0, 0, 0, 0, 0, 0, 0, 0, 0, 0, 0, 0, 0, 0, 0, 0, 0, 0, 0, 0, 0, 0, 0, 0, 0, 0, 0, 0, 0, 0, 0, 0, 0, 0, 0, 0, 0, 0, 0, 0, 0, 0, 0, 0, 0, 0, 0, 0, 0, 0, 0, 0, 0, 0, 0, 0, 0, 0, 0, 0, 0, 0, 0, 0, 0, 0, 0, 0, 0, 0, 0, 0, 0, 0, 0, 0, 0, 0, 0, 0, 0, 0, 0, 0, 0, 0, 0, 0, 0, 0, 0, 0, 0, 0, 0, 0, 0, 0, 0, 0, 0, 0, 0, 0, 0, 0, 0, 0, 0, 0, 0, 0, 0, 0, 0, 0, 0, 0, 0, 0, 0, 0, 0, 0, 0, 0, 0, 0, 0, 0, 0, 0, 0, 0, 0, 0, 0, 0, 0, 0, 0, 0, 0, 0, 0, 0, 0, 0, 0, 0, 0, 0, 0, 0, 0, 0, 0, 0, 0, 0, 0, 0, 0, 0, 0, 0, 0, 0, 0, 0, 0, 0, 0, 0, 0, 0, 0, 0, 0, 0, 0, 0, 0, 0, 0, 0, 0, 0, 0, 0, 0, 0, 0, 0, 0, 0, 0, 0, 0, 0, 0, 0, 0, 0, 0, 0, 0, 0, 0, 0, 0, 0, 0, 0, 0, 0, 0, 0, 0, 0, 0, 0, 0, 0, 0, 0, 0, 0, 0, 0, 0, 0, 0, 0, 0, 0, 0, 0, 0, 0, 0, 0, 0, 0, 0, 0, 0, 0, 0, 0, 0, 0, 0, 0, 0, 0, 0, 0, 0, 0, 0, 0, 0, 0, 0, 0, 0, 0, 0, 0, 0, 0, 0, 0, 0, 0, 0, 0, 0, 0, 0, 0, 0, 0, 0, 0, 0, 0, 0, 0, 0, 0, 0, 0, 0, 0, 0, 0, 0, 0, 0, 0, 0, 0, 0, 0, 0, 0, 0, 0, 0, 0, 0, 0, 0, 1, 0, 0, 0, 0, 0, 0, 0, 0, 0, 0, 0, 0, 0, 0, 0, 0, 0, 0, 0, 0, 0, 0, 0, 0, 0, 0, 0, 0, 0, 0, 0, 0, 0, 0, 0, 0, 0, 0, 0, 0, 0, 0, 0, 0, 0, 0, 0, 0, 0, 0, 0, 0, 0, 0, 0, 0, 0, 0, 0, 0, 0, 0, 0, 0, 0, 0, 0, 0, 0, 0, 0, 0, 0, 0, 1, 0, 0, 0, 0, 0, 0, 0, 0, 0, 0, 0, 0, 0, 0, 0, 0, 0, 0, 0, 0, 1, 0, 0, 1, 0, 0, 0, 0, 0, 0, 0, 0, 0, 0, 0, 0, 0, 0, 0, 0, 0, 0, 0, 0, 0, 0, 0, 0, 0, 0, 0, 0, 0, 0, 0, 0, 0, 0, 0, 0, 0, 0, 0, 0, 0, 0, 0, 0, 0, 0, 0, 0, 0, 0, 0, 0, 0, 0, 0, 0, 0, 0, 0, 0, 0, 0, 0, 0, 0, 0, 0, 0, 0, 0, 0, 0, 0, 0, 0, 0, 0, 0, 0, 0, 0, 0, 0, 0, 0, 0, 0, 0, 0, 0, 0, 0, 0, 0, 0, 0, 0, 0, 0, 0, 0, 0, 0, 0, 0, 0, 0, 0, 0, 0, 0, 0, 0, 0, 0, 0, 0, 0, 0, 0, 0, 0, 0, 0, 0, 0, 0, 0, 0, 0, 0, 0, 0, 0, 0, 0, 0, 0, 0, 0, 0, 0, 0, 0, 0, 0, 0, 0, 0, 0, 0, 0, 0, 0, 0, 0, 0, 0, 0, 0, 0, 0, 0, 0, 0, 0, 0, 0, 0, 0, 0, 0, 0, 0, 0, 0, 0, 0, 0, 0, 0, 0, 0, 0, 0, 0, 0, 0, 0, 0, 0, 0, 0, 0, 0, 0, 0, 0, 0, 0, 0, 0, 0, 0, 0, 0, 0, 0, 0, 0, 0, 0, 0, 0, 0, 0, 0, 0, 0, 0, 0, 0, 0, 0, 0, 0, 0, 0, 0, 0, 0, 0, 0, 0, 0, 0, 0, 0, 0, 0, 0, 0, 0, 0, 0, 0, 0, 0, 0, 0, 0, 0, 0, 0, 0, 0, 0, 0, 0, 0, 0, 0, 0, 0, 0, 0, 0, 0, 0, 0, 0, 0, 0, 0, 0, 0, 0, 0, 0, 0, 0, 0, 0, 0, 0, 0, 0, 0, 0, 0, 0, 0, 0, 0, 0, 0, 0, 0, 0, 0, 0, 0, 0, 0, 0, 0, 0, 0, 0, 0, 0, 0, 0, 0, 0, 0, 0, 0, 0, 0, 0, 0, 0, 0, 0, 0, 0, 0, 0, 0, 0, 0, 0, 0, 0, 0, 0, 0, 0, 0, 0, 0, 0, 0, 0, 0, 0, 0, 0, 0, 0, 0, 0, 0, 0, 0, 0, 0, 0, 0, 0, 0, 0, 0, 0, 0, 0, 0, 0, 0, 0, 0, 0, 0, 0, 0, 0, 0, 0, 0, 0, 0, 0, 0, 0, 0, 0, 0, 0, 0, 0, 0, 0, 0, 0, 0, 0, 0, 0, 0, 0, 0, 0, 0, 0, 0, 0, 0, 0, 0, 0, 0, 0, 0, 0, 0, 0, 0, 0, 0, 0, 0, 0, 0, 0, 0, 0, 0, 0, 0, 0, 0, 0, 0, 0, 0, 0, 0, 0, 0, 0, 0, 0, 0, 0, 0, 0, 0, 0, 0, 0, 0, 0, 0, 0, 0, 0, 0, 0, 0, 0, 0, 0, 0, 0, 0, 1, 0, 0, 0, 0, 0, 0, 0, 0, 0, 0, 0, 0, 0, 0, 0, 0, 0, 0, 0, 0, 0, 0, 0, 0, 0, 0, 0, 0, 0, 0, 0, 0, 0, 0, 0, 0, 0, 0, 0, 0, 0, 0, 0, 0, 0, 0, 0, 0, 0, 0, 0, 0, 0, 0, 0, 0, 0, 0, 0, 0, 0, 0, 0, 0, 0, 0, 0, 0, 0, 0, 0, 0, 0, 0, 0, 0, 0, 0, 0, 0, 0, 0, 0, 0, 0, 0, 0, 0, 0, 0, 0, 0, 0, 0, 0, 0, 0, 0, 0, 0, 0, 0, 0, 0, 0, 0, 0, 0, 0, 0, 0, 0, 0, 0, 0, 0, 0, 0, 0, 0, 0, 0, 0, 0, 0, 0, 0, 0, 0, 0, 0, 0, 0, 0, 0, 0, 0, 0, 0, 0, 0, 0, 0, 0, 0, 0, 0, 0, 0, 0, 0, 0, 0, 0, 0, 0, 0, 0, 0, 0, 0, 0, 0, 0, 0, 0, 0, 0, 0, 0, 0, 0, 0, 0, 0, 0, 0, 0, 0, 0, 0, 0, 0, 0, 0, 0, 0, 0, 0, 0, 0, 0, 0, 0, 0, 0, 0, 0, 0, 0, 0, 0, 0, 0, 0, 0, 0, 0, 0, 0, 0, 0, 0, 0, 0, 0, 0, 0, 0, 0, 0, 0, 0, 0, 0, 0, 0, 0, 0, 0, 0, 0, 0, 0, 0, 0, 0, 0, 0, 0, 0, 0, 0, 0, 0, 0, 0, 0, 0, 0, 0, 0, 0, 0, 0, 0, 0, 0, 0, 0, 0, 0, 0, 0, 0, 0, 0, 0, 0, 0, 0, 0, 0, 0, 0, 0, 0, 0, 0, 0, 0, 0, 0, 0, 0, 0, 0, 0, 0, 0, 0, 0, 0, 0, 0, 0, 0, 0, 0, 0, 0, 0, 0, 0, 0, 0, 0, 0, 0, 0, 0, 0, 0, 0, 0, 0, 0, 0, 0, 0, 0, 0, 0, 0, 0, 0, 0, 0, 0, 0, 0, 0, 0, 0, 0, 0, 0, 0, 0, 0, 0, 0, 0, 0, 0, 0, 0, 0, 0, 0, 0, 0, 0, 0, 0, 0, 0, 0, 0, 0, 0, 0, 0, 0, 0, 0, 0, 0, 0, 0, 0, 0, 0, 0, 0, 0, 0, 0, 0, 0, 0, 0, 0, 0, 0, 0, 0, 0, 0, 0, 0, 0, 0, 0, 0, 0, 0, 0, 0, 0, 0, 0, 0, 0, 0, 0, 0, 0, 0, 0, 0, 0, 0, 0, 0, 0, 0, 0, 0, 0, 0, 0, 0, 0, 0, 0, 0, 0, 0, 0, 0, 0, 0, 0, 0, 0, 0, 0, 0, 0, 0, 0, 0, 0, 0, 0, 0, 0, 0, 0, 0, 0, 0, 0, 0, 0, 0, 0, 0, 0, 0, 0, 0, 0, 0, 0, 0, 0, 0, 0, 0, 0, 0, 0, 0, 0, 0, 0, 0, 0, 0, 0, 0, 0, 0, 0, 0, 0, 0, 0, 0, 0, 0, 0, 0, 0, 0, 0, 0, 0, 0, 0, 0, 0, 0, 0, 0, 0, 0, 0, 0, 0, 1, 0, 0, 0, 0, 0, 0, 0, 0, 0, 0, 0, 0, 0, 0, 0, 0, 0, 0, 0, 0, 0, 0, 0, 0, 0, 0, 0, 0, 0, 0, 0, 0, 0, 0, 0, 2, 0, 0, 0, 0, 0, 0, 0, 0, 0, 0, 0, 0, 0, 0, 0, 0, 0, 0, 0, 0, 0, 0, 0, 0, 0, 0, 0, 0, 0, 0, 0, 0, 0, 0, 0, 0, 0, 0, 0, 0, 1, 0, 0, 0, 0, 0, 0, 0, 0, 0, 0, 0, 0, 0, 0, 0, 0, 0, 0, 0, 0, 0, 0, 0, 0, 0, 0, 0, 0, 0, 0, 0, 0, 0, 0, 0, 0, 0, 0, 0, 0, 0, 0, 0, 0, 0, 0, 0, 0, 0, 0, 0, 0, 0, 0, 0, 0, 0, 0, 0, 0, 0, 0, 0, 0, 0, 0, 0, 0, 0, 0, 0, 0, 0, 0, 0, 0, 0, 0, 0, 0, 0, 0, 0, 0, 0, 0, 0, 0, 0, 0, 0, 0, 0, 0, 0, 0, 0, 0, 0, 0, 0, 0, 0, 0, 0, 0, 0, 0, 0, 0, 0, 0, 0, 0, 0, 0, 0, 0, 0, 0, 0, 0, 0, 0, 0, 0, 0, 0, 0, 0, 0, 0, 0, 0, 0, 0, 0, 0, 0, 0, 0, 0, 0, 0, 0, 0, 0, 0, 0, 0, 0, 0, 0, 0, 0, 0, 0, 0, 0, 0, 0, 0, 0, 0, 0, 0, 0, 0, 0, 0, 0, 0, 0, 0, 0, 0, 0, 0, 0, 0, 0, 0, 0, 0, 0, 0, 0, 0, 0, 0, 0, 0, 0, 0, 0, 0, 0, 0, 0, 0, 0, 0, 0, 0, 0, 0, 0, 0, 0, 0, 0, 0, 0, 0, 0, 0, 0, 0, 0, 0, 0, 0, 0, 0, 0, 0, 0, 0, 0, 0, 0, 0, 0, 0, 0, 0, 0, 0, 0, 0, 0, 0, 0, 0, 0, 0, 0, 0, 0, 0, 0, 0, 0, 0, 0, 0, 0, 0, 0, 0, 0, 0, 0, 0, 0, 0, 0, 0, 0, 0, 0, 0, 0, 0, 0, 0, 0, 0, 0, 0, 0, 0, 0, 0, 0, 0, 0, 0, 0, 0, 0, 0, 0, 0, 0, 0, 0, 0, 0, 0, 0, 0, 0, 0, 0, 0, 0, 0, 0, 0, 0, 0, 0, 0, 0, 0, 0, 0, 0, 0, 0, 0, 0, 0, 0, 0, 0, 0, 0, 0, 0, 0, 0, 0, 0, 0, 0, 0, 0, 0, 0, 0, 0, 0, 0, 0, 0, 0, 0, 0, 0, 0, 0, 0, 0, 0, 0, 0, 0, 0, 0, 0, 0, 0, 0, 0, 0, 0, 0, 0, 0, 0, 0, 0, 0, 0, 0, 0, 0, 0, 0, 0, 0, 0, 0, 0, 0, 0, 0, 0, 0, 0, 0, 0, 0, 0, 0, 0, 0, 0, 0, 0, 0, 0, 0, 0, 0, 0, 0, 0, 0, 0, 0, 0, 0, 0, 0, 0, 0, 0, 0, 0, 0, 0, 0, 0, 0, 0, 0, 0, 0, 0, 0, 0, 0, 0, 0, 0, 0, 0, 0, 0, 0, 0, 0, 0, 0, 0, 0, 0, 0, 0, 0, 0, 0, 0, 0, 0, 0, 0, 0, 0, 0, 0, 0, 0, 0, 0, 0, 0, 0, 0, 0, 0, 0, 0, 0, 0, 0, 0, 0, 0, 0, 0, 0, 0, 0, 0, 0, 0, 0, 0, 0, 0, 0, 0, 0, 1, 0, 0, 0, 0, 0, 0, 0, 0, 0, 0, 0, 0, 0, 0, 0, 0, 0, 0, 0, 0, 0, 0, 0, 0, 0, 0, 0, 0, 0, 0, 0, 0, 0, 0, 0, 0, 0, 0, 0, 0, 0, 0, 0, 0, 0, 0, 0, 0, 0, 0, 0, 0, 0, 0, 0, 0, 0, 0, 0, 0, 0, 0, 0, 0, 0, 0, 0, 0, 0, 0, 0, 0, 0, 0, 0, 0, 0, 0, 0, 0, 0, 0, 0, 0, 0, 0, 0, 0, 0, 0, 0, 0, 0, 0, 0, 0, 0, 0, 0, 0, 0, 0, 0, 0, 0, 0, 0, 0, 0, 0, 2, 0, 0, 0, 0, 0, 0, 0, 0, 0, 0, 0, 0, 0, 0, 0, 0, 0, 0, 0, 0, 0, 0, 0, 0, 0, 0, 0, 0, 0, 0, 0, 0, 0, 0, 0, 0, 0, 0, 0, 0, 0, 0, 0, 0, 0, 0, 0, 0, 0, 0, 0, 0, 0, 0, 0, 0, 0, 0, 0, 0, 0, 0, 0, 0, 0, 0, 0, 0, 0, 0, 0, 0, 0, 0, 0, 0, 0, 0, 0, 0, 0, 0, 0, 0, 0, 0, 0, 0, 0, 0, 0, 0, 0, 0, 0, 0, 0, 0, 0, 0, 0, 0, 0, 0, 0, 0, 0, 0, 0, 0, 0, 0, 0, 0, 0, 0, 0, 0, 0, 0, 0, 0, 0, 0, 0, 0, 0, 0, 0, 0, 0, 0, 0, 0, 0, 0, 0, 0, 0, 0, 0, 0, 0, 0, 0, 0, 0, 0, 0, 0, 0, 0, 0, 0, 0, 0, 0, 0, 0, 0, 0, 0, 0, 0, 0, 0, 0, 0, 0, 0, 0, 0, 0, 0, 0, 0, 0, 0, 0, 0, 0, 0, 0, 0, 0, 0, 0, 0, 0, 0, 0, 0, 0, 0, 0, 0, 0, 0, 0, 0, 0, 0, 0, 0, 0, 0, 0, 0, 0, 0, 0, 0, 0, 0, 0, 0, 0, 0, 0, 0, 0, 0, 0, 0, 0, 0, 0, 0, 0, 0, 0, 0, 0, 0, 0, 0, 0, 0, 0, 0, 0, 0, 0, 0, 0, 0, 0, 0, 0, 0, 0, 0, 0, 0, 0, 0, 0, 0, 0, 0, 0, 0, 0, 0, 0, 0, 0, 0, 0, 0, 0, 0, 0, 0, 0, 0, 0, 0, 0, 0, 0, 0, 0, 0, 0, 0, 0, 0, 0, 0, 0, 0, 0, 0, 0, 0, 0, 0, 0, 0, 0, 0, 0, 0, 0, 0, 0, 0, 0, 0, 0, 0, 0, 0, 0, 0, 0, 0, 0, 0, 0, 0, 0, 0, 0, 0, 0, 0, 0, 0, 0, 0, 0, 0, 0, 0, 0, 0, 0, 0, 0, 0, 0, 0, 0, 0, 0, 0, 0, 0, 0, 0, 0, 0, 0, 0, 0, 0, 0, 0, 0, 0, 0, 0, 0, 0, 0, 0, 0, 0, 0, 0, 0, 0, 0, 0, 0, 0, 0, 0, 0, 0, 0, 0, 0, 0, 0, 0, 0, 0, 0, 0, 0, 0, 0, 0, 0, 0, 0, 0, 0, 0, 0, 0, 0, 0, 0, 0, 0, 0, 0, 0, 0, 0, 0, 0, 0, 0, 0, 0, 0, 0, 0, 0, 0, 0, 0, 0, 0, 0, 0, 0, 0, 0, 0, 0, 0, 0, 0, 0, 0, 0, 0, 0, 0, 0, 0, 0, 0, 0, 0, 0, 0, 0, 0, 0, 0, 0, 0, 0, 0, 0, 0, 0, 0, 0, 0, 0, 0, 0, 0, 0, 0, 0, 0, 0, 0, 0, 0, 0, 0, 0, 0, 0, 0, 0, 0, 0, 0, 0, 0, 0, 0, 0, 0, 0, 0, 0, 0, 0, 0, 0, 0, 0, 0, 0, 0, 0, 0, 0, 0, 0, 0, 0, 0, 0, 0, 0, 0, 0, 0, 0, 0, 0, 0, 0, 0, 0, 0, 0, 0, 0, 0, 0, 0, 0, 0, 0, 0, 0, 0, 0, 0, 0, 0, 0, 0, 0, 0, 0, 0, 0, 0, 0, 0, 0, 0, 0, 0, 0, 0, 0, 0, 0, 0, 0, 0, 0, 0, 0, 0, 0, 0, 0, 0, 0, 0, 0, 0, 0, 0, 0, 0, 0, 0, 0, 0, 0, 0, 0, 0, 0, 0, 0, 0, 0, 0, 0, 0, 0, 0, 0, 0, 0, 0, 0, 0, 0, 0, 0, 0, 0, 0, 0, 0, 0, 0, 0, 0, 0, 0, 0, 0, 0, 0, 0, 0, 0, 0, 0, 0, 0, 0, 0, 0, 0, 0, 0, 0, 0, 0, 0, 0, 0, 0, 0, 0, 0, 0, 0, 0, 0, 0, 0, 0, 0, 0, 0, 0, 0, 0, 0, 0, 0, 0, 0, 0, 0, 0, 0, 0, 0, 0, 0, 0, 0, 0, 0, 0, 0, 0, 0, 0, 0, 0, 0, 0, 0, 0, 0, 1, 0, 0, 0, 0, 0, 0, 0, 0, 0, 0, 0, 0, 0, 0, 0, 0, 0, 0, 0, 0, 0, 0, 0, 0, 0, 0, 0, 0, 0, 0, 0, 0, 0, 0, 0, 0, 0, 0, 0, 0, 0, 0, 0, 0, 0, 0, 0, 0, 0, 0, 0, 0, 0, 0, 0, 0, 0, 0, 0, 0, 0, 0, 0, 0, 0, 0, 0, 0, 0, 0, 0, 0, 0, 0, 0, 0, 0, 0, 0, 0, 0, 0, 0, 0, 0, 0, 0, 0, 0, 0, 0, 0, 0, 0, 0, 0, 0, 0, 0, 0, 0, 0, 0, 0, 0, 0, 0, 1, 0, 0, 0, 0, 0, 0, 0, 0, 0, 0, 0, 0, 0, 0, 0, 0, 0, 0, 0, 0, 0, 0, 0, 0, 0, 0, 0, 0, 0, 0, 0, 0, 0, 0, 0, 0, 0, 0, 0, 0, 0, 0, 0, 0, 0, 0, 0, 0, 0, 0, 0, 0, 0, 0, 0, 0, 0, 0, 0, 0, 0, 0, 0, 0, 0, 0, 0, 0, 0, 0, 0, 0, 0, 0, 0, 0, 0, 0, 0, 0, 0, 0, 0, 0, 0, 0, 0, 0, 0, 0, 0, 0, 0, 0, 0, 0, 0, 0, 0, 0, 0, 0, 0, 0, 0, 0, 0, 0, 0, 0, 0, 0, 0, 0, 0, 0, 0, 0, 0, 0, 0, 0, 0, 0, 0, 0, 0, 0, 0, 0, 0, 0, 0, 0, 0, 0, 0, 0, 0, 0, 0, 0, 0, 0, 0, 0, 0, 0, 0, 0, 0, 0, 0, 0, 0, 0, 0, 0, 0, 0, 0, 0, 0, 0, 0, 0, 0, 0, 0, 0, 0, 0, 0, 0, 0, 0, 0, 0, 0, 0, 0, 0, 0, 0, 0, 0, 0, 0, 0, 0, 0, 0, 0, 0, 0, 0, 0, 0, 0, 0, 0, 0, 0, 0, 0, 0, 0, 0, 0, 0, 0, 0, 0, 0, 0, 0, 0, 0, 0, 0, 0, 0, 0, 0, 0, 0, 0, 0, 0, 0, 0, 0, 0, 0, 0, 0, 0, 0, 0, 0, 0, 0, 0, 0, 0, 0, 0, 0, 0, 0, 0, 0, 0, 0, 0, 0, 0, 0, 0, 0, 0, 0, 0, 0, 0, 0, 0, 0, 0, 0, 0, 0, 0, 0, 0, 0, 0, 0, 0, 0, 0, 0, 0, 0, 0, 0, 0, 0, 0, 0, 0, 0, 0, 0, 0, 0, 0, 0, 0, 0, 0, 0, 0, 0, 0, 0, 0, 0, 0, 0, 0, 0, 0, 0, 0, 0, 0, 0, 0, 0, 0, 0, 0, 0, 0, 0, 0, 0, 0, 0, 0, 0, 0, 0, 0, 0, 0, 0, 0, 0, 0, 0, 0, 0, 0, 0, 0, 0, 0, 0, 0, 0, 0, 0, 0, 0, 0, 0, 0, 0, 0, 0, 0, 0, 0, 0, 0, 0, 0, 0, 0, 0, 0, 0, 0, 0, 0, 0, 0, 0, 0, 0, 0, 0, 0, 0, 0, 0, 0, 0, 0, 0, 0, 0, 0, 0, 0, 0, 0, 0, 0, 0, 0, 0, 0, 0, 0, 0, 0, 0, 0, 0, 0, 0, 0, 0, 0, 0, 0, 0, 0, 0, 0, 0, 0, 0, 0, 0, 0, 0, 0, 0, 0, 0, 0, 0, 0, 0, 0, 0, 0, 0, 0, 0, 0, 0, 0, 0, 0, 0, 0, 0, 0, 0, 0, 0, 0, 0, 0, 0, 0, 0, 0, 2, 0, 1, 0]\n"
     ]
    }
   ],
   "source": [
    "test_bow = bow_encoding(test_words, vocabulary)\n",
    "print(test_bow)"
   ]
  },
  {
   "cell_type": "code",
   "execution_count": 41,
   "metadata": {},
   "outputs": [
    {
     "data": {
      "text/plain": [
       "5000"
      ]
     },
     "execution_count": 41,
     "metadata": {},
     "output_type": "execute_result"
    }
   ],
   "source": [
    "len(test_bow)"
   ]
  },
  {
   "cell_type": "markdown",
   "metadata": {},
   "source": [
    "So now we know how to construct a bag of words encoding of a user provided review, how to we send it to our endpoint? First, we need to start the endpoint back up."
   ]
  },
  {
   "cell_type": "code",
   "execution_count": 42,
   "metadata": {},
   "outputs": [
    {
     "name": "stderr",
     "output_type": "stream",
     "text": [
      "Parameter image will be renamed to image_uri in SageMaker Python SDK v2.\n",
      "Using already existing model: xgboost-2021-07-23-01-26-20-869\n"
     ]
    },
    {
     "name": "stdout",
     "output_type": "stream",
     "text": [
      "---------------!"
     ]
    }
   ],
   "source": [
    "xgb_predictor = xgb.deploy(initial_instance_count = 1, instance_type = 'ml.m4.xlarge')"
   ]
  },
  {
   "cell_type": "markdown",
   "metadata": {},
   "source": [
    "At this point we could just do the same thing that we did earlier when we tested our deployed model and send `test_bow` to our endpoint using the `xgb_predictor` object. However, when we eventually construct our Lambda function we won't have access to this object, so how do we call a SageMaker endpoint?\n",
    "\n",
    "It turns out that Python functions that are used in Lambda have access to another Amazon library called `boto3`. This library provides an API for working with Amazon services, including SageMaker. To start with, we need to get a handle to the SageMaker runtime."
   ]
  },
  {
   "cell_type": "code",
   "execution_count": 43,
   "metadata": {},
   "outputs": [],
   "source": [
    "import boto3\n",
    "\n",
    "runtime = boto3.Session().client('sagemaker-runtime')"
   ]
  },
  {
   "cell_type": "markdown",
   "metadata": {},
   "source": [
    "And now that we have access to the SageMaker runtime, we can ask it to make use of (invoke) an endpoint that has already been created. However, we need to provide SageMaker with the name of the deployed endpoint. To find this out we can print it out using the `xgb_predictor` object."
   ]
  },
  {
   "cell_type": "code",
   "execution_count": 44,
   "metadata": {},
   "outputs": [
    {
     "data": {
      "text/plain": [
       "'xgboost-2021-07-23-01-26-20-869'"
      ]
     },
     "execution_count": 44,
     "metadata": {},
     "output_type": "execute_result"
    }
   ],
   "source": [
    "xgb_predictor.endpoint"
   ]
  },
  {
   "cell_type": "markdown",
   "metadata": {},
   "source": [
    "Using the SageMaker runtime and the name of our endpoint, we can invoke the endpoint and send it the `test_bow` data."
   ]
  },
  {
   "cell_type": "code",
   "execution_count": 45,
   "metadata": {},
   "outputs": [
    {
     "ename": "ParamValidationError",
     "evalue": "Parameter validation failed:\nInvalid type for parameter Body, value: [0, 0, 0, 0, 0, 0, 0, 0, 0, 0, 0, 0, 0, 0, 0, 0, 0, 0, 0, 0, 0, 0, 0, 0, 0, 0, 0, 0, 0, 0, 0, 0, 0, 0, 0, 0, 0, 0, 0, 0, 0, 0, 0, 0, 0, 0, 0, 0, 0, 0, 0, 0, 0, 0, 0, 0, 0, 0, 0, 0, 0, 0, 0, 0, 0, 0, 0, 0, 0, 0, 0, 0, 0, 0, 0, 0, 0, 0, 0, 0, 0, 0, 0, 0, 0, 0, 0, 0, 0, 0, 0, 0, 0, 0, 0, 0, 0, 0, 0, 0, 0, 0, 0, 0, 0, 0, 0, 0, 0, 0, 0, 0, 0, 0, 0, 0, 0, 0, 0, 0, 0, 0, 0, 0, 0, 0, 0, 0, 0, 0, 0, 0, 0, 0, 0, 0, 0, 0, 0, 0, 0, 0, 0, 0, 0, 0, 0, 0, 0, 0, 0, 0, 0, 0, 0, 0, 0, 0, 0, 0, 0, 0, 0, 0, 0, 0, 0, 0, 0, 0, 0, 0, 0, 0, 0, 0, 0, 0, 0, 0, 0, 0, 0, 0, 0, 0, 0, 0, 0, 0, 0, 0, 0, 0, 0, 0, 0, 0, 0, 0, 0, 0, 0, 0, 0, 0, 0, 0, 0, 0, 0, 0, 0, 0, 0, 0, 0, 0, 0, 0, 0, 0, 0, 0, 0, 0, 1, 0, 0, 0, 0, 0, 0, 0, 0, 0, 0, 0, 0, 0, 0, 0, 0, 0, 0, 0, 0, 0, 0, 0, 0, 0, 0, 0, 0, 0, 1, 0, 0, 0, 0, 0, 0, 0, 0, 0, 0, 0, 0, 0, 0, 0, 0, 0, 0, 0, 0, 0, 0, 0, 0, 0, 0, 0, 0, 0, 0, 0, 0, 0, 0, 0, 0, 0, 0, 0, 0, 0, 0, 0, 0, 0, 0, 0, 0, 0, 0, 0, 0, 0, 0, 0, 0, 0, 0, 0, 0, 0, 0, 0, 0, 0, 0, 0, 0, 0, 0, 0, 0, 0, 0, 0, 0, 0, 0, 0, 0, 0, 0, 0, 0, 0, 0, 0, 0, 0, 0, 0, 0, 0, 0, 0, 0, 0, 0, 0, 0, 0, 0, 0, 0, 0, 0, 0, 0, 0, 0, 0, 0, 0, 0, 0, 0, 0, 0, 0, 0, 0, 0, 0, 0, 0, 0, 0, 0, 0, 0, 0, 0, 0, 0, 0, 0, 0, 0, 0, 0, 0, 0, 0, 0, 0, 0, 0, 0, 0, 0, 0, 0, 0, 0, 0, 0, 0, 0, 0, 0, 0, 0, 0, 0, 0, 0, 0, 0, 0, 0, 0, 0, 0, 0, 0, 0, 0, 0, 0, 0, 0, 0, 0, 0, 0, 0, 0, 0, 0, 0, 0, 0, 0, 0, 0, 0, 0, 0, 0, 0, 0, 0, 0, 0, 0, 0, 0, 0, 0, 0, 0, 0, 0, 0, 0, 0, 0, 0, 0, 0, 0, 0, 0, 0, 0, 0, 0, 0, 0, 0, 0, 0, 0, 0, 0, 0, 0, 0, 0, 0, 0, 0, 0, 0, 0, 0, 0, 0, 0, 0, 0, 0, 0, 0, 0, 0, 0, 0, 0, 0, 0, 0, 0, 0, 0, 0, 0, 0, 0, 0, 0, 0, 0, 0, 0, 0, 0, 0, 0, 0, 0, 0, 0, 0, 0, 0, 0, 0, 0, 0, 0, 0, 0, 0, 0, 0, 0, 0, 0, 0, 0, 0, 0, 0, 0, 0, 0, 0, 0, 0, 0, 0, 0, 0, 0, 0, 0, 0, 0, 0, 0, 0, 0, 0, 0, 0, 0, 0, 0, 0, 0, 0, 0, 0, 0, 0, 0, 0, 0, 0, 0, 0, 0, 0, 0, 0, 0, 0, 0, 0, 0, 0, 0, 0, 0, 0, 0, 0, 0, 0, 0, 0, 0, 0, 0, 0, 0, 0, 0, 0, 0, 0, 0, 0, 0, 0, 0, 0, 0, 1, 0, 0, 0, 0, 0, 0, 0, 0, 0, 0, 0, 0, 0, 0, 0, 0, 0, 0, 0, 0, 0, 0, 0, 0, 0, 0, 0, 0, 0, 0, 0, 0, 0, 0, 0, 0, 0, 0, 0, 0, 0, 0, 0, 0, 0, 0, 0, 0, 0, 0, 0, 0, 0, 0, 0, 0, 0, 0, 0, 0, 0, 0, 0, 0, 0, 0, 0, 0, 0, 0, 0, 0, 0, 0, 0, 0, 0, 0, 0, 0, 0, 0, 0, 0, 0, 0, 0, 0, 0, 0, 0, 0, 0, 0, 0, 0, 0, 0, 0, 0, 0, 0, 0, 0, 0, 0, 0, 0, 0, 0, 0, 0, 0, 0, 0, 0, 0, 0, 0, 0, 0, 0, 0, 0, 0, 0, 0, 0, 0, 0, 0, 0, 0, 0, 0, 0, 0, 0, 0, 0, 0, 0, 0, 0, 0, 0, 0, 0, 0, 0, 0, 0, 0, 0, 0, 0, 0, 0, 0, 0, 0, 0, 0, 0, 0, 0, 0, 0, 0, 0, 0, 0, 0, 0, 0, 0, 0, 0, 0, 0, 0, 0, 0, 0, 0, 0, 0, 0, 0, 0, 0, 0, 0, 0, 0, 0, 0, 0, 0, 0, 0, 0, 0, 0, 0, 0, 0, 0, 0, 0, 0, 0, 0, 0, 0, 0, 0, 0, 0, 0, 0, 0, 0, 0, 0, 0, 0, 0, 0, 0, 0, 0, 0, 0, 0, 0, 0, 0, 0, 0, 0, 0, 0, 0, 0, 0, 0, 0, 0, 0, 0, 0, 0, 1, 0, 0, 0, 0, 0, 0, 0, 0, 0, 0, 0, 0, 0, 0, 0, 0, 0, 0, 0, 0, 0, 0, 0, 0, 0, 0, 0, 0, 0, 0, 0, 0, 0, 0, 0, 0, 0, 0, 0, 0, 0, 0, 0, 0, 0, 0, 0, 0, 0, 0, 0, 0, 0, 0, 0, 0, 0, 0, 0, 0, 0, 0, 0, 0, 0, 0, 0, 0, 0, 0, 0, 0, 0, 0, 0, 0, 0, 0, 0, 0, 0, 0, 0, 0, 0, 0, 1, 0, 0, 0, 0, 0, 0, 0, 0, 0, 0, 0, 0, 0, 0, 0, 0, 0, 0, 0, 0, 0, 0, 0, 0, 0, 0, 0, 0, 0, 0, 0, 0, 0, 0, 0, 0, 0, 0, 0, 0, 0, 0, 0, 0, 0, 0, 0, 0, 0, 0, 0, 0, 0, 0, 0, 0, 0, 0, 0, 0, 0, 0, 0, 0, 0, 0, 0, 0, 0, 0, 0, 0, 0, 0, 0, 0, 0, 0, 0, 0, 0, 0, 0, 0, 0, 0, 0, 0, 0, 0, 0, 0, 0, 0, 0, 0, 0, 0, 0, 0, 0, 0, 0, 0, 0, 0, 0, 0, 0, 0, 0, 0, 0, 0, 0, 0, 0, 0, 0, 0, 0, 0, 0, 0, 0, 0, 0, 0, 0, 0, 0, 0, 0, 0, 0, 0, 0, 0, 0, 0, 0, 0, 0, 0, 0, 0, 0, 0, 0, 0, 0, 0, 0, 0, 0, 0, 0, 0, 0, 0, 0, 0, 0, 0, 0, 0, 0, 0, 0, 0, 0, 0, 0, 0, 0, 0, 0, 0, 0, 0, 0, 0, 0, 0, 0, 0, 0, 0, 0, 0, 0, 0, 0, 0, 0, 0, 0, 0, 0, 0, 0, 0, 0, 0, 0, 0, 0, 0, 0, 0, 0, 0, 0, 0, 0, 0, 0, 0, 0, 0, 0, 0, 0, 0, 0, 0, 0, 0, 0, 0, 0, 0, 0, 0, 0, 0, 0, 0, 0, 0, 0, 0, 0, 0, 0, 0, 0, 0, 0, 0, 0, 0, 1, 0, 0, 0, 0, 0, 0, 0, 0, 0, 0, 0, 0, 0, 0, 0, 0, 0, 0, 0, 0, 0, 0, 0, 0, 0, 0, 0, 0, 0, 0, 0, 0, 0, 0, 0, 0, 0, 0, 0, 0, 0, 0, 0, 0, 0, 0, 0, 0, 0, 0, 0, 0, 0, 0, 0, 1, 0, 0, 0, 0, 0, 0, 0, 0, 0, 0, 0, 0, 0, 0, 0, 0, 0, 0, 0, 0, 0, 0, 0, 0, 0, 0, 0, 0, 0, 0, 0, 0, 0, 0, 0, 0, 0, 0, 0, 0, 0, 0, 0, 0, 0, 0, 0, 0, 0, 0, 0, 0, 0, 0, 0, 0, 0, 0, 0, 0, 0, 0, 0, 0, 0, 0, 0, 0, 0, 0, 0, 0, 0, 0, 0, 0, 0, 0, 0, 0, 0, 0, 0, 0, 0, 0, 0, 0, 0, 0, 0, 0, 0, 0, 0, 0, 0, 0, 0, 0, 0, 0, 0, 0, 0, 0, 0, 0, 0, 0, 0, 0, 0, 0, 0, 0, 0, 0, 0, 0, 0, 0, 0, 0, 0, 0, 0, 0, 0, 0, 0, 0, 0, 0, 0, 0, 0, 0, 0, 0, 0, 0, 0, 0, 0, 0, 0, 0, 0, 0, 0, 0, 0, 0, 0, 0, 0, 0, 0, 0, 0, 0, 0, 0, 0, 0, 0, 0, 0, 0, 0, 0, 0, 0, 0, 0, 0, 0, 0, 0, 0, 0, 0, 0, 0, 0, 0, 0, 0, 0, 0, 0, 0, 0, 0, 0, 0, 0, 0, 0, 0, 0, 0, 0, 0, 0, 0, 0, 0, 0, 0, 0, 0, 0, 0, 0, 0, 0, 0, 0, 0, 0, 0, 0, 0, 0, 0, 0, 0, 0, 0, 0, 0, 0, 0, 0, 0, 0, 0, 0, 0, 0, 0, 0, 0, 0, 0, 0, 0, 0, 0, 0, 0, 0, 0, 0, 0, 0, 0, 0, 0, 0, 0, 0, 0, 0, 0, 0, 0, 0, 0, 0, 0, 0, 0, 0, 0, 0, 0, 0, 0, 0, 0, 0, 0, 0, 0, 0, 0, 0, 0, 0, 0, 0, 0, 0, 0, 0, 0, 0, 0, 0, 0, 0, 0, 0, 0, 0, 0, 0, 0, 0, 0, 0, 0, 0, 0, 0, 0, 0, 0, 0, 0, 0, 0, 0, 0, 0, 0, 0, 0, 0, 0, 0, 0, 0, 0, 0, 0, 0, 0, 0, 0, 0, 0, 0, 0, 0, 0, 0, 0, 0, 0, 0, 0, 0, 0, 0, 0, 0, 0, 0, 0, 0, 0, 0, 0, 0, 0, 0, 0, 0, 0, 0, 0, 0, 0, 0, 0, 0, 0, 0, 0, 0, 0, 0, 0, 0, 0, 0, 0, 0, 0, 0, 0, 0, 0, 0, 0, 0, 0, 0, 0, 0, 0, 0, 0, 0, 0, 0, 0, 0, 0, 0, 0, 0, 0, 0, 0, 0, 0, 0, 0, 0, 0, 0, 0, 0, 0, 0, 0, 0, 0, 0, 0, 0, 0, 0, 0, 0, 0, 0, 0, 0, 0, 0, 0, 0, 0, 0, 0, 0, 0, 0, 0, 0, 0, 0, 0, 0, 0, 0, 0, 0, 0, 0, 0, 0, 0, 0, 0, 0, 0, 0, 0, 0, 0, 0, 0, 0, 0, 0, 0, 0, 0, 0, 0, 0, 0, 0, 0, 0, 0, 0, 0, 0, 0, 0, 0, 0, 0, 0, 0, 0, 0, 0, 0, 0, 0, 0, 0, 0, 0, 0, 0, 0, 0, 0, 0, 0, 0, 0, 0, 0, 0, 0, 0, 0, 0, 0, 0, 0, 0, 0, 0, 0, 0, 0, 0, 0, 0, 0, 0, 0, 0, 0, 0, 0, 0, 0, 0, 0, 0, 0, 0, 0, 0, 0, 0, 0, 0, 0, 0, 0, 0, 0, 0, 0, 0, 0, 0, 0, 0, 0, 0, 0, 0, 0, 0, 0, 0, 0, 0, 0, 0, 0, 0, 0, 0, 0, 0, 0, 0, 0, 0, 0, 0, 0, 0, 0, 0, 0, 0, 0, 0, 0, 0, 0, 0, 0, 0, 0, 0, 0, 0, 0, 0, 0, 0, 0, 0, 0, 0, 0, 0, 0, 0, 0, 0, 0, 0, 0, 0, 0, 0, 0, 0, 0, 0, 0, 0, 0, 0, 0, 0, 0, 0, 0, 0, 0, 0, 0, 0, 0, 0, 0, 0, 0, 0, 0, 0, 0, 0, 0, 0, 0, 0, 0, 0, 0, 0, 0, 0, 0, 0, 0, 0, 0, 0, 0, 0, 1, 0, 0, 0, 0, 0, 0, 0, 0, 0, 0, 0, 0, 0, 0, 0, 0, 0, 0, 0, 0, 0, 0, 0, 0, 0, 0, 0, 0, 0, 0, 0, 0, 0, 0, 0, 0, 0, 0, 0, 0, 0, 0, 0, 0, 0, 0, 0, 0, 0, 0, 0, 0, 0, 0, 0, 0, 0, 0, 0, 0, 0, 0, 0, 0, 0, 0, 0, 0, 0, 0, 0, 0, 0, 0, 1, 0, 0, 0, 0, 0, 0, 0, 0, 0, 0, 0, 0, 0, 0, 0, 0, 0, 0, 0, 0, 1, 0, 0, 1, 0, 0, 0, 0, 0, 0, 0, 0, 0, 0, 0, 0, 0, 0, 0, 0, 0, 0, 0, 0, 0, 0, 0, 0, 0, 0, 0, 0, 0, 0, 0, 0, 0, 0, 0, 0, 0, 0, 0, 0, 0, 0, 0, 0, 0, 0, 0, 0, 0, 0, 0, 0, 0, 0, 0, 0, 0, 0, 0, 0, 0, 0, 0, 0, 0, 0, 0, 0, 0, 0, 0, 0, 0, 0, 0, 0, 0, 0, 0, 0, 0, 0, 0, 0, 0, 0, 0, 0, 0, 0, 0, 0, 0, 0, 0, 0, 0, 0, 0, 0, 0, 0, 0, 0, 0, 0, 0, 0, 0, 0, 0, 0, 0, 0, 0, 0, 0, 0, 0, 0, 0, 0, 0, 0, 0, 0, 0, 0, 0, 0, 0, 0, 0, 0, 0, 0, 0, 0, 0, 0, 0, 0, 0, 0, 0, 0, 0, 0, 0, 0, 0, 0, 0, 0, 0, 0, 0, 0, 0, 0, 0, 0, 0, 0, 0, 0, 0, 0, 0, 0, 0, 0, 0, 0, 0, 0, 0, 0, 0, 0, 0, 0, 0, 0, 0, 0, 0, 0, 0, 0, 0, 0, 0, 0, 0, 0, 0, 0, 0, 0, 0, 0, 0, 0, 0, 0, 0, 0, 0, 0, 0, 0, 0, 0, 0, 0, 0, 0, 0, 0, 0, 0, 0, 0, 0, 0, 0, 0, 0, 0, 0, 0, 0, 0, 0, 0, 0, 0, 0, 0, 0, 0, 0, 0, 0, 0, 0, 0, 0, 0, 0, 0, 0, 0, 0, 0, 0, 0, 0, 0, 0, 0, 0, 0, 0, 0, 0, 0, 0, 0, 0, 0, 0, 0, 0, 0, 0, 0, 0, 0, 0, 0, 0, 0, 0, 0, 0, 0, 0, 0, 0, 0, 0, 0, 0, 0, 0, 0, 0, 0, 0, 0, 0, 0, 0, 0, 0, 0, 0, 0, 0, 0, 0, 0, 0, 0, 0, 0, 0, 0, 0, 0, 0, 0, 0, 0, 0, 0, 0, 0, 0, 0, 0, 0, 0, 0, 0, 0, 0, 0, 0, 0, 0, 0, 0, 0, 0, 0, 0, 0, 0, 0, 0, 0, 0, 0, 0, 0, 0, 0, 0, 0, 0, 0, 0, 0, 0, 0, 0, 0, 0, 0, 0, 0, 0, 0, 0, 0, 0, 0, 0, 0, 0, 0, 0, 0, 0, 0, 0, 0, 0, 0, 0, 0, 0, 0, 0, 0, 0, 0, 0, 0, 0, 0, 0, 0, 0, 0, 0, 0, 0, 0, 0, 0, 0, 0, 0, 0, 0, 0, 0, 0, 0, 0, 0, 0, 0, 0, 0, 0, 0, 0, 0, 0, 0, 0, 0, 0, 0, 0, 0, 0, 0, 0, 0, 0, 0, 0, 0, 0, 0, 0, 0, 0, 0, 0, 0, 0, 0, 0, 0, 0, 0, 0, 0, 0, 1, 0, 0, 0, 0, 0, 0, 0, 0, 0, 0, 0, 0, 0, 0, 0, 0, 0, 0, 0, 0, 0, 0, 0, 0, 0, 0, 0, 0, 0, 0, 0, 0, 0, 0, 0, 0, 0, 0, 0, 0, 0, 0, 0, 0, 0, 0, 0, 0, 0, 0, 0, 0, 0, 0, 0, 0, 0, 0, 0, 0, 0, 0, 0, 0, 0, 0, 0, 0, 0, 0, 0, 0, 0, 0, 0, 0, 0, 0, 0, 0, 0, 0, 0, 0, 0, 0, 0, 0, 0, 0, 0, 0, 0, 0, 0, 0, 0, 0, 0, 0, 0, 0, 0, 0, 0, 0, 0, 0, 0, 0, 0, 0, 0, 0, 0, 0, 0, 0, 0, 0, 0, 0, 0, 0, 0, 0, 0, 0, 0, 0, 0, 0, 0, 0, 0, 0, 0, 0, 0, 0, 0, 0, 0, 0, 0, 0, 0, 0, 0, 0, 0, 0, 0, 0, 0, 0, 0, 0, 0, 0, 0, 0, 0, 0, 0, 0, 0, 0, 0, 0, 0, 0, 0, 0, 0, 0, 0, 0, 0, 0, 0, 0, 0, 0, 0, 0, 0, 0, 0, 0, 0, 0, 0, 0, 0, 0, 0, 0, 0, 0, 0, 0, 0, 0, 0, 0, 0, 0, 0, 0, 0, 0, 0, 0, 0, 0, 0, 0, 0, 0, 0, 0, 0, 0, 0, 0, 0, 0, 0, 0, 0, 0, 0, 0, 0, 0, 0, 0, 0, 0, 0, 0, 0, 0, 0, 0, 0, 0, 0, 0, 0, 0, 0, 0, 0, 0, 0, 0, 0, 0, 0, 0, 0, 0, 0, 0, 0, 0, 0, 0, 0, 0, 0, 0, 0, 0, 0, 0, 0, 0, 0, 0, 0, 0, 0, 0, 0, 0, 0, 0, 0, 0, 0, 0, 0, 0, 0, 0, 0, 0, 0, 0, 0, 0, 0, 0, 0, 0, 0, 0, 0, 0, 0, 0, 0, 0, 0, 0, 0, 0, 0, 0, 0, 0, 0, 0, 0, 0, 0, 0, 0, 0, 0, 0, 0, 0, 0, 0, 0, 0, 0, 0, 0, 0, 0, 0, 0, 0, 0, 0, 0, 0, 0, 0, 0, 0, 0, 0, 0, 0, 0, 0, 0, 0, 0, 0, 0, 0, 0, 0, 0, 0, 0, 0, 0, 0, 0, 0, 0, 0, 0, 0, 0, 0, 0, 0, 0, 0, 0, 0, 0, 0, 0, 0, 0, 0, 0, 0, 0, 0, 0, 0, 0, 0, 0, 0, 0, 0, 0, 0, 0, 0, 0, 0, 0, 0, 0, 0, 0, 0, 0, 0, 0, 0, 0, 0, 0, 0, 0, 0, 0, 0, 0, 0, 0, 0, 0, 0, 0, 0, 0, 0, 0, 0, 0, 0, 0, 0, 0, 0, 0, 0, 0, 0, 0, 0, 0, 0, 0, 0, 0, 0, 0, 0, 0, 0, 0, 0, 0, 0, 0, 0, 0, 0, 0, 0, 0, 0, 0, 0, 0, 0, 0, 0, 0, 0, 0, 0, 0, 0, 0, 0, 0, 0, 0, 0, 0, 0, 0, 0, 0, 0, 0, 0, 0, 0, 0, 0, 0, 0, 0, 0, 1, 0, 0, 0, 0, 0, 0, 0, 0, 0, 0, 0, 0, 0, 0, 0, 0, 0, 0, 0, 0, 0, 0, 0, 0, 0, 0, 0, 0, 0, 0, 0, 0, 0, 0, 0, 2, 0, 0, 0, 0, 0, 0, 0, 0, 0, 0, 0, 0, 0, 0, 0, 0, 0, 0, 0, 0, 0, 0, 0, 0, 0, 0, 0, 0, 0, 0, 0, 0, 0, 0, 0, 0, 0, 0, 0, 0, 1, 0, 0, 0, 0, 0, 0, 0, 0, 0, 0, 0, 0, 0, 0, 0, 0, 0, 0, 0, 0, 0, 0, 0, 0, 0, 0, 0, 0, 0, 0, 0, 0, 0, 0, 0, 0, 0, 0, 0, 0, 0, 0, 0, 0, 0, 0, 0, 0, 0, 0, 0, 0, 0, 0, 0, 0, 0, 0, 0, 0, 0, 0, 0, 0, 0, 0, 0, 0, 0, 0, 0, 0, 0, 0, 0, 0, 0, 0, 0, 0, 0, 0, 0, 0, 0, 0, 0, 0, 0, 0, 0, 0, 0, 0, 0, 0, 0, 0, 0, 0, 0, 0, 0, 0, 0, 0, 0, 0, 0, 0, 0, 0, 0, 0, 0, 0, 0, 0, 0, 0, 0, 0, 0, 0, 0, 0, 0, 0, 0, 0, 0, 0, 0, 0, 0, 0, 0, 0, 0, 0, 0, 0, 0, 0, 0, 0, 0, 0, 0, 0, 0, 0, 0, 0, 0, 0, 0, 0, 0, 0, 0, 0, 0, 0, 0, 0, 0, 0, 0, 0, 0, 0, 0, 0, 0, 0, 0, 0, 0, 0, 0, 0, 0, 0, 0, 0, 0, 0, 0, 0, 0, 0, 0, 0, 0, 0, 0, 0, 0, 0, 0, 0, 0, 0, 0, 0, 0, 0, 0, 0, 0, 0, 0, 0, 0, 0, 0, 0, 0, 0, 0, 0, 0, 0, 0, 0, 0, 0, 0, 0, 0, 0, 0, 0, 0, 0, 0, 0, 0, 0, 0, 0, 0, 0, 0, 0, 0, 0, 0, 0, 0, 0, 0, 0, 0, 0, 0, 0, 0, 0, 0, 0, 0, 0, 0, 0, 0, 0, 0, 0, 0, 0, 0, 0, 0, 0, 0, 0, 0, 0, 0, 0, 0, 0, 0, 0, 0, 0, 0, 0, 0, 0, 0, 0, 0, 0, 0, 0, 0, 0, 0, 0, 0, 0, 0, 0, 0, 0, 0, 0, 0, 0, 0, 0, 0, 0, 0, 0, 0, 0, 0, 0, 0, 0, 0, 0, 0, 0, 0, 0, 0, 0, 0, 0, 0, 0, 0, 0, 0, 0, 0, 0, 0, 0, 0, 0, 0, 0, 0, 0, 0, 0, 0, 0, 0, 0, 0, 0, 0, 0, 0, 0, 0, 0, 0, 0, 0, 0, 0, 0, 0, 0, 0, 0, 0, 0, 0, 0, 0, 0, 0, 0, 0, 0, 0, 0, 0, 0, 0, 0, 0, 0, 0, 0, 0, 0, 0, 0, 0, 0, 0, 0, 0, 0, 0, 0, 0, 0, 0, 0, 0, 0, 0, 0, 0, 0, 0, 0, 0, 0, 0, 0, 0, 0, 0, 0, 0, 0, 0, 0, 0, 0, 0, 0, 0, 0, 0, 0, 0, 0, 0, 0, 0, 0, 0, 0, 0, 0, 0, 0, 0, 0, 0, 0, 0, 0, 0, 0, 0, 0, 0, 0, 0, 0, 0, 0, 0, 0, 0, 0, 0, 0, 0, 0, 0, 0, 0, 0, 0, 0, 0, 0, 0, 0, 0, 0, 0, 0, 0, 0, 0, 0, 0, 0, 0, 0, 0, 1, 0, 0, 0, 0, 0, 0, 0, 0, 0, 0, 0, 0, 0, 0, 0, 0, 0, 0, 0, 0, 0, 0, 0, 0, 0, 0, 0, 0, 0, 0, 0, 0, 0, 0, 0, 0, 0, 0, 0, 0, 0, 0, 0, 0, 0, 0, 0, 0, 0, 0, 0, 0, 0, 0, 0, 0, 0, 0, 0, 0, 0, 0, 0, 0, 0, 0, 0, 0, 0, 0, 0, 0, 0, 0, 0, 0, 0, 0, 0, 0, 0, 0, 0, 0, 0, 0, 0, 0, 0, 0, 0, 0, 0, 0, 0, 0, 0, 0, 0, 0, 0, 0, 0, 0, 0, 0, 0, 0, 0, 0, 2, 0, 0, 0, 0, 0, 0, 0, 0, 0, 0, 0, 0, 0, 0, 0, 0, 0, 0, 0, 0, 0, 0, 0, 0, 0, 0, 0, 0, 0, 0, 0, 0, 0, 0, 0, 0, 0, 0, 0, 0, 0, 0, 0, 0, 0, 0, 0, 0, 0, 0, 0, 0, 0, 0, 0, 0, 0, 0, 0, 0, 0, 0, 0, 0, 0, 0, 0, 0, 0, 0, 0, 0, 0, 0, 0, 0, 0, 0, 0, 0, 0, 0, 0, 0, 0, 0, 0, 0, 0, 0, 0, 0, 0, 0, 0, 0, 0, 0, 0, 0, 0, 0, 0, 0, 0, 0, 0, 0, 0, 0, 0, 0, 0, 0, 0, 0, 0, 0, 0, 0, 0, 0, 0, 0, 0, 0, 0, 0, 0, 0, 0, 0, 0, 0, 0, 0, 0, 0, 0, 0, 0, 0, 0, 0, 0, 0, 0, 0, 0, 0, 0, 0, 0, 0, 0, 0, 0, 0, 0, 0, 0, 0, 0, 0, 0, 0, 0, 0, 0, 0, 0, 0, 0, 0, 0, 0, 0, 0, 0, 0, 0, 0, 0, 0, 0, 0, 0, 0, 0, 0, 0, 0, 0, 0, 0, 0, 0, 0, 0, 0, 0, 0, 0, 0, 0, 0, 0, 0, 0, 0, 0, 0, 0, 0, 0, 0, 0, 0, 0, 0, 0, 0, 0, 0, 0, 0, 0, 0, 0, 0, 0, 0, 0, 0, 0, 0, 0, 0, 0, 0, 0, 0, 0, 0, 0, 0, 0, 0, 0, 0, 0, 0, 0, 0, 0, 0, 0, 0, 0, 0, 0, 0, 0, 0, 0, 0, 0, 0, 0, 0, 0, 0, 0, 0, 0, 0, 0, 0, 0, 0, 0, 0, 0, 0, 0, 0, 0, 0, 0, 0, 0, 0, 0, 0, 0, 0, 0, 0, 0, 0, 0, 0, 0, 0, 0, 0, 0, 0, 0, 0, 0, 0, 0, 0, 0, 0, 0, 0, 0, 0, 0, 0, 0, 0, 0, 0, 0, 0, 0, 0, 0, 0, 0, 0, 0, 0, 0, 0, 0, 0, 0, 0, 0, 0, 0, 0, 0, 0, 0, 0, 0, 0, 0, 0, 0, 0, 0, 0, 0, 0, 0, 0, 0, 0, 0, 0, 0, 0, 0, 0, 0, 0, 0, 0, 0, 0, 0, 0, 0, 0, 0, 0, 0, 0, 0, 0, 0, 0, 0, 0, 0, 0, 0, 0, 0, 0, 0, 0, 0, 0, 0, 0, 0, 0, 0, 0, 0, 0, 0, 0, 0, 0, 0, 0, 0, 0, 0, 0, 0, 0, 0, 0, 0, 0, 0, 0, 0, 0, 0, 0, 0, 0, 0, 0, 0, 0, 0, 0, 0, 0, 0, 0, 0, 0, 0, 0, 0, 0, 0, 0, 0, 0, 0, 0, 0, 0, 0, 0, 0, 0, 0, 0, 0, 0, 0, 0, 0, 0, 0, 0, 0, 0, 0, 0, 0, 0, 0, 0, 0, 0, 0, 0, 0, 0, 0, 0, 0, 0, 0, 0, 0, 0, 0, 0, 0, 0, 0, 0, 0, 0, 0, 0, 0, 0, 0, 0, 0, 0, 0, 0, 0, 0, 0, 0, 0, 0, 0, 0, 0, 0, 0, 0, 0, 0, 0, 0, 0, 0, 0, 0, 0, 0, 0, 0, 0, 0, 0, 0, 0, 0, 0, 0, 0, 0, 0, 0, 0, 0, 0, 0, 0, 0, 0, 0, 0, 0, 0, 0, 0, 0, 0, 0, 0, 0, 0, 0, 0, 0, 0, 0, 0, 0, 0, 0, 0, 0, 0, 0, 0, 0, 0, 0, 0, 0, 0, 0, 0, 0, 0, 0, 0, 0, 0, 0, 0, 0, 0, 0, 0, 0, 0, 0, 0, 0, 0, 0, 0, 0, 0, 0, 0, 0, 0, 0, 0, 0, 0, 0, 0, 0, 0, 0, 0, 0, 0, 0, 0, 0, 0, 0, 0, 0, 0, 0, 0, 0, 0, 0, 0, 0, 0, 0, 0, 0, 0, 0, 0, 0, 0, 0, 0, 0, 0, 0, 0, 0, 0, 0, 0, 0, 0, 0, 0, 0, 0, 0, 0, 0, 0, 0, 0, 0, 0, 0, 0, 0, 0, 0, 0, 0, 0, 0, 0, 0, 0, 0, 0, 0, 0, 0, 1, 0, 0, 0, 0, 0, 0, 0, 0, 0, 0, 0, 0, 0, 0, 0, 0, 0, 0, 0, 0, 0, 0, 0, 0, 0, 0, 0, 0, 0, 0, 0, 0, 0, 0, 0, 0, 0, 0, 0, 0, 0, 0, 0, 0, 0, 0, 0, 0, 0, 0, 0, 0, 0, 0, 0, 0, 0, 0, 0, 0, 0, 0, 0, 0, 0, 0, 0, 0, 0, 0, 0, 0, 0, 0, 0, 0, 0, 0, 0, 0, 0, 0, 0, 0, 0, 0, 0, 0, 0, 0, 0, 0, 0, 0, 0, 0, 0, 0, 0, 0, 0, 0, 0, 0, 0, 0, 0, 1, 0, 0, 0, 0, 0, 0, 0, 0, 0, 0, 0, 0, 0, 0, 0, 0, 0, 0, 0, 0, 0, 0, 0, 0, 0, 0, 0, 0, 0, 0, 0, 0, 0, 0, 0, 0, 0, 0, 0, 0, 0, 0, 0, 0, 0, 0, 0, 0, 0, 0, 0, 0, 0, 0, 0, 0, 0, 0, 0, 0, 0, 0, 0, 0, 0, 0, 0, 0, 0, 0, 0, 0, 0, 0, 0, 0, 0, 0, 0, 0, 0, 0, 0, 0, 0, 0, 0, 0, 0, 0, 0, 0, 0, 0, 0, 0, 0, 0, 0, 0, 0, 0, 0, 0, 0, 0, 0, 0, 0, 0, 0, 0, 0, 0, 0, 0, 0, 0, 0, 0, 0, 0, 0, 0, 0, 0, 0, 0, 0, 0, 0, 0, 0, 0, 0, 0, 0, 0, 0, 0, 0, 0, 0, 0, 0, 0, 0, 0, 0, 0, 0, 0, 0, 0, 0, 0, 0, 0, 0, 0, 0, 0, 0, 0, 0, 0, 0, 0, 0, 0, 0, 0, 0, 0, 0, 0, 0, 0, 0, 0, 0, 0, 0, 0, 0, 0, 0, 0, 0, 0, 0, 0, 0, 0, 0, 0, 0, 0, 0, 0, 0, 0, 0, 0, 0, 0, 0, 0, 0, 0, 0, 0, 0, 0, 0, 0, 0, 0, 0, 0, 0, 0, 0, 0, 0, 0, 0, 0, 0, 0, 0, 0, 0, 0, 0, 0, 0, 0, 0, 0, 0, 0, 0, 0, 0, 0, 0, 0, 0, 0, 0, 0, 0, 0, 0, 0, 0, 0, 0, 0, 0, 0, 0, 0, 0, 0, 0, 0, 0, 0, 0, 0, 0, 0, 0, 0, 0, 0, 0, 0, 0, 0, 0, 0, 0, 0, 0, 0, 0, 0, 0, 0, 0, 0, 0, 0, 0, 0, 0, 0, 0, 0, 0, 0, 0, 0, 0, 0, 0, 0, 0, 0, 0, 0, 0, 0, 0, 0, 0, 0, 0, 0, 0, 0, 0, 0, 0, 0, 0, 0, 0, 0, 0, 0, 0, 0, 0, 0, 0, 0, 0, 0, 0, 0, 0, 0, 0, 0, 0, 0, 0, 0, 0, 0, 0, 0, 0, 0, 0, 0, 0, 0, 0, 0, 0, 0, 0, 0, 0, 0, 0, 0, 0, 0, 0, 0, 0, 0, 0, 0, 0, 0, 0, 0, 0, 0, 0, 0, 0, 0, 0, 0, 0, 0, 0, 0, 0, 0, 0, 0, 0, 0, 0, 0, 0, 0, 0, 0, 0, 0, 0, 0, 0, 0, 0, 0, 0, 0, 0, 0, 0, 0, 0, 0, 0, 0, 0, 0, 0, 0, 0, 0, 0, 0, 0, 0, 0, 0, 0, 0, 0, 0, 0, 0, 0, 0, 0, 0, 0, 0, 0, 0, 0, 0, 0, 0, 0, 0, 0, 0, 0, 0, 0, 2, 0, 1, 0], type: <class 'list'>, valid types: <class 'bytes'>, <class 'bytearray'>, file-like object",
     "output_type": "error",
     "traceback": [
      "\u001b[0;31m---------------------------------------------------------------------------\u001b[0m",
      "\u001b[0;31mParamValidationError\u001b[0m                      Traceback (most recent call last)",
      "\u001b[0;32m<ipython-input-45-c9ab54ae3a48>\u001b[0m in \u001b[0;36m<module>\u001b[0;34m\u001b[0m\n\u001b[1;32m      1\u001b[0m response = runtime.invoke_endpoint(EndpointName = xgb_predictor.endpoint, # The name of the endpoint we created\n\u001b[1;32m      2\u001b[0m                                        \u001b[0mContentType\u001b[0m \u001b[0;34m=\u001b[0m \u001b[0;34m'text/csv'\u001b[0m\u001b[0;34m,\u001b[0m                     \u001b[0;31m# The data format that is expected\u001b[0m\u001b[0;34m\u001b[0m\u001b[0;34m\u001b[0m\u001b[0m\n\u001b[0;32m----> 3\u001b[0;31m                                        Body = test_bow)\n\u001b[0m",
      "\u001b[0;32m~/anaconda3/envs/python3/lib/python3.6/site-packages/botocore/client.py\u001b[0m in \u001b[0;36m_api_call\u001b[0;34m(self, *args, **kwargs)\u001b[0m\n\u001b[1;32m    384\u001b[0m                     \"%s() only accepts keyword arguments.\" % py_operation_name)\n\u001b[1;32m    385\u001b[0m             \u001b[0;31m# The \"self\" in this scope is referring to the BaseClient.\u001b[0m\u001b[0;34m\u001b[0m\u001b[0;34m\u001b[0m\u001b[0;34m\u001b[0m\u001b[0m\n\u001b[0;32m--> 386\u001b[0;31m             \u001b[0;32mreturn\u001b[0m \u001b[0mself\u001b[0m\u001b[0;34m.\u001b[0m\u001b[0m_make_api_call\u001b[0m\u001b[0;34m(\u001b[0m\u001b[0moperation_name\u001b[0m\u001b[0;34m,\u001b[0m \u001b[0mkwargs\u001b[0m\u001b[0;34m)\u001b[0m\u001b[0;34m\u001b[0m\u001b[0;34m\u001b[0m\u001b[0m\n\u001b[0m\u001b[1;32m    387\u001b[0m \u001b[0;34m\u001b[0m\u001b[0m\n\u001b[1;32m    388\u001b[0m         \u001b[0m_api_call\u001b[0m\u001b[0;34m.\u001b[0m\u001b[0m__name__\u001b[0m \u001b[0;34m=\u001b[0m \u001b[0mstr\u001b[0m\u001b[0;34m(\u001b[0m\u001b[0mpy_operation_name\u001b[0m\u001b[0;34m)\u001b[0m\u001b[0;34m\u001b[0m\u001b[0;34m\u001b[0m\u001b[0m\n",
      "\u001b[0;32m~/anaconda3/envs/python3/lib/python3.6/site-packages/botocore/client.py\u001b[0m in \u001b[0;36m_make_api_call\u001b[0;34m(self, operation_name, api_params)\u001b[0m\n\u001b[1;32m    676\u001b[0m         }\n\u001b[1;32m    677\u001b[0m         request_dict = self._convert_to_request_dict(\n\u001b[0;32m--> 678\u001b[0;31m             api_params, operation_model, context=request_context)\n\u001b[0m\u001b[1;32m    679\u001b[0m \u001b[0;34m\u001b[0m\u001b[0m\n\u001b[1;32m    680\u001b[0m         \u001b[0mservice_id\u001b[0m \u001b[0;34m=\u001b[0m \u001b[0mself\u001b[0m\u001b[0;34m.\u001b[0m\u001b[0m_service_model\u001b[0m\u001b[0;34m.\u001b[0m\u001b[0mservice_id\u001b[0m\u001b[0;34m.\u001b[0m\u001b[0mhyphenize\u001b[0m\u001b[0;34m(\u001b[0m\u001b[0;34m)\u001b[0m\u001b[0;34m\u001b[0m\u001b[0;34m\u001b[0m\u001b[0m\n",
      "\u001b[0;32m~/anaconda3/envs/python3/lib/python3.6/site-packages/botocore/client.py\u001b[0m in \u001b[0;36m_convert_to_request_dict\u001b[0;34m(self, api_params, operation_model, context)\u001b[0m\n\u001b[1;32m    724\u001b[0m             api_params, operation_model, context)\n\u001b[1;32m    725\u001b[0m         request_dict = self._serializer.serialize_to_request(\n\u001b[0;32m--> 726\u001b[0;31m             api_params, operation_model)\n\u001b[0m\u001b[1;32m    727\u001b[0m         \u001b[0;32mif\u001b[0m \u001b[0;32mnot\u001b[0m \u001b[0mself\u001b[0m\u001b[0;34m.\u001b[0m\u001b[0m_client_config\u001b[0m\u001b[0;34m.\u001b[0m\u001b[0minject_host_prefix\u001b[0m\u001b[0;34m:\u001b[0m\u001b[0;34m\u001b[0m\u001b[0;34m\u001b[0m\u001b[0m\n\u001b[1;32m    728\u001b[0m             \u001b[0mrequest_dict\u001b[0m\u001b[0;34m.\u001b[0m\u001b[0mpop\u001b[0m\u001b[0;34m(\u001b[0m\u001b[0;34m'host_prefix'\u001b[0m\u001b[0;34m,\u001b[0m \u001b[0;32mNone\u001b[0m\u001b[0;34m)\u001b[0m\u001b[0;34m\u001b[0m\u001b[0;34m\u001b[0m\u001b[0m\n",
      "\u001b[0;32m~/anaconda3/envs/python3/lib/python3.6/site-packages/botocore/validate.py\u001b[0m in \u001b[0;36mserialize_to_request\u001b[0;34m(self, parameters, operation_model)\u001b[0m\n\u001b[1;32m    317\u001b[0m                                                     operation_model.input_shape)\n\u001b[1;32m    318\u001b[0m             \u001b[0;32mif\u001b[0m \u001b[0mreport\u001b[0m\u001b[0;34m.\u001b[0m\u001b[0mhas_errors\u001b[0m\u001b[0;34m(\u001b[0m\u001b[0;34m)\u001b[0m\u001b[0;34m:\u001b[0m\u001b[0;34m\u001b[0m\u001b[0;34m\u001b[0m\u001b[0m\n\u001b[0;32m--> 319\u001b[0;31m                 \u001b[0;32mraise\u001b[0m \u001b[0mParamValidationError\u001b[0m\u001b[0;34m(\u001b[0m\u001b[0mreport\u001b[0m\u001b[0;34m=\u001b[0m\u001b[0mreport\u001b[0m\u001b[0;34m.\u001b[0m\u001b[0mgenerate_report\u001b[0m\u001b[0;34m(\u001b[0m\u001b[0;34m)\u001b[0m\u001b[0;34m)\u001b[0m\u001b[0;34m\u001b[0m\u001b[0;34m\u001b[0m\u001b[0m\n\u001b[0m\u001b[1;32m    320\u001b[0m         return self._serializer.serialize_to_request(parameters,\n\u001b[1;32m    321\u001b[0m                                                      operation_model)\n",
      "\u001b[0;31mParamValidationError\u001b[0m: Parameter validation failed:\nInvalid type for parameter Body, value: [0, 0, 0, 0, 0, 0, 0, 0, 0, 0, 0, 0, 0, 0, 0, 0, 0, 0, 0, 0, 0, 0, 0, 0, 0, 0, 0, 0, 0, 0, 0, 0, 0, 0, 0, 0, 0, 0, 0, 0, 0, 0, 0, 0, 0, 0, 0, 0, 0, 0, 0, 0, 0, 0, 0, 0, 0, 0, 0, 0, 0, 0, 0, 0, 0, 0, 0, 0, 0, 0, 0, 0, 0, 0, 0, 0, 0, 0, 0, 0, 0, 0, 0, 0, 0, 0, 0, 0, 0, 0, 0, 0, 0, 0, 0, 0, 0, 0, 0, 0, 0, 0, 0, 0, 0, 0, 0, 0, 0, 0, 0, 0, 0, 0, 0, 0, 0, 0, 0, 0, 0, 0, 0, 0, 0, 0, 0, 0, 0, 0, 0, 0, 0, 0, 0, 0, 0, 0, 0, 0, 0, 0, 0, 0, 0, 0, 0, 0, 0, 0, 0, 0, 0, 0, 0, 0, 0, 0, 0, 0, 0, 0, 0, 0, 0, 0, 0, 0, 0, 0, 0, 0, 0, 0, 0, 0, 0, 0, 0, 0, 0, 0, 0, 0, 0, 0, 0, 0, 0, 0, 0, 0, 0, 0, 0, 0, 0, 0, 0, 0, 0, 0, 0, 0, 0, 0, 0, 0, 0, 0, 0, 0, 0, 0, 0, 0, 0, 0, 0, 0, 0, 0, 0, 0, 0, 0, 1, 0, 0, 0, 0, 0, 0, 0, 0, 0, 0, 0, 0, 0, 0, 0, 0, 0, 0, 0, 0, 0, 0, 0, 0, 0, 0, 0, 0, 0, 1, 0, 0, 0, 0, 0, 0, 0, 0, 0, 0, 0, 0, 0, 0, 0, 0, 0, 0, 0, 0, 0, 0, 0, 0, 0, 0, 0, 0, 0, 0, 0, 0, 0, 0, 0, 0, 0, 0, 0, 0, 0, 0, 0, 0, 0, 0, 0, 0, 0, 0, 0, 0, 0, 0, 0, 0, 0, 0, 0, 0, 0, 0, 0, 0, 0, 0, 0, 0, 0, 0, 0, 0, 0, 0, 0, 0, 0, 0, 0, 0, 0, 0, 0, 0, 0, 0, 0, 0, 0, 0, 0, 0, 0, 0, 0, 0, 0, 0, 0, 0, 0, 0, 0, 0, 0, 0, 0, 0, 0, 0, 0, 0, 0, 0, 0, 0, 0, 0, 0, 0, 0, 0, 0, 0, 0, 0, 0, 0, 0, 0, 0, 0, 0, 0, 0, 0, 0, 0, 0, 0, 0, 0, 0, 0, 0, 0, 0, 0, 0, 0, 0, 0, 0, 0, 0, 0, 0, 0, 0, 0, 0, 0, 0, 0, 0, 0, 0, 0, 0, 0, 0, 0, 0, 0, 0, 0, 0, 0, 0, 0, 0, 0, 0, 0, 0, 0, 0, 0, 0, 0, 0, 0, 0, 0, 0, 0, 0, 0, 0, 0, 0, 0, 0, 0, 0, 0, 0, 0, 0, 0, 0, 0, 0, 0, 0, 0, 0, 0, 0, 0, 0, 0, 0, 0, 0, 0, 0, 0, 0, 0, 0, 0, 0, 0, 0, 0, 0, 0, 0, 0, 0, 0, 0, 0, 0, 0, 0, 0, 0, 0, 0, 0, 0, 0, 0, 0, 0, 0, 0, 0, 0, 0, 0, 0, 0, 0, 0, 0, 0, 0, 0, 0, 0, 0, 0, 0, 0, 0, 0, 0, 0, 0, 0, 0, 0, 0, 0, 0, 0, 0, 0, 0, 0, 0, 0, 0, 0, 0, 0, 0, 0, 0, 0, 0, 0, 0, 0, 0, 0, 0, 0, 0, 0, 0, 0, 0, 0, 0, 0, 0, 0, 0, 0, 0, 0, 0, 0, 0, 0, 0, 0, 0, 0, 0, 0, 0, 0, 0, 0, 0, 0, 0, 0, 0, 0, 0, 0, 0, 0, 0, 0, 0, 0, 0, 0, 0, 0, 0, 0, 0, 0, 0, 0, 0, 0, 0, 0, 0, 0, 0, 0, 0, 0, 0, 0, 0, 0, 0, 0, 1, 0, 0, 0, 0, 0, 0, 0, 0, 0, 0, 0, 0, 0, 0, 0, 0, 0, 0, 0, 0, 0, 0, 0, 0, 0, 0, 0, 0, 0, 0, 0, 0, 0, 0, 0, 0, 0, 0, 0, 0, 0, 0, 0, 0, 0, 0, 0, 0, 0, 0, 0, 0, 0, 0, 0, 0, 0, 0, 0, 0, 0, 0, 0, 0, 0, 0, 0, 0, 0, 0, 0, 0, 0, 0, 0, 0, 0, 0, 0, 0, 0, 0, 0, 0, 0, 0, 0, 0, 0, 0, 0, 0, 0, 0, 0, 0, 0, 0, 0, 0, 0, 0, 0, 0, 0, 0, 0, 0, 0, 0, 0, 0, 0, 0, 0, 0, 0, 0, 0, 0, 0, 0, 0, 0, 0, 0, 0, 0, 0, 0, 0, 0, 0, 0, 0, 0, 0, 0, 0, 0, 0, 0, 0, 0, 0, 0, 0, 0, 0, 0, 0, 0, 0, 0, 0, 0, 0, 0, 0, 0, 0, 0, 0, 0, 0, 0, 0, 0, 0, 0, 0, 0, 0, 0, 0, 0, 0, 0, 0, 0, 0, 0, 0, 0, 0, 0, 0, 0, 0, 0, 0, 0, 0, 0, 0, 0, 0, 0, 0, 0, 0, 0, 0, 0, 0, 0, 0, 0, 0, 0, 0, 0, 0, 0, 0, 0, 0, 0, 0, 0, 0, 0, 0, 0, 0, 0, 0, 0, 0, 0, 0, 0, 0, 0, 0, 0, 0, 0, 0, 0, 0, 0, 0, 0, 0, 0, 0, 0, 0, 0, 0, 0, 0, 1, 0, 0, 0, 0, 0, 0, 0, 0, 0, 0, 0, 0, 0, 0, 0, 0, 0, 0, 0, 0, 0, 0, 0, 0, 0, 0, 0, 0, 0, 0, 0, 0, 0, 0, 0, 0, 0, 0, 0, 0, 0, 0, 0, 0, 0, 0, 0, 0, 0, 0, 0, 0, 0, 0, 0, 0, 0, 0, 0, 0, 0, 0, 0, 0, 0, 0, 0, 0, 0, 0, 0, 0, 0, 0, 0, 0, 0, 0, 0, 0, 0, 0, 0, 0, 0, 0, 1, 0, 0, 0, 0, 0, 0, 0, 0, 0, 0, 0, 0, 0, 0, 0, 0, 0, 0, 0, 0, 0, 0, 0, 0, 0, 0, 0, 0, 0, 0, 0, 0, 0, 0, 0, 0, 0, 0, 0, 0, 0, 0, 0, 0, 0, 0, 0, 0, 0, 0, 0, 0, 0, 0, 0, 0, 0, 0, 0, 0, 0, 0, 0, 0, 0, 0, 0, 0, 0, 0, 0, 0, 0, 0, 0, 0, 0, 0, 0, 0, 0, 0, 0, 0, 0, 0, 0, 0, 0, 0, 0, 0, 0, 0, 0, 0, 0, 0, 0, 0, 0, 0, 0, 0, 0, 0, 0, 0, 0, 0, 0, 0, 0, 0, 0, 0, 0, 0, 0, 0, 0, 0, 0, 0, 0, 0, 0, 0, 0, 0, 0, 0, 0, 0, 0, 0, 0, 0, 0, 0, 0, 0, 0, 0, 0, 0, 0, 0, 0, 0, 0, 0, 0, 0, 0, 0, 0, 0, 0, 0, 0, 0, 0, 0, 0, 0, 0, 0, 0, 0, 0, 0, 0, 0, 0, 0, 0, 0, 0, 0, 0, 0, 0, 0, 0, 0, 0, 0, 0, 0, 0, 0, 0, 0, 0, 0, 0, 0, 0, 0, 0, 0, 0, 0, 0, 0, 0, 0, 0, 0, 0, 0, 0, 0, 0, 0, 0, 0, 0, 0, 0, 0, 0, 0, 0, 0, 0, 0, 0, 0, 0, 0, 0, 0, 0, 0, 0, 0, 0, 0, 0, 0, 0, 0, 0, 0, 0, 0, 0, 0, 0, 0, 1, 0, 0, 0, 0, 0, 0, 0, 0, 0, 0, 0, 0, 0, 0, 0, 0, 0, 0, 0, 0, 0, 0, 0, 0, 0, 0, 0, 0, 0, 0, 0, 0, 0, 0, 0, 0, 0, 0, 0, 0, 0, 0, 0, 0, 0, 0, 0, 0, 0, 0, 0, 0, 0, 0, 0, 1, 0, 0, 0, 0, 0, 0, 0, 0, 0, 0, 0, 0, 0, 0, 0, 0, 0, 0, 0, 0, 0, 0, 0, 0, 0, 0, 0, 0, 0, 0, 0, 0, 0, 0, 0, 0, 0, 0, 0, 0, 0, 0, 0, 0, 0, 0, 0, 0, 0, 0, 0, 0, 0, 0, 0, 0, 0, 0, 0, 0, 0, 0, 0, 0, 0, 0, 0, 0, 0, 0, 0, 0, 0, 0, 0, 0, 0, 0, 0, 0, 0, 0, 0, 0, 0, 0, 0, 0, 0, 0, 0, 0, 0, 0, 0, 0, 0, 0, 0, 0, 0, 0, 0, 0, 0, 0, 0, 0, 0, 0, 0, 0, 0, 0, 0, 0, 0, 0, 0, 0, 0, 0, 0, 0, 0, 0, 0, 0, 0, 0, 0, 0, 0, 0, 0, 0, 0, 0, 0, 0, 0, 0, 0, 0, 0, 0, 0, 0, 0, 0, 0, 0, 0, 0, 0, 0, 0, 0, 0, 0, 0, 0, 0, 0, 0, 0, 0, 0, 0, 0, 0, 0, 0, 0, 0, 0, 0, 0, 0, 0, 0, 0, 0, 0, 0, 0, 0, 0, 0, 0, 0, 0, 0, 0, 0, 0, 0, 0, 0, 0, 0, 0, 0, 0, 0, 0, 0, 0, 0, 0, 0, 0, 0, 0, 0, 0, 0, 0, 0, 0, 0, 0, 0, 0, 0, 0, 0, 0, 0, 0, 0, 0, 0, 0, 0, 0, 0, 0, 0, 0, 0, 0, 0, 0, 0, 0, 0, 0, 0, 0, 0, 0, 0, 0, 0, 0, 0, 0, 0, 0, 0, 0, 0, 0, 0, 0, 0, 0, 0, 0, 0, 0, 0, 0, 0, 0, 0, 0, 0, 0, 0, 0, 0, 0, 0, 0, 0, 0, 0, 0, 0, 0, 0, 0, 0, 0, 0, 0, 0, 0, 0, 0, 0, 0, 0, 0, 0, 0, 0, 0, 0, 0, 0, 0, 0, 0, 0, 0, 0, 0, 0, 0, 0, 0, 0, 0, 0, 0, 0, 0, 0, 0, 0, 0, 0, 0, 0, 0, 0, 0, 0, 0, 0, 0, 0, 0, 0, 0, 0, 0, 0, 0, 0, 0, 0, 0, 0, 0, 0, 0, 0, 0, 0, 0, 0, 0, 0, 0, 0, 0, 0, 0, 0, 0, 0, 0, 0, 0, 0, 0, 0, 0, 0, 0, 0, 0, 0, 0, 0, 0, 0, 0, 0, 0, 0, 0, 0, 0, 0, 0, 0, 0, 0, 0, 0, 0, 0, 0, 0, 0, 0, 0, 0, 0, 0, 0, 0, 0, 0, 0, 0, 0, 0, 0, 0, 0, 0, 0, 0, 0, 0, 0, 0, 0, 0, 0, 0, 0, 0, 0, 0, 0, 0, 0, 0, 0, 0, 0, 0, 0, 0, 0, 0, 0, 0, 0, 0, 0, 0, 0, 0, 0, 0, 0, 0, 0, 0, 0, 0, 0, 0, 0, 0, 0, 0, 0, 0, 0, 0, 0, 0, 0, 0, 0, 0, 0, 0, 0, 0, 0, 0, 0, 0, 0, 0, 0, 0, 0, 0, 0, 0, 0, 0, 0, 0, 0, 0, 0, 0, 0, 0, 0, 0, 0, 0, 0, 0, 0, 0, 0, 0, 0, 0, 0, 0, 0, 0, 0, 0, 0, 0, 0, 0, 0, 0, 0, 0, 0, 0, 0, 0, 0, 0, 0, 0, 0, 0, 0, 0, 0, 0, 0, 0, 0, 0, 0, 0, 0, 0, 0, 0, 0, 0, 0, 0, 0, 0, 0, 0, 0, 0, 0, 0, 0, 0, 0, 0, 0, 0, 0, 0, 0, 0, 0, 0, 0, 0, 0, 0, 0, 0, 0, 0, 0, 0, 0, 0, 0, 0, 0, 0, 0, 0, 0, 0, 0, 0, 0, 0, 0, 0, 0, 0, 0, 0, 0, 0, 0, 0, 0, 0, 0, 0, 0, 0, 0, 0, 0, 0, 0, 0, 0, 0, 0, 0, 0, 0, 0, 0, 0, 0, 0, 0, 0, 0, 0, 0, 0, 0, 0, 0, 0, 0, 0, 0, 0, 0, 0, 0, 0, 0, 0, 0, 0, 0, 0, 0, 0, 0, 0, 0, 0, 0, 0, 0, 0, 0, 0, 0, 0, 0, 1, 0, 0, 0, 0, 0, 0, 0, 0, 0, 0, 0, 0, 0, 0, 0, 0, 0, 0, 0, 0, 0, 0, 0, 0, 0, 0, 0, 0, 0, 0, 0, 0, 0, 0, 0, 0, 0, 0, 0, 0, 0, 0, 0, 0, 0, 0, 0, 0, 0, 0, 0, 0, 0, 0, 0, 0, 0, 0, 0, 0, 0, 0, 0, 0, 0, 0, 0, 0, 0, 0, 0, 0, 0, 0, 1, 0, 0, 0, 0, 0, 0, 0, 0, 0, 0, 0, 0, 0, 0, 0, 0, 0, 0, 0, 0, 1, 0, 0, 1, 0, 0, 0, 0, 0, 0, 0, 0, 0, 0, 0, 0, 0, 0, 0, 0, 0, 0, 0, 0, 0, 0, 0, 0, 0, 0, 0, 0, 0, 0, 0, 0, 0, 0, 0, 0, 0, 0, 0, 0, 0, 0, 0, 0, 0, 0, 0, 0, 0, 0, 0, 0, 0, 0, 0, 0, 0, 0, 0, 0, 0, 0, 0, 0, 0, 0, 0, 0, 0, 0, 0, 0, 0, 0, 0, 0, 0, 0, 0, 0, 0, 0, 0, 0, 0, 0, 0, 0, 0, 0, 0, 0, 0, 0, 0, 0, 0, 0, 0, 0, 0, 0, 0, 0, 0, 0, 0, 0, 0, 0, 0, 0, 0, 0, 0, 0, 0, 0, 0, 0, 0, 0, 0, 0, 0, 0, 0, 0, 0, 0, 0, 0, 0, 0, 0, 0, 0, 0, 0, 0, 0, 0, 0, 0, 0, 0, 0, 0, 0, 0, 0, 0, 0, 0, 0, 0, 0, 0, 0, 0, 0, 0, 0, 0, 0, 0, 0, 0, 0, 0, 0, 0, 0, 0, 0, 0, 0, 0, 0, 0, 0, 0, 0, 0, 0, 0, 0, 0, 0, 0, 0, 0, 0, 0, 0, 0, 0, 0, 0, 0, 0, 0, 0, 0, 0, 0, 0, 0, 0, 0, 0, 0, 0, 0, 0, 0, 0, 0, 0, 0, 0, 0, 0, 0, 0, 0, 0, 0, 0, 0, 0, 0, 0, 0, 0, 0, 0, 0, 0, 0, 0, 0, 0, 0, 0, 0, 0, 0, 0, 0, 0, 0, 0, 0, 0, 0, 0, 0, 0, 0, 0, 0, 0, 0, 0, 0, 0, 0, 0, 0, 0, 0, 0, 0, 0, 0, 0, 0, 0, 0, 0, 0, 0, 0, 0, 0, 0, 0, 0, 0, 0, 0, 0, 0, 0, 0, 0, 0, 0, 0, 0, 0, 0, 0, 0, 0, 0, 0, 0, 0, 0, 0, 0, 0, 0, 0, 0, 0, 0, 0, 0, 0, 0, 0, 0, 0, 0, 0, 0, 0, 0, 0, 0, 0, 0, 0, 0, 0, 0, 0, 0, 0, 0, 0, 0, 0, 0, 0, 0, 0, 0, 0, 0, 0, 0, 0, 0, 0, 0, 0, 0, 0, 0, 0, 0, 0, 0, 0, 0, 0, 0, 0, 0, 0, 0, 0, 0, 0, 0, 0, 0, 0, 0, 0, 0, 0, 0, 0, 0, 0, 0, 0, 0, 0, 0, 0, 0, 0, 0, 0, 0, 0, 0, 0, 0, 0, 0, 0, 0, 0, 0, 0, 0, 0, 0, 0, 0, 0, 0, 0, 0, 0, 0, 0, 0, 0, 0, 0, 0, 0, 0, 0, 0, 0, 0, 0, 0, 0, 0, 0, 0, 0, 0, 0, 0, 0, 0, 0, 0, 0, 0, 0, 0, 0, 0, 0, 0, 0, 0, 0, 0, 0, 0, 0, 0, 0, 1, 0, 0, 0, 0, 0, 0, 0, 0, 0, 0, 0, 0, 0, 0, 0, 0, 0, 0, 0, 0, 0, 0, 0, 0, 0, 0, 0, 0, 0, 0, 0, 0, 0, 0, 0, 0, 0, 0, 0, 0, 0, 0, 0, 0, 0, 0, 0, 0, 0, 0, 0, 0, 0, 0, 0, 0, 0, 0, 0, 0, 0, 0, 0, 0, 0, 0, 0, 0, 0, 0, 0, 0, 0, 0, 0, 0, 0, 0, 0, 0, 0, 0, 0, 0, 0, 0, 0, 0, 0, 0, 0, 0, 0, 0, 0, 0, 0, 0, 0, 0, 0, 0, 0, 0, 0, 0, 0, 0, 0, 0, 0, 0, 0, 0, 0, 0, 0, 0, 0, 0, 0, 0, 0, 0, 0, 0, 0, 0, 0, 0, 0, 0, 0, 0, 0, 0, 0, 0, 0, 0, 0, 0, 0, 0, 0, 0, 0, 0, 0, 0, 0, 0, 0, 0, 0, 0, 0, 0, 0, 0, 0, 0, 0, 0, 0, 0, 0, 0, 0, 0, 0, 0, 0, 0, 0, 0, 0, 0, 0, 0, 0, 0, 0, 0, 0, 0, 0, 0, 0, 0, 0, 0, 0, 0, 0, 0, 0, 0, 0, 0, 0, 0, 0, 0, 0, 0, 0, 0, 0, 0, 0, 0, 0, 0, 0, 0, 0, 0, 0, 0, 0, 0, 0, 0, 0, 0, 0, 0, 0, 0, 0, 0, 0, 0, 0, 0, 0, 0, 0, 0, 0, 0, 0, 0, 0, 0, 0, 0, 0, 0, 0, 0, 0, 0, 0, 0, 0, 0, 0, 0, 0, 0, 0, 0, 0, 0, 0, 0, 0, 0, 0, 0, 0, 0, 0, 0, 0, 0, 0, 0, 0, 0, 0, 0, 0, 0, 0, 0, 0, 0, 0, 0, 0, 0, 0, 0, 0, 0, 0, 0, 0, 0, 0, 0, 0, 0, 0, 0, 0, 0, 0, 0, 0, 0, 0, 0, 0, 0, 0, 0, 0, 0, 0, 0, 0, 0, 0, 0, 0, 0, 0, 0, 0, 0, 0, 0, 0, 0, 0, 0, 0, 0, 0, 0, 0, 0, 0, 0, 0, 0, 0, 0, 0, 0, 0, 0, 0, 0, 0, 0, 0, 0, 0, 0, 0, 0, 0, 0, 0, 0, 0, 0, 0, 0, 0, 0, 0, 0, 0, 0, 0, 0, 0, 0, 0, 0, 0, 0, 0, 0, 0, 0, 0, 0, 0, 0, 0, 0, 0, 0, 0, 0, 0, 0, 0, 0, 0, 0, 0, 0, 0, 0, 0, 0, 0, 0, 0, 0, 0, 0, 0, 0, 0, 0, 0, 0, 0, 0, 0, 0, 0, 0, 0, 0, 0, 0, 0, 0, 0, 0, 0, 0, 0, 0, 0, 0, 0, 0, 0, 0, 0, 0, 0, 0, 0, 0, 0, 0, 0, 0, 0, 0, 0, 0, 0, 0, 0, 0, 0, 0, 0, 0, 0, 0, 0, 0, 0, 0, 0, 0, 0, 0, 0, 0, 0, 0, 0, 0, 0, 0, 0, 0, 0, 0, 0, 0, 0, 0, 0, 0, 0, 0, 0, 0, 0, 0, 0, 0, 0, 0, 0, 0, 1, 0, 0, 0, 0, 0, 0, 0, 0, 0, 0, 0, 0, 0, 0, 0, 0, 0, 0, 0, 0, 0, 0, 0, 0, 0, 0, 0, 0, 0, 0, 0, 0, 0, 0, 0, 2, 0, 0, 0, 0, 0, 0, 0, 0, 0, 0, 0, 0, 0, 0, 0, 0, 0, 0, 0, 0, 0, 0, 0, 0, 0, 0, 0, 0, 0, 0, 0, 0, 0, 0, 0, 0, 0, 0, 0, 0, 1, 0, 0, 0, 0, 0, 0, 0, 0, 0, 0, 0, 0, 0, 0, 0, 0, 0, 0, 0, 0, 0, 0, 0, 0, 0, 0, 0, 0, 0, 0, 0, 0, 0, 0, 0, 0, 0, 0, 0, 0, 0, 0, 0, 0, 0, 0, 0, 0, 0, 0, 0, 0, 0, 0, 0, 0, 0, 0, 0, 0, 0, 0, 0, 0, 0, 0, 0, 0, 0, 0, 0, 0, 0, 0, 0, 0, 0, 0, 0, 0, 0, 0, 0, 0, 0, 0, 0, 0, 0, 0, 0, 0, 0, 0, 0, 0, 0, 0, 0, 0, 0, 0, 0, 0, 0, 0, 0, 0, 0, 0, 0, 0, 0, 0, 0, 0, 0, 0, 0, 0, 0, 0, 0, 0, 0, 0, 0, 0, 0, 0, 0, 0, 0, 0, 0, 0, 0, 0, 0, 0, 0, 0, 0, 0, 0, 0, 0, 0, 0, 0, 0, 0, 0, 0, 0, 0, 0, 0, 0, 0, 0, 0, 0, 0, 0, 0, 0, 0, 0, 0, 0, 0, 0, 0, 0, 0, 0, 0, 0, 0, 0, 0, 0, 0, 0, 0, 0, 0, 0, 0, 0, 0, 0, 0, 0, 0, 0, 0, 0, 0, 0, 0, 0, 0, 0, 0, 0, 0, 0, 0, 0, 0, 0, 0, 0, 0, 0, 0, 0, 0, 0, 0, 0, 0, 0, 0, 0, 0, 0, 0, 0, 0, 0, 0, 0, 0, 0, 0, 0, 0, 0, 0, 0, 0, 0, 0, 0, 0, 0, 0, 0, 0, 0, 0, 0, 0, 0, 0, 0, 0, 0, 0, 0, 0, 0, 0, 0, 0, 0, 0, 0, 0, 0, 0, 0, 0, 0, 0, 0, 0, 0, 0, 0, 0, 0, 0, 0, 0, 0, 0, 0, 0, 0, 0, 0, 0, 0, 0, 0, 0, 0, 0, 0, 0, 0, 0, 0, 0, 0, 0, 0, 0, 0, 0, 0, 0, 0, 0, 0, 0, 0, 0, 0, 0, 0, 0, 0, 0, 0, 0, 0, 0, 0, 0, 0, 0, 0, 0, 0, 0, 0, 0, 0, 0, 0, 0, 0, 0, 0, 0, 0, 0, 0, 0, 0, 0, 0, 0, 0, 0, 0, 0, 0, 0, 0, 0, 0, 0, 0, 0, 0, 0, 0, 0, 0, 0, 0, 0, 0, 0, 0, 0, 0, 0, 0, 0, 0, 0, 0, 0, 0, 0, 0, 0, 0, 0, 0, 0, 0, 0, 0, 0, 0, 0, 0, 0, 0, 0, 0, 0, 0, 0, 0, 0, 0, 0, 0, 0, 0, 0, 0, 0, 0, 0, 0, 0, 0, 0, 0, 0, 0, 0, 0, 0, 0, 0, 0, 0, 0, 0, 0, 0, 0, 0, 0, 0, 0, 0, 0, 0, 0, 0, 0, 0, 0, 0, 0, 0, 0, 0, 0, 0, 0, 0, 0, 0, 0, 0, 0, 0, 0, 0, 0, 0, 0, 0, 0, 0, 0, 0, 0, 0, 0, 0, 0, 0, 0, 0, 0, 0, 0, 0, 0, 0, 0, 0, 0, 1, 0, 0, 0, 0, 0, 0, 0, 0, 0, 0, 0, 0, 0, 0, 0, 0, 0, 0, 0, 0, 0, 0, 0, 0, 0, 0, 0, 0, 0, 0, 0, 0, 0, 0, 0, 0, 0, 0, 0, 0, 0, 0, 0, 0, 0, 0, 0, 0, 0, 0, 0, 0, 0, 0, 0, 0, 0, 0, 0, 0, 0, 0, 0, 0, 0, 0, 0, 0, 0, 0, 0, 0, 0, 0, 0, 0, 0, 0, 0, 0, 0, 0, 0, 0, 0, 0, 0, 0, 0, 0, 0, 0, 0, 0, 0, 0, 0, 0, 0, 0, 0, 0, 0, 0, 0, 0, 0, 0, 0, 0, 2, 0, 0, 0, 0, 0, 0, 0, 0, 0, 0, 0, 0, 0, 0, 0, 0, 0, 0, 0, 0, 0, 0, 0, 0, 0, 0, 0, 0, 0, 0, 0, 0, 0, 0, 0, 0, 0, 0, 0, 0, 0, 0, 0, 0, 0, 0, 0, 0, 0, 0, 0, 0, 0, 0, 0, 0, 0, 0, 0, 0, 0, 0, 0, 0, 0, 0, 0, 0, 0, 0, 0, 0, 0, 0, 0, 0, 0, 0, 0, 0, 0, 0, 0, 0, 0, 0, 0, 0, 0, 0, 0, 0, 0, 0, 0, 0, 0, 0, 0, 0, 0, 0, 0, 0, 0, 0, 0, 0, 0, 0, 0, 0, 0, 0, 0, 0, 0, 0, 0, 0, 0, 0, 0, 0, 0, 0, 0, 0, 0, 0, 0, 0, 0, 0, 0, 0, 0, 0, 0, 0, 0, 0, 0, 0, 0, 0, 0, 0, 0, 0, 0, 0, 0, 0, 0, 0, 0, 0, 0, 0, 0, 0, 0, 0, 0, 0, 0, 0, 0, 0, 0, 0, 0, 0, 0, 0, 0, 0, 0, 0, 0, 0, 0, 0, 0, 0, 0, 0, 0, 0, 0, 0, 0, 0, 0, 0, 0, 0, 0, 0, 0, 0, 0, 0, 0, 0, 0, 0, 0, 0, 0, 0, 0, 0, 0, 0, 0, 0, 0, 0, 0, 0, 0, 0, 0, 0, 0, 0, 0, 0, 0, 0, 0, 0, 0, 0, 0, 0, 0, 0, 0, 0, 0, 0, 0, 0, 0, 0, 0, 0, 0, 0, 0, 0, 0, 0, 0, 0, 0, 0, 0, 0, 0, 0, 0, 0, 0, 0, 0, 0, 0, 0, 0, 0, 0, 0, 0, 0, 0, 0, 0, 0, 0, 0, 0, 0, 0, 0, 0, 0, 0, 0, 0, 0, 0, 0, 0, 0, 0, 0, 0, 0, 0, 0, 0, 0, 0, 0, 0, 0, 0, 0, 0, 0, 0, 0, 0, 0, 0, 0, 0, 0, 0, 0, 0, 0, 0, 0, 0, 0, 0, 0, 0, 0, 0, 0, 0, 0, 0, 0, 0, 0, 0, 0, 0, 0, 0, 0, 0, 0, 0, 0, 0, 0, 0, 0, 0, 0, 0, 0, 0, 0, 0, 0, 0, 0, 0, 0, 0, 0, 0, 0, 0, 0, 0, 0, 0, 0, 0, 0, 0, 0, 0, 0, 0, 0, 0, 0, 0, 0, 0, 0, 0, 0, 0, 0, 0, 0, 0, 0, 0, 0, 0, 0, 0, 0, 0, 0, 0, 0, 0, 0, 0, 0, 0, 0, 0, 0, 0, 0, 0, 0, 0, 0, 0, 0, 0, 0, 0, 0, 0, 0, 0, 0, 0, 0, 0, 0, 0, 0, 0, 0, 0, 0, 0, 0, 0, 0, 0, 0, 0, 0, 0, 0, 0, 0, 0, 0, 0, 0, 0, 0, 0, 0, 0, 0, 0, 0, 0, 0, 0, 0, 0, 0, 0, 0, 0, 0, 0, 0, 0, 0, 0, 0, 0, 0, 0, 0, 0, 0, 0, 0, 0, 0, 0, 0, 0, 0, 0, 0, 0, 0, 0, 0, 0, 0, 0, 0, 0, 0, 0, 0, 0, 0, 0, 0, 0, 0, 0, 0, 0, 0, 0, 0, 0, 0, 0, 0, 0, 0, 0, 0, 0, 0, 0, 0, 0, 0, 0, 0, 0, 0, 0, 0, 0, 0, 0, 0, 0, 0, 0, 0, 0, 0, 0, 0, 0, 0, 0, 0, 0, 0, 0, 0, 0, 0, 0, 0, 0, 0, 0, 0, 0, 0, 0, 0, 0, 0, 0, 0, 0, 0, 0, 0, 0, 0, 0, 0, 0, 0, 0, 0, 0, 0, 0, 0, 0, 0, 0, 0, 0, 0, 0, 0, 0, 0, 0, 0, 0, 0, 0, 0, 0, 0, 0, 0, 0, 0, 0, 0, 0, 0, 0, 0, 0, 0, 0, 0, 0, 0, 0, 0, 0, 0, 0, 0, 0, 0, 0, 0, 0, 0, 0, 0, 0, 0, 0, 0, 0, 0, 0, 0, 0, 0, 0, 0, 0, 0, 0, 0, 0, 0, 0, 0, 0, 0, 0, 0, 0, 0, 0, 0, 0, 0, 0, 0, 0, 0, 0, 0, 0, 0, 0, 0, 0, 0, 0, 0, 0, 0, 1, 0, 0, 0, 0, 0, 0, 0, 0, 0, 0, 0, 0, 0, 0, 0, 0, 0, 0, 0, 0, 0, 0, 0, 0, 0, 0, 0, 0, 0, 0, 0, 0, 0, 0, 0, 0, 0, 0, 0, 0, 0, 0, 0, 0, 0, 0, 0, 0, 0, 0, 0, 0, 0, 0, 0, 0, 0, 0, 0, 0, 0, 0, 0, 0, 0, 0, 0, 0, 0, 0, 0, 0, 0, 0, 0, 0, 0, 0, 0, 0, 0, 0, 0, 0, 0, 0, 0, 0, 0, 0, 0, 0, 0, 0, 0, 0, 0, 0, 0, 0, 0, 0, 0, 0, 0, 0, 0, 1, 0, 0, 0, 0, 0, 0, 0, 0, 0, 0, 0, 0, 0, 0, 0, 0, 0, 0, 0, 0, 0, 0, 0, 0, 0, 0, 0, 0, 0, 0, 0, 0, 0, 0, 0, 0, 0, 0, 0, 0, 0, 0, 0, 0, 0, 0, 0, 0, 0, 0, 0, 0, 0, 0, 0, 0, 0, 0, 0, 0, 0, 0, 0, 0, 0, 0, 0, 0, 0, 0, 0, 0, 0, 0, 0, 0, 0, 0, 0, 0, 0, 0, 0, 0, 0, 0, 0, 0, 0, 0, 0, 0, 0, 0, 0, 0, 0, 0, 0, 0, 0, 0, 0, 0, 0, 0, 0, 0, 0, 0, 0, 0, 0, 0, 0, 0, 0, 0, 0, 0, 0, 0, 0, 0, 0, 0, 0, 0, 0, 0, 0, 0, 0, 0, 0, 0, 0, 0, 0, 0, 0, 0, 0, 0, 0, 0, 0, 0, 0, 0, 0, 0, 0, 0, 0, 0, 0, 0, 0, 0, 0, 0, 0, 0, 0, 0, 0, 0, 0, 0, 0, 0, 0, 0, 0, 0, 0, 0, 0, 0, 0, 0, 0, 0, 0, 0, 0, 0, 0, 0, 0, 0, 0, 0, 0, 0, 0, 0, 0, 0, 0, 0, 0, 0, 0, 0, 0, 0, 0, 0, 0, 0, 0, 0, 0, 0, 0, 0, 0, 0, 0, 0, 0, 0, 0, 0, 0, 0, 0, 0, 0, 0, 0, 0, 0, 0, 0, 0, 0, 0, 0, 0, 0, 0, 0, 0, 0, 0, 0, 0, 0, 0, 0, 0, 0, 0, 0, 0, 0, 0, 0, 0, 0, 0, 0, 0, 0, 0, 0, 0, 0, 0, 0, 0, 0, 0, 0, 0, 0, 0, 0, 0, 0, 0, 0, 0, 0, 0, 0, 0, 0, 0, 0, 0, 0, 0, 0, 0, 0, 0, 0, 0, 0, 0, 0, 0, 0, 0, 0, 0, 0, 0, 0, 0, 0, 0, 0, 0, 0, 0, 0, 0, 0, 0, 0, 0, 0, 0, 0, 0, 0, 0, 0, 0, 0, 0, 0, 0, 0, 0, 0, 0, 0, 0, 0, 0, 0, 0, 0, 0, 0, 0, 0, 0, 0, 0, 0, 0, 0, 0, 0, 0, 0, 0, 0, 0, 0, 0, 0, 0, 0, 0, 0, 0, 0, 0, 0, 0, 0, 0, 0, 0, 0, 0, 0, 0, 0, 0, 0, 0, 0, 0, 0, 0, 0, 0, 0, 0, 0, 0, 0, 0, 0, 0, 0, 0, 0, 0, 0, 0, 0, 0, 0, 0, 0, 0, 0, 0, 0, 0, 0, 0, 0, 0, 0, 0, 0, 0, 0, 0, 0, 0, 0, 0, 0, 0, 0, 0, 0, 0, 0, 0, 0, 0, 0, 0, 0, 0, 0, 0, 0, 0, 0, 0, 0, 0, 0, 0, 0, 0, 0, 0, 0, 2, 0, 1, 0], type: <class 'list'>, valid types: <class 'bytes'>, <class 'bytearray'>, file-like object"
     ]
    }
   ],
   "source": [
    "response = runtime.invoke_endpoint(EndpointName = xgb_predictor.endpoint, # The name of the endpoint we created\n",
    "                                       ContentType = 'text/csv',                     # The data format that is expected\n",
    "                                       Body = test_bow)"
   ]
  },
  {
   "cell_type": "markdown",
   "metadata": {},
   "source": [
    "So why did we get an error?\n",
    "\n",
    "Because we tried to send the endpoint a list of integers but it expected us to send data of type `text/csv`. So, we need to convert it."
   ]
  },
  {
   "cell_type": "code",
   "execution_count": 46,
   "metadata": {},
   "outputs": [],
   "source": [
    "response = runtime.invoke_endpoint(EndpointName = xgb_predictor.endpoint, # The name of the endpoint we created\n",
    "                                       ContentType = 'text/csv',                     # The data format that is expected\n",
    "                                       Body = ','.join([str(val) for val in test_bow]).encode('utf-8'))"
   ]
  },
  {
   "cell_type": "code",
   "execution_count": 47,
   "metadata": {},
   "outputs": [
    {
     "name": "stdout",
     "output_type": "stream",
     "text": [
      "{'ResponseMetadata': {'RequestId': '6f161eff-432c-46f2-9e81-4c212f253437', 'HTTPStatusCode': 200, 'HTTPHeaders': {'x-amzn-requestid': '6f161eff-432c-46f2-9e81-4c212f253437', 'x-amzn-invoked-production-variant': 'AllTraffic', 'date': 'Fri, 23 Jul 2021 02:07:45 GMT', 'content-type': 'text/csv; charset=utf-8', 'content-length': '19'}, 'RetryAttempts': 0}, 'ContentType': 'text/csv; charset=utf-8', 'InvokedProductionVariant': 'AllTraffic', 'Body': <botocore.response.StreamingBody object at 0x7fbb2c520f98>}\n"
     ]
    }
   ],
   "source": [
    "print(response)"
   ]
  },
  {
   "cell_type": "markdown",
   "metadata": {},
   "source": [
    "As we can see, the response from our model is a somewhat complicated looking dict that contains a bunch of information. The bit that we are most interested in is `'Body'` object which is a streaming object that we need to `read` in order to make use of."
   ]
  },
  {
   "cell_type": "code",
   "execution_count": 48,
   "metadata": {},
   "outputs": [
    {
     "name": "stdout",
     "output_type": "stream",
     "text": [
      "0.48044708371162415\n"
     ]
    }
   ],
   "source": [
    "response = response['Body'].read().decode('utf-8')\n",
    "print(response)"
   ]
  },
  {
   "cell_type": "markdown",
   "metadata": {},
   "source": [
    "Now that we know how to process the incoming user data we can start setting up the infrastructure to make our simple web app work. To do this we will make use of two different services. Amazon's Lambda and API Gateway services.\n",
    "\n",
    "Lambda is a service which allows someone to write some relatively simple code and have it executed whenever a chosen trigger occurs. For example, you may want to update a database whenever new data is uploaded to a folder stored on S3.\n",
    "\n",
    "API Gateway is a service that allows you to create HTTP endpoints (url addresses) which are connected to other AWS services. One of the benefits to this is that you get to decide what credentials, if any, are required to access these endpoints.\n",
    "\n",
    "In our case we are going to set up an HTTP endpoint through API Gateway which is open to the public. Then, whenever anyone sends data to our public endpoint we will trigger a Lambda function which will send the input (in our case a review) to our model's endpoint and then return the result."
   ]
  },
  {
   "cell_type": "markdown",
   "metadata": {},
   "source": [
    "### Setting up a Lambda function\n",
    "\n",
    "The first thing we are going to do is set up a Lambda function. This Lambda function will be executed whenever our public API has data sent to it. When it is executed it will receive the data, perform any sort of processing that is required, send the data (the review) to the SageMaker endpoint we've created and then return the result.\n",
    "\n",
    "#### Part A: Create an IAM Role for the Lambda function\n",
    "\n",
    "Since we want the Lambda function to call a SageMaker endpoint, we need to make sure that it has permission to do so. To do this, we will construct a role that we can later give the Lambda function.\n",
    "\n",
    "Using the AWS Console, navigate to the **IAM** page and click on **Roles**. Then, click on **Create role**. Make sure that the **AWS service** is the type of trusted entity selected and choose **Lambda** as the service that will use this role, then click **Next: Permissions**.\n",
    "\n",
    "In the search box type `sagemaker` and select the check box next to the **AmazonSageMakerFullAccess** policy. Then, click on **Next: Review**.\n",
    "\n",
    "Lastly, give this role a name. Make sure you use a name that you will remember later on, for example `LambdaSageMakerRole`. Then, click on **Create role**."
   ]
  },
  {
   "cell_type": "markdown",
   "metadata": {},
   "source": [
    "#### Part B: Create a Lambda function\n",
    "\n",
    "Now it is time to actually create the Lambda function. Remember from earlier that in order to process the user provided input and send it to our endpoint we need to gather two pieces of information:\n",
    "\n",
    " - The name of the endpoint, and\n",
    " - the vocabulary object.\n",
    "\n",
    "We will copy these pieces of information to our Lambda function after we create it.\n",
    "\n",
    "To start, using the AWS Console, navigate to the AWS Lambda page and click on **Create a function**. When you get to the next page, make sure that **Author from scratch** is selected. Now, name your Lambda function, using a name that you will remember later on, for example `sentiment_analysis_xgboost_func`. Make sure that the **Python 3.6** runtime is selected and then choose the role that you created in the previous part. Then, click on **Create Function**.\n",
    "\n",
    "On the next page you will see some information about the Lambda function you've just created. If you scroll down you should see an editor in which you can write the code that will be executed when your Lambda function is triggered. Collecting the code we wrote above to process a single review and adding it to the provided example `lambda_handler` we arrive at the following.\n",
    "\n",
    "```python\n",
    "# We need to use the low-level library to interact with SageMaker since the SageMaker API\n",
    "# is not available natively through Lambda.\n",
    "import boto3\n",
    "\n",
    "# And we need the regular expression library to do some of the data processing\n",
    "import re\n",
    "\n",
    "REPLACE_NO_SPACE = re.compile(\"(\\.)|(\\;)|(\\:)|(\\!)|(\\')|(\\?)|(\\,)|(\\\")|(\\()|(\\))|(\\[)|(\\])\")\n",
    "REPLACE_WITH_SPACE = re.compile(\"(<br\\s*/><br\\s*/>)|(\\-)|(\\/)\")\n",
    "\n",
    "def review_to_words(review):\n",
    "    words = REPLACE_NO_SPACE.sub(\"\", review.lower())\n",
    "    words = REPLACE_WITH_SPACE.sub(\" \", words)\n",
    "    return words\n",
    "    \n",
    "def bow_encoding(words, vocabulary):\n",
    "    bow = [0] * len(vocabulary) # Start by setting the count for each word in the vocabulary to zero.\n",
    "    for word in words.split():  # For each word in the string\n",
    "        if word in vocabulary:  # If the word is one that occurs in the vocabulary, increase its count.\n",
    "            bow[vocabulary[word]] += 1\n",
    "    return bow\n",
    "\n",
    "\n",
    "def lambda_handler(event, context):\n",
    "    \n",
    "    vocab = \"*** ACTUAL VOCABULARY GOES HERE ***\"\n",
    "    \n",
    "    words = review_to_words(event['body'])\n",
    "    bow = bow_encoding(words, vocab)\n",
    "\n",
    "    # The SageMaker runtime is what allows us to invoke the endpoint that we've created.\n",
    "    runtime = boto3.Session().client('sagemaker-runtime')\n",
    "\n",
    "    # Now we use the SageMaker runtime to invoke our endpoint, sending the review we were given\n",
    "    response = runtime.invoke_endpoint(EndpointName = '***ENDPOINT NAME HERE***',# The name of the endpoint we created\n",
    "                                       ContentType = 'text/csv',                 # The data format that is expected\n",
    "                                       Body = ','.join([str(val) for val in bow]).encode('utf-8')) # The actual review\n",
    "\n",
    "    # The response is an HTTP response whose body contains the result of our inference\n",
    "    result = response['Body'].read().decode('utf-8')\n",
    "    \n",
    "    # Round the result so that our web app only gets '1' or '0' as a response.\n",
    "    result = round(float(result))\n",
    "\n",
    "    return {\n",
    "        'statusCode' : 200,\n",
    "        'headers' : { 'Content-Type' : 'text/plain', 'Access-Control-Allow-Origin' : '*' },\n",
    "        'body' : str(result)\n",
    "    }\n",
    "```"
   ]
  },
  {
   "cell_type": "markdown",
   "metadata": {},
   "source": [
    "Once you have copy and pasted the code above into the Lambda code editor, replace the `**ENDPOINT NAME HERE**` portion with the name of the endpoint that we deployed earlier. You can determine the name of the endpoint using the code cell below."
   ]
  },
  {
   "cell_type": "code",
   "execution_count": 49,
   "metadata": {},
   "outputs": [
    {
     "data": {
      "text/plain": [
       "'xgboost-2021-07-23-01-26-20-869'"
      ]
     },
     "execution_count": 49,
     "metadata": {},
     "output_type": "execute_result"
    }
   ],
   "source": [
    "xgb_predictor.endpoint"
   ]
  },
  {
   "cell_type": "markdown",
   "metadata": {},
   "source": [
    "In addition, you will need to copy the vocabulary dict to the appropriate place in the code at the beginning of the `lambda_handler` method. The cell below prints out the vocabulary dict in a way that is easy to copy and paste."
   ]
  },
  {
   "cell_type": "code",
   "execution_count": 50,
   "metadata": {},
   "outputs": [
    {
     "name": "stdout",
     "output_type": "stream",
     "text": [
      "{'fine': 1729, 'effort': 1432, 'for': 1784, 'an': 223, 'australian': 357, 'show': 3953, 'which': 4867, 'is': 2360, 'probably': 3407, 'not': 3040, 'surprising': 4315, 'seeing': 3857, 'as': 311, 'there': 4438, 'seems': 3864, 'to': 4507, 'be': 418, 'somewhat': 4068, 'of': 3083, 'in': 2257, 'quality': 3484, 'drama': 1346, 'dare': 1113, 'compare': 911, 'this': 4457, 'the': 4426, 'brilliance': 582, 'love': 2669, 'my': 2951, 'way': 4820, 'no': 3020, 'but': 636, 'it': 2366, 'reminiscent': 3621, 'early': 1400, 'secret': 3849, 'life': 2592, 'us': 4690, 'cast': 710, 'great': 1964, 'works': 4945, 'her': 2085, 'magic': 2703, 'first': 1736, 'two': 4620, 'episodes': 1508, 'have': 2052, 'seen': 3865, 'british': 589, 'strong': 4229, 'also': 199, 'especially': 1520, 'and': 226, 'characters': 760, 'may': 2775, 'saving': 3797, 'light': 2595, 'that': 4424, 'needs': 2990, 'if': 2222, 'get': 1899, 'another': 250, 'season': 3843, 'wasnt': 4807, 'fan': 1648, 'his': 2118, 'performance': 3228, 'awesome': 371, 'time': 4495, 'mini': 2854, 'series': 3890, 'few': 1700, 'years': 4979, 'back': 378, 'he': 2056, 'was': 4805, 'hal': 2006, 'always': 203, 'its': 2370, 'good': 1937, 'see': 3855, 'again': 146, 'lets': 2580, 'hope': 2155, 'keeps': 2451, 'with': 4911, 'each': 1395, 'episode': 1507, 'film': 1716, 'has': 2043, 'points': 3319, 'hot': 2174, 'chicks': 787, 'people': 3221, 'die': 1243, 'problem': 3408, 'nude': 3058, 'you': 4986, 'dont': 1324, 'many': 2732, 'mostly': 2910, 'just': 2437, 'lots': 2662, 'fast': 1661, 'movements': 2924, 'screaming': 3827, 'though': 4461, 'were': 4848, 'kill': 2468, 'scenes': 3811, 'those': 4460, 'watching': 4815, 'she': 3923, 'side': 3965, 'very': 4723, 'small': 4033, 'role': 3726, 'minor': 2857, 'what': 4858, 'needed': 2988, 'script': 3834, 'story': 4207, 'would': 4957, 'nice': 3008, 'will': 4886, 'complain': 919, 'about': 67, 'simply': 3986, 'put': 3480, 'more': 2904, 'nudity': 3059, 'better': 472, 'face': 1616, 'why': 4878, 'we': 4823, 'watch': 4811, 'these': 4441, 'flicks': 1755, 'wouldnt': 4958, 'waste': 4808, 'money': 2888, 'on': 3105, 'must': 2950, 'wait': 4770, 'until': 4680, 'old': 3100, 'at': 331, 'your': 4991, 'local': 2634, 'video': 4733, 'store': 4204, 'animation': 242, 'simple': 3983, 'vs': 4767, 'evil': 1548, 'plot': 3309, 'all': 187, 'action': 100, 'sets': 3899, 'apart': 264, 'from': 1840, 'other': 3135, 'how': 2181, 'well': 4843, 'human': 2188, 'are': 285, 'animated': 241, 'really': 3556, 'beautiful': 428, 'woman': 4921, 'running': 3756, 'around': 297, 'screen': 3829, 'left': 2561, 'right': 3696, 'look': 2646, 'done': 1322, 'so': 4046, 'they': 4442, 'use': 4692, 'technique': 4383, 'days': 1130, 'quite': 3495, 'effective': 1429, 'fire': 1734, 'ice': 2210, 'setting': 3900, 'dressed': 1358, 'women': 4923, 'clearly': 840, 'devoted': 1231, 'showing': 3958, 'various': 4715, 'sexy': 3911, 'ways': 4822, 'body': 527, 'serving': 3897, 'pure': 3471, 'some': 4061, 'hate': 2046, 'regard': 3588, 'yet': 4984, 'moronic': 2907, 'male': 2719, 'sexual': 3908, 'fantasy': 1652, 'others': 3136, 'including': 2264, 'plenty': 3307, 'sure': 4308, 'did': 1241, 'mind': 2849, 'bakshi': 386, 'loves': 2674, 'can': 665, 'cool': 989, 'world': 4946, 'think': 4452, 'since': 3990, 'pretty': 3384, 'much': 2934, 'adults': 126, 'had': 2003, 'enjoyed': 1486, 'child': 789, 'never': 3001, 'forgot': 1796, 'one': 3107, 'special': 4097, 'different': 1248, 'standard': 4144, 'disney': 1289, 'or': 3124, 'anime': 243, 'fare': 1655, 'reason': 3557, 'alone': 194, 'worth': 4953, 'possibly': 3351, 'finest': 1730, 'who': 4871, 'like': 2599, 'try': 4600, 'space': 4090, 'adventure': 130, 'give': 1912, 'out': 3141, '10': 0, 'finally': 1724, 'saw': 3798, 'tonight': 4519, 'after': 143, 'renting': 3629, 'blockbuster': 509, 'vhs': 4725, 'agree': 155, 'original': 3129, 'yes': 4982, 'maybe': 2776, 'fully': 1847, 'realized': 3553, 'isnt': 2362, 'movies': 2927, 'rather': 3528, 'treated': 4573, 'directors': 1266, 'eye': 1611, 'vision': 4754, 'does': 1308, 'stop': 4201, 'honest': 2146, 'didnt': 1242, 'want': 4788, 'do': 1302, 'believe': 454, 'influenced': 2287, 'stock': 4193, 'smoking': 4040, 'run': 3755, 'absolutely': 72, 'loved': 2670, 'three': 4469, 'leads': 2548, 'street': 4216, 'them': 4432, 'need': 2987, 'work': 4940, 'because': 432, 'intrigued': 2334, 'me': 2778, 'insight': 2298, 'culture': 1079, 'go': 1924, 'somewhere': 4069, 'else': 1448, 'laugh': 2529, 'camera': 659, 'movement': 2923, 'criminal': 1057, 'here': 2086, 'movie': 2926, 'week': 4837, 'ago': 154, 'still': 4188, 'keep': 2449, 'thinking': 4453, 'moved': 2922, 'by': 642, 'found': 1811, 'believable': 453, 'likable': 2598, 'almost': 193, 'fault': 1668, 'real': 3547, 'sometimes': 4067, 'disappoint': 1272, 'case': 707, 'leo': 2571, 'even': 1533, 'liked': 2600, 'character': 758, 'could': 1007, 'been': 438, 'disappointed': 1273, 'when': 4862, 'willing': 4889, 'sex': 3907, 'aware': 368, 'status': 4165, 'available': 361, 'him': 2110, 'awful': 372, 'decided': 1149, 'ship': 3934, 'home': 2142, 'train': 4556, 'showed': 3956, 'numbers': 3061, 'up': 4683, 'young': 4989, 'gay': 1876, 'men': 2805, 'meant': 2784, 'am': 204, 'made': 2697, 'straight': 4210, 'person': 3238, 'makes': 2716, 'bad': 382, 'choices': 798, 'unaware': 4632, 'consequences': 947, 'himself': 2111, 'only': 3110, 'part': 3193, 'couldnt': 1008, 'understand': 4643, 'friendly': 1836, 'family': 1645, 'include': 2261, 'illness': 2230, 'point': 3316, 'allowing': 191, 'funeral': 1849, 'biggest': 480, 'message': 2819, 'whether': 4866, 'although': 201, '2002': 32, 'watched': 4813, 'ever': 1538, 'last': 2521, 'night': 3013, 'say': 3799, 'worst': 4952, 'comments': 901, 'shocked': 3939, 'exist': 1569, 'tries': 4585, 'their': 4431, 'target': 4366, 'audience': 352, 'children': 792, 'under': 4639, '12': 3, 'less': 2575, 'than': 4420, 'average': 362, 'contained': 963, 'disjointed': 1287, 'lines': 2612, 'tried': 4584, 'every': 1539, 'possible': 3350, 'summary': 4290, 'while': 4868, 'trying': 4601, 'friendship': 1838, 'religion': 3607, 'politics': 3326, 'basic': 406, 'covered': 1023, 'house': 2178, 'gone': 1935, 'wrong': 4973, 'too': 4522, 'alcohol': 176, 'death': 1141, 'turns': 4609, 'son': 4070, 'wants': 4791, 'fbi': 1675, 'investigate': 2342, 'actually': 109, 'murder': 2939, 'thinks': 4454, 'enemy': 1477, 'childhood': 790, 'best': 469, 'friend': 1835, 'taking': 4352, 'eventually': 1537, 'got': 1944, 'said': 3774, 'mean': 2779, 'everybody': 1540, 'suspect': 4327, 'usual': 4699, 'ex': 1549, 'girlfriend': 1910, 'student': 4238, 'married': 2744, 'teacher': 4375, 'lie': 2590, 'victim': 4729, 'changing': 752, 'experience': 1580, 'pay': 3216, 'desperate': 1208, 'enemies': 1476, 'gives': 1914, 'broke': 593, 'students': 4239, 'heroine': 2091, 'staying': 4168, 'age': 148, 'crush': 1072, 'boy': 557, 'gets': 1900, 'courage': 1018, 'talk': 4358, 'girls': 1911, 'says': 3801, 'enough': 1491, 'worry': 4950, 'learns': 2553, 'truth': 4599, 'drop': 1369, 'explains': 1589, 'god': 1926, 'truly': 4597, 'sick': 3963, 'sue': 4274, 'team': 4378, 'find': 1726, 'killer': 2470, 'gonna': 1936, 'boys': 559, 'year': 4978, 'dad': 1095, 'international': 2326, 'terrorist': 4413, 'impressive': 2253, 'daddy': 1096, 'killing': 2472, 'bomb': 531, 'cardboard': 682, 'acting': 99, 'continuity': 972, 'anybody': 257, 'brain': 562, 'writers': 4969, 'pack': 3165, 'into': 2332, 'means': 2783, 'obviously': 3072, 'faith': 1633, 'development': 1225, 'actors': 104, 'carry': 700, 'off': 3084, 'line': 2610, 'hero': 2088, 'tooth': 4524, 'pick': 3265, 'except': 1556, 'actor': 103, 'wow': 4962, 'thought': 4462, 'day': 1129, 'words': 4938, 'beloved': 461, 'comic': 893, 'book': 535, 'guy': 2000, 'tv': 4610, 'annoying': 249, 'whose': 4877, 'double': 1331, 'treats': 4575, 'extreme': 1609, 'sexually': 3910, 'bored': 541, 'husband': 2204, 'decides': 1150, 'directly': 1263, 'results': 3662, 'string': 4227, 'murders': 2943, 'soon': 4074, 'involve': 2345, 'high': 2100, 'class': 833, 'prostitute': 3440, 'nancy': 2964, 'allen': 188, 'business': 633, 'bring': 585, 'michael': 2829, 'caine': 647, 'going': 1931, 'de': 1131, 'rip': 3700, 'excuse': 1564, 'homage': 2141, 'hitchcock': 2123, 'sisters': 4002, 'instead': 2307, 'loaded': 2632, 'style': 4249, 'technical': 4381, 'skill': 4013, 'thrillers': 4473, 'sitting': 4007, 'through': 4477, 'absurd': 73, 'tired': 4501, 'feature': 1678, 'surprisingly': 4316, 'jump': 2429, 'scares': 3806, 'nasty': 2968, 'graphic': 1958, 'sequences': 3888, 'should': 3951, 'please': 3304, 'any': 256, 'horror': 2168, 'long': 2644, 'past': 3207, 'silly': 3976, 'dated': 1119, '1980': 20, 'far': 1653, 'gave': 1875, 'hour': 2176, 'lot': 2661, 'horrible': 2163, 'guess': 1989, 'someone': 4064, 'came': 656, 'strange': 4211, 'shape': 3919, 'animal': 239, 'started': 4157, 'make': 2713, 'ideas': 2215, 'resident': 3647, 'aliens': 184, 'doesnt': 1309, 'result': 3660, 'top': 4525, 'korean': 2495, 'id': 2212, 'wont': 4932, 'bother': 548, 'trailer': 4554, 'necessarily': 2983, 'rating': 3529, 'promising': 3433, 'internet': 2327, 'online': 3109, 'rated': 3527, 'over': 3148, 'clue': 864, 'john': 2409, 'own': 3158, 'personal': 3240, 'favorites': 1672, 'among': 217, 'ironically': 2356, 'ive': 2372, 'caught': 722, 'myself': 2953, 'via': 4726, 'recent': 3566, 'disc': 1278, 'set': 3898, 'missing': 2869, 'couple': 1016, 'language': 2516, 'italian': 2367, 'times': 4497, 'hollywood': 2137, 'nine': 3017, 'henry': 2084, 'fonda': 1777, 'example': 1553, 'beautifully': 429, 'poetic': 3313, 'piece': 3272, 'revelation': 3674, 'second': 3846, 'half': 2007, 'giving': 1915, 'donald': 1321, 'attorney': 348, 'course': 1019, 'perfectly': 3226, 'lawyer': 2541, 'become': 433, 'president': 3378, 'portray': 3340, 'most': 2909, 'notably': 3042, 'man': 2721, 'sidney': 3968, 'fail': 1625, 'safe': 3771, 'now': 3054, 'learn': 2550, 'lincoln': 2608, 'view': 4736, 'playing': 3300, 'interesting': 2325, 'note': 3044, 'ford': 1789, 'previously': 3388, 'abraham': 69, 'prisoner': 3402, 'shark': 3921, 'island': 2361, 'superb': 4296, 'perhaps': 3235, 'little': 2624, 'known': 2492, 'gem': 1877, 'luckily': 2682, 'released': 3603, 'edition': 1422, 'dvd': 1391, 'stand': 4143, 'masters': 2761, 'cinema': 816, 'besides': 468, 'films': 1721, 'collection': 874, 'both': 547, 'directed': 1259, 'birth': 486, 'nation': 2969, 'received': 3564, 'bunch': 623, 'before': 440, 'given': 1913, 'spin': 4112, 'based': 404, 'highly': 2105, 'satisfying': 3791, 'viewing': 4740, 'mr': 2929, 'debut': 1143, 'cross': 1066, 'eyed': 1612, 'easily': 1406, 'enjoyable': 1485, 'indie': 2276, 'making': 2718, 'hard': 2033, 'onto': 3111, 'imdb': 2240, 'unique': 4662, 'writer': 4968, 'might': 2835, 'rare': 3523, 'written': 4972, 'edited': 1420, 'acted': 98, 'elements': 1443, 'create': 1036, 'clever': 841, 'artistic': 308, 'poignant': 3315, 'tale': 4353, 'mixed': 2877, 'feelings': 1686, 'ended': 1470, 'liking': 2604, 'call': 651, 'dumb': 1385, 'thing': 4450, 'stupid': 4247, 'shocking': 3940, 'offensive': 3086, 'viewers': 4739, 'females': 1694, 'treat': 4572, 'theyd': 4443, 'meet': 2793, 'realize': 3552, 'somehow': 4063, 'comes': 891, 'delightful': 1168, 'fascinated': 1657, 'able': 66, 'away': 369, 'entertaining': 1499, 'music': 2946, 'sweet': 4336, 'buddies': 608, 'something': 4066, 'across': 96, 'prepared': 3371, 'lovely': 2671, 'blonde': 511, 'career': 686, 'forbidden': 1785, 'meeting': 2794, 'whom': 4875, 'months': 2897, 'marie': 2737, 'satisfied': 3789, 'appearances': 275, 'encounter': 1466, 'comedy': 890, 'tragic': 4552, 'level': 2584, 'short': 3946, 'jean': 2389, 'patrick': 3213, 'dinner': 1254, 'hours': 2177, 'boring': 543, 'impression': 2252, 'alas': 172, 'expect': 1575, 'impressed': 2251, 'upon': 4684, 'recently': 3567, 'pleased': 3305, 'bit': 488, 'watchable': 4812, 'ten': 4399, 'things': 4451, 'power': 3359, 'disturbing': 1300, 'turn': 4605, 'brad': 560, 'pitt': 3280, 'grace': 1950, 'knowing': 2490, 'heart': 2064, 'refreshing': 3586, 'play': 3296, 'such': 4268, 'pulls': 3464, 'without': 4913, 'white': 4870, 'trash': 4565, 'cliché': 844, 'parody': 3192, 'manages': 2725, 'remain': 3609, 'genuinely': 1892, 'terrifying': 4410, 'throughout': 4478, 'lewis': 2586, 'equally': 1510, 'girl': 1909, 'forty': 1807, 'pity': 3281, 'station': 4164, 'kind': 2476, 'subtlety': 4261, 'rarely': 3524, 'personally': 3243, 'tragedy': 4551, 'neither': 2996, 'nor': 3032, 'nominated': 3025, 'awards': 367, 'performances': 3229, 'david': 1124, 'michelle': 2830, 'end': 1468, 'naive': 2958, 'cynical': 1093, 'shut': 3961, 'manage': 2722, 'convincingly': 986, 'changes': 751, 'strangely': 4212, 'attracted': 349, 'casting': 711, 'brilliant': 583, 'aside': 315, 'balls': 390, 'flawless': 1751, 'pacing': 3163, 'psychotic': 3459, 'single': 3996, 'female': 1693, 'heights': 2073, 'hand': 2015, 'rocks': 3722, 'sleeping': 4025, 'etc': 1527, 'followed': 1773, 'same': 3778, 'formula': 1802, 'being': 448, 'nature': 2975, 'relationship': 3597, 'between': 475, 'territory': 4411, 'acts': 107, 'perfect': 3224, 'slow': 4031, 'thriller': 4472, 'kept': 2456, 'edge': 1418, 'our': 3139, 'waiting': 4772, 'let': 2579, 'loose': 2650, 'completely': 922, 'twenty': 4612, 'minutes': 2859, 'live': 2625, 'rest': 3657, 'thick': 4447, 'resolution': 3649, 'suitable': 4285, 'cold': 872, 'fight': 1707, 'narration': 2965, 'provided': 3449, 'pre': 3365, 'tad': 4347, 'contrived': 976, 'journalist': 2420, 'argue': 290, 'self': 3869, 'write': 4967, 'largely': 2518, 'success': 4265, 'certainly': 738, 'cut': 1089, 'above': 68, '90': 60, 'recommended': 3572, 'weak': 4824, 'stomach': 4196, 'then': 4436, 'know': 2489, 'guys': 2001, 'steven': 4182, 'seagal': 3839, 'theyre': 4445, 'least': 2554, 'rate': 3526, 'dubbing': 1380, 'exactly': 1551, 'cult': 1077, 'favorite': 1671, 'attack': 337, 'force': 1786, 'felt': 1692, 'worthy': 4956, 'vehicle': 4718, 'fact': 1621, 'shot': 3949, 'coherent': 871, 'exciting': 1563, 'ending': 1471, 'sucked': 4270, 'trashy': 4566, 'itself': 2371, 'deliver': 1169, 'promised': 3431, 'characterization': 759, 'big': 478, 'word': 4937, 'production': 3419, 'values': 4710, 'delivered': 1170, 'true': 4596, 'particular': 3194, 'stone': 4197, 'faced': 1617, 'nonsense': 3030, 'mans': 2730, 'weve': 4856, 'come': 886, 'deal': 1135, 'grew': 1972, 'pat': 3208, 'behind': 447, 'reminds': 3620, 'father': 1666, 'drawn': 1351, 'unlike': 4670, 'normal': 3033, 'weight': 4840, 'april': 284, 'easy': 1410, 'feel': 1684, 'disappointing': 1274, 'religious': 3608, 'moral': 2902, 'views': 4742, 'kissing': 2484, 'change': 749, 'todays': 4509, 'walter': 4784, 'filmed': 1717, 'black': 493, 'hint': 2112, 'anyone': 259, 'song': 4071, 'captures': 678, 'stress': 4220, 'struggle': 4234, 'ultimate': 4627, 'requires': 3642, 'bigger': 479, 'emotional': 1459, 'composed': 926, 'entirely': 1503, 'conversations': 981, 'incredibly': 2270, 'compelling': 916, 'humble': 2191, 'opinion': 3118, 'greatest': 1966, 'depressing': 1188, 'cruel': 1070, 'fantastic': 1651, 'julie': 2428, 'shows': 3960, 'late': 2523, '1960s': 15, 'nothing': 3047, 'society': 4050, 'involves': 2348, 'supposedly': 4307, 'played': 3297, 'shown': 3959, 'jealous': 2388, 'exposed': 1598, 'extremely': 1610, 'revolutionary': 3681, 'french': 1830, 'new': 3003, 'wave': 4818, 'significant': 3972, 'history': 2121, 'profound': 3423, 'effect': 1428, 'key': 2458, 'having': 2054, 'starred': 4153, 'teenager': 4390, 'director': 1264, 'similar': 3978, 'dialogue': 1234, 'experiences': 1582, 'former': 1800, 'lover': 2672, 'committed': 905, 'suicide': 4283, 'anger': 235, 'breaking': 570, 'down': 1335, 'statement': 4162, 'remains': 3611, 'revealing': 3672, 'news': 3005, 'drawing': 1350, 'supposed': 4306, 'featuring': 1681, 'american': 213, 'exists': 1573, 'dead': 1132, 'ed': 1415, 'wood': 4933, 'george': 1893, 'classic': 835, 'living': 2629, 'legend': 2564, 'future': 1856, 'mystery': 2956, 'science': 3816, 'theatre': 4429, '3000': 43, 'abysmal': 76, 'getting': 1901, 'feeling': 1685, 'either': 1438, 'lengthy': 2570, 'variety': 4714, 'group': 1980, 'school': 3813, 'kids': 2467, 'spoilers': 4124, 'sounded': 4082, 'rural': 3758, 'california': 650, 'sheriff': 3929, 'finds': 1728, 'box': 555, 'demon': 1177, 'accidentally': 85, 'community': 908, 'daughters': 1122, 'priest': 3392, 're': 3535, 'cage': 645, 'meanwhile': 2785, 'zombie': 4997, 'scene': 3809, 'previous': 3387, 'poorly': 3329, 'zombies': 4998, 'walk': 4775, 'army': 295, 'demons': 1178, 'opposed': 3122, 'turning': 4608, 'moving': 2928, 'forward': 1808, 'where': 4864, 'cave': 727, 'motion': 2913, 'ludicrous': 2685, 'appears': 278, 'expecting': 1578, 'hill': 2108, 'theme': 4433, 'start': 4156, 'whole': 4873, 'gang': 1867, 'chasing': 772, 'beach': 419, 'field': 1704, 'dreams': 1355, 'voice': 4761, 'calling': 653, 'agent': 150, 'becomes': 434, 'downright': 1337, 'comical': 894, 'cheese': 780, 'ball': 388, 'robert': 3713, 'screenplay': 3831, 'win': 4892, 'lifetime': 2594, '15': 7, 'scale': 3802, 'fear': 1676, 'generous': 1886, 'anything': 260, 'looks': 2649, 'younger': 4990, 'daughter': 1121, 'older': 3101, 'sister': 4001, 'ran': 3513, 'fred': 1825, 'reasonably': 3559, 'decent': 1147, 'wonder': 4926, 'mario': 2738, 'stuck': 4237, 'baseball': 403, 'worse': 4951, 'called': 652, 'project': 3427, 'college': 875, 'issue': 2364, 'blair': 497, 'witch': 4909, 'proved': 3446, 'campy': 664, 'appear': 273, 'shoes': 3941, 'low': 2676, 'budget': 610, 'talent': 4354, 'everything': 1544, 'final': 1722, 'seconds': 3848, 'mildly': 2840, 'creative': 1041, 'moment': 2886, 'paid': 3169, 'rent': 3626, 'spent': 4108, 'during': 1387, 'war': 4792, 'required': 3641, 'gun': 1996, 'hire': 2116, 'roles': 3727, 'fit': 1740, 'bacall': 377, 'fits': 1741, 'tone': 4517, 'upper': 4685, 'listen': 2619, 'books': 536, 'england': 1482, 'wake': 4774, 'positive': 3346, 'range': 3516, 'conversation': 980, 'priceless': 3390, 'picture': 3269, 'unknown': 4668, 'rock': 3720, 'fame': 1642, 'forgotten': 1797, 'sense': 3877, 'humour': 2194, 'bill': 481, 'anyway': 261, 'crazy': 1035, 'tap': 4364, 'instance': 2304, 'mature': 2773, 'catch': 714, 'youth': 4994, 'miss': 2866, 'beyond': 476, 'personality': 3242, 'spend': 4105, 'soundtrack': 4085, 'embarrassing': 1454, 'heres': 2087, 'list': 2617, '100': 1, 'embarrassment': 1455, 'failed': 1626, 'christopher': 811, 'lloyd': 2630, 'jeff': 2390, 'basically': 407, 'remake': 3612, 'begin': 442, 'funny': 1852, 'purple': 3473, 'rose': 3739, 'wallace': 4782, 'jet': 2400, 'li': 2587, 'bob': 524, 'ray': 3533, 'read': 3543, 'cameo': 657, 'flick': 1754, 'died': 1244, 'later': 2525, 'effects': 1431, 'seriously': 3892, 'damn': 1100, 'talking': 4360, 'suit': 4284, 'voiced': 4762, 'degree': 1164, 'wayne': 4821, 'ha': 2002, 'youre': 4992, 'okay': 3099, 'wrap': 4963, 'review': 3676, 'silence': 3974, 'quick': 3490, 'forget': 1793, 'travesty': 4570, 'adaptation': 113, 'starring': 4154, 'tim': 4494, 'main': 2707, 'dark': 1115, 'touching': 4536, 'complete': 921, 'directing': 1260, 'letting': 2583, 'bits': 490, 'leading': 2547, 'joey': 2408, 'unexpected': 4650, 'twist': 4617, 'coming': 896, 'often': 3095, 'compared': 912, 'politically': 3325, 'minded': 2850, 'filmmakers': 1720, 'combine': 884, 'gender': 1878, 'relations': 3596, 'art': 304, 'cant': 671, 'lesson': 2577, 'energy': 1478, 'charm': 767, 'theres': 4440, 'packed': 3166, 'sat': 3786, 'brief': 579, 'starts': 4159, 'chick': 786, 'hasnt': 2044, 'everyone': 1542, 'knows': 2493, 'oh': 3096, 'competition': 918, 'stereotypical': 4180, 'friends': 1837, 'drive': 1363, 'ugly': 4625, 'pink': 3277, 'car': 680, 'mom': 2885, 'job': 2405, 'australia': 356, 'move': 2921, 'leave': 2555, 'im': 2232, 'cry': 1073, 'huge': 2185, 'storm': 4206, 'swimming': 4338, 'pool': 3327, 'water': 4816, 'apparent': 269, 'falls': 1640, 'guessed': 1990, 'takes': 4351, 'fall': 1637, '80s': 59, 'oscar': 3133, 'clichés': 846, 'scary': 3807, 'name': 2960, 'took': 4523, 'consider': 949, '40': 48, 'sacrifice': 3766, 'suffered': 4276, 'confused': 941, 'confusing': 942, 'granted': 1957, 'explain': 1586, 'flashbacks': 1747, 'storyline': 4208, 'beginning': 443, 'explaining': 1588, 'text': 4419, 'stuff': 4243, 'images': 2235, 'actual': 108, 'entire': 1502, 'happened': 2027, 'tell': 4395, 'cheated': 775, 'suddenly': 4273, 'shame': 3918, 'joseph': 2419, 'allow': 189, 'drivel': 1364, 'redeeming': 3577, 'seemed': 3862, 'killed': 2469, 'games': 1865, 'pathetic': 3210, 'turned': 4606, 'lower': 2677, 'youll': 4988, 'ill': 2228, 'matters': 2770, 'engaging': 1481, 'qualities': 3483, 'cannot': 670, 'emotionally': 1460, 'connect': 944, 'political': 3324, 'due': 1382, 'attitudes': 347, 'approach': 282, 'passion': 3205, 'rage': 3505, 'atmosphere': 333, 'equal': 1509, 'quiet': 3492, 'unsettling': 4679, 'mood': 2898, 'otherwise': 3137, 'lost': 2660, 'viewer': 4738, 'unless': 4669, 'deep': 1154, 'knowledge': 2491, 'ruined': 3751, 'gratuitous': 1961, 'actress': 105, 'performs': 3234, 'leaves': 2556, 'imagination': 2236, 'necessary': 2984, 'madness': 2698, 'focus': 1766, 'smooth': 4041, 'once': 3106, 'infamous': 2284, 'caused': 724, 'hitting': 2126, 'unnecessary': 4672, 'camp': 662, 'believes': 456, 'removed': 3624, 'whats': 4860, 'unfortunate': 4653, 'intriguing': 2335, 'surface': 4310, 'emotions': 1461, 'further': 1853, 'overall': 3150, 'wonderful': 4928, 'certain': 737, 'tomatoes': 4515, 'tiny': 4500, 'essential': 1522, 'detail': 1217, 'however': 2183, 'deliberately': 1166, 'opening': 3114, 'already': 197, 'alfred': 181, 'birds': 485, 'intended': 2315, 'zero': 4996, 'escape': 1517, 'expected': 1577, 'hit': 2122, 'contemporary': 965, 'popular': 3333, 'animals': 240, 'general': 1880, 'against': 147, 'humanity': 2189, 'introduces': 2338, 'menacing': 2807, 'type': 4621, 'machines': 2694, 'government': 1948, 'produce': 3413, 'goes': 1930, 'horribly': 2164, 'attacks': 339, 'country': 1014, 'puts': 3481, 'together': 4511, 'forces': 1788, 'battle': 414, 'includes': 2263, 'agents': 151, 'specific': 4099, 'areas': 287, 'scientists': 3819, 'dubbed': 1379, 'voices': 4763, 'sight': 3969, 'normally': 3034, 'jumping': 2431, 'sink': 3999, 'hysterical': 2208, 'contains': 964, 'numerous': 3062, 'memorable': 2802, 'moments': 2887, 'catchy': 717, 'jaws': 2385, 'helicopter': 2076, 'crash': 1033, 'section': 3853, 'details': 1219, 'tedious': 4387, 'amateurish': 207, 'mess': 2818, 'jokes': 2415, 'fresh': 1833, 'inventive': 2341, 'towards': 4540, 'sub': 4252, 'plots': 3310, 'prefer': 3368, '90s': 61, 'sequels': 3886, 'benefit': 465, 'slightly': 4029, 'presence': 3373, 'veteran': 4724, 'mad': 2696, 'scientist': 3818, 'dr': 1340, 'material': 2766, 'mike': 2838, 'witness': 4914, 'brutal': 603, 'mother': 2911, 'familys': 1646, 'cabin': 643, 'woods': 4935, 'halloween': 2010, 'party': 3200, 'game': 1864, 'spirit': 4113, 'discovered': 1280, 'wooden': 4934, 'indian': 2274, 'blood': 512, 'bath': 411, 'begins': 444, 'convincing': 985, 'cheap': 774, 'teen': 4388, 'slasher': 4020, 'stale': 4141, 'members': 2801, 'kelly': 2452, 'chief': 788, 'moon': 2900, 'cause': 723, 'sean': 3840, 'law': 2538, 'kate': 2446, 'wife': 4884, 'slight': 4027, 'difference': 1246, 'lawrence': 2539, 'racist': 3503, 'southern': 4088, 'cop': 991, 'harris': 2038, 'totally': 4532, 'rendition': 3625, 'serial': 3889, 'weird': 4841, 'plays': 3301, 'serious': 3891, 'rolling': 3730, 'eyes': 1613, 'repeatedly': 3632, 'liberal': 2588, 'stereotypes': 4179, 'cops': 993, 'sadistic': 3768, 'frame': 1815, 'evidence': 1546, 'witnesses': 4916, 'accused': 91, 'rape': 3521, 'blacks': 494, 'grandmother': 1955, 'defend': 1158, 'open': 3112, 'trial': 4580, 'town': 4541, 'club': 863, 'row': 3744, 'beaten': 424, 'beating': 425, 'russian': 3762, 'overacting': 3149, 'weapon': 4828, 'psycho': 3457, 'used': 4693, 'guilt': 1994, 'return': 3665, 'carrying': 701, 'thanks': 4423, '30': 42, 'legal': 2563, 'fighting': 1709, 'system': 4345, 'corrupt': 1001, 'criminals': 1058, 'deserve': 1199, 'rotten': 3740, 'types': 4622, 'challenge': 743, 'thumbs': 4485, 'walking': 4779, 'protagonist': 3441, 'unbelievably': 4635, 'dean': 1139, 'control': 977, 'method': 2824, 'mentally': 2809, 'thoughts': 4464, 'peoples': 3222, 'minds': 2852, 'concept': 930, 'effectively': 1430, 'testament': 4417, '1933': 12, 'unfortunately': 4654, 'quest': 3486, 'claire': 831, 'anne': 246, 'alike': 185, 'dorothy': 1330, 'major': 2711, 'sent': 3880, 'military': 2844, '30s': 44, 'clothes': 860, 'barely': 399, 'five': 1743, 'ring': 3698, 'pal': 3177, 'unintentionally': 4659, 'contact': 961, 'theater': 4427, 'hadnt': 2004, 'uses': 4697, 'giant': 1905, 'soldiers': 4054, 'sheer': 3925, 'planet': 3289, 'marry': 2745, 'america': 212, 'agrees': 157, 'wedding': 4836, 'realizes': 3554, 'powers': 3361, 'gain': 1863, 'causing': 726, 'title': 4504, 'seem': 3861, 'gods': 1928, 'destroy': 1213, 'despite': 1211, 'currently': 1085, 'repeated': 3631, 'viewings': 4741, 'develop': 1222, 'hair': 2005, 'remember': 3616, 'christmas': 810, 'king': 2479, 'themes': 4434, 'brothers': 599, 'earlier': 1399, 'charles': 764, 'parker': 3191, 'hundreds': 2196, 'walked': 4776, '1968': 16, 'earth': 1403, 'modern': 2882, 'era': 1513, 'express': 1600, '1972': 18, 'sequel': 3885, 'mention': 2810, 'judging': 2425, 'terms': 4406, 'semi': 3874, 'gothic': 1945, 'romance': 3732, 'ranks': 3519, 'below': 462, 'bottom': 551, '40s': 49, 'looking': 2648, 'portrays': 3344, 'pointless': 3318, 'existence': 1571, 'middle': 2833, 'lives': 2628, 'web': 4833, 'non': 3027, 'false': 1641, 'interest': 2323, 'elsewhere': 1449, 'darker': 1116, 'bergman': 466, 'filmmaker': 1719, 'order': 3126, 'spiritual': 4116, 'poverty': 3357, 'subject': 4253, 'dull': 1384, 'incident': 2260, 'value': 4709, 'hanks': 2025, 'definitely': 1162, 'laws': 2540, 'cinematography': 820, 'excellent': 1555, 'editing': 1421, 'score': 3822, 'design': 1202, 'factor': 1622, 'beat': 423, 'godfather': 1927, 'displayed': 1292, 'wins': 4899, 'contest': 967, 'york': 4985, 'accomplished': 87, 'rebel': 3561, 'important': 2247, 'fascinating': 1658, 'timeless': 4496, 'succeed': 4262, 'odds': 3082, 'realistic': 3550, 'city': 825, 'recognize': 3569, 'neighbors': 2994, 'buy': 640, 'tells': 4397, 'prince': 3396, 'wizard': 4919, 'shadow': 3912, 'meets': 2795, 'thief': 4448, 'helps': 2082, 'jail': 2376, 'head': 2057, 'princess': 3397, 'convince': 983, 'blind': 506, 'dog': 1310, 'defeat': 1157, 'peace': 3219, 'journey': 2421, 'flight': 1757, 'spider': 4109, 'thats': 4425, 'flying': 1764, 'horse': 2170, 'sequence': 3887, 'mine': 2853, 'finish': 1732, 'horses': 2171, 'cheesy': 781, 'designs': 1204, 'stunning': 4244, 'dangerous': 1110, 'heroes': 2089, 'crap': 1031, 'songs': 4072, 'sees': 3866, 'doubt': 1332, 'musical': 2947, 'usually': 4700, 'singing': 3995, 'doing': 1312, 'happy': 2032, 'exception': 1557, 'everyday': 1541, 'silent': 3975, 'along': 195, 'cgi': 740, 'blow': 514, 'blew': 505, 'green': 1971, 'place': 3282, 'shots': 3950, 'appeal': 271, 'beings': 449, 'essentially': 1523, 'creatures': 1046, 'literally': 2622, 'impossible': 2249, 'notice': 3048, 'makers': 2715, 'inspiration': 2300, 'passionate': 3206, 'amazing': 209, 'kid': 2464, 'test': 4416, 'break': 569, 'hold': 2129, 'today': 4508, 'wanted': 4789, 'version': 4720, 'wish': 4904, 'angry': 238, 'cup': 1080, 'tea': 4373, 'awfully': 373, 'rented': 3628, 'romantic': 3733, 'unconvincing': 4638, 'hated': 2047, 'charming': 768, 'european': 1530, 'check': 777, 'bound': 553, 'underrated': 4642, 'deserves': 1201, 'chance': 747, 'choice': 797, 'south': 4087, 'wear': 4830, 'cowboy': 1025, 'hat': 2045, 'eat': 1411, 'comment': 898, 'loosely': 2651, 'premise': 3370, 'james': 2378, 'directs': 1267, 'jerry': 2396, 'rings': 3699, 'bud': 607, 'help': 2079, 'aunt': 355, 'uncle': 4636, 'moves': 2925, 'blue': 518, 'afford': 138, 'quickly': 3491, 'background': 380, 'filled': 1715, 'painful': 3171, 'ups': 4686, 'sit': 4003, 'hooked': 2153, 'marriage': 2743, 'missed': 2867, 'transition': 4561, 'highlights': 2104, 'struggles': 4235, 'fashioned': 1660, 'brings': 587, 'ego': 1435, 'excited': 1561, 'bull': 619, 'fun': 1848, 'reminded': 3619, 'emotion': 1458, 'raw': 3532, 'continues': 971, 'split': 4120, 'con': 928, 'abuse': 74, 'exceptional': 1558, 'recognition': 3568, 'kicking': 2462, 'yourself': 4993, 'clean': 838, 'supporting': 4304, 'incredible': 2269, 'wes': 4851, 'scott': 3824, 'glenn': 1918, 'curse': 1086, 'smith': 4038, 'mistress': 2874, 'authentic': 358, 'large': 2517, 'flat': 1748, 'barry': 401, 'anderson': 227, 'someones': 4065, 'texas': 4418, 'unforgettable': 4652, 'outside': 3146, 'dialog': 1232, 'recommend': 3571, 'take': 4349, 'enjoyment': 1488, 'entertainment': 1500, 'sounds': 4084, 'enjoy': 1484, 'send': 3875, 'hardly': 2036, 'depicted': 1183, 'clear': 839, 'century': 736, 'brazil': 568, 'rival': 3706, 'particularly': 3195, 'greedy': 1969, 'environment': 1505, 'defined': 1160, 'progresses': 3426, 'captured': 677, 'massacre': 2754, 'revenge': 3675, 'brother': 598, 'nevertheless': 3002, 'village': 4743, 'appearance': 274, 'western': 4853, 'indeed': 2271, 'treasure': 4571, 'hidden': 2096, 'nearby': 2980, 'serve': 3893, 'satire': 3788, 'maintain': 2710, 'terribly': 4408, 'riveting': 3708, 'native': 2972, 'threat': 4467, 'free': 1827, 'desire': 1205, 'full': 1846, 'suggested': 4281, 'core': 995, 'dry': 1377, 'cartoon': 704, 'social': 4049, 'commentary': 899, 'location': 2635, 'bay': 416, 'established': 1524, 'theyve': 4446, 'themselves': 4435, 'went': 4847, 'screening': 3830, 'festival': 1697, 'mexico': 2827, 'producers': 3416, 'introduction': 2339, 'rolled': 3729, 'amazed': 208, 'futuristic': 1857, 'paris': 3189, 'glorious': 1921, 'shouldnt': 3952, 'sci': 3815, 'fi': 1701, 'fly': 1763, 'everywhere': 1545, 'hits': 2125, '3d': 46, 'brought': 600, 'backgrounds': 381, 'angles': 237, 'depth': 1190, 'producer': 3415, 'talked': 4359, 'studio': 4240, 'regret': 3591, 'richard': 3686, 'superior': 4300, 'likely': 2601, 'dude': 1381, 'taken': 4350, 'anymore': 258, 'frank': 1821, 'moody': 2899, 'mysterious': 2955, 'pictures': 3270, 'idea': 2213, 'room': 3735, 'leaving': 2557, 'noir': 3023, 'lazy': 2543, 'lol': 2640, 'tears': 4380, 'eddie': 1416, 'spot': 4131, 'brown': 601, 'murphy': 2944, 'foul': 1810, 'prime': 3395, 'professor': 3422, 'drew': 1360, 'reviews': 3679, 'heard': 2062, 'copy': 994, 'thrilling': 4474, 'emma': 1457, 'roberts': 3714, 'portraying': 3343, 'several': 3905, 'contrary': 974, 'intelligent': 2314, 'conservative': 948, 'genuine': 1891, 'balance': 387, 'mix': 2876, 'suspense': 4330, 'wise': 4903, 'decide': 1148, 'trust': 4598, 'heck': 2071, 'mistake': 2871, 'wanna': 4786, 'shes': 3930, 'van': 4713, 'surprised': 4313, 'date': 1118, 'gold': 1932, 'potential': 3355, 'knock': 2488, 'advance': 127, 'props': 3439, 'chases': 771, 'liners': 2611, 'dealing': 1136, 'william': 4887, 'macy': 2695, 'unlikely': 4671, 'sutherland': 4333, 'campbell': 663, 'office': 3091, 'follows': 1775, 'youd': 4987, 'humor': 2192, 'dinosaurs': 1256, 'goldberg': 1933, '20': 29, 'rex': 3683, 'conclusion': 936, 'wicked': 4879, 'spite': 4117, 'accident': 84, 'visual': 4757, 'equivalent': 1512, 'torture': 4529, 'fatal': 1664, 'beauty': 430, 'lying': 2690, 'care': 684, 'tough': 4537, 'million': 2847, 'buddy': 609, 'number': 3060, 'cute': 1090, 'spielberg': 4110, 'hes': 2093, 'hates': 2048, 'shoot': 3942, 'sloppy': 4030, 'fx': 1858, 'talented': 4355, 'stars': 4155, 'attacked': 338, 'rubber': 3747, 'mediocre': 2791, 'bag': 384, 'carries': 699, 'attempt': 340, 'charlie': 765, 'anti': 254, 'hopefully': 2157, 'lord': 2652, 'whoever': 4872, 'turkey': 4604, 'buried': 624, 'alive': 186, 'sorry': 4076, 'reviewer': 3677, 'saying': 3800, 'ben': 463, 'wind': 4893, 'unbelievable': 4634, 'situations': 4009, 'park': 3190, 'crappy': 1032, 'pass': 3201, 'drugs': 1374, 'apparently': 270, 'shakespeare': 3915, 'folks': 1771, 'track': 4544, 'masses': 2755, 'iii': 2227, 'random': 3514, 'included': 2262, 'al': 170, 'visit': 4755, 'happens': 2029, 'act': 97, 'kay': 2447, 'near': 2979, 'knife': 2487, 'throat': 4476, 'pretentious': 3383, 'corner': 996, 'table': 4346, 'reading': 3544, 'witnessed': 4915, 'unbearable': 4633, 'scenery': 3810, 'lady': 2507, 'add': 115, 'discussion': 1284, 'dreadful': 1353, 'boot': 538, 'told': 4513, 'pacino': 3164, 'bobby': 525, 'performed': 3230, 'university': 4667, 'washington': 4806, 'cultural': 1078, 'sound': 4081, 'fury': 1855, 'neil': 2995, 'matthau': 2771, 'burns': 628, 'havent': 2053, 'decade': 1144, 'inside': 2297, 'flies': 1756, 'nurse': 3063, 'howard': 2182, 'commercial': 902, 'steve': 4181, 'montage': 2894, 'footage': 1782, 'cliff': 847, 'opens': 3115, 'latest': 2526, 'broadway': 592, 'reviewers': 3678, 'drunk': 1375, 'passing': 3204, 'east': 1407, 'patient': 3211, 'ms': 2931, 'discuss': 1283, 'trap': 4563, 'lumet': 2688, 'stage': 4139, 'twists': 4619, 'surely': 4309, 'smiling': 4037, 'hello': 2078, 'gifted': 1907, 'ruin': 3750, 'jesus': 2399, 'interested': 2324, 'topic': 4526, 'bitter': 491, 'clint': 850, 'eastwood': 1409, 'star': 4150, 'detective': 1220, 'harry': 2039, 'direct': 1258, 'fourth': 1813, 'entry': 1504, 'dirty': 1268, 'sudden': 4272, 'impact': 2244, 'ahead': 159, 'named': 2961, 'yeah': 4977, 'san': 3780, 'francisco': 1819, 'pieces': 3273, 'trouble': 4592, 'crime': 1055, 'thugs': 4484, 'working': 4944, 'heads': 2059, 'occurred': 3077, 'bullet': 620, 'dig': 1250, 'repeat': 3630, 'virtually': 4751, 'grown': 1984, 'par': 3184, 'angle': 236, 'feels': 1687, 'sophisticated': 4075, 'features': 1680, 'touches': 4535, 'driven': 1365, 'morality': 2903, 'lighting': 2596, 'showdown': 3955, 'figure': 1711, 'striking': 4226, 'builds': 617, 'plain': 3286, 'plus': 3311, 'dialogues': 1235, 'provides': 3450, 'hearing': 2063, 'amusing': 221, 'pulling': 3463, 'occurs': 3078, 'intense': 2316, 'bringing': 586, 'kick': 2460, 'bruce': 602, 'regular': 3592, 'scope': 3821, 'wonderfully': 4929, 'within': 4912, 'dramatic': 1348, 'dinosaur': 1255, 'punch': 3466, 'justice': 2438, 'odd': 3080, 'raped': 3522, 'intensity': 2317, 'accurate': 90, 'outcome': 3142, 'paul': 3214, 'smaller': 4034, 'parts': 3199, 'albert': 174, 'bank': 394, 'trademark': 4548, 'quote': 3496, 'lucky': 2683, 'ya': 4976, 'punk': 3468, 'saturday': 3792, 'hippie': 2115, 'heavy': 2070, 'historical': 2119, 'relate': 3593, 'chose': 804, 'develops': 1226, 'soccer': 4048, 'direction': 1261, 'natural': 2973, 'root': 3737, 'ladies': 2506, 'summer': 4291, '17': 9, 'reveals': 3673, 'telling': 4396, 'reality': 3551, 'rachel': 3500, 'sort': 4077, 'sad': 3767, 'neat': 2982, 'unrealistic': 4677, 'learned': 2551, 'weekend': 4838, 'police': 3322, 'owner': 3159, 'wreck': 4965, 'dragged': 1343, 'nightmares': 3015, 'poor': 3328, 'assistant': 326, 'useless': 4695, 'admit': 122, 'door': 1328, 'appeared': 276, 'laughed': 2532, 'depressed': 1187, 'pain': 3170, 'boyfriend': 558, 'ends': 1474, 'bin': 483, 'starting': 4158, 'happiness': 2031, 'object': 3066, 'knew': 2486, 'portrayal': 3341, 'situation': 4008, 'careful': 688, 'levels': 2585, 'graphics': 1959, 'boss': 546, 'complaint': 920, 'fairly': 1631, 'ones': 3108, 'latter': 2528, 'none': 3028, 'close': 853, 'bleak': 503, 'torn': 4528, 'credit': 1049, 'states': 4163, 'national': 2970, 'product': 3418, 'rough': 3741, 'skills': 4014, 'martial': 2747, 'arts': 310, 'stunts': 4246, 'threw': 4470, 'air': 164, 'matrix': 2767, 'rangers': 3517, 'member': 2800, 'hey': 2095, 'pants': 3182, 'jackie': 2374, 'chan': 746, 'admire': 121, 'jimmy': 2403, 'morris': 2908, 'lived': 2626, 'dream': 1354, 'cover': 1022, 'holmes': 2139, 'shed': 3924, 'appreciate': 279, 'occasionally': 3075, 'push': 3477, 'taste': 4369, 'correct': 1000, 'alcoholic': 177, 'catholic': 720, 'gerard': 1895, 'twisted': 4618, 'offers': 3090, 'unable': 4631, 'afraid': 140, 'commit': 904, 'meaningful': 2781, 'relationships': 3598, 'utterly': 4702, 'professional': 3421, 'recall': 3562, 'christ': 807, 'march': 2734, 'destruction': 1216, 'presumably': 3380, 'plans': 3292, 'secrets': 3852, 'husbands': 2205, 'lonely': 2643, 'deadly': 1133, 'widow': 4883, 'kills': 2474, 'guessing': 1991, 'intrigue': 2333, 'em': 1452, 'instinct': 2308, 'content': 966, 'fans': 1650, 'psychological': 3458, 'wrote': 4974, 'arthur': 305, 'gordon': 1940, 'comedic': 888, '1950s': 14, 'jerk': 2395, 'co': 867, 'wrestling': 4966, 'becoming': 435, 'gorgeous': 1942, 'celebrity': 729, 'obnoxious': 3067, 'separate': 3883, 'television': 4394, 'headed': 2058, 'staged': 4140, 'carl': 692, 'crude': 1069, 'involving': 2349, 'putting': 3482, 'alice': 182, 'kim': 2475, 'element': 1442, 'surrounded': 4318, 'aspect': 321, 'handled': 2019, 'badly': 383, 'killings': 2473, 'nick': 3012, 'bedroom': 437, 'terrible': 4407, 'violence': 4747, '80': 58, 'bothered': 549, 'fill': 1714, 'partly': 3197, 'hands': 2020, 'period': 3236, 'decades': 1145, 'swedish': 4335, 'merely': 2815, 'solid': 4057, 'claim': 828, 'anna': 245, 'ties': 4490, 'questions': 3489, 'purpose': 3474, 'individuals': 2278, 'interpretation': 2328, 'unusual': 4681, 'central': 735, 'typical': 4623, 'ultra': 4629, 'shy': 3962, 'secretly': 3851, 'screens': 3832, 'cares': 690, 'holds': 2131, 'stretch': 4221, 'vague': 4705, 'considering': 952, '11': 2, '13': 4, '14': 6, 'obvious': 3071, 'hence': 2083, 'realism': 3549, 'company': 910, 'blows': 517, 'avoid': 363, 'plague': 3285, 'forever': 1792, 'unfolds': 4651, 'pace': 3161, 'unfunny': 4655, 'dan': 1102, 'makeup': 2717, 'matter': 2769, 'won': 4925, '1984': 23, 'receive': 3563, 'sea': 3838, 'deceased': 1146, 'humans': 2190, 'fallen': 1638, 'asleep': 320, 'asked': 317, 'paltrow': 3178, 'overdone': 3152, 'talks': 4361, 'dancing': 1107, 'spare': 4093, 'incoherent': 2265, 'spirited': 4114, 'listed': 2618, 'afterwards': 145, 'warning': 4800, 'severe': 3906, 'stick': 4185, 'trick': 4582, 'cheating': 776, 'runs': 3757, 'truck': 4595, 'spends': 4107, 'pregnant': 3369, 'broken': 594, 'huh': 2187, 'shell': 3927, 'fashion': 1659, 'rescue': 3643, 'responsible': 3656, 'drink': 1361, 'smoke': 4039, 'red': 3576, 'ridiculous': 3693, 'lesbian': 2573, 'tony': 4521, 'inspiring': 2302, 'innocent': 2294, 'paulie': 3215, 'baby': 376, 'speech': 4102, 'speak': 4094, 'bird': 484, 'shop': 3945, 'bought': 552, 'aging': 153, 'artist': 307, 'traveling': 4568, 'fate': 1665, 'basement': 405, 'touched': 4534, 'keeping': 2450, 'gift': 1906, 'mixture': 2878, 'digital': 1251, 'base': 402, 'breathtaking': 574, 'wars': 4804, 'resembles': 3646, 'added': 116, 'four': 1812, 'werent': 4849, 'thoroughly': 4459, 'entertained': 1498, 'tom': 4514, 'robbins': 3712, 'matched': 2763, 'imagine': 2238, 'novel': 3052, 'hearts': 2066, 'failure': 1629, 'stopped': 4202, 'next': 3007, 'ii': 2226, 'gary': 1873, 'cooper': 990, 'wild': 4885, 'jane': 2380, 'villain': 4744, 'anthony': 253, 'indians': 2275, 'villains': 4745, 'led': 2558, 'selling': 3873, 'arms': 294, 'hall': 2009, 'jack': 2373, 'civil': 826, 'step': 4175, 'lee': 2559, 'west': 4852, 'busy': 635, 'virginia': 4750, 'flynn': 1765, 'concerned': 932, 'union': 4661, 'attention': 345, 'problems': 3409, 'involved': 2346, 'loser': 2655, 'lake': 2509, 'incompetent': 2266, 'jackson': 2375, 'morning': 2906, 'health': 2060, 'scripts': 3836, 'errors': 1516, 'common': 906, 'creator': 1043, 'shock': 3938, 'hoped': 2156, 'heston': 2094, 'lacked': 2503, 'settings': 3901, 'explanation': 1590, 'critics': 1064, 'clichéd': 845, 'save': 3794, 'using': 4698, 'charisma': 762, 'luck': 2681, 'lisa': 2616, 'airport': 167, 'seemingly': 3863, 'security': 3854, 'exact': 1550, 'reasons': 3560, 'happen': 2026, 'process': 3412, 'neck': 2985, 'trip': 4588, 'chase': 769, 'passed': 3202, 'post': 3352, 'steals': 4172, 'hotel': 2175, 'manager': 2724, 'sneak': 4043, 'building': 615, 'third': 4455, 'parties': 3196, 'threatening': 4468, 'easier': 1405, 'simon': 3982, 'hide': 2097, 'laughs': 2534, 'aimed': 162, 'cleverly': 842, 'round': 3742, 'surprise': 4312, 'memories': 2803, 'dick': 1239, 'elvis': 1451, 'references': 3583, '60s': 54, 'jason': 2383, 'alexander': 180, 'cable': 644, 'contrast': 975, 'persona': 3239, 'familiar': 1643, 'absence': 70, 'colour': 880, '25': 40, 'memory': 2804, 'searching': 3842, 'empty': 1465, 'search': 3841, 'share': 3920, 'jesse': 2397, 'remarkably': 3614, 'lies': 2591, 'uneven': 4649, 'nicholas': 3010, 'ham': 2011, 'began': 441, 'heaven': 2068, 'hell': 2077, 'jeffrey': 2391, 'hunter': 2199, 'fox': 1814, 'contract': 973, 'player': 3298, 'assigned': 325, 'borrowed': 545, 'mark': 2739, 'lacking': 2504, 'robin': 3715, 'hood': 2151, 'empathy': 1462, 'whatsoever': 4861, 'mentioning': 2812, 'aspects': 322, 'joe': 2407, 'proud': 3444, 'handful': 2017, 'produced': 3414, 'majority': 2712, 'lose': 2654, 'criticism': 1063, 'longer': 2645, 'theaters': 4428, 'paranoia': 3186, 'circumstances': 822, 'furthermore': 1854, 'wasted': 4809, 'generally': 1881, 'namely': 2962, 'whos': 4876, 'succeeds': 4264, 'credible': 1048, 'rules': 3754, 'urge': 4689, 'throw': 4479, 'herself': 2092, 'bridge': 578, 'motivation': 2914, 'actions': 101, 'lowest': 2678, 'form': 1798, 'whatever': 4859, 'thus': 4486, 'loud': 2664, 'introduced': 2337, 'convey': 982, 'fortunately': 1805, 'caring': 691, 'frequently': 1832, 'state': 4160, 'hear': 2061, 'embarrassed': 1453, 'ashamed': 312, 'laughing': 2533, 'suggest': 4280, 'sticks': 4186, 'market': 2740, 'ask': 316, 'cat': 713, 'bizarre': 492, 'eating': 1413, 'sake': 3775, 'toy': 4542, 'robots': 3718, 'highlight': 2103, 'meat': 2787, 'albeit': 173, 'predictable': 3367, 'record': 3573, 'prior': 3400, 'adam': 111, 'handed': 2016, 'coffee': 870, 'suppose': 4305, 'roy': 3745, 'laid': 2508, 'placed': 3283, 'nearly': 2981, 'tear': 4379, 'north': 3036, 'hole': 2132, 'places': 3284, 'perspective': 3245, 'cell': 730, 'portrayed': 3342, 'constructed': 959, 'initial': 2290, 'legs': 2566, 'chris': 806, 'tortured': 4530, 'idiotic': 2219, 'visits': 4756, 'discovers': 1281, 'strikes': 4225, 'daniel': 1111, 'wells': 4845, 'gore': 1941, 'lately': 2524, 'genre': 1888, 'eight': 1436, 'soft': 4051, 'porn': 3336, 'foreign': 1790, 'filming': 1718, 'substance': 4258, 'advise': 134, 'lees': 2560, 'tiger': 4491, 'dragon': 1344, 'figured': 1712, 'spectacular': 4101, 'helped': 2080, 'shines': 3932, 'amazingly': 210, 'writing': 4971, 'combination': 883, 'wishing': 4907, 'hoping': 2160, 'dynamic': 1394, 'complex': 923, 'seat': 3845, 'ready': 3546, 'dozens': 1339, 'breath': 573, 'goodness': 1938, 'picking': 3267, 'pleasant': 3302, 'specifically': 4100, 'focused': 1767, 'issues': 2365, 'dealt': 1138, 'symbolism': 4341, 'extras': 1608, 'synopsis': 4344, 'europe': 1529, 'brave': 567, 'overcome': 3151, 'mistakes': 2873, 'relation': 3595, 'lead': 2545, 'descent': 1193, 'learning': 2552, 'public': 3460, 'flaws': 1752, 'cutting': 1092, 'suffers': 4278, 'theatrical': 4430, 'toward': 4539, 'underlying': 4641, 'technology': 4385, 'solve': 4060, 'charismatic': 763, 'fiction': 1702, '2001': 31, 'landscapes': 2514, 'amount': 219, 'reaching': 3539, 'reach': 3536, 'humorous': 2193, 'standards': 4145, 'guns': 1998, 'considered': 951, 'logical': 2639, 'ralph': 3510, 'richardson': 3688, 'recognized': 3570, 'evident': 1547, 'raymond': 3534, 'curious': 1083, 'relevant': 3604, 'castle': 712, 'creepy': 1052, 'foster': 1809, 'english': 1483, 'interview': 2329, 'edgar': 1417, 'abandoned': 62, 'mansion': 2731, 'locked': 2637, 'atmospheric': 334, 'scared': 3805, 'eerie': 1427, 'tension': 4404, 'sinister': 3998, 'masterpiece': 2759, 'stinks': 4192, 'commercials': 903, 'abc': 63, 'press': 3379, 'rights': 3697, 'struggling': 4236, 'occasional': 3074, 'installment': 2303, 'lasted': 2522, 'shooting': 3943, 'stories': 4205, 'alongside': 196, 'hiding': 2099, 'follow': 1772, 'explored': 1595, 'meaning': 2780, 'support': 4303, 'band': 391, 'occasion': 3073, 'holding': 2130, 'describes': 1196, 'breasts': 572, 'distracting': 1297, 'juvenile': 2441, 'soap': 4047, 'opera': 3116, 'difficult': 1249, 'present': 3374, 'delivers': 1172, 'color': 877, 'delivering': 1171, 'nowadays': 3055, 'irrelevant': 2358, 'grasp': 1960, 'hip': 2114, 'nose': 3037, 'shallow': 3917, 'classical': 836, 'queen': 3485, 'belongs': 460, 'sole': 4055, 'shall': 3916, 'adequate': 120, 'river': 3707, 'held': 2074, 'sum': 4289, 'thin': 4449, 'proves': 3447, 'keaton': 2448, 'bullets': 621, 'chair': 742, 'information': 2288, 'prison': 3401, 'johnny': 2410, 'prove': 3445, 'amy': 222, 'slap': 4018, 'slapstick': 4019, 'spoof': 4127, '1930s': 11, 'throws': 4482, 'cliche': 843, 'adds': 119, 'dolls': 1316, 'faces': 1618, 'machine': 2693, 'count': 1010, 'funnier': 1850, 'pop': 3330, 'laughter': 2535, 'jones': 2418, 'smart': 4035, 'consistently': 954, 'lovable': 2668, 'visually': 4758, 'deals': 1137, 'banned': 395, 'deserved': 1200, 'serves': 3895, 'provoking': 3452, 'erotic': 1515, 'sally': 3776, 'kevin': 2457, 'multiple': 2936, 'entertain': 1497, 'finding': 1727, 'inner': 2292, 'arent': 288, 'hilarious': 2106, 'hung': 2197, 'curtis': 1087, 'nights': 3016, 'tommy': 4516, 'introduce': 2336, 'individual': 2277, 'eric': 1514, '1980s': 21, 'realise': 3548, 'producing': 3417, 'officer': 3092, 'gross': 1978, 'teenagers': 4391, 'damon': 1101, 'irritating': 2359, 'belief': 451, 'sympathy': 4343, 'absolute': 71, 'rubbish': 3748, 'joke': 2414, 'computer': 927, 'generated': 1882, 'kidnapped': 2466, 'craig': 1030, 'splendid': 4119, 'blend': 504, 'narrative': 2966, 'lights': 2597, 'delight': 1167, 'winning': 4898, 'endless': 1473, 'wall': 4781, 'challenging': 744, 'generation': 1883, '2005': 35, 'sin': 3988, 'christian': 808, 'masterful': 2758, 'shadows': 3913, 'expressions': 1603, 'stronger': 4230, 'reflect': 3584, 'darkness': 1117, 'revolves': 3682, 'citizen': 824, 'essence': 1521, 'attempts': 343, 'whilst': 4869, 'routine': 3743, 'till': 4493, 'unpredictable': 4675, 'rain': 3506, 'hudson': 2184, 'ride': 3692, '20th': 38, 'pokemon': 3320, 'leader': 2546, 'tracks': 4545, 'private': 3404, 'dancer': 1104, 'billy': 482, 'album': 175, 'pulled': 3462, 'danger': 1109, 'cruise': 1071, 'jumps': 2432, 'bette': 471, 'heroic': 2090, 'productions': 3420, 'hbo': 2055, 'glad': 1916, 'funniest': 1851, 'comedian': 887, 'craft': 1028, 'twin': 4615, 'cities': 823, 'channel': 753, 'surfing': 4311, 'bottle': 550, 'bar': 396, 'featured': 1679, 'clips': 852, 'counter': 1011, 'rich': 3685, 'segments': 3868, 'properly': 3437, 'chuck': 812, 'dating': 1120, 'duo': 1386, 'segment': 3867, 'beer': 439, 'tight': 4492, 'league': 2549, 'picked': 3266, 'network': 3000, 'constant': 957, 'flow': 1762, 'pig': 3274, 'rushed': 3760, 'forced': 1787, 'jon': 2416, 'stewart': 4184, 'daily': 1097, 'lame': 2510, 'treatment': 4574, 'genius': 1887, 'total': 4531, 'theyll': 4444, 'bond': 532, 'brosnan': 597, 'fellow': 1691, 'davis': 1126, 'mainly': 2708, 'study': 4242, 'vast': 4716, 'conspiracy': 956, 'blame': 499, 'armed': 293, 'disaster': 1276, 'served': 3894, 'equipment': 1511, 'officers': 3093, 'idiots': 2220, 'blatant': 502, 'propaganda': 3435, 'presented': 3376, 'urban': 4688, 'ps': 3453, 'wwii': 4975, 'responsibility': 3655, 'ok': 3098, 'divorce': 1301, 'fortune': 1806, 'credits': 1050, 'mrs': 2930, 'margaret': 2735, 'metal': 2823, 'gene': 1879, 'simmons': 3981, 'checking': 778, 'ridiculously': 3694, 'advantage': 129, 'attitude': 346, 'nowhere': 3056, 'enjoying': 1487, 'initially': 2291, 'teenage': 4389, 'receives': 3565, 'messages': 2820, 'originality': 3130, 'fooled': 1780, 'speaks': 4096, 'irony': 2357, 'guilty': 1995, 'conventional': 979, 'roll': 3728, 'altogether': 202, 'road': 3709, 'travel': 4567, 'attraction': 350, 'escaped': 1518, 'photographer': 3259, 'seek': 3858, 'solely': 4056, 'families': 1644, 'executed': 1565, 'remotely': 3623, 'inappropriate': 2259, 'ruins': 3752, 'lousy': 2667, 'pleasantly': 3303, 'countless': 1012, 'grade': 1951, 'orson': 3132, 'welles': 4844, 'image': 2233, 'conflict': 939, 'colorful': 878, 'photographed': 3258, 'irish': 2353, 'murderous': 2942, 'inevitable': 2282, 'sun': 4292, 'speaking': 4095, 'bourne': 554, 'secondly': 3847, 'super': 4295, 'reference': 3582, 'executive': 1567, 'outrageous': 3145, 'domestic': 1318, '2004': 34, 'united': 4664, 'achievement': 94, 'description': 1197, 'physical': 3262, 'pushed': 3478, 'suspenseful': 4331, 'pull': 3461, 'tiresome': 4502, 'videos': 4734, 'oliver': 3102, '1990': 24, 'identity': 2217, 'matt': 2768, 'cia': 814, 'program': 3424, 'edward': 1426, 'marvelous': 2750, 'official': 3094, 'illegal': 2229, 'prisoners': 3403, 'joan': 2404, 'julia': 2427, 'aid': 160, 'lack': 2502, 'blank': 501, 'expression': 1602, 'miles': 2843, 'stretched': 4222, 'arrive': 300, 'superhero': 4299, 'facts': 1624, 'perry': 3237, 'crafted': 1029, 'chances': 748, 'jr': 2423, 'ryan': 3765, 'trio': 4587, 'chemistry': 782, 'saves': 3796, 'plan': 3287, 'looked': 2647, 'india': 2273, 'drags': 1345, 'lyrics': 2692, 'according': 88, 'website': 4834, 'devil': 1228, 'walls': 4783, 'demented': 1176, '70s': 56, 'minimum': 2856, 'simplistic': 3985, 'mental': 2808, 'warn': 4797, 'laughably': 2531, 'un': 4630, 'satan': 3787, 'photography': 3260, 'hideous': 2098, 'critic': 1061, 'confusion': 943, 'sensitive': 3879, 'guarantee': 1987, 'continued': 970, 'freedom': 1828, 'wives': 4918, 'facing': 1620, 'wished': 4905, 'virus': 4752, 'superman': 4301, 'faithful': 1634, 'comics': 895, 'steel': 4173, 'adventures': 131, 'titles': 4506, 'williams': 4888, 'similarly': 3980, 'developed': 1223, 'pleasure': 3306, 'louis': 2665, 'enthusiasm': 1501, 'holes': 2133, 'capture': 676, 'climax': 849, 'smile': 4036, 'link': 2613, 'extra': 1606, 'jazz': 2387, 'chorus': 803, 'favourite': 1673, 'instant': 2305, 'ie': 2221, 'calm': 655, 'driving': 1368, 'ages': 152, 'sappy': 3784, '24': 39, 'mall': 2720, 'recording': 3575, 'artists': 309, 'dropped': 1370, 'wonders': 4931, 'martin': 2748, 'elizabeth': 1445, 'youve': 4995, 'sounding': 4083, 'medical': 2790, 'unit': 4663, 'kiss': 2483, 'lips': 2615, 'sir': 4000, 'september': 3884, 'similarities': 3979, 'mundane': 2938, 'japan': 2381, 'japanese': 2382, 'staring': 4152, 'window': 4894, 'dance': 1103, 'connection': 946, 'discover': 1279, 'traditional': 4550, 'risk': 3704, 'joy': 2422, 'magical': 2704, 'miracle': 2860, 'stylish': 4251, 'sadly': 3769, 'ignore': 2224, 'mob': 2879, 'ah': 158, 'snow': 4045, 'constantly': 958, 'stays': 4169, 'fake': 1635, 'survive': 4321, 'helping': 2081, 'fix': 1744, 'negative': 2991, 'acid': 95, 'sword': 4340, 'stupidity': 4248, 'attempted': 341, 'successful': 4266, 'bodies': 526, 'multi': 2935, 'warriors': 4803, 'witches': 4910, 'laughable': 2530, 'floor': 1759, 'model': 2880, 'importance': 2246, 'lone': 2642, 'warrior': 4802, 'mission': 2870, 'notorious': 3051, 'creation': 1040, 'fighter': 1708, 'kingdom': 2480, 'ultimately': 4628, 'oil': 3097, 'costumes': 1006, 'prequel': 3372, 'monsters': 2893, 'opposite': 3123, 'amongst': 218, 'candy': 668, 'allowed': 190, 'naked': 2959, 'strictly': 4223, 'honesty': 2148, 'reaches': 3538, 'franchise': 1817, 'subsequent': 4257, 'omen': 3104, 'rule': 3753, 'release': 3602, 'experienced': 1581, 'rise': 3702, 'regardless': 3590, 'exercise': 1568, 'offer': 3087, 'involvement': 2347, 'fathers': 1667, 'unintentional': 4658, 'comparison': 914, 'addition': 118, 'epic': 1506, 'replaced': 3634, 'creating': 1039, 'notch': 3043, 'purposes': 3475, 'front': 1841, 'parents': 3188, 'thank': 4421, 'peter': 3247, 'russell': 3761, 'listening': 2620, 'pile': 3275, 'dimensional': 1253, 'exaggerated': 1552, 'couldve': 1009, 'hurts': 2203, 'bright': 581, 'whenever': 4863, 'immediately': 2242, '1990s': 25, 'crying': 1074, 'popcorn': 3331, 'paper': 3183, 'buying': 641, 'rush': 3759, 'described': 1195, 'household': 2179, 'asks': 319, 'grey': 1973, 'analysis': 224, 'signs': 3973, 'manner': 2729, 'pride': 3391, 'six': 4010, 'cinderella': 815, 'gas': 1874, 'famous': 1647, 'answer': 251, 'diamond': 1236, 'wannabe': 4787, 'fictional': 1703, 'jake': 2377, 'speed': 4103, 'fired': 1735, 'greatly': 1967, 'lacks': 2505, 'excitement': 1562, 'bare': 398, 'resemblance': 3645, 'thrills': 4475, 'escapes': 1519, 'providing': 3451, 'musicals': 2948, 'mysteries': 2954, 'murderer': 2941, 'relief': 3605, 'wing': 4896, 'donna': 1323, 'chosen': 805, 'tend': 4400, 'duke': 1383, 'lovers': 2673, '1970s': 17, 'pseudo': 3454, 'andy': 230, 'stargate': 4151, 'sport': 4129, 'jaw': 2384, 'inane': 2258, 'soul': 4079, 'mid': 2832, 'suck': 4269, 'race': 3499, 'brady': 561, 'reed': 3580, 'inspired': 2301, 'documentaries': 1306, 'waters': 4817, 'tribute': 4581, 'museum': 2945, 'susan': 4326, 'surprises': 4314, 'classes': 834, 'stay': 4166, 'voight': 4764, 'department': 1182, 'wears': 4832, 'defense': 1159, 'dogs': 1311, 'scream': 3826, 'saved': 3795, 'turner': 4607, 'actresses': 106, 'noble': 3021, 'scare': 3803, 'gory': 1943, 'bet': 470, 'critical': 1062, 'vote': 4766, 'twice': 4613, 'burning': 627, 'mary': 2751, 'subtitles': 4259, 'tree': 4576, 'trek': 4578, 'ear': 1397, 'hints': 2113, 'bang': 393, 'todd': 4510, 'wanting': 4790, 'ears': 1402, '2006': 36, 'visuals': 4759, 'sam': 3777, 'falk': 1636, 'thrown': 4481, 'appropriate': 283, 'precious': 3366, 'restaurant': 3658, 'crisis': 1060, 'danny': 1112, 'businessman': 634, 'pitch': 3279, 'needless': 2989, 'inevitably': 2283, 'motivations': 2915, 'existed': 1570, 'fed': 1682, 'closer': 856, 'burn': 625, 'drunken': 1376, 'deeper': 1155, 'financial': 1725, 'visible': 4753, 'dress': 1357, 'hired': 2117, 'notable': 3041, 'affect': 136, 'brian': 576, 'masterpieces': 2760, 'bride': 577, 'dentist': 1180, 'lesser': 2576, 'alan': 171, 'superbly': 4297, 'linda': 2609, 'affair': 135, 'event': 1535, 'following': 1774, 'victims': 4730, 'respected': 3653, 'subtle': 4260, 'aids': 161, 'ken': 2453, 'creature': 1045, 'alien': 183, 'andrews': 229, 'doctor': 1304, 'carefully': 689, 'returns': 3668, 'blob': 507, 'nobody': 3022, '50s': 52, 'seven': 3903, 'documentary': 1307, 'aired': 165, 'bbc': 417, 'media': 2789, 'crew': 1053, 'intentions': 2321, 'concerns': 934, 'events': 1536, 'remarkable': 3613, 'leslie': 2574, 'misery': 2865, 'fest': 1696, 'noticed': 3049, 'stellar': 4174, 'kurt': 2499, 'closest': 857, 'claimed': 829, 'opened': 3113, 'wearing': 4831, 'recorded': 3574, 'birthday': 487, 'homer': 2144, 'author': 359, 'rocket': 3721, 'basis': 408, 'warming': 4795, 'closely': 855, 'itll': 2369, 'touch': 4533, 'eager': 1396, 'powerful': 3360, 'ability': 65, 'personalities': 3241, 'seventies': 3904, 'report': 3635, 'miike': 2837, 'midnight': 2834, 'stated': 4161, 'originally': 3131, 'marketing': 2741, 'troubled': 4593, 'spirits': 4115, 'display': 1291, 'naturally': 2974, 'tracy': 4546, 'stops': 4203, 'mgm': 2828, 'signed': 3971, 'opportunity': 3121, 'church': 813, 'german': 1896, 'changed': 750, 'wounded': 4961, 'hospital': 2172, 'gangster': 1868, 'trade': 4547, 'cagney': 646, 'taxi': 4371, 'driver': 1366, 'woody': 4936, 'leonard': 2572, 'tales': 4357, 'manhattan': 2726, 'tied': 4489, 'evening': 1534, 'seeking': 3859, 'stephen': 4176, 'prize': 3405, 'beats': 426, 'stolen': 4195, 'passes': 3203, 'arrogant': 303, 'mann': 2728, 'wide': 4880, 'loses': 2657, 'faster': 1662, 'draw': 1349, 'shelley': 3928, 'winter': 4900, 'distance': 1294, 'drops': 1372, 'winters': 4901, 'fights': 1710, 'mitchell': 2875, 'soldier': 4053, 'hundred': 2195, 'nervous': 2999, 'competent': 917, 'watches': 4814, 'travels': 4569, 'understanding': 4645, 'versus': 4722, 'flash': 1745, 'mouth': 2920, 'charge': 761, 'imaginative': 2237, 'rap': 3520, 'lily': 2605, 'diana': 1237, 'paint': 3173, 'ass': 323, 'vampire': 4711, 'junk': 2436, 'food': 1778, 'protagonists': 3442, 'bargain': 400, 'understood': 4647, 'improvement': 2256, 'freak': 1824, 'names': 2963, 'london': 2641, 'streets': 4217, 'sunshine': 4294, 'fat': 1663, 'jobs': 2406, 'homeless': 2143, 'wishes': 4906, 'innocence': 2293, 'grant': 1956, 'loads': 2633, 'repetitive': 3633, 'terry': 4415, 'intelligence': 2313, 'revealed': 3671, 'adult': 125, 'landscape': 2513, 'creates': 1038, 'gentle': 1890, 'strength': 4219, 'explicit': 1591, 'master': 2757, 'grave': 1962, 'yesterday': 4983, 'storytelling': 4209, 'combined': 885, 'nicely': 3009, 'doubts': 1333, 'fears': 1677, 'sky': 4017, 'floating': 1758, 'kicks': 2463, 'glimpse': 1919, 'grand': 1953, 'gradually': 1952, 'path': 3209, 'mere': 2814, 'technically': 4382, 'overwhelming': 3157, 'costs': 1004, 'acceptable': 81, 'dust': 1388, 'disagree': 1269, 'waited': 4771, 'bible': 477, 'code': 869, 'bite': 489, 'clumsy': 866, 'distinct': 1296, 'monkey': 2890, 'gotten': 1947, 'likes': 2602, 'kinda': 2477, 'endearing': 1469, 'dramas': 1347, 'wondering': 4930, 'sympathetic': 4342, 'flashback': 1746, 'chaos': 755, 'cared': 685, 'pit': 3278, '1940s': 13, 'nazis': 2978, 'britain': 588, 'became': 431, 'succeeded': 4263, 'uncomfortable': 4637, 'staff': 4138, 'designed': 1203, 'flesh': 1753, 'intentionally': 2320, 'slave': 4022, 'loyal': 2679, 'site': 4005, 'breaks': 571, 'asking': 318, 'spoiler': 4123, 'alert': 178, 'execution': 1566, 'retarded': 3663, 'moore': 2901, 'dies': 1245, 'massive': 2756, 'allows': 192, 'covers': 1024, 'walks': 4780, 'shower': 3957, 'topless': 4527, 'closing': 859, 'pilot': 3276, 'mainstream': 2709, 'warmth': 4796, 'strip': 4228, 'bathroom': 412, 'remaining': 3610, 'ironic': 2355, '2000': 30, 'mile': 2842, 'minute': 2858, 'countries': 1013, 'efforts': 1433, 'prevent': 3385, 'jungle': 2434, 'groups': 1981, 'cameras': 660, 'bela': 450, 'lugosi': 2686, 'thrill': 4471, 'victor': 4731, 'proper': 3436, 'imagined': 2239, 'reaction': 3541, 'bore': 540, 'intimate': 2331, 'happening': 2028, 'answers': 252, 'raise': 3507, 'pot': 3354, 'behave': 445, 'lab': 2501, 'question': 3487, 'spread': 4133, 'teeth': 4393, 'worked': 4941, 'sharp': 3922, 'childrens': 793, 'universal': 4665, 'riding': 3695, 'wouldve': 4959, 'context': 968, 'limited': 2606, 'lively': 2627, 'gray': 1963, 'achieve': 92, 'overly': 3155, 'brains': 563, 'generic': 1885, 'extraordinary': 1607, 'anyways': 262, 'weapons': 4829, 'steal': 4170, 'tends': 4402, 'extended': 1604, 'sucks': 4271, 'elegant': 1441, 'farce': 1654, 'apes': 267, 'reduced': 3579, 'interaction': 2322, 'existent': 1572, 'hollow': 2135, 'magnificent': 2705, 'senseless': 3878, 'surreal': 4317, 'generations': 1884, 'growing': 1983, 'focusing': 1769, 'doctors': 1305, 'awkward': 374, 'royal': 3746, 'horrific': 2166, 'virgin': 4749, 'reactions': 3542, 'pretending': 3382, 'yellow': 4981, 'beliefs': 452, 'unreal': 4676, 'insult': 2309, 'football': 1783, 'bollywood': 530, 'coach': 868, 'cook': 988, 'match': 2762, 'independent': 2272, 'carried': 698, 'tremendous': 4579, 'fu': 1844, 'sellers': 3872, 'sadness': 3770, 'dracula': 1341, 'ho': 2127, 'copies': 992, 'join': 2412, 'explore': 1594, 'players': 3299, 'sorts': 4078, 'immensely': 2243, 'disappointment': 1275, 'novels': 3053, 'created': 1037, 'bell': 458, 'radio': 3504, 'adapted': 114, 'rats': 3531, 'rick': 3689, 'merits': 2817, 'cinematic': 818, 'fails': 1628, 'miserably': 2864, 'category': 718, 'somebody': 4062, 'pg': 3250, 'slaughter': 4021, 'disgusting': 1286, 'kings': 2481, 'curiosity': 1082, 'uninteresting': 4660, 'admittedly': 123, 'atrocious': 335, 'werewolf': 4850, 'frankenstein': 1822, 'dozen': 1338, 'proceedings': 3410, 'gandhi': 1866, 'differences': 1247, 'fifteen': 1706, 'research': 3644, 'melodramatic': 2798, 'colors': 879, 'spots': 4132, 'kidding': 2465, 'uk': 4626, 'tape': 4365, 'alternate': 200, 'gundam': 1997, 'universe': 4666, 'terrorists': 4414, 'eve': 1532, 'saga': 3773, 'seed': 3856, 'icon': 2211, 'oz': 3160, 'shining': 3933, 'command': 897, 'philosophy': 3254, 'dvds': 1392, 'academy': 77, 'judge': 2424, 'account': 89, 'therefore': 4439, 'firstly': 1737, 'theory': 4437, 'monster': 2892, 'arm': 292, 'dressing': 1359, 'vampires': 4712, 'derek': 1192, 'vietnam': 4735, 'born': 544, 'pro': 3406, 'sixties': 4011, 'bed': 436, 'empire': 1464, 'disappeared': 1271, 'alex': 179, 'persons': 3244, 'flawed': 1750, 'connected': 945, 'americans': 214, 'redemption': 3578, 'transformation': 4560, 'disease': 1285, 'maker': 2714, 'hurt': 2202, 'jay': 2386, 'domino': 1319, 'harvey': 2042, 'boredom': 542, 'lifestyle': 2593, 'hunters': 2200, 'mickey': 2831, 'spanish': 4092, 'lucy': 2684, 'paced': 3162, 'melodrama': 2797, 'barbara': 397, 'stanwyck': 4149, 'wealth': 4826, 'position': 3345, 'tame': 4363, 'worthless': 4954, 'distant': 1295, 'refuses': 3587, 'sleazy': 4023, 'african': 142, 'arrived': 301, 'sexuality': 3909, 'ned': 2986, 'stevens': 4183, 'carter': 703, 'douglas': 1334, 'board': 522, 'higher': 2101, 'ships': 3935, 'arrives': 302, 'attached': 336, 'nail': 2957, 'winds': 4895, 'tie': 4488, 'nostalgia': 3038, 'suffice': 4279, 'st': 4137, 'climactic': 848, 'enter': 1494, 'creep': 1051, 'remind': 3618, 'reveal': 3670, 'bears': 421, 'feminist': 1695, 'holy': 2140, 'centered': 733, 'hang': 2022, 'hook': 2152, 'translation': 4562, 'daring': 1114, 'costume': 1005, 'stands': 4147, 'locations': 2636, 'ireland': 2352, 'sports': 4130, 'clark': 832, 'gags': 1862, 'delivery': 1173, 'suited': 4286, 'performers': 3232, 'ensemble': 1492, 'louise': 2666, 'brooks': 596, 'neo': 2998, 'franco': 1820, 'border': 539, 'workers': 4943, 'welcome': 4842, 'greater': 1965, 'germany': 1898, 'resulting': 3661, 'explosion': 1596, 'causes': 725, 'germans': 1897, 'audiences': 353, 'hatred': 2049, 'minimal': 2855, 'promise': 3430, 'loss': 2659, 'fish': 1738, 'ourselves': 3140, 'gag': 1861, 'fell': 1690, 'dolph': 1317, 'studios': 4241, 'questionable': 3488, 'regarding': 3589, 'ratings': 3530, 'suspicious': 4332, '70': 55, 'cuts': 1091, 'horrifying': 2167, 'remote': 3622, 'experiment': 1583, 'hunt': 2198, 'johnson': 2411, 'christians': 809, 'represents': 3639, 'ignorant': 2223, 'laura': 2536, 'suffering': 4277, 'brilliantly': 584, 'surrounding': 4319, 'underground': 4640, 'motives': 2916, 'plight': 3308, 'scrooge': 3837, 'narrator': 2967, 'roger': 3724, 'understated': 4646, 'warner': 4799, 'harsh': 2040, 'lust': 2689, 'partner': 3198, 'dickens': 1240, 'sincere': 3991, 'forgive': 1795, 'eccentric': 1414, 'superficial': 4298, 'westerns': 4854, 'sing': 3992, 'thousand': 4465, 'corny': 997, 'crowd': 1067, 'practically': 3362, 'ballet': 389, 'highest': 2102, 'golden': 1934, 'illogical': 2231, 'cringe': 1059, 'amitabh': 216, 'map': 2733, 'tense': 4403, 'hills': 2109, 'dropping': 1371, 'reunion': 3669, 'shortly': 3947, 'luke': 2687, 'babe': 375, '1999': 27, 'mentioned': 2811, 'capable': 672, 'corruption': 1002, 'related': 3594, 'drinking': 1362, 'ease': 1404, 'sitcom': 4004, 'columbo': 881, 'rising': 3703, 'possibilities': 3348, 'kinds': 2478, 'consistent': 953, 'expectations': 1576, 'disappear': 1270, 'destroyed': 1214, 'built': 618, 'vengeance': 4719, 'captain': 674, 'abilities': 64, 'accepted': 82, 'seasons': 3844, 'hollywoods': 2138, 'unoriginal': 4673, 'dialogs': 1233, 'pursuit': 3476, 'everyones': 1543, 'reflection': 3585, 'jamie': 2379, 'swear': 4334, 'accent': 78, 'favor': 1670, 'witty': 4917, 'goofy': 1939, 'phone': 3255, 'phony': 3256, 'timing': 4498, 'whereas': 4865, 'chooses': 800, 'killers': 2471, 'training': 4558, 'falling': 1639, 'managed': 2723, 'calls': 654, 'davies': 1125, 'comedies': 889, 'guest': 1992, 'chaplin': 756, 'hart': 2041, 'taylor': 4372, 'buff': 611, 'parallel': 3185, 'reel': 3581, 'teens': 4392, 'garbo': 1871, 'desert': 1198, 'stealing': 4171, 'plane': 3288, 'steps': 4177, 'marks': 2742, 'blown': 516, 'complicated': 925, 'sentence': 3881, 'ground': 1979, 'guard': 1988, 'showcase': 3954, 'haunting': 2051, 'device': 1227, 'tender': 4401, 'purchase': 3469, 'primarily': 3393, 'burned': 626, 'spain': 4091, 'obscure': 3068, 'ideal': 2214, 'enjoys': 1489, 'boxing': 556, 'worker': 4942, 'victoria': 4732, 'handsome': 2021, 'jim': 2402, 'appealing': 272, 'overlooked': 3154, 'flop': 1760, 'impress': 2250, 'talents': 4356, 'murdered': 2940, 'soviet': 4089, 'deaths': 1142, 'communist': 907, 'goal': 1925, 'gripping': 1976, 'maggie': 2702, 'warren': 4801, 'page': 3167, 'helen': 2075, 'norman': 3035, 'depression': 1189, 'planning': 3291, 'worried': 4949, 'demands': 1175, 'industry': 2280, 'creativity': 1042, 'affected': 137, 'avoided': 364, 'silver': 3977, 'mistaken': 2872, 'tune': 4602, 'agreed': 156, 'increasingly': 2268, 'obsessed': 3069, 'junior': 2435, 'unwatchable': 4682, 'blah': 496, 'surviving': 4323, 'wealthy': 4827, 'ad': 110, 'believing': 457, 'disbelief': 1277, 'standing': 4146, 'dollar': 1314, 'condition': 937, 'pretend': 3381, 'catherine': 719, 'paying': 3217, 'appearing': 277, 'overlook': 3153, 'shine': 3931, 'blond': 510, 'desperately': 1209, 'angel': 231, 'exceptionally': 1559, 'carrey': 696, 'ought': 3138, 'ron': 3734, 'measure': 2786, 'broadcast': 591, 'catching': 716, 'classics': 837, 'cd': 728, 'twilight': 4614, 'zone': 4999, 'expensive': 1579, 'yelling': 4980, 'noise': 3024, 'blowing': 515, 'stanley': 4148, 'adams': 112, 'mentions': 2813, 'scientific': 3817, 'sends': 3876, 'tricks': 4583, 'pair': 3176, 'enterprise': 1495, 'performer': 3231, 'literature': 2623, 'honor': 2150, 'importantly': 2248, 'stilted': 4190, 'versions': 4721, 'user': 4696, 'relative': 3599, 'boom': 537, 'influence': 2286, 'complexity': 924, 'medium': 2792, 'eg': 1434, 'practice': 3363, 'france': 1816, 'ignored': 2225, 'gangsters': 1869, 'returning': 3667, 'achieved': 93, 'inspector': 2299, 'shake': 3914, 'land': 2511, 'viewed': 4737, 'understandable': 4644, 'le': 2544, 'block': 508, 'anywhere': 263, 'endings': 1472, 'despair': 1207, 'emily': 1456, 'chess': 783, 'deeply': 1156, 'vulnerable': 4768, 'matches': 2764, 'obsession': 3070, 'frustrated': 1842, 'lessons': 2578, 'abusive': 75, 'wasting': 4810, 'exploitation': 1592, 'determined': 1221, 'month': 2896, 'letters': 2582, 'morgan': 2905, 'felix': 1689, 'mail': 2706, 'area': 286, 'glass': 1917, 'africa': 141, 'editor': 1423, 'newspaper': 3006, 'writes': 4970, 'denzel': 1181, 'holiday': 2134, 'terror': 4412, 'santa': 3783, 'ellen': 1446, 'larry': 2520, 'iraq': 2351, 'vice': 4727, 'cusack': 1088, 'butt': 638, 'oscars': 3134, 'corporate': 998, 'combat': 882, 'insulting': 2310, 'frustration': 1843, 'souls': 4080, 'realizing': 3555, 'switch': 4339, 'library': 2589, 'likewise': 2603, 'wilson': 4891, 'garbage': 1870, 'stayed': 4167, 'damage': 1099, 'childish': 791, 'pulp': 3465, 'sidekick': 3966, 'dreary': 1356, 'length': 2569, 'freddy': 1826, 'patients': 3212, 'vacation': 4704, 'innovative': 2295, 'techniques': 4384, 'sons': 4073, 'idiot': 2218, 'reporter': 3636, 'stereotype': 4178, 'spoil': 4121, 'bucks': 606, 'strongly': 4231, 'devoid': 1230, 'struck': 4232, 'enters': 1496, 'improve': 2254, 'worthwhile': 4955, 'painfully': 3172, 'la': 2500, 'warm': 4794, 'handle': 2018, 'mass': 2753, 'service': 3896, 'ghost': 1902, 'closet': 858, 'molly': 2884, 'suits': 4287, 'sell': 3871, 'cars': 702, 'relatively': 3600, 'heavily': 2069, 'scripted': 3835, 'mouse': 2919, '2003': 33, 'jennifer': 2392, 'education': 1424, 'trees': 4577, 'circle': 821, 'principal': 3398, '18': 10, 'examples': 1554, 'offering': 3089, 'aint': 163, 'halfway': 2008, '45': 50, 'carol': 693, 'peters': 3248, 'expert': 1585, 'ashley': 313, 'adding': 117, 'annie': 247, 'sign': 3970, 'tag': 4348, 'survivors': 4325, 'bugs': 613, 'civilization': 827, 'outstanding': 3147, 'mate': 2765, 'marty': 2749, 'misses': 2868, 'wolf': 4920, 'decision': 1151, 'behavior': 446, 'advice': 133, 'larger': 2519, 'spoiled': 4122, 'ancient': 225, 'destiny': 1212, '35': 45, 'notion': 3050, 'tour': 4538, 'hamilton': 2012, 'championship': 745, 'convinced': 984, 'strike': 4224, 'kicked': 2461, 'proof': 3434, 'taught': 4370, 'forgettable': 1794, 'dave': 1123, 'mindless': 2851, 'relies': 3606, 'concerning': 933, 'estate': 1525, 'psychic': 3456, 'investigation': 2343, 'fond': 1776, 'fields': 1705, 'meaningless': 2782, '1st': 28, 'award': 366, 'presents': 3377, 'friday': 1834, 'cary': 706, 'ward': 4793, 'intellectual': 2312, 'charlotte': 766, 'deaf': 1134, 'intention': 2319, 'finale': 1723, 'jeremy': 2394, 'tongue': 4518, 'remarks': 3615, 'afternoon': 144, 'cox': 1026, 'comfortable': 892, 'finished': 1733, 'worlds': 4947, 'canada': 666, 'vivid': 4760, 'wendy': 4846, 'wed': 4835, 'tunes': 4603, 'notes': 3046, '1996': 26, 'describe': 1194, 'eyre': 1614, 'explained': 1587, 'miscast': 2862, 'wet': 4855, 'doll': 1313, 'amanda': 205, 'timothy': 4499, 'dalton': 1098, 'ocean': 3079, 'dollars': 1315, 'navy': 2976, 'kung': 2498, 'miller': 2846, 'cards': 683, 'angels': 234, 'eastern': 1408, 'promises': 3432, 'kudos': 2497, 'dennis': 1179, 'fabulous': 1615, 'winner': 4897, 'stones': 4198, 'polished': 3323, 'doors': 1329, 'remembered': 3617, 'stood': 4199, 'von': 4765, 'captivating': 675, 'raised': 3508, 'branagh': 564, 'hamlet': 2013, 'attempting': 342, 'source': 4086, 'porno': 3337, 'eva': 1531, 'grow': 1982, 'load': 2631, 'thankfully': 4422, 'lynch': 2691, 'provide': 3448, 'primary': 3394, 'shorts': 3948, 'trilogy': 4586, 'corpse': 999, 'planned': 3290, 'authority': 360, 'usa': 4691, 'build': 614, 'developing': 1224, 'styles': 4250, 'fulci': 1845, 'vaguely': 4706, 'loving': 2675, 'ensues': 1493, 'mild': 2839, 'bland': 500, 'outfit': 3144, 'feed': 1683, 'randomly': 3515, 'shoots': 3944, 'mask': 2752, 'pet': 3246, 'womens': 4924, 'fool': 1779, 'respect': 3652, 'nonsensical': 3031, 'dying': 1393, 'ripped': 3701, 'grab': 1949, 'ingredients': 2289, 'methods': 2825, 'purchased': 3470, 'rental': 3627, 'sullivan': 4288, 'seeks': 3860, 'chicago': 785, 'reads': 3545, 'price': 3389, 'praise': 3364, 'pays': 3218, 'mechanical': 2788, 'niro': 3019, 'brando': 566, 'lit': 2621, 'doomed': 1327, 'china': 795, 'aged': 149, 'triumph': 4590, 'nazi': 2977, 'mel': 2796, 'secretary': 3850, 'rank': 3518, 'returned': 3666, 'robot': 3717, 'nuclear': 3057, 'fair': 1630, 'carpenter': 694, 'battles': 415, 'choreographed': 801, 'iron': 2354, 'encounters': 1467, 'print': 3399, 'italy': 2368, '50': 51, 'property': 3438, 'boat': 523, 'trapped': 4564, 'supernatural': 4302, 'current': 1084, 'spooky': 4128, 'task': 4368, 'isolated': 2363, 'karloff': 2445, 'extent': 1605, 'emphasis': 1463, 'portion': 3338, 'frankly': 1823, 'resort': 3650, 'alright': 198, 'fancy': 1649, 'worn': 4948, 'manipulative': 2727, 'dire': 1257, 'scores': 3823, 'audio': 354, 'terrific': 4409, 'facial': 1619, 'bat': 410, 'valley': 4707, 'mill': 2845, 'slowly': 4032, 'downhill': 1336, 'grim': 1974, 'backdrop': 379, 'stiff': 4187, 'finger': 1731, 'button': 639, 'don': 1320, 'hype': 2207, 'attend': 344, 'spending': 4106, 'et': 1526, 'cg': 739, 'frightening': 1839, 'integrity': 2311, 'destroying': 1215, 'mafia': 2700, 'rooms': 3736, 'opportunities': 3120, 'pushing': 3479, 'sold': 4052, 'attractive': 351, 'simplicity': 3984, 'trained': 4557, 'thousands': 4466, 'joined': 2413, 'rob': 3710, 'cure': 1081, 'hammer': 2014, 'companion': 909, 'waves': 4819, 'accept': 80, 'interviews': 2330, 'vincent': 4746, 'ordinary': 3128, 'dear': 1140, 'ted': 4386, 'horrendous': 2162, '13th': 5, 'canadian': 667, 'bloody': 513, 'richards': 3687, 'jessica': 2398, 'brooklyn': 595, 'hed': 2072, 'conceived': 929, 'spike': 4111, 'blues': 519, 'walker': 4778, 'neighbor': 2992, 'center': 732, 'batman': 413, 'oddly': 3081, 'warned': 4798, 'hugh': 2186, 'appalling': 268, 'newly': 3004, 'population': 3335, 'suspects': 4328, 'demand': 1174, 'opinions': 3119, 'historically': 2120, 'figures': 1713, 'rabbit': 3498, '60': 53, 'inferior': 2285, 'centers': 734, 'satisfy': 3790, 'ambitious': 211, 'hoffman': 2128, 'ethan': 1528, 'forth': 1804, 'robbery': 3711, 'perfection': 3225, 'spoke': 4125, 'tarzan': 4367, 'ape': 266, 'savage': 3793, 'unhappy': 4656, 'legendary': 2565, 'swim': 4337, 'projects': 3428, 'improved': 2255, 'crack': 1027, 'foot': 1781, 'racial': 3501, 'bo': 521, 'physically': 3263, 'duty': 1390, 'hunting': 2201, 'slick': 4026, 'pages': 3168, 'nonetheless': 3029, 'subplots': 4256, 'failing': 1627, 'term': 4405, 'fitting': 1742, 'hitler': 2124, 'poetry': 3314, 'spell': 4104, 'honestly': 2147, 'protect': 3443, 'upset': 4687, 'desired': 1206, 'quirky': 3493, 'earl': 1398, 'sits': 4006, 'exotic': 1574, 'francis': 1818, 'aka': 168, 'stinker': 4191, 'possessed': 3347, 'sleep': 4024, 'weakest': 4825, 'hopeless': 2158, 'angela': 232, 'philip': 3252, 'scheme': 3812, 'screenwriter': 3833, 'presentation': 3375, 'amateur': 206, 'hilariously': 2107, 'cinemas': 817, 'dedicated': 1153, 'trailers': 4555, 'directorial': 1265, 'hong': 2149, 'kitchen': 2485, 'cake': 648, 'khan': 2459, 'kapoor': 2443, 'akshay': 169, 'engaged': 1480, 'implausible': 2245, 'rambo': 3511, 'mountain': 2917, 'excessive': 1560, 'capital': 673, 'conflicts': 940, 'draws': 1352, 'hopes': 2159, 'decisions': 1152, 'vegas': 4717, 'violent': 4748, 'drug': 1373, 'per': 3223, 'lane': 2515, 'crucial': 1068, 'wandering': 4785, 'forest': 1791, 'feet': 1688, 'brand': 565, 'potentially': 3356, 'laurel': 2537, 'definite': 1161, 'hardy': 2037, 'arrested': 298, 'pan': 3180, 'butler': 637, 'leg': 2562, 'bus': 631, 'pointed': 3317, 'concert': 935, 'reached': 3537, 'utter': 4701, 'singer': 3993, 'chased': 770, 'assume': 328, 'bone': 533, 'crimes': 1056, 'petty': 3249, 'inept': 2281, 'spy': 4135, 'capturing': 679, 'grows': 1985, 'wholly': 4874, 'powell': 3358, '3rd': 47, 'craven': 1034, 'thru': 4483, 'nyc': 3065, 'spoken': 4126, 'apartment': 265, 'suffer': 4275, 'broad': 590, 'revolution': 3680, 'burton': 630, 'toys': 4543, 'weeks': 4839, 'sides': 3967, 'noted': 3045, 'possibility': 3349, 'depicting': 1184, 'adorable': 124, 'met': 2822, 'subjects': 4254, 'concern': 931, 'da': 1094, 'host': 2173, 'dislike': 1288, 'thoughtful': 4463, 'jonathan': 2417, 'chinese': 796, 'card': 681, 'clip': 851, 'mothers': 2912, 'reputation': 3640, 'drag': 1342, 'factory': 1623, 'claims': 830, 'choose': 799, 'wit': 4908, 'useful': 4694, 'wore': 4939, 'invisible': 2344, 'gadget': 1860, 'bonus': 534, 'advertising': 132, 'stole': 4194, 'cameron': 661, 'flaw': 1749, 'transfer': 4559, 'offered': 3088, 'stunt': 4245, 'access': 83, 'mighty': 2836, 'jewish': 2401, 'orders': 3127, 'miserable': 2863, 'cole': 873, 'continue': 969, 'earned': 1401, 'cash': 709, 'parent': 3187, 'assumed': 329, 'forms': 1801, 'focuses': 1768, 'carrie': 697, '1973': 19, 'contain': 962, 'robinson': 3716, 'merit': 2816, 'cube': 1076, 'losing': 2658, 'horrors': 2169, 'maria': 2736, 'overrated': 3156, 'prom': 3429, '2007': 37, 'twelve': 4611, 'glover': 1923, 'cartoons': 705, 'tons': 4520, 'occur': 3076, 'wrapped': 4964, 'exploration': 1593, 'nostalgic': 3039, 'sarah': 3785, 'happily': 2030, 'wound': 4960, 'antics': 255, 'performing': 3233, 'dawn': 1127, 'skin': 4015, 'chest': 784, 'letter': 2581, 'represent': 3637, 'stan': 4142, 'retired': 3664, 'ramones': 3512, 'tall': 4362, 'perform': 3227, 'logic': 2638, 'shirley': 3936, 'womans': 4922, 'channels': 754, 'plastic': 3294, 'depicts': 1186, 'react': 3540, 'outer': 3143, 'beast': 422, 'confidence': 938, 'simpson': 3987, 'cases': 708, 'scenario': 3808, 'cinematographer': 819, 'advanced': 128, 'los': 2653, 'angeles': 233, 'briefly': 580, 'roots': 3738, 'wondered': 4927, 'thomas': 4458, 'successfully': 4267, 'nightmare': 3014, 'widely': 4881, 'annoyed': 248, 'amounts': 220, 'displays': 1293, 'mexican': 2826, 'quit': 3494, 'clothing': 861, 'elephant': 1444, 'hearted': 2065, 'appreciated': 280, 'uninspired': 4657, 'activities': 102, 'disneys': 1290, 'imagery': 2234, 'identify': 2216, 'cheek': 779, 'airplane': 166, 'teaching': 4377, 'discovery': 1282, 'andrew': 228, 'blake': 498, 'construction': 960, 'burt': 629, 'jumped': 2430, 'response': 3654, 'fever': 1699, 'arguably': 289, 'farm': 1656, 'safety': 3772, 'titanic': 4503, 'pearl': 3220, 'ritter': 3705, 'depiction': 1185, 'kong': 2494, 'choreography': 802, 'gritty': 1977, 'structure': 4233, 'uwe': 4703, 'boll': 529, 'doom': 1326, 'samurai': 3779, 'enormous': 1490, 'drives': 1367, 'muslim': 2949, 'invasion': 2340, 'devils': 1229, 'matthew': 2772, 'widmark': 4882, 'restored': 3659, 'ann': 244, 'photo': 3257, 'piano': 3264, 'millions': 2848, 'rid': 3690, 'reynolds': 3684, 'comparing': 913, 'closed': 854, 'quotes': 3497, 'compelled': 915, 'throwing': 4480, 'gotta': 1946, 'faults': 1669, 'chilling': 794, 'resist': 3648, 'portrait': 3339, 'clown': 862, 'kenneth': 2455, 'mars': 2746, '75': 57, 'heat': 2067, 'madonna': 2699, 'lay': 2542, 'fairy': 1632, 'painting': 3175, 'creators': 1044, 'monk': 2889, 'purely': 3472, 'nations': 2971, 'stiller': 4189, 'hank': 2024, 'basketball': 409, 'pops': 3332, 'titled': 4505, 'artificial': 306, 'buck': 605, 'blunt': 520, 'formulaic': 1803, 'hopper': 2161, 'philosophical': 3253, 'sunday': 4293, 'picks': 3268, 'raising': 3509, 'credibility': 1047, 'menace': 2806, 'justify': 2439, 'june': 2433, 'plausible': 3295, 'gruesome': 1986, 'mtv': 2933, 'splatter': 4118, 'sinatra': 3989, 'sings': 3997, 'wisdom': 4902, 'troops': 4591, 'olivier': 3103, 'format': 1799, 'buffs': 612, 'trite': 4589, 'streep': 4215, 'settle': 3902, 'eighties': 1437, 'limits': 2607, 'proceeds': 3411, 'caliber': 649, 'cannibal': 669, 'cost': 1003, 'catches': 715, 'progress': 3425, 'elaborate': 1439, 'explosions': 1597, 'wacky': 4769, 'hanging': 2023, 'arnold': 296, 'bush': 632, 'horrid': 2165, 'kirk': 2482, 'baker': 385, 'species': 4098, 'inducing': 2279, 'suspend': 4329, 'detailed': 1218, 'models': 2881, 'max': 2774, 'careers': 687, 'unpleasant': 4674, 'troubles': 4594, 'twins': 4616, 'cried': 1054, 'argument': 291, 'dignity': 1252, 'shirt': 3937, 'justin': 2440, 'waitress': 4773, 'mildred': 2841, 'rogers': 3725, 'fay': 1674, 'magazine': 2701, 'selfish': 3870, 'typically': 4624, 'colonel': 876, 'intent': 2318, 'offended': 3085, 'freeman': 1829, 'kane': 2442, 'popularity': 3334, 'fisher': 1739, 'nelson': 2997, 'schools': 3814, 'myers': 2952, 'chapter': 757, 'bear': 420, 'strangers': 4214, 'del': 1165, 'beatty': 427, 'nomination': 3026, 'judy': 2426, 'frequent': 1831, 'americas': 215, 'landing': 2512, 'suggests': 4282, 'glory': 1922, 'associated': 327, 'considerable': 950, 'dancers': 1105, 'mirror': 2861, 'cats': 721, 'insane': 2296, 'consists': 955, 'instantly': 2306, 'countryside': 1015, 'desperation': 1210, 'screams': 3828, 'relatives': 3601, 'garden': 1872, 'houses': 2180, 'skip': 4016, '16': 8, 'believed': 455, 'solution': 4059, 'square': 4136, 'educational': 1425, 'racism': 3502, 'rocky': 3723, 'ghosts': 1903, 'ticket': 4487, 'dub': 1378, 'ruthless': 3764, '2nd': 41, 'lucas': 2680, 'crocodile': 1065, 'couples': 1017, 'mst3k': 2932, 'exposure': 1599, 'whale': 4857, 'awake': 365, 'awe': 370, 'celluloid': 731, 'eaten': 1412, 'monkeys': 2891, 'psychiatrist': 3455, 'willis': 4890, 'phantom': 3251, 'survived': 4322, 'nicholson': 3011, 'diane': 1238, 'poster': 3353, 'hardcore': 2034, 'lemmon': 2567, 'preview': 3386, 'modesty': 2883, 'teachers': 4376, 'lena': 2568, 'der': 1191, 'ruth': 3763, 'grandfather': 1954, 'undoubtedly': 4648, 'teach': 4374, 'shelf': 3926, 'punishment': 3467, 'global': 1920, 'panic': 3181, 'valuable': 4708, 'messed': 2821, 'dances': 1106, 'jenny': 2393, 'vicious': 4728, 'controversial': 978, 'definition': 1163, 'scottish': 3825, 'accompanied': 86, 'poem': 3312, 'beneath': 464, 'snl': 4044, 'guts': 1999, 'reasonable': 3558, 'resources': 3651, 'haunted': 2050, 'subplot': 4255, 'unseen': 4678, 'survival': 4320, 'melting': 2799, 'survivor': 4324, 'trail': 4553, 'toilet': 4512, 'tradition': 4549, 'iran': 2350, 'distribution': 1298, 'assault': 324, 'stranger': 4213, 'rat': 3525, 'thirty': 4456, 'fetched': 1698, 'painted': 3174, 'latin': 2527, 'folk': 1770, 'directions': 1262, 'asian': 314, 'orange': 3125, 'ian': 2209, 'georges': 1894, 'bold': 528, 'guide': 1993, 'endure': 1475, 'engage': 1479, 'clues': 865, 'ruby': 3749, 'convoluted': 987, 'karen': 2444, 'size': 4012, 'experiments': 1584, 'accents': 79, 'pie': 3271, 'brenda': 575, 'harder': 2035, 'buildings': 616, 'genres': 1889, 'bettie': 473, 'bumbling': 622, 'disturbed': 1299, 'commented': 900, 'court': 1020, 'sid': 3964, 'streisand': 4218, 'belong': 459, 'grinch': 1975, 'scooby': 3820, 'doo': 1325, 'lion': 2614, 'homosexual': 2145, 'dutch': 1389, 'ridden': 3691, 'snake': 4042, 'aforementioned': 139, 'slightest': 4028, 'ninja': 3018, 'spring': 4134, 'blade': 495, 'doc': 1303, 'sandler': 3781, 'elderly': 1440, 'sentimental': 3882, 'appreciation': 281, 'cousin': 1021, 'greed': 1968, 'greek': 1970, '1983': 22, 'rochester': 3719, 'kennedy': 2454, 'nuts': 3064, 'brutally': 604, 'bands': 392, 'represented': 3638, 'florida': 1761, 'roman': 3731, 'polanski': 3321, 'losers': 2656, 'cameos': 658, 'giallo': 1904, 'carradine': 695, 'walken': 4777, 'astaire': 330, 'cuba': 1075, 'operation': 3117, 'hop': 2154, 'scarecrow': 3804, 'neighborhood': 2993, 'godzilla': 1929, 'berlin': 467, 'mountains': 2918, 'gabriel': 1859, 'expressed': 1601, 'danes': 1108, 'chain': 741, 'solo': 4058, 'betty': 474, 'pamela': 3179, 'mummy': 2937, 'dawson': 1128, 'elvira': 1450, 'atlantis': 332, 'arrival': 299, 'singers': 3994, 'incomprehensible': 2267, 'lou': 2663, 'kubrick': 2496, 'stooges': 4200, 'temple': 4398, 'elm': 1447, 'montana': 2895, 'plant': 3293, 'photos': 3261, 'hyde': 2206, 'edie': 1419, 'ginger': 1908, 'holly': 2136, 'sandra': 3782, 'che': 773, 'mayor': 2777, 'imitation': 2241}\n"
     ]
    }
   ],
   "source": [
    "print(str(vocabulary))"
   ]
  },
  {
   "cell_type": "markdown",
   "metadata": {},
   "source": [
    "Once you have added the endpoint name to the Lambda function, click on **Save**. Your Lambda function is now up and running. Next we need to create a way for our web app to execute the Lambda function."
   ]
  },
  {
   "cell_type": "markdown",
   "metadata": {},
   "source": [
    "### Setting up API Gateway\n",
    "\n",
    "Now that our Lambda function is set up, it is time to create a new API using API Gateway that will trigger the Lambda function we have just created.\n",
    "\n",
    "Using AWS Console, navigate to **Amazon API Gateway** and then click on **Get started**.\n",
    "\n",
    "On the next page, make sure that **New API** is selected and give the new api a name, for example, `sentiment_analysis_web_app`. Then, click on **Create API**.\n",
    "\n",
    "Now we have created an API, however it doesn't currently do anything. What we want it to do is to trigger the Lambda function that we created earlier.\n",
    "\n",
    "Select the **Actions** dropdown menu and click **Create Method**. A new blank method will be created, select its dropdown menu and select **POST**, then click on the check mark beside it.\n",
    "\n",
    "For the integration point, make sure that **Lambda Function** is selected and click on the **Use Lambda Proxy integration**. This option makes sure that the data that is sent to the API is then sent directly to the Lambda function with no processing. It also means that the return value must be a proper response object as it will also not be processed by API Gateway.\n",
    "\n",
    "Type the name of the Lambda function you created earlier into the **Lambda Function** text entry box and then click on **Save**. Click on **OK** in the pop-up box that then appears, giving permission to API Gateway to invoke the Lambda function you created.\n",
    "\n",
    "The last step in creating the API Gateway is to select the **Actions** dropdown and click on **Deploy API**. You will need to create a new Deployment stage and name it anything you like, for example `prod`.\n",
    "\n",
    "You have now successfully set up a public API to access your SageMaker model. Make sure to copy or write down the URL provided to invoke your newly created public API as this will be needed in the next step. This URL can be found at the top of the page, highlighted in blue next to the text **Invoke URL**."
   ]
  },
  {
   "cell_type": "markdown",
   "metadata": {},
   "source": [
    "## Step 7: Deploying our web app\n",
    "\n",
    "Now that we have a publicly available API, we can start using it in a web app. For our purposes, we have provided a simple static html file which can make use of the public api you created earlier.\n",
    "\n",
    "In the `website` folder there should be a file called `index.html`. Download the file to your computer and open that file up in a text editor of your choice. There should be a line which contains **\\*\\*REPLACE WITH PUBLIC API URL\\*\\***. Replace this string with the url that you wrote down in the last step and then save the file.\n",
    "\n",
    "Now, if you open `index.html` on your local computer, your browser will behave as a local web server and you can use the provided site to interact with your SageMaker model.\n",
    "\n",
    "If you'd like to go further, you can host this html file anywhere you'd like, for example using github or hosting a static site on Amazon's S3. Once you have done this you can share the link with anyone you'd like and have them play with it too!\n",
    "\n",
    "> **Important Note** In order for the web app to communicate with the SageMaker endpoint, the endpoint has to actually be deployed and running. This means that you are paying for it. Make sure that the endpoint is running when you want to use the web app but that you shut it down when you don't need it, otherwise you will end up with a surprisingly large AWS bill."
   ]
  },
  {
   "cell_type": "markdown",
   "metadata": {},
   "source": [
    "### Delete the endpoint\n",
    "\n",
    "Remember to always shut down your endpoint if you are no longer using it. You are charged for the length of time that the endpoint is running so if you forget and leave it on you could end up with an unexpectedly large bill."
   ]
  },
  {
   "cell_type": "code",
   "execution_count": 51,
   "metadata": {},
   "outputs": [],
   "source": [
    "xgb_predictor.delete_endpoint()"
   ]
  },
  {
   "cell_type": "markdown",
   "metadata": {},
   "source": [
    "## Optional: Clean up\n",
    "\n",
    "The default notebook instance on SageMaker doesn't have a lot of excess disk space available. As you continue to complete and execute notebooks you will eventually fill up this disk space, leading to errors which can be difficult to diagnose. Once you are completely finished using a notebook it is a good idea to remove the files that you created along the way. Of course, you can do this from the terminal or from the notebook hub if you would like. The cell below contains some commands to clean up the created files from within the notebook."
   ]
  },
  {
   "cell_type": "code",
   "execution_count": 52,
   "metadata": {},
   "outputs": [
    {
     "ename": "OSError",
     "evalue": "[Errno 12] Cannot allocate memory",
     "output_type": "error",
     "traceback": [
      "\u001b[0;31m---------------------------------------------------------------------------\u001b[0m",
      "\u001b[0;31mOSError\u001b[0m                                   Traceback (most recent call last)",
      "\u001b[0;32m<ipython-input-52-2c87d8eefdf2>\u001b[0m in \u001b[0;36m<module>\u001b[0;34m\u001b[0m\n\u001b[1;32m      1\u001b[0m \u001b[0;31m# First we will remove all of the files contained in the data_dir directory\u001b[0m\u001b[0;34m\u001b[0m\u001b[0;34m\u001b[0m\u001b[0;34m\u001b[0m\u001b[0m\n\u001b[0;32m----> 2\u001b[0;31m \u001b[0mget_ipython\u001b[0m\u001b[0;34m(\u001b[0m\u001b[0;34m)\u001b[0m\u001b[0;34m.\u001b[0m\u001b[0msystem\u001b[0m\u001b[0;34m(\u001b[0m\u001b[0;34m'rm $data_dir/*'\u001b[0m\u001b[0;34m)\u001b[0m\u001b[0;34m\u001b[0m\u001b[0;34m\u001b[0m\u001b[0m\n\u001b[0m\u001b[1;32m      3\u001b[0m \u001b[0;34m\u001b[0m\u001b[0m\n\u001b[1;32m      4\u001b[0m \u001b[0;31m# And then we delete the directory itself\u001b[0m\u001b[0;34m\u001b[0m\u001b[0;34m\u001b[0m\u001b[0;34m\u001b[0m\u001b[0m\n\u001b[1;32m      5\u001b[0m \u001b[0mget_ipython\u001b[0m\u001b[0;34m(\u001b[0m\u001b[0;34m)\u001b[0m\u001b[0;34m.\u001b[0m\u001b[0msystem\u001b[0m\u001b[0;34m(\u001b[0m\u001b[0;34m'rmdir $data_dir'\u001b[0m\u001b[0;34m)\u001b[0m\u001b[0;34m\u001b[0m\u001b[0;34m\u001b[0m\u001b[0m\n",
      "\u001b[0;32m~/anaconda3/envs/python3/lib/python3.6/site-packages/ipykernel/zmqshell.py\u001b[0m in \u001b[0;36msystem_piped\u001b[0;34m(self, cmd)\u001b[0m\n\u001b[1;32m    645\u001b[0m                 \u001b[0mself\u001b[0m\u001b[0;34m.\u001b[0m\u001b[0muser_ns\u001b[0m\u001b[0;34m[\u001b[0m\u001b[0;34m'_exit_code'\u001b[0m\u001b[0;34m]\u001b[0m \u001b[0;34m=\u001b[0m \u001b[0msystem\u001b[0m\u001b[0;34m(\u001b[0m\u001b[0mcmd\u001b[0m\u001b[0;34m)\u001b[0m\u001b[0;34m\u001b[0m\u001b[0;34m\u001b[0m\u001b[0m\n\u001b[1;32m    646\u001b[0m         \u001b[0;32melse\u001b[0m\u001b[0;34m:\u001b[0m\u001b[0;34m\u001b[0m\u001b[0;34m\u001b[0m\u001b[0m\n\u001b[0;32m--> 647\u001b[0;31m             \u001b[0mself\u001b[0m\u001b[0;34m.\u001b[0m\u001b[0muser_ns\u001b[0m\u001b[0;34m[\u001b[0m\u001b[0;34m'_exit_code'\u001b[0m\u001b[0;34m]\u001b[0m \u001b[0;34m=\u001b[0m \u001b[0msystem\u001b[0m\u001b[0;34m(\u001b[0m\u001b[0mself\u001b[0m\u001b[0;34m.\u001b[0m\u001b[0mvar_expand\u001b[0m\u001b[0;34m(\u001b[0m\u001b[0mcmd\u001b[0m\u001b[0;34m,\u001b[0m \u001b[0mdepth\u001b[0m\u001b[0;34m=\u001b[0m\u001b[0;36m1\u001b[0m\u001b[0;34m)\u001b[0m\u001b[0;34m)\u001b[0m\u001b[0;34m\u001b[0m\u001b[0;34m\u001b[0m\u001b[0m\n\u001b[0m\u001b[1;32m    648\u001b[0m \u001b[0;34m\u001b[0m\u001b[0m\n\u001b[1;32m    649\u001b[0m     \u001b[0;31m# Ensure new system_piped implementation is used\u001b[0m\u001b[0;34m\u001b[0m\u001b[0;34m\u001b[0m\u001b[0;34m\u001b[0m\u001b[0m\n",
      "\u001b[0;32m~/anaconda3/envs/python3/lib/python3.6/site-packages/IPython/utils/_process_posix.py\u001b[0m in \u001b[0;36msystem\u001b[0;34m(self, cmd)\u001b[0m\n\u001b[1;32m    155\u001b[0m                 \u001b[0mchild\u001b[0m \u001b[0;34m=\u001b[0m \u001b[0mpexpect\u001b[0m\u001b[0;34m.\u001b[0m\u001b[0mspawnb\u001b[0m\u001b[0;34m(\u001b[0m\u001b[0mself\u001b[0m\u001b[0;34m.\u001b[0m\u001b[0msh\u001b[0m\u001b[0;34m,\u001b[0m \u001b[0margs\u001b[0m\u001b[0;34m=\u001b[0m\u001b[0;34m[\u001b[0m\u001b[0;34m'-c'\u001b[0m\u001b[0;34m,\u001b[0m \u001b[0mcmd\u001b[0m\u001b[0;34m]\u001b[0m\u001b[0;34m)\u001b[0m \u001b[0;31m# Pexpect-U\u001b[0m\u001b[0;34m\u001b[0m\u001b[0;34m\u001b[0m\u001b[0m\n\u001b[1;32m    156\u001b[0m             \u001b[0;32melse\u001b[0m\u001b[0;34m:\u001b[0m\u001b[0;34m\u001b[0m\u001b[0;34m\u001b[0m\u001b[0m\n\u001b[0;32m--> 157\u001b[0;31m                 \u001b[0mchild\u001b[0m \u001b[0;34m=\u001b[0m \u001b[0mpexpect\u001b[0m\u001b[0;34m.\u001b[0m\u001b[0mspawn\u001b[0m\u001b[0;34m(\u001b[0m\u001b[0mself\u001b[0m\u001b[0;34m.\u001b[0m\u001b[0msh\u001b[0m\u001b[0;34m,\u001b[0m \u001b[0margs\u001b[0m\u001b[0;34m=\u001b[0m\u001b[0;34m[\u001b[0m\u001b[0;34m'-c'\u001b[0m\u001b[0;34m,\u001b[0m \u001b[0mcmd\u001b[0m\u001b[0;34m]\u001b[0m\u001b[0;34m)\u001b[0m  \u001b[0;31m# Vanilla Pexpect\u001b[0m\u001b[0;34m\u001b[0m\u001b[0;34m\u001b[0m\u001b[0m\n\u001b[0m\u001b[1;32m    158\u001b[0m             \u001b[0mflush\u001b[0m \u001b[0;34m=\u001b[0m \u001b[0msys\u001b[0m\u001b[0;34m.\u001b[0m\u001b[0mstdout\u001b[0m\u001b[0;34m.\u001b[0m\u001b[0mflush\u001b[0m\u001b[0;34m\u001b[0m\u001b[0;34m\u001b[0m\u001b[0m\n\u001b[1;32m    159\u001b[0m             \u001b[0;32mwhile\u001b[0m \u001b[0;32mTrue\u001b[0m\u001b[0;34m:\u001b[0m\u001b[0;34m\u001b[0m\u001b[0;34m\u001b[0m\u001b[0m\n",
      "\u001b[0;32m~/anaconda3/envs/python3/lib/python3.6/site-packages/pexpect/pty_spawn.py\u001b[0m in \u001b[0;36m__init__\u001b[0;34m(self, command, args, timeout, maxread, searchwindowsize, logfile, cwd, env, ignore_sighup, echo, preexec_fn, encoding, codec_errors, dimensions, use_poll)\u001b[0m\n\u001b[1;32m    203\u001b[0m             \u001b[0mself\u001b[0m\u001b[0;34m.\u001b[0m\u001b[0mname\u001b[0m \u001b[0;34m=\u001b[0m \u001b[0;34m'<pexpect factory incomplete>'\u001b[0m\u001b[0;34m\u001b[0m\u001b[0;34m\u001b[0m\u001b[0m\n\u001b[1;32m    204\u001b[0m         \u001b[0;32melse\u001b[0m\u001b[0;34m:\u001b[0m\u001b[0;34m\u001b[0m\u001b[0;34m\u001b[0m\u001b[0m\n\u001b[0;32m--> 205\u001b[0;31m             \u001b[0mself\u001b[0m\u001b[0;34m.\u001b[0m\u001b[0m_spawn\u001b[0m\u001b[0;34m(\u001b[0m\u001b[0mcommand\u001b[0m\u001b[0;34m,\u001b[0m \u001b[0margs\u001b[0m\u001b[0;34m,\u001b[0m \u001b[0mpreexec_fn\u001b[0m\u001b[0;34m,\u001b[0m \u001b[0mdimensions\u001b[0m\u001b[0;34m)\u001b[0m\u001b[0;34m\u001b[0m\u001b[0;34m\u001b[0m\u001b[0m\n\u001b[0m\u001b[1;32m    206\u001b[0m         \u001b[0mself\u001b[0m\u001b[0;34m.\u001b[0m\u001b[0muse_poll\u001b[0m \u001b[0;34m=\u001b[0m \u001b[0muse_poll\u001b[0m\u001b[0;34m\u001b[0m\u001b[0;34m\u001b[0m\u001b[0m\n\u001b[1;32m    207\u001b[0m \u001b[0;34m\u001b[0m\u001b[0m\n",
      "\u001b[0;32m~/anaconda3/envs/python3/lib/python3.6/site-packages/pexpect/pty_spawn.py\u001b[0m in \u001b[0;36m_spawn\u001b[0;34m(self, command, args, preexec_fn, dimensions)\u001b[0m\n\u001b[1;32m    302\u001b[0m \u001b[0;34m\u001b[0m\u001b[0m\n\u001b[1;32m    303\u001b[0m         self.ptyproc = self._spawnpty(self.args, env=self.env,\n\u001b[0;32m--> 304\u001b[0;31m                                      cwd=self.cwd, **kwargs)\n\u001b[0m\u001b[1;32m    305\u001b[0m \u001b[0;34m\u001b[0m\u001b[0m\n\u001b[1;32m    306\u001b[0m         \u001b[0mself\u001b[0m\u001b[0;34m.\u001b[0m\u001b[0mpid\u001b[0m \u001b[0;34m=\u001b[0m \u001b[0mself\u001b[0m\u001b[0;34m.\u001b[0m\u001b[0mptyproc\u001b[0m\u001b[0;34m.\u001b[0m\u001b[0mpid\u001b[0m\u001b[0;34m\u001b[0m\u001b[0;34m\u001b[0m\u001b[0m\n",
      "\u001b[0;32m~/anaconda3/envs/python3/lib/python3.6/site-packages/pexpect/pty_spawn.py\u001b[0m in \u001b[0;36m_spawnpty\u001b[0;34m(self, args, **kwargs)\u001b[0m\n\u001b[1;32m    313\u001b[0m     \u001b[0;32mdef\u001b[0m \u001b[0m_spawnpty\u001b[0m\u001b[0;34m(\u001b[0m\u001b[0mself\u001b[0m\u001b[0;34m,\u001b[0m \u001b[0margs\u001b[0m\u001b[0;34m,\u001b[0m \u001b[0;34m**\u001b[0m\u001b[0mkwargs\u001b[0m\u001b[0;34m)\u001b[0m\u001b[0;34m:\u001b[0m\u001b[0;34m\u001b[0m\u001b[0;34m\u001b[0m\u001b[0m\n\u001b[1;32m    314\u001b[0m         \u001b[0;34m'''Spawn a pty and return an instance of PtyProcess.'''\u001b[0m\u001b[0;34m\u001b[0m\u001b[0;34m\u001b[0m\u001b[0m\n\u001b[0;32m--> 315\u001b[0;31m         \u001b[0;32mreturn\u001b[0m \u001b[0mptyprocess\u001b[0m\u001b[0;34m.\u001b[0m\u001b[0mPtyProcess\u001b[0m\u001b[0;34m.\u001b[0m\u001b[0mspawn\u001b[0m\u001b[0;34m(\u001b[0m\u001b[0margs\u001b[0m\u001b[0;34m,\u001b[0m \u001b[0;34m**\u001b[0m\u001b[0mkwargs\u001b[0m\u001b[0;34m)\u001b[0m\u001b[0;34m\u001b[0m\u001b[0;34m\u001b[0m\u001b[0m\n\u001b[0m\u001b[1;32m    316\u001b[0m \u001b[0;34m\u001b[0m\u001b[0m\n\u001b[1;32m    317\u001b[0m     \u001b[0;32mdef\u001b[0m \u001b[0mclose\u001b[0m\u001b[0;34m(\u001b[0m\u001b[0mself\u001b[0m\u001b[0;34m,\u001b[0m \u001b[0mforce\u001b[0m\u001b[0;34m=\u001b[0m\u001b[0;32mTrue\u001b[0m\u001b[0;34m)\u001b[0m\u001b[0;34m:\u001b[0m\u001b[0;34m\u001b[0m\u001b[0;34m\u001b[0m\u001b[0m\n",
      "\u001b[0;32m~/anaconda3/envs/python3/lib/python3.6/site-packages/ptyprocess/ptyprocess.py\u001b[0m in \u001b[0;36mspawn\u001b[0;34m(cls, argv, cwd, env, echo, preexec_fn, dimensions, pass_fds)\u001b[0m\n\u001b[1;32m    228\u001b[0m \u001b[0;34m\u001b[0m\u001b[0m\n\u001b[1;32m    229\u001b[0m         \u001b[0;32mif\u001b[0m \u001b[0muse_native_pty_fork\u001b[0m\u001b[0;34m:\u001b[0m\u001b[0;34m\u001b[0m\u001b[0;34m\u001b[0m\u001b[0m\n\u001b[0;32m--> 230\u001b[0;31m             \u001b[0mpid\u001b[0m\u001b[0;34m,\u001b[0m \u001b[0mfd\u001b[0m \u001b[0;34m=\u001b[0m \u001b[0mpty\u001b[0m\u001b[0;34m.\u001b[0m\u001b[0mfork\u001b[0m\u001b[0;34m(\u001b[0m\u001b[0;34m)\u001b[0m\u001b[0;34m\u001b[0m\u001b[0;34m\u001b[0m\u001b[0m\n\u001b[0m\u001b[1;32m    231\u001b[0m         \u001b[0;32melse\u001b[0m\u001b[0;34m:\u001b[0m\u001b[0;34m\u001b[0m\u001b[0;34m\u001b[0m\u001b[0m\n\u001b[1;32m    232\u001b[0m             \u001b[0;31m# Use internal fork_pty, for Solaris\u001b[0m\u001b[0;34m\u001b[0m\u001b[0;34m\u001b[0m\u001b[0;34m\u001b[0m\u001b[0m\n",
      "\u001b[0;32m~/anaconda3/envs/python3/lib/python3.6/pty.py\u001b[0m in \u001b[0;36mfork\u001b[0;34m()\u001b[0m\n\u001b[1;32m     95\u001b[0m \u001b[0;34m\u001b[0m\u001b[0m\n\u001b[1;32m     96\u001b[0m     \u001b[0mmaster_fd\u001b[0m\u001b[0;34m,\u001b[0m \u001b[0mslave_fd\u001b[0m \u001b[0;34m=\u001b[0m \u001b[0mopenpty\u001b[0m\u001b[0;34m(\u001b[0m\u001b[0;34m)\u001b[0m\u001b[0;34m\u001b[0m\u001b[0;34m\u001b[0m\u001b[0m\n\u001b[0;32m---> 97\u001b[0;31m     \u001b[0mpid\u001b[0m \u001b[0;34m=\u001b[0m \u001b[0mos\u001b[0m\u001b[0;34m.\u001b[0m\u001b[0mfork\u001b[0m\u001b[0;34m(\u001b[0m\u001b[0;34m)\u001b[0m\u001b[0;34m\u001b[0m\u001b[0;34m\u001b[0m\u001b[0m\n\u001b[0m\u001b[1;32m     98\u001b[0m     \u001b[0;32mif\u001b[0m \u001b[0mpid\u001b[0m \u001b[0;34m==\u001b[0m \u001b[0mCHILD\u001b[0m\u001b[0;34m:\u001b[0m\u001b[0;34m\u001b[0m\u001b[0;34m\u001b[0m\u001b[0m\n\u001b[1;32m     99\u001b[0m         \u001b[0;31m# Establish a new session.\u001b[0m\u001b[0;34m\u001b[0m\u001b[0;34m\u001b[0m\u001b[0;34m\u001b[0m\u001b[0m\n",
      "\u001b[0;31mOSError\u001b[0m: [Errno 12] Cannot allocate memory"
     ]
    }
   ],
   "source": [
    "# First we will remove all of the files contained in the data_dir directory\n",
    "!rm $data_dir/*\n",
    "\n",
    "# And then we delete the directory itself\n",
    "!rmdir $data_dir\n",
    "\n",
    "# Similarly we remove the files in the cache_dir directory and the directory itself\n",
    "!rm $cache_dir/*\n",
    "!rmdir $cache_dir"
   ]
  },
  {
   "cell_type": "code",
   "execution_count": null,
   "metadata": {},
   "outputs": [],
   "source": []
  }
 ],
 "metadata": {
  "kernelspec": {
   "display_name": "conda_python3",
   "language": "python",
   "name": "conda_python3"
  },
  "language_info": {
   "codemirror_mode": {
    "name": "ipython",
    "version": 3
   },
   "file_extension": ".py",
   "mimetype": "text/x-python",
   "name": "python",
   "nbconvert_exporter": "python",
   "pygments_lexer": "ipython3",
   "version": "3.6.13"
  }
 },
 "nbformat": 4,
 "nbformat_minor": 2
}
