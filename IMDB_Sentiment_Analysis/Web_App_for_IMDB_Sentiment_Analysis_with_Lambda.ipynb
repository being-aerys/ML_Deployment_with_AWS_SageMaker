{
 "cells": [
  {
   "cell_type": "markdown",
   "metadata": {},
   "source": [
    "# Sentiment Analysis Web App\n",
    "\n",
    "_Deep Learning Nanodegree Program | Deployment_\n",
    "\n",
    "---\n",
    "\n",
    "In this notebook we will use Amazon's SageMaker service to construct a random tree model to predict the sentiment of a movie review. In addition, we will deploy this model to an endpoint and construct a very simple web app which will interact with our model's deployed endpoint.\n",
    "\n",
    "## General Outline\n",
    "\n",
    "Typically, when using a notebook instance with SageMaker, you will proceed through the following steps. Of course, not every step will need to be done with each project. Also, there is quite a lot of room for variation in many of the steps, as you will see throughout these lessons.\n",
    "\n",
    "1. Download or otherwise retrieve the data.\n",
    "2. Process / Prepare the data.\n",
    "3. Upload the processed data to S3.\n",
    "4. Train a chosen model.\n",
    "5. Test the trained model (typically using a batch transform job).\n",
    "6. Deploy the trained model.\n",
    "7. Use the deployed model.\n",
    "\n",
    "In this notebook we will progress through each of the steps above. We will also see that the final step, using the deployed model, can be quite challenging."
   ]
  },
  {
   "cell_type": "code",
   "execution_count": 1,
   "metadata": {},
   "outputs": [
    {
     "name": "stdout",
     "output_type": "stream",
     "text": [
      "Collecting sagemaker==1.72.0\n",
      "  Using cached sagemaker-1.72.0-py2.py3-none-any.whl\n",
      "Requirement already satisfied: protobuf>=3.1 in /home/ec2-user/anaconda3/envs/python3/lib/python3.6/site-packages (from sagemaker==1.72.0) (3.15.2)\n",
      "Requirement already satisfied: numpy>=1.9.0 in /home/ec2-user/anaconda3/envs/python3/lib/python3.6/site-packages (from sagemaker==1.72.0) (1.19.5)\n",
      "Requirement already satisfied: protobuf3-to-dict>=0.1.5 in /home/ec2-user/anaconda3/envs/python3/lib/python3.6/site-packages (from sagemaker==1.72.0) (0.1.5)\n",
      "Requirement already satisfied: importlib-metadata>=1.4.0 in /home/ec2-user/anaconda3/envs/python3/lib/python3.6/site-packages (from sagemaker==1.72.0) (3.7.0)\n",
      "Collecting smdebug-rulesconfig==0.1.4\n",
      "  Using cached smdebug_rulesconfig-0.1.4-py2.py3-none-any.whl (10 kB)\n",
      "Requirement already satisfied: boto3>=1.14.12 in /home/ec2-user/anaconda3/envs/python3/lib/python3.6/site-packages (from sagemaker==1.72.0) (1.17.99)\n",
      "Requirement already satisfied: packaging>=20.0 in /home/ec2-user/anaconda3/envs/python3/lib/python3.6/site-packages (from sagemaker==1.72.0) (20.9)\n",
      "Requirement already satisfied: scipy>=0.19.0 in /home/ec2-user/anaconda3/envs/python3/lib/python3.6/site-packages (from sagemaker==1.72.0) (1.5.3)\n",
      "Requirement already satisfied: s3transfer<0.5.0,>=0.4.0 in /home/ec2-user/anaconda3/envs/python3/lib/python3.6/site-packages (from boto3>=1.14.12->sagemaker==1.72.0) (0.4.2)\n",
      "Requirement already satisfied: botocore<1.21.0,>=1.20.99 in /home/ec2-user/anaconda3/envs/python3/lib/python3.6/site-packages (from boto3>=1.14.12->sagemaker==1.72.0) (1.20.99)\n",
      "Requirement already satisfied: jmespath<1.0.0,>=0.7.1 in /home/ec2-user/anaconda3/envs/python3/lib/python3.6/site-packages (from boto3>=1.14.12->sagemaker==1.72.0) (0.10.0)\n",
      "Requirement already satisfied: urllib3<1.27,>=1.25.4 in /home/ec2-user/anaconda3/envs/python3/lib/python3.6/site-packages (from botocore<1.21.0,>=1.20.99->boto3>=1.14.12->sagemaker==1.72.0) (1.26.5)\n",
      "Requirement already satisfied: python-dateutil<3.0.0,>=2.1 in /home/ec2-user/anaconda3/envs/python3/lib/python3.6/site-packages (from botocore<1.21.0,>=1.20.99->boto3>=1.14.12->sagemaker==1.72.0) (2.8.1)\n",
      "Requirement already satisfied: zipp>=0.5 in /home/ec2-user/anaconda3/envs/python3/lib/python3.6/site-packages (from importlib-metadata>=1.4.0->sagemaker==1.72.0) (3.4.0)\n",
      "Requirement already satisfied: typing-extensions>=3.6.4 in /home/ec2-user/anaconda3/envs/python3/lib/python3.6/site-packages (from importlib-metadata>=1.4.0->sagemaker==1.72.0) (3.7.4.3)\n",
      "Requirement already satisfied: pyparsing>=2.0.2 in /home/ec2-user/anaconda3/envs/python3/lib/python3.6/site-packages (from packaging>=20.0->sagemaker==1.72.0) (2.4.7)\n",
      "Requirement already satisfied: six>=1.9 in /home/ec2-user/anaconda3/envs/python3/lib/python3.6/site-packages (from protobuf>=3.1->sagemaker==1.72.0) (1.15.0)\n",
      "Installing collected packages: smdebug-rulesconfig, sagemaker\n",
      "  Attempting uninstall: smdebug-rulesconfig\n",
      "    Found existing installation: smdebug-rulesconfig 1.0.1\n",
      "    Uninstalling smdebug-rulesconfig-1.0.1:\n",
      "      Successfully uninstalled smdebug-rulesconfig-1.0.1\n",
      "  Attempting uninstall: sagemaker\n",
      "    Found existing installation: sagemaker 2.45.0\n",
      "    Uninstalling sagemaker-2.45.0:\n",
      "      Successfully uninstalled sagemaker-2.45.0\n",
      "Successfully installed sagemaker-1.72.0 smdebug-rulesconfig-0.1.4\n",
      "\u001b[33mWARNING: You are using pip version 21.1.2; however, version 21.1.3 is available.\n",
      "You should consider upgrading via the '/home/ec2-user/anaconda3/envs/python3/bin/python -m pip install --upgrade pip' command.\u001b[0m\n"
     ]
    }
   ],
   "source": [
    "# Make sure that we use SageMaker 1.x\n",
    "!pip install sagemaker==1.72.0"
   ]
  },
  {
   "cell_type": "markdown",
   "metadata": {},
   "source": [
    "## Step 1: Downloading the data\n",
    "\n",
    "The dataset we are going to use is very popular among researchers in Natural Language Processing, usually referred to as the [IMDb dataset](http://ai.stanford.edu/~amaas/data/sentiment/). It consists of movie reviews from the website [imdb.com](http://www.imdb.com/), each labeled as either '**pos**itive', if the reviewer enjoyed the film, or '**neg**ative' otherwise.\n",
    "\n",
    "> Maas, Andrew L., et al. [Learning Word Vectors for Sentiment Analysis](http://ai.stanford.edu/~amaas/data/sentiment/). In _Proceedings of the 49th Annual Meeting of the Association for Computational Linguistics: Human Language Technologies_. Association for Computational Linguistics, 2011.\n",
    "\n",
    "We begin by using some Jupyter Notebook magic to download and extract the dataset."
   ]
  },
  {
   "cell_type": "code",
   "execution_count": 2,
   "metadata": {},
   "outputs": [
    {
     "name": "stdout",
     "output_type": "stream",
     "text": [
      "mkdir: cannot create directory ‘../data’: File exists\n",
      "--2021-07-22 04:08:53--  http://ai.stanford.edu/~amaas/data/sentiment/aclImdb_v1.tar.gz\n",
      "Resolving ai.stanford.edu (ai.stanford.edu)... 171.64.68.10\n",
      "Connecting to ai.stanford.edu (ai.stanford.edu)|171.64.68.10|:80... connected.\n",
      "HTTP request sent, awaiting response... 200 OK\n",
      "Length: 84125825 (80M) [application/x-gzip]\n",
      "Saving to: ‘../data/aclImdb_v1.tar.gz’\n",
      "\n",
      "../data/aclImdb_v1. 100%[===================>]  80.23M  23.7MB/s    in 4.6s    \n",
      "\n",
      "2021-07-22 04:08:57 (17.6 MB/s) - ‘../data/aclImdb_v1.tar.gz’ saved [84125825/84125825]\n",
      "\n"
     ]
    }
   ],
   "source": [
    "%mkdir ../data\n",
    "!wget -O ../data/aclImdb_v1.tar.gz http://ai.stanford.edu/~amaas/data/sentiment/aclImdb_v1.tar.gz\n",
    "!tar -zxf ../data/aclImdb_v1.tar.gz -C ../data"
   ]
  },
  {
   "cell_type": "markdown",
   "metadata": {},
   "source": [
    "## Step 2: Preparing and Processing the data\n",
    "\n",
    "The data we have downloaded is split into various files, each of which contains a single review. It will be much easier going forward if we combine these individual files into two large files, one for training and one for testing."
   ]
  },
  {
   "cell_type": "code",
   "execution_count": 3,
   "metadata": {},
   "outputs": [],
   "source": [
    "import os\n",
    "import glob\n",
    "\n",
    "def read_imdb_data(data_dir='../data/aclImdb'):\n",
    "    data = {}\n",
    "    labels = {}\n",
    "    \n",
    "    for data_type in ['train', 'test']:\n",
    "        data[data_type] = {}\n",
    "        labels[data_type] = {}\n",
    "        \n",
    "        for sentiment in ['pos', 'neg']:\n",
    "            data[data_type][sentiment] = []\n",
    "            labels[data_type][sentiment] = []\n",
    "            \n",
    "            path = os.path.join(data_dir, data_type, sentiment, '*.txt')\n",
    "            files = glob.glob(path)\n",
    "            \n",
    "            for f in files:\n",
    "                with open(f) as review:\n",
    "                    data[data_type][sentiment].append(review.read())\n",
    "                    # Here we represent a positive review by '1' and a negative review by '0'\n",
    "                    labels[data_type][sentiment].append(1 if sentiment == 'pos' else 0)\n",
    "                    \n",
    "            assert len(data[data_type][sentiment]) == len(labels[data_type][sentiment]), \\\n",
    "                    \"{}/{} data size does not match labels size\".format(data_type, sentiment)\n",
    "                \n",
    "    return data, labels"
   ]
  },
  {
   "cell_type": "code",
   "execution_count": 4,
   "metadata": {},
   "outputs": [
    {
     "name": "stdout",
     "output_type": "stream",
     "text": [
      "IMDB reviews: train = 12500 pos / 12500 neg, test = 12500 pos / 12500 neg\n"
     ]
    }
   ],
   "source": [
    "data, labels = read_imdb_data()\n",
    "print(\"IMDB reviews: train = {} pos / {} neg, test = {} pos / {} neg\".format(\n",
    "            len(data['train']['pos']), len(data['train']['neg']),\n",
    "            len(data['test']['pos']), len(data['test']['neg'])))"
   ]
  },
  {
   "cell_type": "code",
   "execution_count": 5,
   "metadata": {},
   "outputs": [],
   "source": [
    "from sklearn.utils import shuffle\n",
    "\n",
    "def prepare_imdb_data(data, labels):\n",
    "    \"\"\"Prepare training and test sets from IMDb movie reviews.\"\"\"\n",
    "    \n",
    "    #Combine positive and negative reviews and labels\n",
    "    data_train = data['train']['pos'] + data['train']['neg']\n",
    "    data_test = data['test']['pos'] + data['test']['neg']\n",
    "    labels_train = labels['train']['pos'] + labels['train']['neg']\n",
    "    labels_test = labels['test']['pos'] + labels['test']['neg']\n",
    "    \n",
    "    #Shuffle reviews and corresponding labels within training and test sets\n",
    "    data_train, labels_train = shuffle(data_train, labels_train)\n",
    "    data_test, labels_test = shuffle(data_test, labels_test)\n",
    "    \n",
    "    # Return a unified training data, test data, training labels, test labets\n",
    "    return data_train, data_test, labels_train, labels_test"
   ]
  },
  {
   "cell_type": "code",
   "execution_count": 6,
   "metadata": {},
   "outputs": [
    {
     "name": "stdout",
     "output_type": "stream",
     "text": [
      "IMDb reviews (combined): train = 25000, test = 25000\n"
     ]
    }
   ],
   "source": [
    "train_X, test_X, train_y, test_y = prepare_imdb_data(data, labels)\n",
    "print(\"IMDb reviews (combined): train = {}, test = {}\".format(len(train_X), len(test_X)))"
   ]
  },
  {
   "cell_type": "code",
   "execution_count": 7,
   "metadata": {},
   "outputs": [
    {
     "data": {
      "text/plain": [
       "'Heh, if I tell you to compare The Dark Knight with some 18-years-old comics-adapted movie rated 5.9, will you call me crazy? That\\'s just to catch your attention. Everyday I meet people complaining there are no good movies, who seem to only know the recent blockbusters. It\\'s never a bad thing to search and explore old movies, especially those with good artistic values. Dick Tracy is one of those can\\'t be easily outdated, in terms of technology.<br /><br />The negative reviews mainly complained about DT\\'s \"messed up\" story. But it appears to me that the storyline is quite clear, and I had no problem following it. I didn\\'t see the comic books, yet I am not a huge US comic fan, but I appreciate the top-notch film-making and performances. Maybe the expectations of most people were too high about the story it would tell. But, if you see a movie casting Madonna and Warren Beatty together, what would you expect. I had some scratches on my head, and can\\'t help but wonder, did we really see the same movie? The title role, although not as competent as it sounds, still was able to pull him up and charm the audiences. Madonna was more express-less than \"breathless\" in her seductive role, but added a lot of fun to the story. Al Pacino was funny and prodigy to himself. Apparently he\\'s bold enough to go sarcastic on his previously successful roles. We can see a hybrid of Scarface, Michael Corleone, Adolf Hitler and Robert De Niro punching our stomaches to make us laugh. And many thanks to make-ups.<br /><br />To me it\\'s not bad at all. The surreal feeling really got me.'"
      ]
     },
     "execution_count": 7,
     "metadata": {},
     "output_type": "execute_result"
    }
   ],
   "source": [
    "train_X[100]"
   ]
  },
  {
   "cell_type": "markdown",
   "metadata": {},
   "source": [
    "## Processing the data\n",
    "\n",
    "Now that we have our training and testing datasets merged and ready to use, we need to start processing the raw data into something that will be useable by our machine learning algorithm. To begin with, we remove any html formatting and any non-alpha numeric characters that may appear in the reviews. We will do this in a very simplistic way using Python's regular expression module. We will discuss the reason for this rather simplistic pre-processing later on."
   ]
  },
  {
   "cell_type": "code",
   "execution_count": 8,
   "metadata": {},
   "outputs": [],
   "source": [
    "import re\n",
    "\n",
    "REPLACE_NO_SPACE = re.compile(\"(\\.)|(\\;)|(\\:)|(\\!)|(\\')|(\\?)|(\\,)|(\\\")|(\\()|(\\))|(\\[)|(\\])\")\n",
    "REPLACE_WITH_SPACE = re.compile(\"(<br\\s*/><br\\s*/>)|(\\-)|(\\/)\")\n",
    "\n",
    "def review_to_words(review):\n",
    "    words = REPLACE_NO_SPACE.sub(\"\", review.lower())\n",
    "    words = REPLACE_WITH_SPACE.sub(\" \", words)\n",
    "    return words"
   ]
  },
  {
   "cell_type": "code",
   "execution_count": 9,
   "metadata": {},
   "outputs": [
    {
     "data": {
      "text/plain": [
       "'heh if i tell you to compare the dark knight with some 18 years old comics adapted movie rated 59 will you call me crazy thats just to catch your attention everyday i meet people complaining there are no good movies who seem to only know the recent blockbusters its never a bad thing to search and explore old movies especially those with good artistic values dick tracy is one of those cant be easily outdated in terms of technology the negative reviews mainly complained about dts messed up story but it appears to me that the storyline is quite clear and i had no problem following it i didnt see the comic books yet i am not a huge us comic fan but i appreciate the top notch film making and performances maybe the expectations of most people were too high about the story it would tell but if you see a movie casting madonna and warren beatty together what would you expect i had some scratches on my head and cant help but wonder did we really see the same movie the title role although not as competent as it sounds still was able to pull him up and charm the audiences madonna was more express less than breathless in her seductive role but added a lot of fun to the story al pacino was funny and prodigy to himself apparently hes bold enough to go sarcastic on his previously successful roles we can see a hybrid of scarface michael corleone adolf hitler and robert de niro punching our stomaches to make us laugh and many thanks to make ups to me its not bad at all the surreal feeling really got me'"
      ]
     },
     "execution_count": 9,
     "metadata": {},
     "output_type": "execute_result"
    }
   ],
   "source": [
    "review_to_words(train_X[100])"
   ]
  },
  {
   "cell_type": "code",
   "execution_count": 10,
   "metadata": {},
   "outputs": [],
   "source": [
    "import pickle\n",
    "\n",
    "cache_dir = os.path.join(\"../cache\", \"sentiment_web_app\")  # where to store cache files\n",
    "os.makedirs(cache_dir, exist_ok=True)  # ensure cache directory exists\n",
    "\n",
    "def preprocess_data(data_train, data_test, labels_train, labels_test,\n",
    "                    cache_dir=cache_dir, cache_file=\"preprocessed_data.pkl\"):\n",
    "    \"\"\"Convert each review to words; read from cache if available.\"\"\"\n",
    "\n",
    "    # If cache_file is not None, try to read from it first\n",
    "    cache_data = None\n",
    "    if cache_file is not None:\n",
    "        try:\n",
    "            with open(os.path.join(cache_dir, cache_file), \"rb\") as f:\n",
    "                cache_data = pickle.load(f)\n",
    "            print(\"Read preprocessed data from cache file:\", cache_file)\n",
    "        except:\n",
    "            pass  # unable to read from cache, but that's okay\n",
    "    \n",
    "    # If cache is missing, then do the heavy lifting\n",
    "    if cache_data is None:\n",
    "        # Preprocess training and test data to obtain words for each review\n",
    "        #words_train = list(map(review_to_words, data_train))\n",
    "        #words_test = list(map(review_to_words, data_test))\n",
    "        words_train = [review_to_words(review) for review in data_train]\n",
    "        words_test = [review_to_words(review) for review in data_test]\n",
    "        \n",
    "        # Write to cache file for future runs\n",
    "        if cache_file is not None:\n",
    "            cache_data = dict(words_train=words_train, words_test=words_test,\n",
    "                              labels_train=labels_train, labels_test=labels_test)\n",
    "            with open(os.path.join(cache_dir, cache_file), \"wb\") as f:\n",
    "                pickle.dump(cache_data, f)\n",
    "            print(\"Wrote preprocessed data to cache file:\", cache_file)\n",
    "    else:\n",
    "        # Unpack data loaded from cache file\n",
    "        words_train, words_test, labels_train, labels_test = (cache_data['words_train'],\n",
    "                cache_data['words_test'], cache_data['labels_train'], cache_data['labels_test'])\n",
    "    \n",
    "    return words_train, words_test, labels_train, labels_test"
   ]
  },
  {
   "cell_type": "code",
   "execution_count": 11,
   "metadata": {},
   "outputs": [
    {
     "name": "stdout",
     "output_type": "stream",
     "text": [
      "Wrote preprocessed data to cache file: preprocessed_data.pkl\n"
     ]
    }
   ],
   "source": [
    "# Preprocess data\n",
    "train_X, test_X, train_y, test_y = preprocess_data(train_X, test_X, train_y, test_y)"
   ]
  },
  {
   "cell_type": "markdown",
   "metadata": {},
   "source": [
    "### Extract Bag-of-Words features\n",
    "\n",
    "For the model we will be implementing, rather than using the reviews directly, we are going to transform each review into a Bag-of-Words feature representation. Keep in mind that 'in the wild' we will only have access to the training set so our transformer can only use the training set to construct a representation."
   ]
  },
  {
   "cell_type": "code",
   "execution_count": 12,
   "metadata": {},
   "outputs": [],
   "source": [
    "import numpy as np\n",
    "from sklearn.feature_extraction.text import CountVectorizer\n",
    "\n",
    "# sklearn.externals.joblib is deprecated in 0.21 and will be removed in 0.23. \n",
    "# from sklearn.externals import joblib\n",
    "\n",
    "# Import joblib package directly\n",
    "import joblib\n",
    "# joblib is an enhanced version of pickle that is more efficient for storing NumPy arrays\n",
    "\n",
    "def extract_BoW_features(words_train, words_test, vocabulary_size=5000,\n",
    "                         cache_dir=cache_dir, cache_file=\"bow_features.pkl\"):\n",
    "    \"\"\"Extract Bag-of-Words for a given set of documents, already preprocessed into words.\"\"\"\n",
    "    \n",
    "    # If cache_file is not None, try to read from it first\n",
    "    cache_data = None\n",
    "    if cache_file is not None:\n",
    "        try:\n",
    "            with open(os.path.join(cache_dir, cache_file), \"rb\") as f:\n",
    "                cache_data = joblib.load(f)\n",
    "            print(\"Read features from cache file:\", cache_file)\n",
    "        except:\n",
    "            pass  # unable to read from cache, but that's okay\n",
    "    \n",
    "    # If cache is missing, then do the heavy lifting\n",
    "    if cache_data is None:\n",
    "        # Fit a vectorizer to training documents and use it to transform them\n",
    "        # NOTE: Training documents have already been preprocessed and tokenized into words;\n",
    "        #       pass in dummy functions to skip those steps, e.g. preprocessor=lambda x: x\n",
    "        vectorizer = CountVectorizer(max_features=vocabulary_size)\n",
    "        features_train = vectorizer.fit_transform(words_train).toarray()\n",
    "\n",
    "        # Apply the same vectorizer to transform the test documents (ignore unknown words)\n",
    "        features_test = vectorizer.transform(words_test).toarray()\n",
    "        \n",
    "        # NOTE: Remember to convert the features using .toarray() for a compact representation\n",
    "        \n",
    "        # Write to cache file for future runs (store vocabulary as well)\n",
    "        if cache_file is not None:\n",
    "            vocabulary = vectorizer.vocabulary_\n",
    "            cache_data = dict(features_train=features_train, features_test=features_test,\n",
    "                             vocabulary=vocabulary)\n",
    "            with open(os.path.join(cache_dir, cache_file), \"wb\") as f:\n",
    "                joblib.dump(cache_data, f)\n",
    "            print(\"Wrote features to cache file:\", cache_file)\n",
    "    else:\n",
    "        # Unpack data loaded from cache file\n",
    "        features_train, features_test, vocabulary = (cache_data['features_train'],\n",
    "                cache_data['features_test'], cache_data['vocabulary'])\n",
    "    \n",
    "    # Return both the extracted features as well as the vocabulary\n",
    "    return features_train, features_test, vocabulary"
   ]
  },
  {
   "cell_type": "code",
   "execution_count": 13,
   "metadata": {},
   "outputs": [
    {
     "name": "stdout",
     "output_type": "stream",
     "text": [
      "Wrote features to cache file: bow_features.pkl\n"
     ]
    }
   ],
   "source": [
    "# Extract Bag of Words features for both training and test datasets\n",
    "train_X, test_X, vocabulary = extract_BoW_features(train_X, test_X)"
   ]
  },
  {
   "cell_type": "code",
   "execution_count": 14,
   "metadata": {},
   "outputs": [
    {
     "data": {
      "text/plain": [
       "5000"
      ]
     },
     "execution_count": 14,
     "metadata": {},
     "output_type": "execute_result"
    }
   ],
   "source": [
    "len(train_X[100])"
   ]
  },
  {
   "cell_type": "markdown",
   "metadata": {},
   "source": [
    "## Step 3: Upload data to S3\n",
    "\n",
    "Now that we have created the feature representation of our training (and testing) data, it is time to start setting up and using the XGBoost classifier provided by SageMaker.\n",
    "\n",
    "### Writing the datasets\n",
    "\n",
    "The XGBoost classifier that we will be using requires the dataset to be written to a file and stored using Amazon S3. To do this, we will start by splitting the training dataset into two parts, the data we will train the model with and a validation set. Then, we will write those datasets to a file locally and then upload the files to S3. In addition, we will write the test set to a file and upload that file to S3. This is so that we can use SageMakers Batch Transform functionality to test our model once we've fit it."
   ]
  },
  {
   "cell_type": "code",
   "execution_count": 15,
   "metadata": {},
   "outputs": [],
   "source": [
    "import pandas as pd\n",
    "\n",
    "# Earlier we shuffled the training dataset so to make things simple we can just assign\n",
    "# the first 10 000 reviews to the validation set and use the remaining reviews for training.\n",
    "val_X = pd.DataFrame(train_X[:10000])\n",
    "train_X = pd.DataFrame(train_X[10000:])\n",
    "\n",
    "val_y = pd.DataFrame(train_y[:10000])\n",
    "train_y = pd.DataFrame(train_y[10000:])"
   ]
  },
  {
   "cell_type": "markdown",
   "metadata": {},
   "source": [
    "The documentation for the XGBoost algorithm in SageMaker requires that the training and validation datasets should contain no headers or index and that the label should occur first for each sample.\n",
    "\n",
    "For more information about this and other algorithms, the SageMaker developer documentation can be found on __[Amazon's website.](https://docs.aws.amazon.com/sagemaker/latest/dg/)__"
   ]
  },
  {
   "cell_type": "code",
   "execution_count": 16,
   "metadata": {},
   "outputs": [],
   "source": [
    "# First we make sure that the local directory in which we'd like to store the training and validation csv files exists.\n",
    "data_dir = '../data/sentiment_web_app'\n",
    "if not os.path.exists(data_dir):\n",
    "    os.makedirs(data_dir)"
   ]
  },
  {
   "cell_type": "code",
   "execution_count": 17,
   "metadata": {},
   "outputs": [],
   "source": [
    "pd.DataFrame(test_X).to_csv(os.path.join(data_dir, 'test.csv'), header=False, index=False)\n",
    "\n",
    "pd.concat([val_y, val_X], axis=1).to_csv(os.path.join(data_dir, 'validation.csv'), header=False, index=False)\n",
    "pd.concat([train_y, train_X], axis=1).to_csv(os.path.join(data_dir, 'train.csv'), header=False, index=False)"
   ]
  },
  {
   "cell_type": "code",
   "execution_count": 18,
   "metadata": {},
   "outputs": [],
   "source": [
    "# To save a bit of memory we can set text_X, train_X, val_X, train_y and val_y to None.\n",
    "\n",
    "test_X = train_X = val_X = train_y = val_y = None"
   ]
  },
  {
   "cell_type": "markdown",
   "metadata": {},
   "source": [
    "### Uploading Training / Validation files to S3\n",
    "\n",
    "Amazon's S3 service allows us to store files that can be accessed by both the built-in training models such as the XGBoost model we will be using as well as custom models such as the one we will see a little later.\n",
    "\n",
    "For this and most other tasks we will be doing using SageMaker, there are two methods we could use. The first is to use the low level functionality of SageMaker which requires knowing each of the objects involved in the SageMaker environment. The second is to use the high level functionality in which certain choices have been made on the user's behalf. The low level approach benefits from allowing the user a great deal of flexibility while the high level approach makes development much quicker. For our purposes we will opt to use the high level approach although using the low-level approach is certainly an option.\n",
    "\n",
    "Recall the method `upload_data()` which is a member of the object representing our current SageMaker session. What this method does is upload the data to the default bucket (which is created if it does not exist) into the path described by the key_prefix variable. To see this for yourself, once you have uploaded the data files, go to the S3 console and look to see where the files have been uploaded.\n",
    "\n",
    "For additional resources, see the __[SageMaker API documentation](http://sagemaker.readthedocs.io/en/latest/)__ and in addition the __[SageMaker Developer Guide.](https://docs.aws.amazon.com/sagemaker/latest/dg/)__"
   ]
  },
  {
   "cell_type": "code",
   "execution_count": 19,
   "metadata": {},
   "outputs": [],
   "source": [
    "import sagemaker\n",
    "\n",
    "session = sagemaker.Session() # Store the current SageMaker session\n",
    "\n",
    "# S3 prefix (which folder will we use)\n",
    "prefix = 'sentiment-web-app'\n",
    "\n",
    "test_location = session.upload_data(os.path.join(data_dir, 'test.csv'), key_prefix=prefix)\n",
    "val_location = session.upload_data(os.path.join(data_dir, 'validation.csv'), key_prefix=prefix)\n",
    "train_location = session.upload_data(os.path.join(data_dir, 'train.csv'), key_prefix=prefix)"
   ]
  },
  {
   "cell_type": "markdown",
   "metadata": {},
   "source": [
    "## Step 4: Creating the XGBoost model\n",
    "\n",
    "Now that the data has been uploaded it is time to create the XGBoost model. To begin with, we need to do some setup. At this point it is worth discussing what a model is in SageMaker. It is easiest to think of a model of comprising three different objects in the SageMaker ecosystem, which interact with one another.\n",
    "\n",
    "- Model Artifacts\n",
    "- Training Code (Container)\n",
    "- Inference Code (Container)\n",
    "\n",
    "The Model Artifacts are what you might think of as the actual model itself. For example, if you were building a neural network, the model artifacts would be the weights of the various layers. In our case, for an XGBoost model, the artifacts are the actual trees that are created during training.\n",
    "\n",
    "The other two objects, the training code and the inference code are then used to manipulate the training artifacts. More precisely, the training code uses the training data that is provided and creates the model artifacts, while the inference code uses the model artifacts to make predictions on new data.\n",
    "\n",
    "The way that SageMaker runs the training and inference code is by making use of Docker containers. For now, think of a container as being a way of packaging code up so that dependencies aren't an issue."
   ]
  },
  {
   "cell_type": "code",
   "execution_count": 20,
   "metadata": {},
   "outputs": [],
   "source": [
    "from sagemaker import get_execution_role\n",
    "\n",
    "# Our current execution role is required when creating the model as the training\n",
    "# and inference code will need to access the model artifacts.\n",
    "role = get_execution_role()"
   ]
  },
  {
   "cell_type": "code",
   "execution_count": 21,
   "metadata": {},
   "outputs": [
    {
     "name": "stderr",
     "output_type": "stream",
     "text": [
      "'get_image_uri' method will be deprecated in favor of 'ImageURIProvider' class in SageMaker Python SDK v2.\n",
      "There is a more up to date SageMaker XGBoost image. To use the newer image, please set 'repo_version'='1.0-1'. For example:\n",
      "\tget_image_uri(region, 'xgboost', '1.0-1').\n"
     ]
    }
   ],
   "source": [
    "# We need to retrieve the location of the container which is provided by Amazon for using XGBoost.\n",
    "# As a matter of convenience, the training and inference code both use the same container.\n",
    "from sagemaker.amazon.amazon_estimator import get_image_uri\n",
    "\n",
    "container = get_image_uri(session.boto_region_name, 'xgboost')"
   ]
  },
  {
   "cell_type": "code",
   "execution_count": 22,
   "metadata": {},
   "outputs": [
    {
     "name": "stderr",
     "output_type": "stream",
     "text": [
      "Parameter image_name will be renamed to image_uri in SageMaker Python SDK v2.\n"
     ]
    }
   ],
   "source": [
    "# First we create a SageMaker estimator object for our model.\n",
    "xgb = sagemaker.estimator.Estimator(container, # The location of the container we wish to use\n",
    "                                    role,                                    # What is our current IAM Role\n",
    "                                    train_instance_count=1,                  # How many compute instances\n",
    "                                    train_instance_type='ml.m4.xlarge',      # What kind of compute instances\n",
    "                                    output_path='s3://{}/{}/output'.format(session.default_bucket(), prefix),\n",
    "                                    sagemaker_session=session)\n",
    "\n",
    "# And then set the algorithm specific parameters.\n",
    "xgb.set_hyperparameters(max_depth=5,\n",
    "                        eta=0.2,\n",
    "                        gamma=4,\n",
    "                        min_child_weight=6,\n",
    "                        subsample=0.8,\n",
    "                        silent=0,\n",
    "                        objective='binary:logistic',\n",
    "                        early_stopping_rounds=10,\n",
    "                        num_round=500)"
   ]
  },
  {
   "cell_type": "markdown",
   "metadata": {},
   "source": [
    "### Fit the XGBoost model\n",
    "\n",
    "Now that our model has been set up we simply need to attach the training and validation datasets and then ask SageMaker to set up the computation."
   ]
  },
  {
   "cell_type": "code",
   "execution_count": 23,
   "metadata": {},
   "outputs": [
    {
     "name": "stderr",
     "output_type": "stream",
     "text": [
      "'s3_input' class will be renamed to 'TrainingInput' in SageMaker Python SDK v2.\n",
      "'s3_input' class will be renamed to 'TrainingInput' in SageMaker Python SDK v2.\n"
     ]
    }
   ],
   "source": [
    "s3_input_train = sagemaker.s3_input(s3_data=train_location, content_type='csv')\n",
    "s3_input_validation = sagemaker.s3_input(s3_data=val_location, content_type='csv')"
   ]
  },
  {
   "cell_type": "code",
   "execution_count": 24,
   "metadata": {},
   "outputs": [
    {
     "name": "stdout",
     "output_type": "stream",
     "text": [
      "2021-07-22 04:12:05 Starting - Starting the training job...\n",
      "2021-07-22 04:12:08 Starting - Launching requested ML instances......\n",
      "2021-07-22 04:13:30 Starting - Preparing the instances for training......\n",
      "2021-07-22 04:14:33 Downloading - Downloading input data......\n",
      "2021-07-22 04:15:29 Training - Training image download completed. Training in progress.\u001b[34mArguments: train\u001b[0m\n",
      "\u001b[34m[2021-07-22:04:15:30:INFO] Running standalone xgboost training.\u001b[0m\n",
      "\u001b[34m[2021-07-22:04:15:30:INFO] File size need to be processed in the node: 238.5mb. Available memory size in the node: 8419.8mb\u001b[0m\n",
      "\u001b[34m[2021-07-22:04:15:30:INFO] Determined delimiter of CSV input is ','\u001b[0m\n",
      "\u001b[34m[04:15:30] S3DistributionType set as FullyReplicated\u001b[0m\n",
      "\u001b[34m[04:15:32] 15000x5000 matrix with 75000000 entries loaded from /opt/ml/input/data/train?format=csv&label_column=0&delimiter=,\u001b[0m\n",
      "\u001b[34m[2021-07-22:04:15:32:INFO] Determined delimiter of CSV input is ','\u001b[0m\n",
      "\u001b[34m[04:15:32] S3DistributionType set as FullyReplicated\u001b[0m\n",
      "\u001b[34m[04:15:33] 10000x5000 matrix with 50000000 entries loaded from /opt/ml/input/data/validation?format=csv&label_column=0&delimiter=,\u001b[0m\n",
      "\u001b[34m[04:15:37] src/tree/updater_prune.cc:74: tree pruning end, 1 roots, 40 extra nodes, 10 pruned nodes, max_depth=5\u001b[0m\n",
      "\u001b[34m[0]#011train-error:0.3002#011validation-error:0.3201\u001b[0m\n",
      "\u001b[34mMultiple eval metrics have been passed: 'validation-error' will be used for early stopping.\n",
      "\u001b[0m\n",
      "\u001b[34mWill train until validation-error hasn't improved in 10 rounds.\u001b[0m\n",
      "\u001b[34m[04:15:38] src/tree/updater_prune.cc:74: tree pruning end, 1 roots, 40 extra nodes, 8 pruned nodes, max_depth=5\u001b[0m\n",
      "\u001b[34m[1]#011train-error:0.2932#011validation-error:0.307\u001b[0m\n",
      "\u001b[34m[04:15:39] src/tree/updater_prune.cc:74: tree pruning end, 1 roots, 34 extra nodes, 10 pruned nodes, max_depth=5\u001b[0m\n",
      "\u001b[34m[2]#011train-error:0.302533#011validation-error:0.3032\u001b[0m\n",
      "\u001b[34m[04:15:41] src/tree/updater_prune.cc:74: tree pruning end, 1 roots, 34 extra nodes, 0 pruned nodes, max_depth=5\u001b[0m\n",
      "\u001b[34m[3]#011train-error:0.277067#011validation-error:0.2892\u001b[0m\n",
      "\u001b[34m[04:15:43] src/tree/updater_prune.cc:74: tree pruning end, 1 roots, 32 extra nodes, 16 pruned nodes, max_depth=5\u001b[0m\n",
      "\u001b[34m[4]#011train-error:0.268333#011validation-error:0.2829\u001b[0m\n",
      "\u001b[34m[04:15:44] src/tree/updater_prune.cc:74: tree pruning end, 1 roots, 30 extra nodes, 8 pruned nodes, max_depth=5\u001b[0m\n",
      "\u001b[34m[5]#011train-error:0.268#011validation-error:0.2723\u001b[0m\n",
      "\u001b[34m[04:15:45] src/tree/updater_prune.cc:74: tree pruning end, 1 roots, 34 extra nodes, 0 pruned nodes, max_depth=5\u001b[0m\n",
      "\u001b[34m[6]#011train-error:0.2584#011validation-error:0.265\u001b[0m\n",
      "\u001b[34m[04:15:47] src/tree/updater_prune.cc:74: tree pruning end, 1 roots, 46 extra nodes, 4 pruned nodes, max_depth=5\u001b[0m\n",
      "\u001b[34m[7]#011train-error:0.2482#011validation-error:0.2567\u001b[0m\n",
      "\u001b[34m[04:15:48] src/tree/updater_prune.cc:74: tree pruning end, 1 roots, 26 extra nodes, 10 pruned nodes, max_depth=5\u001b[0m\n",
      "\u001b[34m[8]#011train-error:0.2424#011validation-error:0.2516\u001b[0m\n",
      "\u001b[34m[04:15:50] src/tree/updater_prune.cc:74: tree pruning end, 1 roots, 32 extra nodes, 8 pruned nodes, max_depth=5\u001b[0m\n",
      "\u001b[34m[9]#011train-error:0.233933#011validation-error:0.2444\u001b[0m\n",
      "\u001b[34m[04:15:51] src/tree/updater_prune.cc:74: tree pruning end, 1 roots, 42 extra nodes, 2 pruned nodes, max_depth=5\u001b[0m\n",
      "\u001b[34m[10]#011train-error:0.227467#011validation-error:0.2366\u001b[0m\n",
      "\u001b[34m[04:15:52] src/tree/updater_prune.cc:74: tree pruning end, 1 roots, 32 extra nodes, 6 pruned nodes, max_depth=5\u001b[0m\n",
      "\u001b[34m[11]#011train-error:0.2182#011validation-error:0.2322\u001b[0m\n",
      "\u001b[34m[04:15:54] src/tree/updater_prune.cc:74: tree pruning end, 1 roots, 28 extra nodes, 6 pruned nodes, max_depth=5\u001b[0m\n",
      "\u001b[34m[12]#011train-error:0.2138#011validation-error:0.2275\u001b[0m\n",
      "\u001b[34m[04:15:55] src/tree/updater_prune.cc:74: tree pruning end, 1 roots, 52 extra nodes, 2 pruned nodes, max_depth=5\u001b[0m\n",
      "\u001b[34m[13]#011train-error:0.211267#011validation-error:0.2302\u001b[0m\n",
      "\u001b[34m[04:15:56] src/tree/updater_prune.cc:74: tree pruning end, 1 roots, 28 extra nodes, 6 pruned nodes, max_depth=5\u001b[0m\n",
      "\u001b[34m[14]#011train-error:0.207867#011validation-error:0.2237\u001b[0m\n",
      "\u001b[34m[04:15:58] src/tree/updater_prune.cc:74: tree pruning end, 1 roots, 26 extra nodes, 18 pruned nodes, max_depth=5\u001b[0m\n",
      "\u001b[34m[15]#011train-error:0.2022#011validation-error:0.2194\u001b[0m\n",
      "\u001b[34m[04:15:59] src/tree/updater_prune.cc:74: tree pruning end, 1 roots, 28 extra nodes, 8 pruned nodes, max_depth=5\u001b[0m\n",
      "\u001b[34m[16]#011train-error:0.2#011validation-error:0.2189\u001b[0m\n",
      "\u001b[34m[04:16:01] src/tree/updater_prune.cc:74: tree pruning end, 1 roots, 28 extra nodes, 8 pruned nodes, max_depth=5\u001b[0m\n",
      "\u001b[34m[17]#011train-error:0.197933#011validation-error:0.2186\u001b[0m\n",
      "\u001b[34m[04:16:02] src/tree/updater_prune.cc:74: tree pruning end, 1 roots, 36 extra nodes, 6 pruned nodes, max_depth=5\u001b[0m\n",
      "\u001b[34m[18]#011train-error:0.1952#011validation-error:0.2164\u001b[0m\n",
      "\u001b[34m[04:16:04] src/tree/updater_prune.cc:74: tree pruning end, 1 roots, 28 extra nodes, 10 pruned nodes, max_depth=5\u001b[0m\n",
      "\u001b[34m[19]#011train-error:0.1932#011validation-error:0.2142\u001b[0m\n",
      "\u001b[34m[04:16:05] src/tree/updater_prune.cc:74: tree pruning end, 1 roots, 40 extra nodes, 4 pruned nodes, max_depth=5\u001b[0m\n",
      "\u001b[34m[20]#011train-error:0.189733#011validation-error:0.2135\u001b[0m\n",
      "\u001b[34m[04:16:07] src/tree/updater_prune.cc:74: tree pruning end, 1 roots, 28 extra nodes, 10 pruned nodes, max_depth=5\u001b[0m\n",
      "\u001b[34m[21]#011train-error:0.1878#011validation-error:0.2106\u001b[0m\n",
      "\u001b[34m[04:16:08] src/tree/updater_prune.cc:74: tree pruning end, 1 roots, 28 extra nodes, 6 pruned nodes, max_depth=5\u001b[0m\n",
      "\u001b[34m[22]#011train-error:0.1844#011validation-error:0.2088\u001b[0m\n",
      "\u001b[34m[04:16:10] src/tree/updater_prune.cc:74: tree pruning end, 1 roots, 22 extra nodes, 8 pruned nodes, max_depth=5\u001b[0m\n",
      "\u001b[34m[23]#011train-error:0.182133#011validation-error:0.2065\u001b[0m\n",
      "\u001b[34m[04:16:11] src/tree/updater_prune.cc:74: tree pruning end, 1 roots, 42 extra nodes, 8 pruned nodes, max_depth=5\u001b[0m\n",
      "\u001b[34m[24]#011train-error:0.1818#011validation-error:0.2055\u001b[0m\n",
      "\u001b[34m[04:16:12] src/tree/updater_prune.cc:74: tree pruning end, 1 roots, 20 extra nodes, 6 pruned nodes, max_depth=5\u001b[0m\n",
      "\u001b[34m[25]#011train-error:0.178533#011validation-error:0.2038\u001b[0m\n",
      "\u001b[34m[04:16:14] src/tree/updater_prune.cc:74: tree pruning end, 1 roots, 26 extra nodes, 6 pruned nodes, max_depth=5\u001b[0m\n",
      "\u001b[34m[26]#011train-error:0.1752#011validation-error:0.2017\u001b[0m\n",
      "\u001b[34m[04:16:15] src/tree/updater_prune.cc:74: tree pruning end, 1 roots, 14 extra nodes, 12 pruned nodes, max_depth=5\u001b[0m\n",
      "\u001b[34m[27]#011train-error:0.172467#011validation-error:0.2019\u001b[0m\n",
      "\u001b[34m[04:16:17] src/tree/updater_prune.cc:74: tree pruning end, 1 roots, 32 extra nodes, 4 pruned nodes, max_depth=5\u001b[0m\n",
      "\u001b[34m[28]#011train-error:0.171267#011validation-error:0.2\u001b[0m\n",
      "\u001b[34m[04:16:18] src/tree/updater_prune.cc:74: tree pruning end, 1 roots, 14 extra nodes, 12 pruned nodes, max_depth=5\u001b[0m\n",
      "\u001b[34m[29]#011train-error:0.169467#011validation-error:0.199\u001b[0m\n",
      "\u001b[34m[04:16:19] src/tree/updater_prune.cc:74: tree pruning end, 1 roots, 30 extra nodes, 10 pruned nodes, max_depth=5\u001b[0m\n",
      "\u001b[34m[30]#011train-error:0.1672#011validation-error:0.2002\u001b[0m\n",
      "\u001b[34m[04:16:21] src/tree/updater_prune.cc:74: tree pruning end, 1 roots, 28 extra nodes, 6 pruned nodes, max_depth=5\u001b[0m\n",
      "\u001b[34m[31]#011train-error:0.163733#011validation-error:0.1939\u001b[0m\n",
      "\u001b[34m[04:16:22] src/tree/updater_prune.cc:74: tree pruning end, 1 roots, 22 extra nodes, 10 pruned nodes, max_depth=5\u001b[0m\n",
      "\u001b[34m[32]#011train-error:0.162867#011validation-error:0.1917\u001b[0m\n",
      "\u001b[34m[04:16:23] src/tree/updater_prune.cc:74: tree pruning end, 1 roots, 34 extra nodes, 8 pruned nodes, max_depth=5\u001b[0m\n",
      "\u001b[34m[33]#011train-error:0.161133#011validation-error:0.1918\u001b[0m\n",
      "\u001b[34m[04:16:25] src/tree/updater_prune.cc:74: tree pruning end, 1 roots, 26 extra nodes, 20 pruned nodes, max_depth=5\u001b[0m\n",
      "\u001b[34m[34]#011train-error:0.161067#011validation-error:0.1922\u001b[0m\n",
      "\u001b[34m[04:16:26] src/tree/updater_prune.cc:74: tree pruning end, 1 roots, 18 extra nodes, 16 pruned nodes, max_depth=5\u001b[0m\n",
      "\u001b[34m[35]#011train-error:0.1594#011validation-error:0.1905\u001b[0m\n",
      "\u001b[34m[04:16:27] src/tree/updater_prune.cc:74: tree pruning end, 1 roots, 20 extra nodes, 10 pruned nodes, max_depth=5\u001b[0m\n",
      "\u001b[34m[36]#011train-error:0.1574#011validation-error:0.1904\u001b[0m\n",
      "\u001b[34m[04:16:29] src/tree/updater_prune.cc:74: tree pruning end, 1 roots, 26 extra nodes, 12 pruned nodes, max_depth=5\u001b[0m\n",
      "\u001b[34m[37]#011train-error:0.156467#011validation-error:0.1911\u001b[0m\n",
      "\u001b[34m[04:16:30] src/tree/updater_prune.cc:74: tree pruning end, 1 roots, 22 extra nodes, 10 pruned nodes, max_depth=5\u001b[0m\n",
      "\u001b[34m[38]#011train-error:0.1538#011validation-error:0.1892\u001b[0m\n",
      "\u001b[34m[04:16:32] src/tree/updater_prune.cc:74: tree pruning end, 1 roots, 36 extra nodes, 2 pruned nodes, max_depth=5\u001b[0m\n",
      "\u001b[34m[39]#011train-error:0.151#011validation-error:0.1872\u001b[0m\n",
      "\u001b[34m[04:16:33] src/tree/updater_prune.cc:74: tree pruning end, 1 roots, 14 extra nodes, 16 pruned nodes, max_depth=5\u001b[0m\n",
      "\u001b[34m[40]#011train-error:0.15#011validation-error:0.1881\u001b[0m\n",
      "\u001b[34m[04:16:34] src/tree/updater_prune.cc:74: tree pruning end, 1 roots, 28 extra nodes, 6 pruned nodes, max_depth=5\u001b[0m\n",
      "\u001b[34m[41]#011train-error:0.149333#011validation-error:0.1866\u001b[0m\n",
      "\u001b[34m[04:16:36] src/tree/updater_prune.cc:74: tree pruning end, 1 roots, 34 extra nodes, 2 pruned nodes, max_depth=5\u001b[0m\n",
      "\u001b[34m[42]#011train-error:0.1484#011validation-error:0.1855\u001b[0m\n",
      "\u001b[34m[04:16:37] src/tree/updater_prune.cc:74: tree pruning end, 1 roots, 26 extra nodes, 10 pruned nodes, max_depth=5\u001b[0m\n",
      "\u001b[34m[43]#011train-error:0.147267#011validation-error:0.1836\u001b[0m\n",
      "\u001b[34m[04:16:38] src/tree/updater_prune.cc:74: tree pruning end, 1 roots, 12 extra nodes, 16 pruned nodes, max_depth=5\u001b[0m\n",
      "\u001b[34m[44]#011train-error:0.145733#011validation-error:0.1828\u001b[0m\n",
      "\u001b[34m[04:16:40] src/tree/updater_prune.cc:74: tree pruning end, 1 roots, 20 extra nodes, 12 pruned nodes, max_depth=5\u001b[0m\n",
      "\u001b[34m[45]#011train-error:0.1456#011validation-error:0.1839\u001b[0m\n",
      "\u001b[34m[04:16:41] src/tree/updater_prune.cc:74: tree pruning end, 1 roots, 14 extra nodes, 10 pruned nodes, max_depth=5\u001b[0m\n",
      "\u001b[34m[46]#011train-error:0.144067#011validation-error:0.184\u001b[0m\n",
      "\u001b[34m[04:16:42] src/tree/updater_prune.cc:74: tree pruning end, 1 roots, 22 extra nodes, 8 pruned nodes, max_depth=5\u001b[0m\n",
      "\u001b[34m[47]#011train-error:0.143#011validation-error:0.183\u001b[0m\n",
      "\u001b[34m[04:16:44] src/tree/updater_prune.cc:74: tree pruning end, 1 roots, 16 extra nodes, 12 pruned nodes, max_depth=5\u001b[0m\n",
      "\u001b[34m[48]#011train-error:0.1418#011validation-error:0.1813\u001b[0m\n",
      "\u001b[34m[04:16:45] src/tree/updater_prune.cc:74: tree pruning end, 1 roots, 32 extra nodes, 4 pruned nodes, max_depth=5\u001b[0m\n",
      "\u001b[34m[49]#011train-error:0.141#011validation-error:0.1816\u001b[0m\n",
      "\u001b[34m[04:16:47] src/tree/updater_prune.cc:74: tree pruning end, 1 roots, 32 extra nodes, 6 pruned nodes, max_depth=5\u001b[0m\n",
      "\u001b[34m[50]#011train-error:0.1416#011validation-error:0.1792\u001b[0m\n",
      "\u001b[34m[04:16:48] src/tree/updater_prune.cc:74: tree pruning end, 1 roots, 18 extra nodes, 10 pruned nodes, max_depth=5\u001b[0m\n",
      "\u001b[34m[51]#011train-error:0.139733#011validation-error:0.178\u001b[0m\n",
      "\u001b[34m[04:16:49] src/tree/updater_prune.cc:74: tree pruning end, 1 roots, 18 extra nodes, 6 pruned nodes, max_depth=5\u001b[0m\n",
      "\u001b[34m[52]#011train-error:0.1378#011validation-error:0.1775\u001b[0m\n",
      "\u001b[34m[04:16:51] src/tree/updater_prune.cc:74: tree pruning end, 1 roots, 22 extra nodes, 16 pruned nodes, max_depth=5\u001b[0m\n",
      "\u001b[34m[53]#011train-error:0.1378#011validation-error:0.1772\u001b[0m\n",
      "\u001b[34m[04:16:52] src/tree/updater_prune.cc:74: tree pruning end, 1 roots, 22 extra nodes, 10 pruned nodes, max_depth=5\u001b[0m\n",
      "\u001b[34m[54]#011train-error:0.137333#011validation-error:0.176\u001b[0m\n",
      "\u001b[34m[04:16:53] src/tree/updater_prune.cc:74: tree pruning end, 1 roots, 44 extra nodes, 4 pruned nodes, max_depth=5\u001b[0m\n",
      "\u001b[34m[55]#011train-error:0.135067#011validation-error:0.1756\u001b[0m\n",
      "\u001b[34m[04:16:55] src/tree/updater_prune.cc:74: tree pruning end, 1 roots, 20 extra nodes, 4 pruned nodes, max_depth=5\u001b[0m\n",
      "\u001b[34m[56]#011train-error:0.1324#011validation-error:0.1763\u001b[0m\n",
      "\u001b[34m[04:16:56] src/tree/updater_prune.cc:74: tree pruning end, 1 roots, 30 extra nodes, 4 pruned nodes, max_depth=5\u001b[0m\n",
      "\u001b[34m[57]#011train-error:0.130733#011validation-error:0.1757\u001b[0m\n",
      "\u001b[34m[04:16:57] src/tree/updater_prune.cc:74: tree pruning end, 1 roots, 20 extra nodes, 10 pruned nodes, max_depth=5\u001b[0m\n",
      "\u001b[34m[58]#011train-error:0.129867#011validation-error:0.1755\u001b[0m\n",
      "\u001b[34m[04:16:59] src/tree/updater_prune.cc:74: tree pruning end, 1 roots, 18 extra nodes, 8 pruned nodes, max_depth=5\u001b[0m\n",
      "\u001b[34m[59]#011train-error:0.128467#011validation-error:0.1739\u001b[0m\n",
      "\u001b[34m[04:17:00] src/tree/updater_prune.cc:74: tree pruning end, 1 roots, 18 extra nodes, 18 pruned nodes, max_depth=5\u001b[0m\n",
      "\u001b[34m[60]#011train-error:0.1286#011validation-error:0.1739\u001b[0m\n",
      "\u001b[34m[04:17:02] src/tree/updater_prune.cc:74: tree pruning end, 1 roots, 18 extra nodes, 6 pruned nodes, max_depth=5\u001b[0m\n",
      "\u001b[34m[61]#011train-error:0.128267#011validation-error:0.1737\u001b[0m\n",
      "\u001b[34m[04:17:03] src/tree/updater_prune.cc:74: tree pruning end, 1 roots, 26 extra nodes, 14 pruned nodes, max_depth=5\u001b[0m\n",
      "\u001b[34m[62]#011train-error:0.128067#011validation-error:0.1729\u001b[0m\n",
      "\u001b[34m[04:17:05] src/tree/updater_prune.cc:74: tree pruning end, 1 roots, 14 extra nodes, 14 pruned nodes, max_depth=5\u001b[0m\n",
      "\u001b[34m[63]#011train-error:0.128#011validation-error:0.1725\u001b[0m\n",
      "\u001b[34m[04:17:06] src/tree/updater_prune.cc:74: tree pruning end, 1 roots, 22 extra nodes, 6 pruned nodes, max_depth=5\u001b[0m\n",
      "\u001b[34m[64]#011train-error:0.127333#011validation-error:0.1724\u001b[0m\n",
      "\u001b[34m[04:17:08] src/tree/updater_prune.cc:74: tree pruning end, 1 roots, 32 extra nodes, 8 pruned nodes, max_depth=5\u001b[0m\n",
      "\u001b[34m[65]#011train-error:0.124867#011validation-error:0.1705\u001b[0m\n",
      "\u001b[34m[04:17:09] src/tree/updater_prune.cc:74: tree pruning end, 1 roots, 20 extra nodes, 14 pruned nodes, max_depth=5\u001b[0m\n",
      "\u001b[34m[66]#011train-error:0.1244#011validation-error:0.1701\u001b[0m\n",
      "\u001b[34m[04:17:11] src/tree/updater_prune.cc:74: tree pruning end, 1 roots, 28 extra nodes, 8 pruned nodes, max_depth=5\u001b[0m\n",
      "\u001b[34m[67]#011train-error:0.123467#011validation-error:0.1698\u001b[0m\n",
      "\u001b[34m[04:17:12] src/tree/updater_prune.cc:74: tree pruning end, 1 roots, 24 extra nodes, 14 pruned nodes, max_depth=5\u001b[0m\n",
      "\u001b[34m[68]#011train-error:0.123#011validation-error:0.1681\u001b[0m\n",
      "\u001b[34m[04:17:13] src/tree/updater_prune.cc:74: tree pruning end, 1 roots, 24 extra nodes, 4 pruned nodes, max_depth=5\u001b[0m\n",
      "\u001b[34m[69]#011train-error:0.1222#011validation-error:0.1679\u001b[0m\n",
      "\u001b[34m[04:17:15] src/tree/updater_prune.cc:74: tree pruning end, 1 roots, 14 extra nodes, 12 pruned nodes, max_depth=5\u001b[0m\n",
      "\u001b[34m[70]#011train-error:0.121267#011validation-error:0.167\u001b[0m\n",
      "\u001b[34m[04:17:16] src/tree/updater_prune.cc:74: tree pruning end, 1 roots, 26 extra nodes, 10 pruned nodes, max_depth=5\u001b[0m\n",
      "\u001b[34m[71]#011train-error:0.120333#011validation-error:0.1653\u001b[0m\n",
      "\u001b[34m[04:17:17] src/tree/updater_prune.cc:74: tree pruning end, 1 roots, 32 extra nodes, 10 pruned nodes, max_depth=5\u001b[0m\n",
      "\u001b[34m[72]#011train-error:0.119733#011validation-error:0.168\u001b[0m\n",
      "\u001b[34m[04:17:19] src/tree/updater_prune.cc:74: tree pruning end, 1 roots, 16 extra nodes, 12 pruned nodes, max_depth=5\u001b[0m\n",
      "\u001b[34m[73]#011train-error:0.118933#011validation-error:0.1673\u001b[0m\n",
      "\u001b[34m[04:17:20] src/tree/updater_prune.cc:74: tree pruning end, 1 roots, 18 extra nodes, 4 pruned nodes, max_depth=5\u001b[0m\n",
      "\u001b[34m[74]#011train-error:0.118267#011validation-error:0.1673\u001b[0m\n",
      "\u001b[34m[04:17:21] src/tree/updater_prune.cc:74: tree pruning end, 1 roots, 20 extra nodes, 8 pruned nodes, max_depth=5\u001b[0m\n",
      "\u001b[34m[75]#011train-error:0.117933#011validation-error:0.1667\u001b[0m\n",
      "\u001b[34m[04:17:23] src/tree/updater_prune.cc:74: tree pruning end, 1 roots, 22 extra nodes, 16 pruned nodes, max_depth=5\u001b[0m\n",
      "\u001b[34m[76]#011train-error:0.116867#011validation-error:0.167\u001b[0m\n",
      "\u001b[34m[04:17:24] src/tree/updater_prune.cc:74: tree pruning end, 1 roots, 12 extra nodes, 12 pruned nodes, max_depth=5\u001b[0m\n",
      "\u001b[34m[77]#011train-error:0.1164#011validation-error:0.1664\u001b[0m\n",
      "\u001b[34m[04:17:26] src/tree/updater_prune.cc:74: tree pruning end, 1 roots, 14 extra nodes, 6 pruned nodes, max_depth=5\u001b[0m\n",
      "\u001b[34m[78]#011train-error:0.116133#011validation-error:0.1661\u001b[0m\n",
      "\u001b[34m[04:17:27] src/tree/updater_prune.cc:74: tree pruning end, 1 roots, 26 extra nodes, 4 pruned nodes, max_depth=5\u001b[0m\n",
      "\u001b[34m[79]#011train-error:0.114933#011validation-error:0.1648\u001b[0m\n",
      "\u001b[34m[04:17:28] src/tree/updater_prune.cc:74: tree pruning end, 1 roots, 28 extra nodes, 8 pruned nodes, max_depth=5\u001b[0m\n",
      "\u001b[34m[80]#011train-error:0.1142#011validation-error:0.1637\u001b[0m\n",
      "\u001b[34m[04:17:30] src/tree/updater_prune.cc:74: tree pruning end, 1 roots, 26 extra nodes, 8 pruned nodes, max_depth=5\u001b[0m\n",
      "\u001b[34m[81]#011train-error:0.112733#011validation-error:0.1627\u001b[0m\n",
      "\u001b[34m[04:17:31] src/tree/updater_prune.cc:74: tree pruning end, 1 roots, 22 extra nodes, 4 pruned nodes, max_depth=5\u001b[0m\n",
      "\u001b[34m[82]#011train-error:0.112067#011validation-error:0.1625\u001b[0m\n",
      "\u001b[34m[04:17:33] src/tree/updater_prune.cc:74: tree pruning end, 1 roots, 14 extra nodes, 16 pruned nodes, max_depth=5\u001b[0m\n",
      "\u001b[34m[83]#011train-error:0.112733#011validation-error:0.162\u001b[0m\n",
      "\u001b[34m[04:17:34] src/tree/updater_prune.cc:74: tree pruning end, 1 roots, 10 extra nodes, 12 pruned nodes, max_depth=5\u001b[0m\n",
      "\u001b[34m[84]#011train-error:0.1114#011validation-error:0.1612\u001b[0m\n",
      "\u001b[34m[04:17:35] src/tree/updater_prune.cc:74: tree pruning end, 1 roots, 16 extra nodes, 0 pruned nodes, max_depth=5\u001b[0m\n",
      "\u001b[34m[85]#011train-error:0.110733#011validation-error:0.1613\u001b[0m\n",
      "\u001b[34m[04:17:37] src/tree/updater_prune.cc:74: tree pruning end, 1 roots, 10 extra nodes, 6 pruned nodes, max_depth=5\u001b[0m\n",
      "\u001b[34m[86]#011train-error:0.110667#011validation-error:0.1606\u001b[0m\n",
      "\u001b[34m[04:17:38] src/tree/updater_prune.cc:74: tree pruning end, 1 roots, 20 extra nodes, 2 pruned nodes, max_depth=5\u001b[0m\n",
      "\u001b[34m[87]#011train-error:0.11#011validation-error:0.161\u001b[0m\n",
      "\u001b[34m[04:17:39] src/tree/updater_prune.cc:74: tree pruning end, 1 roots, 10 extra nodes, 4 pruned nodes, max_depth=5\u001b[0m\n",
      "\u001b[34m[88]#011train-error:0.109333#011validation-error:0.1603\u001b[0m\n",
      "\u001b[34m[04:17:41] src/tree/updater_prune.cc:74: tree pruning end, 1 roots, 26 extra nodes, 14 pruned nodes, max_depth=5\u001b[0m\n",
      "\u001b[34m[89]#011train-error:0.108867#011validation-error:0.1608\u001b[0m\n",
      "\u001b[34m[04:17:42] src/tree/updater_prune.cc:74: tree pruning end, 1 roots, 18 extra nodes, 8 pruned nodes, max_depth=5\u001b[0m\n",
      "\u001b[34m[90]#011train-error:0.108467#011validation-error:0.16\u001b[0m\n",
      "\u001b[34m[04:17:43] src/tree/updater_prune.cc:74: tree pruning end, 1 roots, 18 extra nodes, 0 pruned nodes, max_depth=5\u001b[0m\n",
      "\u001b[34m[91]#011train-error:0.108333#011validation-error:0.1606\u001b[0m\n",
      "\u001b[34m[04:17:45] src/tree/updater_prune.cc:74: tree pruning end, 1 roots, 14 extra nodes, 14 pruned nodes, max_depth=5\u001b[0m\n",
      "\u001b[34m[92]#011train-error:0.107267#011validation-error:0.16\u001b[0m\n",
      "\u001b[34m[04:17:46] src/tree/updater_prune.cc:74: tree pruning end, 1 roots, 22 extra nodes, 8 pruned nodes, max_depth=5\u001b[0m\n",
      "\u001b[34m[93]#011train-error:0.106533#011validation-error:0.1596\u001b[0m\n",
      "\u001b[34m[04:17:48] src/tree/updater_prune.cc:74: tree pruning end, 1 roots, 10 extra nodes, 10 pruned nodes, max_depth=5\u001b[0m\n",
      "\u001b[34m[94]#011train-error:0.106333#011validation-error:0.1592\u001b[0m\n",
      "\u001b[34m[04:17:49] src/tree/updater_prune.cc:74: tree pruning end, 1 roots, 20 extra nodes, 10 pruned nodes, max_depth=5\u001b[0m\n",
      "\u001b[34m[95]#011train-error:0.105667#011validation-error:0.1591\u001b[0m\n",
      "\u001b[34m[04:17:50] src/tree/updater_prune.cc:74: tree pruning end, 1 roots, 12 extra nodes, 10 pruned nodes, max_depth=5\u001b[0m\n",
      "\u001b[34m[96]#011train-error:0.105733#011validation-error:0.1593\u001b[0m\n",
      "\u001b[34m[04:17:52] src/tree/updater_prune.cc:74: tree pruning end, 1 roots, 16 extra nodes, 14 pruned nodes, max_depth=5\u001b[0m\n",
      "\u001b[34m[97]#011train-error:0.105333#011validation-error:0.1595\u001b[0m\n",
      "\u001b[34m[04:17:53] src/tree/updater_prune.cc:74: tree pruning end, 1 roots, 18 extra nodes, 2 pruned nodes, max_depth=5\u001b[0m\n",
      "\u001b[34m[98]#011train-error:0.104733#011validation-error:0.1588\u001b[0m\n",
      "\u001b[34m[04:17:54] src/tree/updater_prune.cc:74: tree pruning end, 1 roots, 18 extra nodes, 6 pruned nodes, max_depth=5\u001b[0m\n",
      "\u001b[34m[99]#011train-error:0.105267#011validation-error:0.159\u001b[0m\n",
      "\u001b[34m[04:17:56] src/tree/updater_prune.cc:74: tree pruning end, 1 roots, 26 extra nodes, 0 pruned nodes, max_depth=5\u001b[0m\n",
      "\u001b[34m[100]#011train-error:0.104667#011validation-error:0.159\u001b[0m\n",
      "\u001b[34m[04:17:57] src/tree/updater_prune.cc:74: tree pruning end, 1 roots, 12 extra nodes, 10 pruned nodes, max_depth=5\u001b[0m\n",
      "\u001b[34m[101]#011train-error:0.104133#011validation-error:0.1587\u001b[0m\n",
      "\u001b[34m[04:17:58] src/tree/updater_prune.cc:74: tree pruning end, 1 roots, 16 extra nodes, 2 pruned nodes, max_depth=5\u001b[0m\n",
      "\u001b[34m[102]#011train-error:0.104267#011validation-error:0.1587\u001b[0m\n",
      "\u001b[34m[04:18:00] src/tree/updater_prune.cc:74: tree pruning end, 1 roots, 22 extra nodes, 14 pruned nodes, max_depth=5\u001b[0m\n",
      "\u001b[34m[103]#011train-error:0.102867#011validation-error:0.1575\u001b[0m\n",
      "\u001b[34m[04:18:01] src/tree/updater_prune.cc:74: tree pruning end, 1 roots, 12 extra nodes, 14 pruned nodes, max_depth=5\u001b[0m\n",
      "\u001b[34m[104]#011train-error:0.102733#011validation-error:0.1576\u001b[0m\n",
      "\u001b[34m[04:18:03] src/tree/updater_prune.cc:74: tree pruning end, 1 roots, 10 extra nodes, 6 pruned nodes, max_depth=5\u001b[0m\n",
      "\u001b[34m[105]#011train-error:0.102733#011validation-error:0.1567\u001b[0m\n",
      "\u001b[34m[04:18:04] src/tree/updater_prune.cc:74: tree pruning end, 1 roots, 10 extra nodes, 10 pruned nodes, max_depth=5\u001b[0m\n",
      "\u001b[34m[106]#011train-error:0.1022#011validation-error:0.1564\u001b[0m\n",
      "\u001b[34m[04:18:06] src/tree/updater_prune.cc:74: tree pruning end, 1 roots, 12 extra nodes, 6 pruned nodes, max_depth=5\u001b[0m\n",
      "\u001b[34m[107]#011train-error:0.101867#011validation-error:0.1564\u001b[0m\n",
      "\u001b[34m[04:18:08] src/tree/updater_prune.cc:74: tree pruning end, 1 roots, 36 extra nodes, 8 pruned nodes, max_depth=5\u001b[0m\n",
      "\u001b[34m[108]#011train-error:0.101067#011validation-error:0.1551\u001b[0m\n",
      "\u001b[34m[04:18:09] src/tree/updater_prune.cc:74: tree pruning end, 1 roots, 18 extra nodes, 0 pruned nodes, max_depth=5\u001b[0m\n",
      "\u001b[34m[109]#011train-error:0.100667#011validation-error:0.1545\u001b[0m\n",
      "\u001b[34m[04:18:10] src/tree/updater_prune.cc:74: tree pruning end, 1 roots, 18 extra nodes, 8 pruned nodes, max_depth=5\u001b[0m\n",
      "\u001b[34m[110]#011train-error:0.099667#011validation-error:0.1525\u001b[0m\n",
      "\u001b[34m[04:18:12] src/tree/updater_prune.cc:74: tree pruning end, 1 roots, 12 extra nodes, 2 pruned nodes, max_depth=5\u001b[0m\n",
      "\u001b[34m[111]#011train-error:0.099467#011validation-error:0.1528\u001b[0m\n",
      "\u001b[34m[04:18:13] src/tree/updater_prune.cc:74: tree pruning end, 1 roots, 24 extra nodes, 6 pruned nodes, max_depth=5\u001b[0m\n",
      "\u001b[34m[112]#011train-error:0.099533#011validation-error:0.1531\u001b[0m\n",
      "\u001b[34m[04:18:15] src/tree/updater_prune.cc:74: tree pruning end, 1 roots, 24 extra nodes, 6 pruned nodes, max_depth=5\u001b[0m\n",
      "\u001b[34m[113]#011train-error:0.097733#011validation-error:0.1529\u001b[0m\n",
      "\u001b[34m[04:18:16] src/tree/updater_prune.cc:74: tree pruning end, 1 roots, 10 extra nodes, 4 pruned nodes, max_depth=5\u001b[0m\n",
      "\u001b[34m[114]#011train-error:0.097467#011validation-error:0.1529\u001b[0m\n",
      "\u001b[34m[04:18:17] src/tree/updater_prune.cc:74: tree pruning end, 1 roots, 10 extra nodes, 8 pruned nodes, max_depth=5\u001b[0m\n",
      "\u001b[34m[115]#011train-error:0.097067#011validation-error:0.1522\u001b[0m\n",
      "\u001b[34m[04:18:19] src/tree/updater_prune.cc:74: tree pruning end, 1 roots, 20 extra nodes, 4 pruned nodes, max_depth=5\u001b[0m\n",
      "\u001b[34m[116]#011train-error:0.097067#011validation-error:0.1523\u001b[0m\n",
      "\u001b[34m[04:18:20] src/tree/updater_prune.cc:74: tree pruning end, 1 roots, 34 extra nodes, 8 pruned nodes, max_depth=5\u001b[0m\n",
      "\u001b[34m[117]#011train-error:0.095133#011validation-error:0.1529\u001b[0m\n",
      "\u001b[34m[04:18:21] src/tree/updater_prune.cc:74: tree pruning end, 1 roots, 24 extra nodes, 4 pruned nodes, max_depth=5\u001b[0m\n",
      "\u001b[34m[118]#011train-error:0.0936#011validation-error:0.1539\u001b[0m\n",
      "\u001b[34m[04:18:23] src/tree/updater_prune.cc:74: tree pruning end, 1 roots, 14 extra nodes, 14 pruned nodes, max_depth=5\u001b[0m\n",
      "\u001b[34m[119]#011train-error:0.093#011validation-error:0.1536\u001b[0m\n",
      "\u001b[34m[04:18:24] src/tree/updater_prune.cc:74: tree pruning end, 1 roots, 14 extra nodes, 4 pruned nodes, max_depth=5\u001b[0m\n",
      "\u001b[34m[120]#011train-error:0.093067#011validation-error:0.1536\u001b[0m\n",
      "\u001b[34m[04:18:25] src/tree/updater_prune.cc:74: tree pruning end, 1 roots, 10 extra nodes, 14 pruned nodes, max_depth=5\u001b[0m\n",
      "\u001b[34m[121]#011train-error:0.0924#011validation-error:0.1529\u001b[0m\n",
      "\u001b[34m[04:18:27] src/tree/updater_prune.cc:74: tree pruning end, 1 roots, 20 extra nodes, 10 pruned nodes, max_depth=5\u001b[0m\n",
      "\u001b[34m[122]#011train-error:0.092#011validation-error:0.1522\u001b[0m\n",
      "\u001b[34m[04:18:28] src/tree/updater_prune.cc:74: tree pruning end, 1 roots, 22 extra nodes, 12 pruned nodes, max_depth=5\u001b[0m\n",
      "\u001b[34m[123]#011train-error:0.091933#011validation-error:0.152\u001b[0m\n",
      "\u001b[34m[04:18:30] src/tree/updater_prune.cc:74: tree pruning end, 1 roots, 14 extra nodes, 6 pruned nodes, max_depth=5\u001b[0m\n",
      "\u001b[34m[124]#011train-error:0.092067#011validation-error:0.1517\u001b[0m\n",
      "\u001b[34m[04:18:31] src/tree/updater_prune.cc:74: tree pruning end, 1 roots, 12 extra nodes, 6 pruned nodes, max_depth=5\u001b[0m\n",
      "\u001b[34m[125]#011train-error:0.091733#011validation-error:0.1518\u001b[0m\n",
      "\u001b[34m[04:18:32] src/tree/updater_prune.cc:74: tree pruning end, 1 roots, 22 extra nodes, 14 pruned nodes, max_depth=5\u001b[0m\n",
      "\u001b[34m[126]#011train-error:0.091867#011validation-error:0.1516\u001b[0m\n",
      "\u001b[34m[04:18:34] src/tree/updater_prune.cc:74: tree pruning end, 1 roots, 30 extra nodes, 10 pruned nodes, max_depth=5\u001b[0m\n",
      "\u001b[34m[127]#011train-error:0.091267#011validation-error:0.1503\u001b[0m\n",
      "\u001b[34m[04:18:35] src/tree/updater_prune.cc:74: tree pruning end, 1 roots, 14 extra nodes, 6 pruned nodes, max_depth=5\u001b[0m\n",
      "\u001b[34m[128]#011train-error:0.090933#011validation-error:0.1501\u001b[0m\n",
      "\u001b[34m[04:18:36] src/tree/updater_prune.cc:74: tree pruning end, 1 roots, 24 extra nodes, 14 pruned nodes, max_depth=5\u001b[0m\n",
      "\u001b[34m[129]#011train-error:0.090333#011validation-error:0.1506\u001b[0m\n",
      "\u001b[34m[04:18:38] src/tree/updater_prune.cc:74: tree pruning end, 1 roots, 10 extra nodes, 14 pruned nodes, max_depth=5\u001b[0m\n",
      "\u001b[34m[130]#011train-error:0.0898#011validation-error:0.1508\u001b[0m\n",
      "\u001b[34m[04:18:39] src/tree/updater_prune.cc:74: tree pruning end, 1 roots, 10 extra nodes, 6 pruned nodes, max_depth=5\u001b[0m\n",
      "\u001b[34m[131]#011train-error:0.0896#011validation-error:0.1503\u001b[0m\n",
      "\u001b[34m[04:18:41] src/tree/updater_prune.cc:74: tree pruning end, 1 roots, 14 extra nodes, 2 pruned nodes, max_depth=5\u001b[0m\n",
      "\u001b[34m[132]#011train-error:0.0892#011validation-error:0.1497\u001b[0m\n",
      "\u001b[34m[04:18:42] src/tree/updater_prune.cc:74: tree pruning end, 1 roots, 14 extra nodes, 6 pruned nodes, max_depth=5\u001b[0m\n",
      "\u001b[34m[133]#011train-error:0.0894#011validation-error:0.1498\u001b[0m\n",
      "\u001b[34m[04:18:43] src/tree/updater_prune.cc:74: tree pruning end, 1 roots, 12 extra nodes, 0 pruned nodes, max_depth=5\u001b[0m\n",
      "\u001b[34m[134]#011train-error:0.0888#011validation-error:0.1493\u001b[0m\n",
      "\u001b[34m[04:18:45] src/tree/updater_prune.cc:74: tree pruning end, 1 roots, 14 extra nodes, 8 pruned nodes, max_depth=5\u001b[0m\n",
      "\u001b[34m[135]#011train-error:0.088667#011validation-error:0.1489\u001b[0m\n",
      "\u001b[34m[04:18:46] src/tree/updater_prune.cc:74: tree pruning end, 1 roots, 16 extra nodes, 10 pruned nodes, max_depth=5\u001b[0m\n",
      "\u001b[34m[136]#011train-error:0.088733#011validation-error:0.1492\u001b[0m\n",
      "\u001b[34m[04:18:47] src/tree/updater_prune.cc:74: tree pruning end, 1 roots, 14 extra nodes, 12 pruned nodes, max_depth=5\u001b[0m\n",
      "\u001b[34m[137]#011train-error:0.087933#011validation-error:0.1488\u001b[0m\n",
      "\u001b[34m[04:18:49] src/tree/updater_prune.cc:74: tree pruning end, 1 roots, 18 extra nodes, 0 pruned nodes, max_depth=5\u001b[0m\n",
      "\u001b[34m[138]#011train-error:0.087667#011validation-error:0.148\u001b[0m\n",
      "\u001b[34m[04:18:50] src/tree/updater_prune.cc:74: tree pruning end, 1 roots, 22 extra nodes, 10 pruned nodes, max_depth=5\u001b[0m\n",
      "\u001b[34m[139]#011train-error:0.087067#011validation-error:0.1482\u001b[0m\n",
      "\u001b[34m[04:18:51] src/tree/updater_prune.cc:74: tree pruning end, 1 roots, 20 extra nodes, 4 pruned nodes, max_depth=5\u001b[0m\n",
      "\u001b[34m[140]#011train-error:0.087133#011validation-error:0.1482\u001b[0m\n",
      "\u001b[34m[04:18:53] src/tree/updater_prune.cc:74: tree pruning end, 1 roots, 18 extra nodes, 4 pruned nodes, max_depth=5\u001b[0m\n",
      "\u001b[34m[141]#011train-error:0.086467#011validation-error:0.1479\u001b[0m\n",
      "\u001b[34m[04:18:54] src/tree/updater_prune.cc:74: tree pruning end, 1 roots, 10 extra nodes, 14 pruned nodes, max_depth=5\u001b[0m\n",
      "\u001b[34m[142]#011train-error:0.086733#011validation-error:0.1479\u001b[0m\n",
      "\u001b[34m[04:18:56] src/tree/updater_prune.cc:74: tree pruning end, 1 roots, 16 extra nodes, 6 pruned nodes, max_depth=5\u001b[0m\n",
      "\u001b[34m[143]#011train-error:0.086467#011validation-error:0.1475\u001b[0m\n",
      "\u001b[34m[04:18:57] src/tree/updater_prune.cc:74: tree pruning end, 1 roots, 14 extra nodes, 6 pruned nodes, max_depth=5\u001b[0m\n",
      "\u001b[34m[144]#011train-error:0.086333#011validation-error:0.1476\u001b[0m\n",
      "\u001b[34m[04:18:58] src/tree/updater_prune.cc:74: tree pruning end, 1 roots, 18 extra nodes, 6 pruned nodes, max_depth=5\u001b[0m\n",
      "\u001b[34m[145]#011train-error:0.0854#011validation-error:0.1479\u001b[0m\n",
      "\u001b[34m[04:19:00] src/tree/updater_prune.cc:74: tree pruning end, 1 roots, 16 extra nodes, 4 pruned nodes, max_depth=5\u001b[0m\n",
      "\u001b[34m[146]#011train-error:0.0854#011validation-error:0.1466\u001b[0m\n",
      "\u001b[34m[04:19:01] src/tree/updater_prune.cc:74: tree pruning end, 1 roots, 16 extra nodes, 14 pruned nodes, max_depth=5\u001b[0m\n",
      "\u001b[34m[147]#011train-error:0.085067#011validation-error:0.1467\u001b[0m\n",
      "\u001b[34m[04:19:03] src/tree/updater_prune.cc:74: tree pruning end, 1 roots, 14 extra nodes, 4 pruned nodes, max_depth=5\u001b[0m\n",
      "\u001b[34m[148]#011train-error:0.084467#011validation-error:0.1463\u001b[0m\n",
      "\u001b[34m[04:19:04] src/tree/updater_prune.cc:74: tree pruning end, 1 roots, 10 extra nodes, 8 pruned nodes, max_depth=5\u001b[0m\n",
      "\u001b[34m[149]#011train-error:0.084333#011validation-error:0.1463\u001b[0m\n",
      "\u001b[34m[04:19:06] src/tree/updater_prune.cc:74: tree pruning end, 1 roots, 24 extra nodes, 14 pruned nodes, max_depth=5\u001b[0m\n",
      "\u001b[34m[150]#011train-error:0.084933#011validation-error:0.1464\u001b[0m\n",
      "\u001b[34m[04:19:07] src/tree/updater_prune.cc:74: tree pruning end, 1 roots, 12 extra nodes, 2 pruned nodes, max_depth=5\u001b[0m\n",
      "\u001b[34m[151]#011train-error:0.085067#011validation-error:0.1466\u001b[0m\n",
      "\u001b[34m[04:19:09] src/tree/updater_prune.cc:74: tree pruning end, 1 roots, 14 extra nodes, 6 pruned nodes, max_depth=5\u001b[0m\n",
      "\u001b[34m[152]#011train-error:0.084533#011validation-error:0.1459\u001b[0m\n",
      "\u001b[34m[04:19:10] src/tree/updater_prune.cc:74: tree pruning end, 1 roots, 12 extra nodes, 8 pruned nodes, max_depth=5\u001b[0m\n",
      "\u001b[34m[153]#011train-error:0.0838#011validation-error:0.1457\u001b[0m\n",
      "\u001b[34m[04:19:11] src/tree/updater_prune.cc:74: tree pruning end, 1 roots, 16 extra nodes, 10 pruned nodes, max_depth=5\u001b[0m\n",
      "\u001b[34m[154]#011train-error:0.083333#011validation-error:0.1453\u001b[0m\n",
      "\u001b[34m[04:19:13] src/tree/updater_prune.cc:74: tree pruning end, 1 roots, 10 extra nodes, 14 pruned nodes, max_depth=5\u001b[0m\n",
      "\u001b[34m[155]#011train-error:0.082933#011validation-error:0.1455\u001b[0m\n",
      "\u001b[34m[04:19:14] src/tree/updater_prune.cc:74: tree pruning end, 1 roots, 20 extra nodes, 12 pruned nodes, max_depth=5\u001b[0m\n",
      "\u001b[34m[156]#011train-error:0.082533#011validation-error:0.1454\u001b[0m\n",
      "\u001b[34m[04:19:16] src/tree/updater_prune.cc:74: tree pruning end, 1 roots, 18 extra nodes, 8 pruned nodes, max_depth=5\u001b[0m\n",
      "\u001b[34m[157]#011train-error:0.082333#011validation-error:0.1454\u001b[0m\n",
      "\u001b[34m[04:19:17] src/tree/updater_prune.cc:74: tree pruning end, 1 roots, 14 extra nodes, 10 pruned nodes, max_depth=5\u001b[0m\n",
      "\u001b[34m[158]#011train-error:0.082133#011validation-error:0.1452\u001b[0m\n",
      "\u001b[34m[04:19:18] src/tree/updater_prune.cc:74: tree pruning end, 1 roots, 28 extra nodes, 14 pruned nodes, max_depth=5\u001b[0m\n",
      "\u001b[34m[159]#011train-error:0.080733#011validation-error:0.1447\u001b[0m\n",
      "\u001b[34m[04:19:20] src/tree/updater_prune.cc:74: tree pruning end, 1 roots, 12 extra nodes, 8 pruned nodes, max_depth=5\u001b[0m\n",
      "\u001b[34m[160]#011train-error:0.081333#011validation-error:0.1443\u001b[0m\n",
      "\u001b[34m[04:19:21] src/tree/updater_prune.cc:74: tree pruning end, 1 roots, 20 extra nodes, 4 pruned nodes, max_depth=5\u001b[0m\n",
      "\u001b[34m[161]#011train-error:0.080933#011validation-error:0.1444\u001b[0m\n",
      "\u001b[34m[04:19:22] src/tree/updater_prune.cc:74: tree pruning end, 1 roots, 18 extra nodes, 10 pruned nodes, max_depth=5\u001b[0m\n",
      "\u001b[34m[162]#011train-error:0.080667#011validation-error:0.1439\u001b[0m\n",
      "\u001b[34m[04:19:24] src/tree/updater_prune.cc:74: tree pruning end, 1 roots, 18 extra nodes, 4 pruned nodes, max_depth=5\u001b[0m\n",
      "\u001b[34m[163]#011train-error:0.080733#011validation-error:0.1442\u001b[0m\n",
      "\u001b[34m[04:19:25] src/tree/updater_prune.cc:74: tree pruning end, 1 roots, 10 extra nodes, 0 pruned nodes, max_depth=5\u001b[0m\n",
      "\u001b[34m[164]#011train-error:0.080533#011validation-error:0.1438\u001b[0m\n",
      "\u001b[34m[04:19:26] src/tree/updater_prune.cc:74: tree pruning end, 1 roots, 10 extra nodes, 4 pruned nodes, max_depth=5\u001b[0m\n",
      "\u001b[34m[165]#011train-error:0.080467#011validation-error:0.1436\u001b[0m\n",
      "\u001b[34m[04:19:28] src/tree/updater_prune.cc:74: tree pruning end, 1 roots, 12 extra nodes, 8 pruned nodes, max_depth=5\u001b[0m\n",
      "\u001b[34m[166]#011train-error:0.079733#011validation-error:0.1436\u001b[0m\n",
      "\u001b[34m[04:19:29] src/tree/updater_prune.cc:74: tree pruning end, 1 roots, 10 extra nodes, 2 pruned nodes, max_depth=5\u001b[0m\n",
      "\u001b[34m[167]#011train-error:0.0796#011validation-error:0.1435\u001b[0m\n",
      "\u001b[34m[04:19:30] src/tree/updater_prune.cc:74: tree pruning end, 1 roots, 30 extra nodes, 10 pruned nodes, max_depth=5\u001b[0m\n",
      "\u001b[34m[168]#011train-error:0.0794#011validation-error:0.143\u001b[0m\n",
      "\u001b[34m[04:19:32] src/tree/updater_prune.cc:74: tree pruning end, 1 roots, 10 extra nodes, 2 pruned nodes, max_depth=5\u001b[0m\n",
      "\u001b[34m[169]#011train-error:0.078867#011validation-error:0.1432\u001b[0m\n",
      "\u001b[34m[04:19:33] src/tree/updater_prune.cc:74: tree pruning end, 1 roots, 10 extra nodes, 2 pruned nodes, max_depth=5\u001b[0m\n",
      "\u001b[34m[170]#011train-error:0.078867#011validation-error:0.143\u001b[0m\n",
      "\u001b[34m[04:19:35] src/tree/updater_prune.cc:74: tree pruning end, 1 roots, 12 extra nodes, 16 pruned nodes, max_depth=5\u001b[0m\n",
      "\u001b[34m[171]#011train-error:0.078667#011validation-error:0.1429\u001b[0m\n",
      "\u001b[34m[04:19:36] src/tree/updater_prune.cc:74: tree pruning end, 1 roots, 10 extra nodes, 4 pruned nodes, max_depth=5\u001b[0m\n",
      "\u001b[34m[172]#011train-error:0.078733#011validation-error:0.1421\u001b[0m\n",
      "\u001b[34m[04:19:37] src/tree/updater_prune.cc:74: tree pruning end, 1 roots, 20 extra nodes, 16 pruned nodes, max_depth=5\u001b[0m\n",
      "\u001b[34m[173]#011train-error:0.0786#011validation-error:0.1431\u001b[0m\n",
      "\u001b[34m[04:19:39] src/tree/updater_prune.cc:74: tree pruning end, 1 roots, 18 extra nodes, 18 pruned nodes, max_depth=5\u001b[0m\n",
      "\u001b[34m[174]#011train-error:0.0782#011validation-error:0.1412\u001b[0m\n",
      "\u001b[34m[04:19:40] src/tree/updater_prune.cc:74: tree pruning end, 1 roots, 22 extra nodes, 8 pruned nodes, max_depth=5\u001b[0m\n",
      "\u001b[34m[175]#011train-error:0.078#011validation-error:0.1406\u001b[0m\n",
      "\u001b[34m[04:19:41] src/tree/updater_prune.cc:74: tree pruning end, 1 roots, 12 extra nodes, 10 pruned nodes, max_depth=5\u001b[0m\n",
      "\u001b[34m[176]#011train-error:0.077933#011validation-error:0.1406\u001b[0m\n",
      "\u001b[34m[04:19:43] src/tree/updater_prune.cc:74: tree pruning end, 1 roots, 10 extra nodes, 4 pruned nodes, max_depth=5\u001b[0m\n",
      "\u001b[34m[177]#011train-error:0.0776#011validation-error:0.1397\u001b[0m\n",
      "\u001b[34m[04:19:44] src/tree/updater_prune.cc:74: tree pruning end, 1 roots, 12 extra nodes, 6 pruned nodes, max_depth=5\u001b[0m\n",
      "\u001b[34m[178]#011train-error:0.0776#011validation-error:0.1403\u001b[0m\n",
      "\u001b[34m[04:19:46] src/tree/updater_prune.cc:74: tree pruning end, 1 roots, 14 extra nodes, 6 pruned nodes, max_depth=5\u001b[0m\n",
      "\u001b[34m[179]#011train-error:0.0772#011validation-error:0.1403\u001b[0m\n",
      "\u001b[34m[04:19:47] src/tree/updater_prune.cc:74: tree pruning end, 1 roots, 18 extra nodes, 8 pruned nodes, max_depth=5\u001b[0m\n",
      "\u001b[34m[180]#011train-error:0.076533#011validation-error:0.1408\u001b[0m\n",
      "\u001b[34m[04:19:48] src/tree/updater_prune.cc:74: tree pruning end, 1 roots, 14 extra nodes, 4 pruned nodes, max_depth=5\u001b[0m\n",
      "\u001b[34m[181]#011train-error:0.076467#011validation-error:0.1405\u001b[0m\n",
      "\u001b[34m[04:19:50] src/tree/updater_prune.cc:74: tree pruning end, 1 roots, 12 extra nodes, 10 pruned nodes, max_depth=5\u001b[0m\n",
      "\u001b[34m[182]#011train-error:0.0766#011validation-error:0.1405\u001b[0m\n",
      "\u001b[34m[04:19:51] src/tree/updater_prune.cc:74: tree pruning end, 1 roots, 16 extra nodes, 10 pruned nodes, max_depth=5\u001b[0m\n",
      "\u001b[34m[183]#011train-error:0.076533#011validation-error:0.1404\u001b[0m\n",
      "\u001b[34m[04:19:52] src/tree/updater_prune.cc:74: tree pruning end, 1 roots, 10 extra nodes, 2 pruned nodes, max_depth=5\u001b[0m\n",
      "\u001b[34m[184]#011train-error:0.0762#011validation-error:0.1399\u001b[0m\n",
      "\u001b[34m[04:19:54] src/tree/updater_prune.cc:74: tree pruning end, 1 roots, 22 extra nodes, 16 pruned nodes, max_depth=5\u001b[0m\n",
      "\u001b[34m[185]#011train-error:0.076133#011validation-error:0.1395\u001b[0m\n",
      "\u001b[34m[04:19:55] src/tree/updater_prune.cc:74: tree pruning end, 1 roots, 18 extra nodes, 10 pruned nodes, max_depth=5\u001b[0m\n",
      "\u001b[34m[186]#011train-error:0.0756#011validation-error:0.1388\u001b[0m\n",
      "\u001b[34m[04:19:56] src/tree/updater_prune.cc:74: tree pruning end, 1 roots, 20 extra nodes, 10 pruned nodes, max_depth=5\u001b[0m\n",
      "\u001b[34m[187]#011train-error:0.075467#011validation-error:0.1392\u001b[0m\n",
      "\u001b[34m[04:19:58] src/tree/updater_prune.cc:74: tree pruning end, 1 roots, 10 extra nodes, 12 pruned nodes, max_depth=5\u001b[0m\n",
      "\u001b[34m[188]#011train-error:0.0746#011validation-error:0.1399\u001b[0m\n",
      "\u001b[34m[04:19:59] src/tree/updater_prune.cc:74: tree pruning end, 1 roots, 14 extra nodes, 4 pruned nodes, max_depth=5\u001b[0m\n",
      "\u001b[34m[189]#011train-error:0.0742#011validation-error:0.1398\u001b[0m\n",
      "\u001b[34m[04:20:00] src/tree/updater_prune.cc:74: tree pruning end, 1 roots, 20 extra nodes, 8 pruned nodes, max_depth=5\u001b[0m\n",
      "\u001b[34m[190]#011train-error:0.074133#011validation-error:0.1397\u001b[0m\n",
      "\u001b[34m[04:20:02] src/tree/updater_prune.cc:74: tree pruning end, 1 roots, 12 extra nodes, 4 pruned nodes, max_depth=5\u001b[0m\n",
      "\u001b[34m[191]#011train-error:0.074333#011validation-error:0.1399\u001b[0m\n",
      "\u001b[34m[04:20:04] src/tree/updater_prune.cc:74: tree pruning end, 1 roots, 16 extra nodes, 14 pruned nodes, max_depth=5\u001b[0m\n",
      "\u001b[34m[192]#011train-error:0.074667#011validation-error:0.1396\u001b[0m\n",
      "\u001b[34m[04:20:05] src/tree/updater_prune.cc:74: tree pruning end, 1 roots, 12 extra nodes, 10 pruned nodes, max_depth=5\u001b[0m\n",
      "\u001b[34m[193]#011train-error:0.074467#011validation-error:0.14\u001b[0m\n",
      "\u001b[34m[04:20:07] src/tree/updater_prune.cc:74: tree pruning end, 1 roots, 20 extra nodes, 0 pruned nodes, max_depth=5\u001b[0m\n",
      "\u001b[34m[194]#011train-error:0.073933#011validation-error:0.1393\u001b[0m\n",
      "\u001b[34m[04:20:08] src/tree/updater_prune.cc:74: tree pruning end, 1 roots, 16 extra nodes, 4 pruned nodes, max_depth=5\u001b[0m\n",
      "\u001b[34m[195]#011train-error:0.074133#011validation-error:0.1397\u001b[0m\n",
      "\u001b[34m[04:20:10] src/tree/updater_prune.cc:74: tree pruning end, 1 roots, 18 extra nodes, 8 pruned nodes, max_depth=5\u001b[0m\n",
      "\u001b[34m[196]#011train-error:0.073867#011validation-error:0.1394\u001b[0m\n",
      "\u001b[34mStopping. Best iteration:\u001b[0m\n",
      "\u001b[34m[186]#011train-error:0.0756#011validation-error:0.1388\n",
      "\u001b[0m\n",
      "\n",
      "2021-07-22 04:20:38 Uploading - Uploading generated training model\n",
      "2021-07-22 04:20:38 Completed - Training job completed\n",
      "Training seconds: 365\n",
      "Billable seconds: 365\n"
     ]
    }
   ],
   "source": [
    "xgb.fit({'train': s3_input_train, 'validation': s3_input_validation})"
   ]
  },
  {
   "cell_type": "markdown",
   "metadata": {},
   "source": [
    "## Step 5: Testing the model\n",
    "\n",
    "Now that we've fit our XGBoost model, it's time to see how well it performs. To do this we will use SageMakers Batch Transform functionality. Batch Transform is a convenient way to perform inference on a large dataset in a way that is not realtime. That is, we don't necessarily need to use our model's results immediately and instead we can perform inference on a large number of samples. An example of this in industry might be performing an end of month report. This method of inference can also be useful to us as it means that we can perform inference on our entire test set. \n",
    "\n",
    "To perform a Batch Transformation we need to first create a transformer objects from our trained estimator object."
   ]
  },
  {
   "cell_type": "code",
   "execution_count": 25,
   "metadata": {},
   "outputs": [
    {
     "name": "stderr",
     "output_type": "stream",
     "text": [
      "Parameter image will be renamed to image_uri in SageMaker Python SDK v2.\n"
     ]
    }
   ],
   "source": [
    "xgb_transformer = xgb.transformer(instance_count = 1, instance_type = 'ml.m4.xlarge')"
   ]
  },
  {
   "cell_type": "markdown",
   "metadata": {},
   "source": [
    "Next we actually perform the transform job. When doing so we need to make sure to specify the type of data we are sending so that it is serialized correctly in the background. In our case we are providing our model with csv data so we specify `text/csv`. Also, if the test data that we have provided is too large to process all at once then we need to specify how the data file should be split up. Since each line is a single entry in our data set we tell SageMaker that it can split the input on each line."
   ]
  },
  {
   "cell_type": "code",
   "execution_count": 26,
   "metadata": {},
   "outputs": [],
   "source": [
    "xgb_transformer.transform(test_location, content_type='text/csv', split_type='Line')"
   ]
  },
  {
   "cell_type": "markdown",
   "metadata": {},
   "source": [
    "Currently the transform job is running but it is doing so in the background. Since we wish to wait until the transform job is done and we would like a bit of feedback we can run the `wait()` method."
   ]
  },
  {
   "cell_type": "code",
   "execution_count": 27,
   "metadata": {},
   "outputs": [
    {
     "name": "stdout",
     "output_type": "stream",
     "text": [
      ".................................\u001b[34mArguments: serve\u001b[0m\n",
      "\u001b[34m[2021-07-22 04:26:40 +0000] [1] [INFO] Starting gunicorn 19.9.0\u001b[0m\n",
      "\u001b[34m[2021-07-22 04:26:40 +0000] [1] [INFO] Listening at: http://0.0.0.0:8080 (1)\u001b[0m\n",
      "\u001b[34m[2021-07-22 04:26:40 +0000] [1] [INFO] Using worker: gevent\u001b[0m\n",
      "\u001b[34m[2021-07-22 04:26:40 +0000] [20] [INFO] Booting worker with pid: 20\u001b[0m\n",
      "\u001b[34m[2021-07-22 04:26:40 +0000] [21] [INFO] Booting worker with pid: 21\u001b[0m\n",
      "\u001b[34m[2021-07-22 04:26:40 +0000] [22] [INFO] Booting worker with pid: 22\u001b[0m\n",
      "\u001b[34m[2021-07-22 04:26:40 +0000] [23] [INFO] Booting worker with pid: 23\u001b[0m\n",
      "\u001b[34m/opt/amazon/lib/python3.7/site-packages/gunicorn/workers/ggevent.py:65: MonkeyPatchWarning: Monkey-patching ssl after ssl has already been imported may lead to errors, including RecursionError on Python 3.6. It may also silently lead to incorrect behaviour on Python 3.7. Please monkey-patch earlier. See https://github.com/gevent/gevent/issues/1016. Modules that had direct imports (NOT patched): ['urllib3.util (/opt/amazon/lib/python3.7/site-packages/urllib3/util/__init__.py)', 'urllib3.util.ssl_ (/opt/amazon/lib/python3.7/site-packages/urllib3/util/ssl_.py)']. \n",
      "  monkey.patch_all(subprocess=True)\u001b[0m\n",
      "\u001b[34m[2021-07-22:04:26:40:INFO] Model loaded successfully for worker : 22\u001b[0m\n",
      "\u001b[34m/opt/amazon/lib/python3.7/site-packages/gunicorn/workers/ggevent.py:65: MonkeyPatchWarning: Monkey-patching ssl after ssl has already been imported may lead to errors, including RecursionError on Python 3.6. It may also silently lead to incorrect behaviour on Python 3.7. Please monkey-patch earlier. See https://github.com/gevent/gevent/issues/1016. Modules that had direct imports (NOT patched): ['urllib3.util (/opt/amazon/lib/python3.7/site-packages/urllib3/util/__init__.py)', 'urllib3.util.ssl_ (/opt/amazon/lib/python3.7/site-packages/urllib3/util/ssl_.py)']. \n",
      "  monkey.patch_all(subprocess=True)\u001b[0m\n",
      "\u001b[34m/opt/amazon/lib/python3.7/site-packages/gunicorn/workers/ggevent.py:65: MonkeyPatchWarning: Monkey-patching ssl after ssl has already been imported may lead to errors, including RecursionError on Python 3.6. It may also silently lead to incorrect behaviour on Python 3.7. Please monkey-patch earlier. See https://github.com/gevent/gevent/issues/1016. Modules that had direct imports (NOT patched): ['urllib3.util (/opt/amazon/lib/python3.7/site-packages/urllib3/util/__init__.py)', 'urllib3.util.ssl_ (/opt/amazon/lib/python3.7/site-packages/urllib3/util/ssl_.py)']. \n",
      "  monkey.patch_all(subprocess=True)\u001b[0m\n",
      "\u001b[34m[2021-07-22:04:26:40:INFO] Model loaded successfully for worker : 20\u001b[0m\n",
      "\u001b[34m[2021-07-22:04:26:40:INFO] Model loaded successfully for worker : 21\u001b[0m\n",
      "\u001b[34m/opt/amazon/lib/python3.7/site-packages/gunicorn/workers/ggevent.py:65: MonkeyPatchWarning: Monkey-patching ssl after ssl has already been imported may lead to errors, including RecursionError on Python 3.6. It may also silently lead to incorrect behaviour on Python 3.7. Please monkey-patch earlier. See https://github.com/gevent/gevent/issues/1016. Modules that had direct imports (NOT patched): ['urllib3.util (/opt/amazon/lib/python3.7/site-packages/urllib3/util/__init__.py)', 'urllib3.util.ssl_ (/opt/amazon/lib/python3.7/site-packages/urllib3/util/ssl_.py)']. \n",
      "  monkey.patch_all(subprocess=True)\u001b[0m\n",
      "\u001b[34m[2021-07-22:04:26:40:INFO] Model loaded successfully for worker : 23\u001b[0m\n",
      "\u001b[32m2021-07-22T04:26:44.892:[sagemaker logs]: MaxConcurrentTransforms=4, MaxPayloadInMB=6, BatchStrategy=MULTI_RECORD\u001b[0m\n",
      "\u001b[34m[2021-07-22:04:26:48:INFO] Sniff delimiter as ','\u001b[0m\n",
      "\u001b[34m[2021-07-22:04:26:48:INFO] Determined delimiter of CSV input is ','\u001b[0m\n",
      "\u001b[34m[2021-07-22:04:26:48:INFO] Sniff delimiter as ','\u001b[0m\n",
      "\u001b[34m[2021-07-22:04:26:48:INFO] Determined delimiter of CSV input is ','\u001b[0m\n",
      "\u001b[35m[2021-07-22:04:26:48:INFO] Sniff delimiter as ','\u001b[0m\n",
      "\u001b[35m[2021-07-22:04:26:48:INFO] Determined delimiter of CSV input is ','\u001b[0m\n",
      "\u001b[35m[2021-07-22:04:26:48:INFO] Sniff delimiter as ','\u001b[0m\n",
      "\u001b[35m[2021-07-22:04:26:48:INFO] Determined delimiter of CSV input is ','\u001b[0m\n",
      "\u001b[34m[2021-07-22:04:26:48:INFO] Sniff delimiter as ','\u001b[0m\n",
      "\u001b[34m[2021-07-22:04:26:48:INFO] Determined delimiter of CSV input is ','\u001b[0m\n",
      "\u001b[35m[2021-07-22:04:26:48:INFO] Sniff delimiter as ','\u001b[0m\n",
      "\u001b[35m[2021-07-22:04:26:48:INFO] Determined delimiter of CSV input is ','\u001b[0m\n",
      "\u001b[34m[2021-07-22:04:26:48:INFO] Sniff delimiter as ','\u001b[0m\n",
      "\u001b[34m[2021-07-22:04:26:48:INFO] Determined delimiter of CSV input is ','\u001b[0m\n",
      "\u001b[35m[2021-07-22:04:26:48:INFO] Sniff delimiter as ','\u001b[0m\n",
      "\u001b[35m[2021-07-22:04:26:48:INFO] Determined delimiter of CSV input is ','\u001b[0m\n",
      "\u001b[34m[2021-07-22:04:26:52:INFO] Sniff delimiter as ','\u001b[0m\n",
      "\u001b[34m[2021-07-22:04:26:52:INFO] Determined delimiter of CSV input is ','\u001b[0m\n",
      "\u001b[34m[2021-07-22:04:26:52:INFO] Sniff delimiter as ','\u001b[0m\n",
      "\u001b[34m[2021-07-22:04:26:52:INFO] Determined delimiter of CSV input is ','\u001b[0m\n",
      "\u001b[34m[2021-07-22:04:26:52:INFO] Sniff delimiter as ','\u001b[0m\n",
      "\u001b[34m[2021-07-22:04:26:52:INFO] Determined delimiter of CSV input is ','\u001b[0m\n",
      "\u001b[35m[2021-07-22:04:26:52:INFO] Sniff delimiter as ','\u001b[0m\n",
      "\u001b[35m[2021-07-22:04:26:52:INFO] Determined delimiter of CSV input is ','\u001b[0m\n",
      "\u001b[35m[2021-07-22:04:26:52:INFO] Sniff delimiter as ','\u001b[0m\n",
      "\u001b[35m[2021-07-22:04:26:52:INFO] Determined delimiter of CSV input is ','\u001b[0m\n",
      "\u001b[35m[2021-07-22:04:26:52:INFO] Sniff delimiter as ','\u001b[0m\n",
      "\u001b[35m[2021-07-22:04:26:52:INFO] Determined delimiter of CSV input is ','\u001b[0m\n",
      "\u001b[34m[2021-07-22:04:26:55:INFO] Sniff delimiter as ','\u001b[0m\n",
      "\u001b[34m[2021-07-22:04:26:55:INFO] Determined delimiter of CSV input is ','\u001b[0m\n",
      "\u001b[34m[2021-07-22:04:26:55:INFO] Sniff delimiter as ','\u001b[0m\n",
      "\u001b[34m[2021-07-22:04:26:55:INFO] Determined delimiter of CSV input is ','\u001b[0m\n",
      "\u001b[35m[2021-07-22:04:26:55:INFO] Sniff delimiter as ','\u001b[0m\n",
      "\u001b[35m[2021-07-22:04:26:55:INFO] Determined delimiter of CSV input is ','\u001b[0m\n",
      "\u001b[35m[2021-07-22:04:26:55:INFO] Sniff delimiter as ','\u001b[0m\n",
      "\u001b[35m[2021-07-22:04:26:55:INFO] Determined delimiter of CSV input is ','\u001b[0m\n",
      "\u001b[34m[2021-07-22:04:26:57:INFO] Sniff delimiter as ','\u001b[0m\n",
      "\u001b[34m[2021-07-22:04:26:57:INFO] Determined delimiter of CSV input is ','\u001b[0m\n",
      "\u001b[35m[2021-07-22:04:26:57:INFO] Sniff delimiter as ','\u001b[0m\n",
      "\u001b[35m[2021-07-22:04:26:57:INFO] Determined delimiter of CSV input is ','\u001b[0m\n",
      "\u001b[34m[2021-07-22:04:26:57:INFO] Sniff delimiter as ','\u001b[0m\n",
      "\u001b[34m[2021-07-22:04:26:57:INFO] Determined delimiter of CSV input is ','\u001b[0m\n",
      "\u001b[35m[2021-07-22:04:26:57:INFO] Sniff delimiter as ','\u001b[0m\n",
      "\u001b[35m[2021-07-22:04:26:57:INFO] Determined delimiter of CSV input is ','\u001b[0m\n",
      "\u001b[34m[2021-07-22:04:27:01:INFO] Sniff delimiter as ','\u001b[0m\n",
      "\u001b[34m[2021-07-22:04:27:01:INFO] Determined delimiter of CSV input is ','\u001b[0m\n",
      "\u001b[34m[2021-07-22:04:27:01:INFO] Sniff delimiter as ','\u001b[0m\n",
      "\u001b[34m[2021-07-22:04:27:01:INFO] Determined delimiter of CSV input is ','\u001b[0m\n",
      "\u001b[34m[2021-07-22:04:27:01:INFO] Sniff delimiter as ','\u001b[0m\n",
      "\u001b[34m[2021-07-22:04:27:01:INFO] Determined delimiter of CSV input is ','\u001b[0m\n",
      "\u001b[34m[2021-07-22:04:27:01:INFO] Sniff delimiter as ','\u001b[0m\n",
      "\u001b[34m[2021-07-22:04:27:01:INFO] Determined delimiter of CSV input is ','\u001b[0m\n",
      "\u001b[35m[2021-07-22:04:27:01:INFO] Sniff delimiter as ','\u001b[0m\n",
      "\u001b[35m[2021-07-22:04:27:01:INFO] Determined delimiter of CSV input is ','\u001b[0m\n",
      "\u001b[35m[2021-07-22:04:27:01:INFO] Sniff delimiter as ','\u001b[0m\n",
      "\u001b[35m[2021-07-22:04:27:01:INFO] Determined delimiter of CSV input is ','\u001b[0m\n",
      "\u001b[35m[2021-07-22:04:27:01:INFO] Sniff delimiter as ','\u001b[0m\n",
      "\u001b[35m[2021-07-22:04:27:01:INFO] Determined delimiter of CSV input is ','\u001b[0m\n",
      "\u001b[35m[2021-07-22:04:27:01:INFO] Sniff delimiter as ','\u001b[0m\n",
      "\u001b[35m[2021-07-22:04:27:01:INFO] Determined delimiter of CSV input is ','\u001b[0m\n",
      "\u001b[34m[2021-07-22:04:27:05:INFO] Sniff delimiter as ','\u001b[0m\n",
      "\u001b[34m[2021-07-22:04:27:05:INFO] Determined delimiter of CSV input is ','\u001b[0m\n",
      "\u001b[34m[2021-07-22:04:27:05:INFO] Sniff delimiter as ','\u001b[0m\n",
      "\u001b[34m[2021-07-22:04:27:05:INFO] Determined delimiter of CSV input is ','\u001b[0m\n",
      "\u001b[34m[2021-07-22:04:27:05:INFO] Sniff delimiter as ','\u001b[0m\n",
      "\u001b[35m[2021-07-22:04:27:05:INFO] Sniff delimiter as ','\u001b[0m\n",
      "\u001b[35m[2021-07-22:04:27:05:INFO] Determined delimiter of CSV input is ','\u001b[0m\n",
      "\u001b[35m[2021-07-22:04:27:05:INFO] Sniff delimiter as ','\u001b[0m\n",
      "\u001b[35m[2021-07-22:04:27:05:INFO] Determined delimiter of CSV input is ','\u001b[0m\n",
      "\u001b[35m[2021-07-22:04:27:05:INFO] Sniff delimiter as ','\u001b[0m\n",
      "\u001b[34m[2021-07-22:04:27:05:INFO] Determined delimiter of CSV input is ','\u001b[0m\n",
      "\u001b[34m[2021-07-22:04:27:05:INFO] Sniff delimiter as ','\u001b[0m\n",
      "\u001b[34m[2021-07-22:04:27:05:INFO] Determined delimiter of CSV input is ','\u001b[0m\n",
      "\u001b[35m[2021-07-22:04:27:05:INFO] Determined delimiter of CSV input is ','\u001b[0m\n",
      "\u001b[35m[2021-07-22:04:27:05:INFO] Sniff delimiter as ','\u001b[0m\n",
      "\u001b[35m[2021-07-22:04:27:05:INFO] Determined delimiter of CSV input is ','\u001b[0m\n",
      "\u001b[34m[2021-07-22:04:27:09:INFO] Sniff delimiter as ','\u001b[0m\n",
      "\u001b[34m[2021-07-22:04:27:09:INFO] Determined delimiter of CSV input is ','\u001b[0m\n",
      "\u001b[34m[2021-07-22:04:27:09:INFO] Sniff delimiter as ','\u001b[0m\n",
      "\u001b[34m[2021-07-22:04:27:09:INFO] Determined delimiter of CSV input is ','\u001b[0m\n",
      "\u001b[34m[2021-07-22:04:27:09:INFO] Sniff delimiter as ','\u001b[0m\n",
      "\u001b[34m[2021-07-22:04:27:09:INFO] Determined delimiter of CSV input is ','\u001b[0m\n",
      "\u001b[34m[2021-07-22:04:27:09:INFO] Sniff delimiter as ','\u001b[0m\n",
      "\u001b[34m[2021-07-22:04:27:09:INFO] Determined delimiter of CSV input is ','\u001b[0m\n",
      "\u001b[35m[2021-07-22:04:27:09:INFO] Sniff delimiter as ','\u001b[0m\n",
      "\u001b[35m[2021-07-22:04:27:09:INFO] Determined delimiter of CSV input is ','\u001b[0m\n",
      "\u001b[35m[2021-07-22:04:27:09:INFO] Sniff delimiter as ','\u001b[0m\n",
      "\u001b[35m[2021-07-22:04:27:09:INFO] Determined delimiter of CSV input is ','\u001b[0m\n",
      "\u001b[35m[2021-07-22:04:27:09:INFO] Sniff delimiter as ','\u001b[0m\n",
      "\u001b[35m[2021-07-22:04:27:09:INFO] Determined delimiter of CSV input is ','\u001b[0m\n",
      "\u001b[35m[2021-07-22:04:27:09:INFO] Sniff delimiter as ','\u001b[0m\n",
      "\u001b[35m[2021-07-22:04:27:09:INFO] Determined delimiter of CSV input is ','\u001b[0m\n",
      "\u001b[34m[2021-07-22:04:27:17:INFO] Sniff delimiter as ','\u001b[0m\n",
      "\u001b[34m[2021-07-22:04:27:17:INFO] Determined delimiter of CSV input is ','\u001b[0m\n",
      "\u001b[34m[2021-07-22:04:27:17:INFO] Sniff delimiter as ','\u001b[0m\n",
      "\u001b[34m[2021-07-22:04:27:17:INFO] Determined delimiter of CSV input is ','\u001b[0m\n",
      "\u001b[34m[2021-07-22:04:27:17:INFO] Sniff delimiter as ','\u001b[0m\n",
      "\u001b[34m[2021-07-22:04:27:17:INFO] Determined delimiter of CSV input is ','\u001b[0m\n",
      "\u001b[34m[2021-07-22:04:27:17:INFO] Sniff delimiter as ','\u001b[0m\n",
      "\u001b[34m[2021-07-22:04:27:17:INFO] Determined delimiter of CSV input is ','\u001b[0m\n",
      "\u001b[35m[2021-07-22:04:27:17:INFO] Sniff delimiter as ','\u001b[0m\n",
      "\u001b[35m[2021-07-22:04:27:17:INFO] Determined delimiter of CSV input is ','\u001b[0m\n",
      "\u001b[35m[2021-07-22:04:27:17:INFO] Sniff delimiter as ','\u001b[0m\n",
      "\u001b[35m[2021-07-22:04:27:17:INFO] Determined delimiter of CSV input is ','\u001b[0m\n",
      "\u001b[35m[2021-07-22:04:27:17:INFO] Sniff delimiter as ','\u001b[0m\n",
      "\u001b[35m[2021-07-22:04:27:17:INFO] Determined delimiter of CSV input is ','\u001b[0m\n",
      "\u001b[35m[2021-07-22:04:27:17:INFO] Sniff delimiter as ','\u001b[0m\n",
      "\u001b[35m[2021-07-22:04:27:17:INFO] Determined delimiter of CSV input is ','\u001b[0m\n",
      "\u001b[34m[2021-07-22:04:27:25:INFO] Sniff delimiter as ','\u001b[0m\n",
      "\u001b[34m[2021-07-22:04:27:25:INFO] Determined delimiter of CSV input is ','\u001b[0m\n",
      "\u001b[34m[2021-07-22:04:27:25:INFO] Sniff delimiter as ','\u001b[0m\n",
      "\u001b[34m[2021-07-22:04:27:25:INFO] Determined delimiter of CSV input is ','\u001b[0m\n",
      "\u001b[35m[2021-07-22:04:27:25:INFO] Sniff delimiter as ','\u001b[0m\n",
      "\u001b[35m[2021-07-22:04:27:25:INFO] Determined delimiter of CSV input is ','\u001b[0m\n",
      "\u001b[35m[2021-07-22:04:27:25:INFO] Sniff delimiter as ','\u001b[0m\n",
      "\u001b[35m[2021-07-22:04:27:25:INFO] Determined delimiter of CSV input is ','\u001b[0m\n",
      "\u001b[34m[2021-07-22:04:27:25:INFO] Sniff delimiter as ','\u001b[0m\n",
      "\u001b[34m[2021-07-22:04:27:25:INFO] Determined delimiter of CSV input is ','\u001b[0m\n",
      "\u001b[35m[2021-07-22:04:27:25:INFO] Sniff delimiter as ','\u001b[0m\n",
      "\u001b[35m[2021-07-22:04:27:25:INFO] Determined delimiter of CSV input is ','\u001b[0m\n",
      "\n"
     ]
    }
   ],
   "source": [
    "xgb_transformer.wait()"
   ]
  },
  {
   "cell_type": "markdown",
   "metadata": {},
   "source": [
    "Now the transform job has executed and the result, the estimated sentiment of each review, has been saved on S3. Since we would rather work on this file locally we can perform a bit of notebook magic to copy the file to the `data_dir`."
   ]
  },
  {
   "cell_type": "code",
   "execution_count": 28,
   "metadata": {},
   "outputs": [
    {
     "name": "stdout",
     "output_type": "stream",
     "text": [
      "download: s3://sagemaker-us-east-1-263044292598/xgboost-2021-07-22-04-21-16-718/test.csv.out to ../data/sentiment_web_app/test.csv.out\r\n"
     ]
    }
   ],
   "source": [
    "!aws s3 cp --recursive $xgb_transformer.output_path $data_dir"
   ]
  },
  {
   "cell_type": "markdown",
   "metadata": {},
   "source": [
    "The last step is now to read in the output from our model, convert the output to something a little more usable, in this case we want the sentiment to be either `1` (positive) or `0` (negative), and then compare to the ground truth labels."
   ]
  },
  {
   "cell_type": "code",
   "execution_count": 29,
   "metadata": {},
   "outputs": [],
   "source": [
    "predictions = pd.read_csv(os.path.join(data_dir, 'test.csv.out'), header=None)\n",
    "predictions = [round(num) for num in predictions.squeeze().values]"
   ]
  },
  {
   "cell_type": "code",
   "execution_count": 30,
   "metadata": {},
   "outputs": [
    {
     "data": {
      "text/plain": [
       "0.86276"
      ]
     },
     "execution_count": 30,
     "metadata": {},
     "output_type": "execute_result"
    }
   ],
   "source": [
    "from sklearn.metrics import accuracy_score\n",
    "accuracy_score(test_y, predictions)"
   ]
  },
  {
   "cell_type": "markdown",
   "metadata": {},
   "source": [
    "## Step 6: Deploying the model\n",
    "\n",
    "Once we construct and fit our model, SageMaker stores the resulting model artifacts and we can use those to deploy an endpoint (inference code). To see this, look in the SageMaker console and you should see that a model has been created along with a link to the S3 location where the model artifacts have been stored.\n",
    "\n",
    "Deploying an endpoint is a lot like training the model with a few important differences. The first is that a deployed model doesn't change the model artifacts, so as you send it various testing instances the model won't change. Another difference is that since we aren't performing a fixed computation, as we were in the training step or while performing a batch transform, the compute instance that gets started stays running until we tell it to stop. This is important to note as if we forget and leave it running we will be charged the entire time.\n",
    "\n",
    "In other words **If you are no longer using a deployed endpoint, shut it down!**"
   ]
  },
  {
   "cell_type": "code",
   "execution_count": 31,
   "metadata": {},
   "outputs": [
    {
     "name": "stderr",
     "output_type": "stream",
     "text": [
      "Parameter image will be renamed to image_uri in SageMaker Python SDK v2.\n",
      "Using already existing model: xgboost-2021-07-22-04-12-05-540\n"
     ]
    },
    {
     "name": "stdout",
     "output_type": "stream",
     "text": [
      "-----------------!"
     ]
    }
   ],
   "source": [
    "xgb_predictor = xgb.deploy(initial_instance_count = 1, instance_type = 'ml.m4.xlarge')"
   ]
  },
  {
   "cell_type": "markdown",
   "metadata": {},
   "source": [
    "### Testing the model (again)\n",
    "\n",
    "Now that we have deployed our endpoint, we can send the testing data to it and get back the inference results. We already did this earlier using the batch transform functionality of SageMaker, however, we will test our model again using the newly deployed endpoint so that we can make sure that it works properly and to get a bit of a feel for how the endpoint works.\n",
    "\n",
    "When using the created endpoint it is important to know that we are limited in the amount of information we can send in each call so we need to break the testing data up into chunks and then send each chunk. Also, we need to serialize our data before we send it to the endpoint to ensure that our data is transmitted properly. Fortunately, SageMaker can do the serialization part for us provided we tell it the format of our data."
   ]
  },
  {
   "cell_type": "code",
   "execution_count": 32,
   "metadata": {},
   "outputs": [],
   "source": [
    "from sagemaker.predictor import csv_serializer\n",
    "\n",
    "# We need to tell the endpoint what format the data we are sending is in so that SageMaker can perform the serialization.\n",
    "xgb_predictor.content_type = 'text/csv'\n",
    "xgb_predictor.serializer = csv_serializer"
   ]
  },
  {
   "cell_type": "code",
   "execution_count": 33,
   "metadata": {},
   "outputs": [],
   "source": [
    "# We split the data into chunks and send each chunk seperately, accumulating the results.\n",
    "\n",
    "def predict(data, rows=512):\n",
    "    split_array = np.array_split(data, int(data.shape[0] / float(rows) + 1))\n",
    "    predictions = ''\n",
    "    for array in split_array:\n",
    "        predictions = ','.join([predictions, xgb_predictor.predict(array).decode('utf-8')])\n",
    "    \n",
    "    return np.fromstring(predictions[1:], sep=',')"
   ]
  },
  {
   "cell_type": "code",
   "execution_count": 34,
   "metadata": {},
   "outputs": [],
   "source": [
    "test_X = pd.read_csv(os.path.join(data_dir, 'test.csv'), header=None).values\n",
    "\n",
    "predictions = predict(test_X)\n",
    "predictions = [round(num) for num in predictions]"
   ]
  },
  {
   "cell_type": "markdown",
   "metadata": {},
   "source": [
    "Lastly, we check to see what the accuracy of our model is."
   ]
  },
  {
   "cell_type": "code",
   "execution_count": 35,
   "metadata": {},
   "outputs": [
    {
     "data": {
      "text/plain": [
       "0.86276"
      ]
     },
     "execution_count": 35,
     "metadata": {},
     "output_type": "execute_result"
    }
   ],
   "source": [
    "from sklearn.metrics import accuracy_score\n",
    "accuracy_score(test_y, predictions)"
   ]
  },
  {
   "cell_type": "markdown",
   "metadata": {},
   "source": [
    "And the results here should agree with the model testing that we did earlier using the batch transform job.\n",
    "\n",
    "### Cleaning up\n",
    "\n",
    "Now that we've determined that deploying our model works as expected, we are going to shut it down. Remember that the longer the endpoint is left running, the greater the cost and since we have a bit more work to do before we are able to use our endpoint with our simple web app, we should shut everything down."
   ]
  },
  {
   "cell_type": "code",
   "execution_count": 36,
   "metadata": {},
   "outputs": [],
   "source": [
    "xgb_predictor.delete_endpoint()"
   ]
  },
  {
   "cell_type": "markdown",
   "metadata": {},
   "source": [
    "## Step 7: Putting our model to work\n",
    "\n",
    "As we've mentioned a few times now, our goal is to have our model deployed and then access it using a very simple web app. The intent is for this web app to take some user submitted data (a review), send it off to our endpoint (the model) and then display the result.\n",
    "\n",
    "However, there is a small catch. Currently the only way we can access the endpoint to send it data is using the SageMaker API. We can, if we wish, expose the actual URL that our model's endpoint is receiving data from, however, if we just send it data ourselves we will not get anything in return. This is because the endpoint created by SageMaker requires the entity accessing it have the correct permissions. So, we would need to somehow authenticate our web app with AWS.\n",
    "\n",
    "Having a website that authenticates to AWS seems a bit beyond the scope of this lesson so we will opt for an alternative approach. Namely, we will create a new endpoint which does not require authentication and which acts as a proxy for the SageMaker endpoint.\n",
    "\n",
    "As an additional constraint, we will try to avoid doing any data processing in the web app itself. Remember that when we constructed and tested our model we started with a movie review, then we simplified it by removing any html formatting and punctuation, then we constructed a bag of words embedding and the resulting vector is what we sent to our model. All of this needs to be done to our user input as well.\n",
    "\n",
    "Fortunately we can do all of this data processing in the backend, using Amazon's Lambda service.\n",
    "\n",
    "<img src=\"Web App Diagram.svg\">\n",
    "\n",
    "The diagram above gives an overview of how the various services will work together. On the far right is the model which we trained above and which will be deployed using SageMaker. On the far left is our web app that collects a user's movie review, sends it off and expects a positive or negative sentiment in return.\n",
    "\n",
    "In the middle is where some of the magic happens. We will construct a Lambda function, which you can think of as a straightforward Python function that can be executed whenever a specified event occurs. This Python function will do the data processing we need to perform on a user submitted review. In addition, we will give this function permission to send and recieve data from a SageMaker endpoint.\n",
    "\n",
    "Lastly, the method we will use to execute the Lambda function is a new endpoint that we will create using API Gateway. This endpoint will be a url that listens for data to be sent to it. Once it gets some data it will pass that data on to the Lambda function and then return whatever the Lambda function returns. Essentially it will act as an interface that lets our web app communicate with the Lambda function.\n",
    "\n",
    "### Processing a single review\n",
    "\n",
    "For now, suppose we are given a movie review by our user in the form of a string, like so:"
   ]
  },
  {
   "cell_type": "code",
   "execution_count": 37,
   "metadata": {},
   "outputs": [],
   "source": [
    "test_review = \"Nothing but a disgusting materialistic pageant of glistening abed remote control greed zombies, totally devoid of any heart or heat. A romantic comedy that has zero romantic chemestry and zero laughs!\""
   ]
  },
  {
   "cell_type": "markdown",
   "metadata": {},
   "source": [
    "How do we go from this string to the bag of words feature vector that is expected by our model?\n",
    "\n",
    "If we recall at the beginning of this notebook, the first step is to remove any unnecessary characters using the `review_to_words` method. Remember that we intentionally did this in a very simplistic way. This is because we are going to have to copy this method to our (eventual) Lambda function (we will go into more detail later) and this means it needs to be rather simplistic."
   ]
  },
  {
   "cell_type": "code",
   "execution_count": 38,
   "metadata": {},
   "outputs": [
    {
     "name": "stdout",
     "output_type": "stream",
     "text": [
      "nothing but a disgusting materialistic pageant of glistening abed remote control greed zombies totally devoid of any heart or heat a romantic comedy that has zero romantic chemestry and zero laughs\n"
     ]
    }
   ],
   "source": [
    "test_words = review_to_words(test_review)\n",
    "print(test_words)"
   ]
  },
  {
   "cell_type": "markdown",
   "metadata": {},
   "source": [
    "Next, we need to construct a bag of words embedding of the `test_words` string. To do this, remember that a bag of words embedding uses a `vocabulary` consisting of the most frequently appearing words in a set of documents. Then, for each word in the vocabulary we record the number of times that word appears in `test_words`. We constructed the `vocabulary` earlier using the training set for our problem so encoding `test_words` is relatively straightforward."
   ]
  },
  {
   "cell_type": "code",
   "execution_count": 39,
   "metadata": {},
   "outputs": [],
   "source": [
    "def bow_encoding(words, vocabulary):\n",
    "    bow = [0] * len(vocabulary) # Start by setting the count for each word in the vocabulary to zero.\n",
    "    for word in words.split():  # For each word in the string\n",
    "        if word in vocabulary:  # If the word is one that occurs in the vocabulary, increase its count.\n",
    "            bow[vocabulary[word]] += 1\n",
    "    return bow"
   ]
  },
  {
   "cell_type": "code",
   "execution_count": 40,
   "metadata": {},
   "outputs": [
    {
     "name": "stdout",
     "output_type": "stream",
     "text": [
      "[0, 0, 0, 0, 0, 0, 0, 0, 0, 0, 0, 0, 0, 0, 0, 0, 0, 0, 0, 0, 0, 0, 0, 0, 0, 0, 0, 0, 0, 0, 0, 0, 0, 0, 0, 0, 0, 0, 0, 0, 0, 0, 0, 0, 0, 0, 0, 0, 0, 0, 0, 0, 0, 0, 0, 0, 0, 0, 0, 0, 0, 0, 0, 0, 0, 0, 0, 0, 0, 0, 0, 0, 0, 0, 0, 0, 0, 0, 0, 0, 0, 0, 0, 0, 0, 0, 0, 0, 0, 0, 0, 0, 0, 0, 0, 0, 0, 0, 0, 0, 0, 0, 0, 0, 0, 0, 0, 0, 0, 0, 0, 0, 0, 0, 0, 0, 0, 0, 0, 0, 0, 0, 0, 0, 0, 0, 0, 0, 0, 0, 0, 0, 0, 0, 0, 0, 0, 0, 0, 0, 0, 0, 0, 0, 0, 0, 0, 0, 0, 0, 0, 0, 0, 0, 0, 0, 0, 0, 0, 0, 0, 0, 0, 0, 0, 0, 0, 0, 0, 0, 0, 0, 0, 0, 0, 0, 0, 0, 0, 0, 0, 0, 0, 0, 0, 0, 0, 0, 0, 0, 0, 0, 0, 0, 0, 0, 0, 0, 0, 0, 0, 0, 0, 0, 0, 0, 0, 0, 0, 0, 0, 0, 0, 0, 0, 0, 0, 0, 0, 0, 0, 0, 0, 0, 0, 0, 1, 0, 0, 0, 0, 0, 0, 0, 0, 0, 0, 0, 0, 0, 0, 0, 0, 0, 0, 0, 0, 0, 0, 0, 0, 0, 0, 0, 0, 0, 1, 0, 0, 0, 0, 0, 0, 0, 0, 0, 0, 0, 0, 0, 0, 0, 0, 0, 0, 0, 0, 0, 0, 0, 0, 0, 0, 0, 0, 0, 0, 0, 0, 0, 0, 0, 0, 0, 0, 0, 0, 0, 0, 0, 0, 0, 0, 0, 0, 0, 0, 0, 0, 0, 0, 0, 0, 0, 0, 0, 0, 0, 0, 0, 0, 0, 0, 0, 0, 0, 0, 0, 0, 0, 0, 0, 0, 0, 0, 0, 0, 0, 0, 0, 0, 0, 0, 0, 0, 0, 0, 0, 0, 0, 0, 0, 0, 0, 0, 0, 0, 0, 0, 0, 0, 0, 0, 0, 0, 0, 0, 0, 0, 0, 0, 0, 0, 0, 0, 0, 0, 0, 0, 0, 0, 0, 0, 0, 0, 0, 0, 0, 0, 0, 0, 0, 0, 0, 0, 0, 0, 0, 0, 0, 0, 0, 0, 0, 0, 0, 0, 0, 0, 0, 0, 0, 0, 0, 0, 0, 0, 0, 0, 0, 0, 0, 0, 0, 0, 0, 0, 0, 0, 0, 0, 0, 0, 0, 0, 0, 0, 0, 0, 0, 0, 0, 0, 0, 0, 0, 0, 0, 0, 0, 0, 0, 0, 0, 0, 0, 0, 0, 0, 0, 0, 0, 0, 0, 0, 0, 0, 0, 0, 0, 0, 0, 0, 0, 0, 0, 0, 0, 0, 0, 0, 0, 0, 0, 0, 0, 0, 0, 0, 0, 0, 0, 0, 0, 0, 0, 0, 0, 0, 0, 0, 0, 0, 0, 0, 0, 0, 0, 0, 0, 0, 0, 0, 0, 0, 0, 0, 0, 0, 0, 0, 0, 0, 0, 0, 0, 0, 0, 0, 0, 0, 0, 0, 0, 0, 0, 0, 0, 0, 0, 0, 0, 0, 0, 0, 0, 0, 0, 0, 0, 0, 0, 0, 0, 0, 0, 0, 0, 0, 0, 0, 0, 0, 0, 0, 0, 0, 0, 0, 0, 0, 0, 0, 0, 0, 0, 0, 0, 0, 0, 0, 0, 0, 0, 0, 0, 0, 0, 0, 0, 0, 0, 0, 0, 0, 0, 0, 0, 0, 0, 0, 0, 0, 0, 0, 0, 0, 0, 0, 0, 0, 0, 0, 0, 0, 0, 0, 0, 0, 0, 0, 0, 0, 0, 0, 0, 0, 0, 0, 0, 0, 0, 0, 0, 0, 0, 1, 0, 0, 0, 0, 0, 0, 0, 0, 0, 0, 0, 0, 0, 0, 0, 0, 0, 0, 0, 0, 0, 0, 0, 0, 0, 0, 0, 0, 0, 0, 0, 0, 0, 0, 0, 0, 0, 0, 0, 0, 0, 0, 0, 0, 0, 0, 0, 0, 0, 0, 0, 0, 0, 0, 0, 0, 0, 0, 0, 0, 0, 0, 0, 0, 0, 0, 0, 0, 0, 0, 0, 0, 0, 0, 0, 0, 0, 0, 0, 0, 0, 0, 0, 0, 0, 0, 0, 0, 0, 0, 0, 0, 0, 0, 0, 0, 0, 0, 0, 0, 0, 0, 0, 0, 0, 0, 0, 0, 0, 0, 0, 0, 0, 0, 0, 0, 0, 0, 0, 0, 0, 0, 0, 0, 0, 0, 0, 0, 0, 0, 0, 0, 0, 0, 0, 0, 0, 0, 0, 0, 0, 0, 0, 0, 0, 0, 0, 0, 0, 0, 0, 0, 0, 0, 0, 0, 0, 0, 0, 0, 0, 0, 0, 0, 0, 0, 0, 0, 0, 0, 0, 0, 0, 0, 0, 0, 0, 0, 0, 0, 0, 0, 0, 0, 0, 0, 0, 0, 0, 0, 0, 0, 0, 0, 0, 0, 0, 0, 0, 0, 0, 0, 0, 0, 0, 0, 0, 0, 0, 0, 0, 0, 0, 0, 0, 0, 0, 0, 0, 0, 0, 0, 0, 0, 0, 0, 0, 0, 0, 0, 0, 0, 0, 0, 0, 0, 0, 0, 0, 0, 0, 0, 0, 0, 0, 0, 0, 0, 0, 0, 0, 0, 0, 1, 0, 0, 0, 0, 0, 0, 0, 0, 0, 0, 0, 0, 0, 0, 0, 0, 0, 0, 0, 0, 0, 0, 0, 0, 0, 0, 0, 0, 0, 0, 0, 0, 0, 0, 0, 0, 0, 0, 0, 0, 0, 0, 0, 0, 0, 0, 0, 0, 0, 0, 0, 0, 0, 0, 0, 0, 0, 0, 0, 0, 0, 0, 0, 0, 0, 0, 0, 0, 0, 0, 0, 0, 0, 0, 0, 0, 0, 0, 0, 0, 0, 0, 0, 0, 0, 0, 1, 0, 0, 0, 0, 0, 0, 0, 0, 0, 0, 0, 0, 0, 0, 0, 0, 0, 0, 0, 0, 0, 0, 0, 0, 0, 0, 0, 0, 0, 0, 0, 0, 0, 0, 0, 0, 0, 0, 0, 0, 0, 0, 0, 0, 0, 0, 0, 0, 0, 0, 0, 0, 0, 0, 0, 0, 0, 0, 0, 0, 0, 0, 0, 0, 0, 0, 0, 0, 0, 0, 0, 0, 0, 0, 0, 0, 0, 0, 0, 0, 0, 0, 0, 0, 0, 0, 0, 0, 0, 0, 0, 0, 0, 0, 0, 0, 0, 0, 0, 0, 0, 0, 0, 0, 0, 0, 0, 0, 0, 0, 0, 0, 0, 0, 0, 0, 0, 0, 0, 0, 0, 0, 0, 0, 0, 0, 0, 0, 0, 0, 0, 0, 0, 0, 0, 0, 0, 0, 0, 0, 0, 0, 0, 0, 0, 0, 0, 0, 0, 0, 0, 0, 0, 0, 0, 0, 0, 0, 0, 0, 0, 0, 0, 0, 0, 0, 0, 0, 0, 0, 0, 0, 0, 0, 0, 0, 0, 0, 0, 0, 0, 0, 0, 0, 0, 0, 0, 0, 0, 0, 0, 0, 0, 0, 0, 0, 0, 0, 0, 0, 0, 0, 0, 0, 0, 0, 0, 0, 0, 0, 0, 0, 0, 0, 0, 0, 0, 0, 0, 0, 0, 0, 0, 0, 0, 0, 0, 0, 0, 0, 0, 0, 0, 0, 0, 0, 0, 0, 0, 0, 0, 0, 0, 0, 0, 0, 0, 0, 0, 0, 0, 0, 1, 0, 0, 0, 0, 0, 0, 0, 0, 0, 0, 0, 0, 0, 0, 0, 0, 0, 0, 0, 0, 0, 0, 0, 0, 0, 0, 0, 0, 0, 0, 0, 0, 0, 0, 0, 0, 0, 0, 0, 0, 0, 0, 0, 0, 0, 0, 0, 0, 0, 0, 0, 0, 0, 0, 0, 1, 0, 0, 0, 0, 0, 0, 0, 0, 0, 0, 0, 0, 0, 0, 0, 0, 0, 0, 0, 0, 0, 0, 0, 0, 0, 0, 0, 0, 0, 0, 0, 0, 0, 0, 0, 0, 0, 0, 0, 0, 0, 0, 0, 0, 0, 0, 0, 0, 0, 0, 0, 0, 0, 0, 0, 0, 0, 0, 0, 0, 0, 0, 0, 0, 0, 0, 0, 0, 0, 0, 0, 0, 0, 0, 0, 0, 0, 0, 0, 0, 0, 0, 0, 0, 0, 0, 0, 0, 0, 0, 0, 0, 0, 0, 0, 0, 0, 0, 0, 0, 0, 0, 0, 0, 0, 0, 0, 0, 0, 0, 0, 0, 0, 0, 0, 0, 0, 0, 0, 0, 0, 0, 0, 0, 0, 0, 0, 0, 0, 0, 0, 0, 0, 0, 0, 0, 0, 0, 0, 0, 0, 0, 0, 0, 0, 0, 0, 0, 0, 0, 0, 0, 0, 0, 0, 0, 0, 0, 0, 0, 0, 0, 0, 0, 0, 0, 0, 0, 0, 0, 0, 0, 0, 0, 0, 0, 0, 0, 0, 0, 0, 0, 0, 0, 0, 0, 0, 0, 0, 0, 0, 0, 0, 0, 0, 0, 0, 0, 0, 0, 0, 0, 0, 0, 0, 0, 0, 0, 0, 0, 0, 0, 0, 0, 0, 0, 0, 0, 0, 0, 0, 0, 0, 0, 0, 0, 0, 0, 0, 0, 0, 0, 0, 0, 0, 0, 0, 0, 0, 0, 0, 0, 0, 0, 0, 0, 0, 0, 0, 0, 0, 0, 0, 0, 0, 0, 0, 0, 0, 0, 0, 0, 0, 0, 0, 0, 0, 0, 0, 0, 0, 0, 0, 0, 0, 0, 0, 0, 0, 0, 0, 0, 0, 0, 0, 0, 0, 0, 0, 0, 0, 0, 0, 0, 0, 0, 0, 0, 0, 0, 0, 0, 0, 0, 0, 0, 0, 0, 0, 0, 0, 0, 0, 0, 0, 0, 0, 0, 0, 0, 0, 0, 0, 0, 0, 0, 0, 0, 0, 0, 0, 0, 0, 0, 0, 0, 0, 0, 0, 0, 0, 0, 0, 0, 0, 0, 0, 0, 0, 0, 0, 0, 0, 0, 0, 0, 0, 0, 0, 0, 0, 0, 0, 0, 0, 0, 0, 0, 0, 0, 0, 0, 0, 0, 0, 0, 0, 0, 0, 0, 0, 0, 0, 0, 0, 0, 0, 0, 0, 0, 0, 0, 0, 0, 0, 0, 0, 0, 0, 0, 0, 0, 0, 0, 0, 0, 0, 0, 0, 0, 0, 0, 0, 0, 0, 0, 0, 0, 0, 0, 0, 0, 0, 0, 0, 0, 0, 0, 0, 0, 0, 0, 0, 0, 0, 0, 0, 0, 0, 0, 0, 0, 0, 0, 0, 0, 0, 0, 0, 0, 0, 0, 0, 0, 0, 0, 0, 0, 0, 0, 0, 0, 0, 0, 0, 0, 0, 0, 0, 0, 0, 0, 0, 0, 0, 0, 0, 0, 0, 0, 0, 0, 0, 0, 0, 0, 0, 0, 0, 0, 0, 0, 0, 0, 0, 0, 0, 0, 0, 0, 0, 0, 0, 0, 0, 0, 0, 0, 0, 0, 0, 0, 0, 0, 0, 0, 0, 0, 0, 0, 0, 0, 0, 0, 0, 0, 0, 0, 0, 0, 0, 0, 0, 0, 0, 0, 0, 0, 0, 0, 0, 0, 0, 0, 0, 0, 0, 0, 0, 0, 0, 0, 0, 0, 0, 0, 0, 0, 0, 0, 0, 0, 0, 0, 0, 0, 0, 0, 0, 0, 0, 0, 0, 0, 0, 0, 0, 0, 0, 0, 0, 0, 0, 0, 0, 0, 0, 0, 0, 0, 0, 0, 0, 0, 0, 0, 0, 0, 0, 0, 0, 0, 0, 0, 0, 0, 0, 0, 0, 0, 0, 0, 0, 0, 0, 0, 0, 0, 0, 0, 0, 0, 0, 0, 0, 0, 0, 0, 0, 0, 0, 0, 0, 0, 0, 0, 0, 0, 0, 0, 0, 0, 0, 0, 0, 0, 0, 0, 0, 0, 0, 0, 0, 0, 0, 0, 0, 0, 0, 0, 0, 0, 0, 0, 0, 0, 0, 0, 0, 0, 0, 0, 0, 0, 0, 0, 0, 0, 0, 0, 0, 1, 0, 0, 0, 0, 0, 0, 0, 0, 0, 0, 0, 0, 0, 0, 0, 0, 0, 0, 0, 0, 0, 0, 0, 0, 0, 0, 0, 0, 0, 0, 0, 0, 0, 0, 0, 0, 0, 0, 0, 0, 0, 0, 0, 0, 0, 0, 0, 0, 0, 0, 0, 0, 0, 0, 0, 0, 0, 0, 0, 0, 0, 0, 0, 0, 0, 0, 0, 0, 0, 0, 0, 0, 0, 0, 1, 0, 0, 0, 0, 0, 0, 0, 0, 0, 0, 0, 0, 0, 0, 0, 0, 0, 0, 0, 0, 1, 0, 0, 1, 0, 0, 0, 0, 0, 0, 0, 0, 0, 0, 0, 0, 0, 0, 0, 0, 0, 0, 0, 0, 0, 0, 0, 0, 0, 0, 0, 0, 0, 0, 0, 0, 0, 0, 0, 0, 0, 0, 0, 0, 0, 0, 0, 0, 0, 0, 0, 0, 0, 0, 0, 0, 0, 0, 0, 0, 0, 0, 0, 0, 0, 0, 0, 0, 0, 0, 0, 0, 0, 0, 0, 0, 0, 0, 0, 0, 0, 0, 0, 0, 0, 0, 0, 0, 0, 0, 0, 0, 0, 0, 0, 0, 0, 0, 0, 0, 0, 0, 0, 0, 0, 0, 0, 0, 0, 0, 0, 0, 0, 0, 0, 0, 0, 0, 0, 0, 0, 0, 0, 0, 0, 0, 0, 0, 0, 0, 0, 0, 0, 0, 0, 0, 0, 0, 0, 0, 0, 0, 0, 0, 0, 0, 0, 0, 0, 0, 0, 0, 0, 0, 0, 0, 0, 0, 0, 0, 0, 0, 0, 0, 0, 0, 0, 0, 0, 0, 0, 0, 0, 0, 0, 0, 0, 0, 0, 0, 0, 0, 0, 0, 0, 0, 0, 0, 0, 0, 0, 0, 0, 0, 0, 0, 0, 0, 0, 0, 0, 0, 0, 0, 0, 0, 0, 0, 0, 0, 0, 0, 0, 0, 0, 0, 0, 0, 0, 0, 0, 0, 0, 0, 0, 0, 0, 0, 0, 0, 0, 0, 0, 0, 0, 0, 0, 0, 0, 0, 0, 0, 0, 0, 0, 0, 0, 0, 0, 0, 0, 0, 0, 0, 0, 0, 0, 0, 0, 0, 0, 0, 0, 0, 0, 0, 0, 0, 0, 0, 0, 0, 0, 0, 0, 0, 0, 0, 0, 0, 0, 0, 0, 0, 0, 0, 0, 0, 0, 0, 0, 0, 0, 0, 0, 0, 0, 0, 0, 0, 0, 0, 0, 0, 0, 0, 0, 0, 0, 0, 0, 0, 0, 0, 0, 0, 0, 0, 0, 0, 0, 0, 0, 0, 0, 0, 0, 0, 0, 0, 0, 0, 0, 0, 0, 0, 0, 0, 0, 0, 0, 0, 0, 0, 0, 0, 0, 0, 0, 0, 0, 0, 0, 0, 0, 0, 0, 0, 0, 0, 0, 0, 0, 0, 0, 0, 0, 0, 0, 0, 0, 0, 0, 0, 0, 0, 0, 0, 0, 0, 0, 0, 0, 0, 0, 0, 0, 0, 0, 0, 0, 0, 0, 0, 0, 0, 0, 0, 0, 0, 0, 0, 0, 0, 0, 0, 0, 0, 0, 0, 0, 0, 0, 0, 0, 0, 0, 0, 0, 0, 0, 0, 0, 0, 0, 0, 0, 0, 0, 0, 0, 0, 0, 0, 0, 0, 0, 0, 0, 0, 0, 0, 0, 0, 0, 0, 0, 0, 0, 0, 0, 0, 0, 0, 0, 0, 0, 0, 0, 0, 0, 0, 0, 0, 0, 0, 0, 0, 0, 0, 1, 0, 0, 0, 0, 0, 0, 0, 0, 0, 0, 0, 0, 0, 0, 0, 0, 0, 0, 0, 0, 0, 0, 0, 0, 0, 0, 0, 0, 0, 0, 0, 0, 0, 0, 0, 0, 0, 0, 0, 0, 0, 0, 0, 0, 0, 0, 0, 0, 0, 0, 0, 0, 0, 0, 0, 0, 0, 0, 0, 0, 0, 0, 0, 0, 0, 0, 0, 0, 0, 0, 0, 0, 0, 0, 0, 0, 0, 0, 0, 0, 0, 0, 0, 0, 0, 0, 0, 0, 0, 0, 0, 0, 0, 0, 0, 0, 0, 0, 0, 0, 0, 0, 0, 0, 0, 0, 0, 0, 0, 0, 0, 0, 0, 0, 0, 0, 0, 0, 0, 0, 0, 0, 0, 0, 0, 0, 0, 0, 0, 0, 0, 0, 0, 0, 0, 0, 0, 0, 0, 0, 0, 0, 0, 0, 0, 0, 0, 0, 0, 0, 0, 0, 0, 0, 0, 0, 0, 0, 0, 0, 0, 0, 0, 0, 0, 0, 0, 0, 0, 0, 0, 0, 0, 0, 0, 0, 0, 0, 0, 0, 0, 0, 0, 0, 0, 0, 0, 0, 0, 0, 0, 0, 0, 0, 0, 0, 0, 0, 0, 0, 0, 0, 0, 0, 0, 0, 0, 0, 0, 0, 0, 0, 0, 0, 0, 0, 0, 0, 0, 0, 0, 0, 0, 0, 0, 0, 0, 0, 0, 0, 0, 0, 0, 0, 0, 0, 0, 0, 0, 0, 0, 0, 0, 0, 0, 0, 0, 0, 0, 0, 0, 0, 0, 0, 0, 0, 0, 0, 0, 0, 0, 0, 0, 0, 0, 0, 0, 0, 0, 0, 0, 0, 0, 0, 0, 0, 0, 0, 0, 0, 0, 0, 0, 0, 0, 0, 0, 0, 0, 0, 0, 0, 0, 0, 0, 0, 0, 0, 0, 0, 0, 0, 0, 0, 0, 0, 0, 0, 0, 0, 0, 0, 0, 0, 0, 0, 0, 0, 0, 0, 0, 0, 0, 0, 0, 0, 0, 0, 0, 0, 0, 0, 0, 0, 0, 0, 0, 0, 0, 0, 0, 0, 0, 0, 0, 0, 0, 0, 0, 0, 0, 0, 0, 0, 0, 0, 0, 0, 0, 0, 0, 0, 0, 0, 0, 0, 0, 0, 0, 0, 0, 0, 0, 0, 0, 0, 0, 0, 0, 0, 0, 0, 0, 0, 0, 0, 0, 0, 0, 0, 0, 0, 0, 0, 0, 0, 0, 0, 0, 0, 0, 0, 0, 0, 0, 0, 0, 0, 0, 0, 0, 0, 0, 0, 0, 0, 0, 0, 0, 0, 0, 0, 0, 0, 0, 0, 0, 0, 0, 0, 0, 0, 0, 0, 0, 0, 0, 0, 0, 0, 0, 0, 0, 0, 0, 0, 0, 0, 0, 0, 0, 0, 0, 0, 0, 0, 0, 0, 0, 0, 0, 0, 0, 0, 0, 0, 0, 0, 0, 0, 0, 0, 0, 0, 0, 0, 0, 0, 0, 0, 0, 0, 0, 0, 0, 0, 0, 0, 0, 0, 0, 0, 0, 0, 0, 0, 0, 0, 0, 0, 0, 0, 0, 0, 0, 0, 0, 0, 0, 0, 0, 0, 1, 0, 0, 0, 0, 0, 0, 0, 0, 0, 0, 0, 0, 0, 0, 0, 0, 0, 0, 0, 0, 0, 0, 0, 0, 0, 0, 0, 0, 0, 0, 0, 0, 0, 0, 0, 2, 0, 0, 0, 0, 0, 0, 0, 0, 0, 0, 0, 0, 0, 0, 0, 0, 0, 0, 0, 0, 0, 0, 0, 0, 0, 0, 0, 0, 0, 0, 0, 0, 0, 0, 0, 0, 0, 0, 0, 0, 1, 0, 0, 0, 0, 0, 0, 0, 0, 0, 0, 0, 0, 0, 0, 0, 0, 0, 0, 0, 0, 0, 0, 0, 0, 0, 0, 0, 0, 0, 0, 0, 0, 0, 0, 0, 0, 0, 0, 0, 0, 0, 0, 0, 0, 0, 0, 0, 0, 0, 0, 0, 0, 0, 0, 0, 0, 0, 0, 0, 0, 0, 0, 0, 0, 0, 0, 0, 0, 0, 0, 0, 0, 0, 0, 0, 0, 0, 0, 0, 0, 0, 0, 0, 0, 0, 0, 0, 0, 0, 0, 0, 0, 0, 0, 0, 0, 0, 0, 0, 0, 0, 0, 0, 0, 0, 0, 0, 0, 0, 0, 0, 0, 0, 0, 0, 0, 0, 0, 0, 0, 0, 0, 0, 0, 0, 0, 0, 0, 0, 0, 0, 0, 0, 0, 0, 0, 0, 0, 0, 0, 0, 0, 0, 0, 0, 0, 0, 0, 0, 0, 0, 0, 0, 0, 0, 0, 0, 0, 0, 0, 0, 0, 0, 0, 0, 0, 0, 0, 0, 0, 0, 0, 0, 0, 0, 0, 0, 0, 0, 0, 0, 0, 0, 0, 0, 0, 0, 0, 0, 0, 0, 0, 0, 0, 0, 0, 0, 0, 0, 0, 0, 0, 0, 0, 0, 0, 0, 0, 0, 0, 0, 0, 0, 0, 0, 0, 0, 0, 0, 0, 0, 0, 0, 0, 0, 0, 0, 0, 0, 0, 0, 0, 0, 0, 0, 0, 0, 0, 0, 0, 0, 0, 0, 0, 0, 0, 0, 0, 0, 0, 0, 0, 0, 0, 0, 0, 0, 0, 0, 0, 0, 0, 0, 0, 0, 0, 0, 0, 0, 0, 0, 0, 0, 0, 0, 0, 0, 0, 0, 0, 0, 0, 0, 0, 0, 0, 0, 0, 0, 0, 0, 0, 0, 0, 0, 0, 0, 0, 0, 0, 0, 0, 0, 0, 0, 0, 0, 0, 0, 0, 0, 0, 0, 0, 0, 0, 0, 0, 0, 0, 0, 0, 0, 0, 0, 0, 0, 0, 0, 0, 0, 0, 0, 0, 0, 0, 0, 0, 0, 0, 0, 0, 0, 0, 0, 0, 0, 0, 0, 0, 0, 0, 0, 0, 0, 0, 0, 0, 0, 0, 0, 0, 0, 0, 0, 0, 0, 0, 0, 0, 0, 0, 0, 0, 0, 0, 0, 0, 0, 0, 0, 0, 0, 0, 0, 0, 0, 0, 0, 0, 0, 0, 0, 0, 0, 0, 0, 0, 0, 0, 0, 0, 0, 0, 0, 0, 0, 0, 0, 0, 0, 0, 0, 0, 0, 0, 0, 0, 0, 0, 0, 0, 0, 0, 0, 0, 0, 0, 0, 0, 0, 0, 0, 0, 0, 0, 0, 0, 0, 0, 0, 0, 0, 0, 0, 0, 0, 0, 0, 0, 0, 0, 0, 0, 0, 0, 0, 0, 0, 0, 0, 0, 0, 0, 0, 0, 0, 0, 0, 0, 0, 0, 0, 0, 0, 0, 0, 0, 0, 0, 0, 0, 0, 0, 0, 0, 0, 0, 0, 0, 0, 0, 0, 0, 0, 0, 0, 1, 0, 0, 0, 0, 0, 0, 0, 0, 0, 0, 0, 0, 0, 0, 0, 0, 0, 0, 0, 0, 0, 0, 0, 0, 0, 0, 0, 0, 0, 0, 0, 0, 0, 0, 0, 0, 0, 0, 0, 0, 0, 0, 0, 0, 0, 0, 0, 0, 0, 0, 0, 0, 0, 0, 0, 0, 0, 0, 0, 0, 0, 0, 0, 0, 0, 0, 0, 0, 0, 0, 0, 0, 0, 0, 0, 0, 0, 0, 0, 0, 0, 0, 0, 0, 0, 0, 0, 0, 0, 0, 0, 0, 0, 0, 0, 0, 0, 0, 0, 0, 0, 0, 0, 0, 0, 0, 0, 0, 0, 0, 2, 0, 0, 0, 0, 0, 0, 0, 0, 0, 0, 0, 0, 0, 0, 0, 0, 0, 0, 0, 0, 0, 0, 0, 0, 0, 0, 0, 0, 0, 0, 0, 0, 0, 0, 0, 0, 0, 0, 0, 0, 0, 0, 0, 0, 0, 0, 0, 0, 0, 0, 0, 0, 0, 0, 0, 0, 0, 0, 0, 0, 0, 0, 0, 0, 0, 0, 0, 0, 0, 0, 0, 0, 0, 0, 0, 0, 0, 0, 0, 0, 0, 0, 0, 0, 0, 0, 0, 0, 0, 0, 0, 0, 0, 0, 0, 0, 0, 0, 0, 0, 0, 0, 0, 0, 0, 0, 0, 0, 0, 0, 0, 0, 0, 0, 0, 0, 0, 0, 0, 0, 0, 0, 0, 0, 0, 0, 0, 0, 0, 0, 0, 0, 0, 0, 0, 0, 0, 0, 0, 0, 0, 0, 0, 0, 0, 0, 0, 0, 0, 0, 0, 0, 0, 0, 0, 0, 0, 0, 0, 0, 0, 0, 0, 0, 0, 0, 0, 0, 0, 0, 0, 0, 0, 0, 0, 0, 0, 0, 0, 0, 0, 0, 0, 0, 0, 0, 0, 0, 0, 0, 0, 0, 0, 0, 0, 0, 0, 0, 0, 0, 0, 0, 0, 0, 0, 0, 0, 0, 0, 0, 0, 0, 0, 0, 0, 0, 0, 0, 0, 0, 0, 0, 0, 0, 0, 0, 0, 0, 0, 0, 0, 0, 0, 0, 0, 0, 0, 0, 0, 0, 0, 0, 0, 0, 0, 0, 0, 0, 0, 0, 0, 0, 0, 0, 0, 0, 0, 0, 0, 0, 0, 0, 0, 0, 0, 0, 0, 0, 0, 0, 0, 0, 0, 0, 0, 0, 0, 0, 0, 0, 0, 0, 0, 0, 0, 0, 0, 0, 0, 0, 0, 0, 0, 0, 0, 0, 0, 0, 0, 0, 0, 0, 0, 0, 0, 0, 0, 0, 0, 0, 0, 0, 0, 0, 0, 0, 0, 0, 0, 0, 0, 0, 0, 0, 0, 0, 0, 0, 0, 0, 0, 0, 0, 0, 0, 0, 0, 0, 0, 0, 0, 0, 0, 0, 0, 0, 0, 0, 0, 0, 0, 0, 0, 0, 0, 0, 0, 0, 0, 0, 0, 0, 0, 0, 0, 0, 0, 0, 0, 0, 0, 0, 0, 0, 0, 0, 0, 0, 0, 0, 0, 0, 0, 0, 0, 0, 0, 0, 0, 0, 0, 0, 0, 0, 0, 0, 0, 0, 0, 0, 0, 0, 0, 0, 0, 0, 0, 0, 0, 0, 0, 0, 0, 0, 0, 0, 0, 0, 0, 0, 0, 0, 0, 0, 0, 0, 0, 0, 0, 0, 0, 0, 0, 0, 0, 0, 0, 0, 0, 0, 0, 0, 0, 0, 0, 0, 0, 0, 0, 0, 0, 0, 0, 0, 0, 0, 0, 0, 0, 0, 0, 0, 0, 0, 0, 0, 0, 0, 0, 0, 0, 0, 0, 0, 0, 0, 0, 0, 0, 0, 0, 0, 0, 0, 0, 0, 0, 0, 0, 0, 0, 0, 0, 0, 0, 0, 0, 0, 0, 0, 0, 0, 0, 0, 0, 0, 0, 0, 0, 0, 0, 0, 0, 0, 0, 0, 0, 0, 0, 0, 0, 0, 0, 0, 0, 0, 0, 0, 0, 0, 0, 0, 0, 0, 0, 0, 0, 0, 0, 0, 0, 0, 0, 0, 0, 0, 0, 0, 0, 0, 0, 0, 0, 0, 0, 0, 0, 0, 0, 0, 0, 0, 0, 0, 0, 0, 0, 0, 0, 0, 0, 0, 0, 0, 0, 0, 0, 0, 0, 0, 0, 0, 0, 0, 0, 0, 0, 0, 0, 0, 0, 0, 0, 0, 0, 0, 0, 0, 0, 0, 0, 0, 0, 0, 0, 0, 0, 0, 0, 0, 0, 0, 0, 0, 0, 0, 0, 0, 0, 0, 0, 0, 0, 0, 0, 0, 0, 0, 0, 0, 0, 0, 0, 0, 0, 0, 0, 0, 0, 0, 0, 0, 0, 0, 0, 0, 0, 0, 0, 0, 0, 0, 0, 0, 0, 0, 0, 0, 0, 0, 0, 0, 0, 0, 0, 0, 0, 0, 0, 0, 0, 0, 0, 0, 0, 0, 0, 0, 0, 0, 0, 0, 0, 0, 0, 0, 0, 0, 0, 0, 1, 0, 0, 0, 0, 0, 0, 0, 0, 0, 0, 0, 0, 0, 0, 0, 0, 0, 0, 0, 0, 0, 0, 0, 0, 0, 0, 0, 0, 0, 0, 0, 0, 0, 0, 0, 0, 0, 0, 0, 0, 0, 0, 0, 0, 0, 0, 0, 0, 0, 0, 0, 0, 0, 0, 0, 0, 0, 0, 0, 0, 0, 0, 0, 0, 0, 0, 0, 0, 0, 0, 0, 0, 0, 0, 0, 0, 0, 0, 0, 0, 0, 0, 0, 0, 0, 0, 0, 0, 0, 0, 0, 0, 0, 0, 0, 0, 0, 0, 0, 0, 0, 0, 0, 0, 0, 0, 0, 1, 0, 0, 0, 0, 0, 0, 0, 0, 0, 0, 0, 0, 0, 0, 0, 0, 0, 0, 0, 0, 0, 0, 0, 0, 0, 0, 0, 0, 0, 0, 0, 0, 0, 0, 0, 0, 0, 0, 0, 0, 0, 0, 0, 0, 0, 0, 0, 0, 0, 0, 0, 0, 0, 0, 0, 0, 0, 0, 0, 0, 0, 0, 0, 0, 0, 0, 0, 0, 0, 0, 0, 0, 0, 0, 0, 0, 0, 0, 0, 0, 0, 0, 0, 0, 0, 0, 0, 0, 0, 0, 0, 0, 0, 0, 0, 0, 0, 0, 0, 0, 0, 0, 0, 0, 0, 0, 0, 0, 0, 0, 0, 0, 0, 0, 0, 0, 0, 0, 0, 0, 0, 0, 0, 0, 0, 0, 0, 0, 0, 0, 0, 0, 0, 0, 0, 0, 0, 0, 0, 0, 0, 0, 0, 0, 0, 0, 0, 0, 0, 0, 0, 0, 0, 0, 0, 0, 0, 0, 0, 0, 0, 0, 0, 0, 0, 0, 0, 0, 0, 0, 0, 0, 0, 0, 0, 0, 0, 0, 0, 0, 0, 0, 0, 0, 0, 0, 0, 0, 0, 0, 0, 0, 0, 0, 0, 0, 0, 0, 0, 0, 0, 0, 0, 0, 0, 0, 0, 0, 0, 0, 0, 0, 0, 0, 0, 0, 0, 0, 0, 0, 0, 0, 0, 0, 0, 0, 0, 0, 0, 0, 0, 0, 0, 0, 0, 0, 0, 0, 0, 0, 0, 0, 0, 0, 0, 0, 0, 0, 0, 0, 0, 0, 0, 0, 0, 0, 0, 0, 0, 0, 0, 0, 0, 0, 0, 0, 0, 0, 0, 0, 0, 0, 0, 0, 0, 0, 0, 0, 0, 0, 0, 0, 0, 0, 0, 0, 0, 0, 0, 0, 0, 0, 0, 0, 0, 0, 0, 0, 0, 0, 0, 0, 0, 0, 0, 0, 0, 0, 0, 0, 0, 0, 0, 0, 0, 0, 0, 0, 0, 0, 0, 0, 0, 0, 0, 0, 0, 0, 0, 0, 0, 0, 0, 0, 0, 0, 0, 0, 0, 0, 0, 0, 0, 0, 0, 0, 0, 0, 0, 0, 0, 0, 0, 0, 0, 0, 0, 0, 0, 0, 0, 0, 0, 0, 0, 0, 0, 0, 0, 0, 0, 0, 0, 0, 0, 0, 0, 0, 0, 0, 0, 0, 0, 0, 0, 0, 0, 0, 0, 0, 0, 0, 0, 0, 0, 0, 0, 0, 0, 0, 0, 0, 0, 0, 0, 0, 0, 0, 0, 0, 0, 0, 0, 0, 0, 0, 0, 0, 0, 0, 0, 0, 0, 0, 0, 0, 0, 0, 0, 0, 0, 0, 0, 0, 0, 0, 0, 0, 0, 0, 0, 0, 0, 0, 0, 0, 0, 0, 0, 0, 0, 0, 0, 0, 0, 0, 0, 0, 0, 0, 0, 0, 0, 2, 0, 1, 0]\n"
     ]
    }
   ],
   "source": [
    "test_bow = bow_encoding(test_words, vocabulary)\n",
    "print(test_bow)"
   ]
  },
  {
   "cell_type": "code",
   "execution_count": 41,
   "metadata": {},
   "outputs": [
    {
     "data": {
      "text/plain": [
       "5000"
      ]
     },
     "execution_count": 41,
     "metadata": {},
     "output_type": "execute_result"
    }
   ],
   "source": [
    "len(test_bow)"
   ]
  },
  {
   "cell_type": "markdown",
   "metadata": {},
   "source": [
    "So now we know how to construct a bag of words encoding of a user provided review, how to we send it to our endpoint? First, we need to start the endpoint back up."
   ]
  },
  {
   "cell_type": "code",
   "execution_count": 42,
   "metadata": {},
   "outputs": [
    {
     "name": "stderr",
     "output_type": "stream",
     "text": [
      "Parameter image will be renamed to image_uri in SageMaker Python SDK v2.\n",
      "Using already existing model: xgboost-2021-07-22-04-12-05-540\n"
     ]
    },
    {
     "name": "stdout",
     "output_type": "stream",
     "text": [
      "-------------!"
     ]
    }
   ],
   "source": [
    "xgb_predictor = xgb.deploy(initial_instance_count = 1, instance_type = 'ml.m4.xlarge')"
   ]
  },
  {
   "cell_type": "markdown",
   "metadata": {},
   "source": [
    "At this point we could just do the same thing that we did earlier when we tested our deployed model and send `test_bow` to our endpoint using the `xgb_predictor` object. However, when we eventually construct our Lambda function we won't have access to this object, so how do we call a SageMaker endpoint?\n",
    "\n",
    "It turns out that Python functions that are used in Lambda have access to another Amazon library called `boto3`. This library provides an API for working with Amazon services, including SageMaker. To start with, we need to get a handle to the SageMaker runtime."
   ]
  },
  {
   "cell_type": "code",
   "execution_count": 43,
   "metadata": {},
   "outputs": [],
   "source": [
    "import boto3\n",
    "\n",
    "runtime = boto3.Session().client('sagemaker-runtime')"
   ]
  },
  {
   "cell_type": "markdown",
   "metadata": {},
   "source": [
    "And now that we have access to the SageMaker runtime, we can ask it to make use of (invoke) an endpoint that has already been created. However, we need to provide SageMaker with the name of the deployed endpoint. To find this out we can print it out using the `xgb_predictor` object."
   ]
  },
  {
   "cell_type": "code",
   "execution_count": 44,
   "metadata": {},
   "outputs": [
    {
     "data": {
      "text/plain": [
       "'xgboost-2021-07-22-04-12-05-540'"
      ]
     },
     "execution_count": 44,
     "metadata": {},
     "output_type": "execute_result"
    }
   ],
   "source": [
    "xgb_predictor.endpoint"
   ]
  },
  {
   "cell_type": "markdown",
   "metadata": {},
   "source": [
    "Using the SageMaker runtime and the name of our endpoint, we can invoke the endpoint and send it the `test_bow` data."
   ]
  },
  {
   "cell_type": "code",
   "execution_count": 45,
   "metadata": {},
   "outputs": [
    {
     "ename": "ParamValidationError",
     "evalue": "Parameter validation failed:\nInvalid type for parameter Body, value: [0, 0, 0, 0, 0, 0, 0, 0, 0, 0, 0, 0, 0, 0, 0, 0, 0, 0, 0, 0, 0, 0, 0, 0, 0, 0, 0, 0, 0, 0, 0, 0, 0, 0, 0, 0, 0, 0, 0, 0, 0, 0, 0, 0, 0, 0, 0, 0, 0, 0, 0, 0, 0, 0, 0, 0, 0, 0, 0, 0, 0, 0, 0, 0, 0, 0, 0, 0, 0, 0, 0, 0, 0, 0, 0, 0, 0, 0, 0, 0, 0, 0, 0, 0, 0, 0, 0, 0, 0, 0, 0, 0, 0, 0, 0, 0, 0, 0, 0, 0, 0, 0, 0, 0, 0, 0, 0, 0, 0, 0, 0, 0, 0, 0, 0, 0, 0, 0, 0, 0, 0, 0, 0, 0, 0, 0, 0, 0, 0, 0, 0, 0, 0, 0, 0, 0, 0, 0, 0, 0, 0, 0, 0, 0, 0, 0, 0, 0, 0, 0, 0, 0, 0, 0, 0, 0, 0, 0, 0, 0, 0, 0, 0, 0, 0, 0, 0, 0, 0, 0, 0, 0, 0, 0, 0, 0, 0, 0, 0, 0, 0, 0, 0, 0, 0, 0, 0, 0, 0, 0, 0, 0, 0, 0, 0, 0, 0, 0, 0, 0, 0, 0, 0, 0, 0, 0, 0, 0, 0, 0, 0, 0, 0, 0, 0, 0, 0, 0, 0, 0, 0, 0, 0, 0, 0, 0, 1, 0, 0, 0, 0, 0, 0, 0, 0, 0, 0, 0, 0, 0, 0, 0, 0, 0, 0, 0, 0, 0, 0, 0, 0, 0, 0, 0, 0, 0, 1, 0, 0, 0, 0, 0, 0, 0, 0, 0, 0, 0, 0, 0, 0, 0, 0, 0, 0, 0, 0, 0, 0, 0, 0, 0, 0, 0, 0, 0, 0, 0, 0, 0, 0, 0, 0, 0, 0, 0, 0, 0, 0, 0, 0, 0, 0, 0, 0, 0, 0, 0, 0, 0, 0, 0, 0, 0, 0, 0, 0, 0, 0, 0, 0, 0, 0, 0, 0, 0, 0, 0, 0, 0, 0, 0, 0, 0, 0, 0, 0, 0, 0, 0, 0, 0, 0, 0, 0, 0, 0, 0, 0, 0, 0, 0, 0, 0, 0, 0, 0, 0, 0, 0, 0, 0, 0, 0, 0, 0, 0, 0, 0, 0, 0, 0, 0, 0, 0, 0, 0, 0, 0, 0, 0, 0, 0, 0, 0, 0, 0, 0, 0, 0, 0, 0, 0, 0, 0, 0, 0, 0, 0, 0, 0, 0, 0, 0, 0, 0, 0, 0, 0, 0, 0, 0, 0, 0, 0, 0, 0, 0, 0, 0, 0, 0, 0, 0, 0, 0, 0, 0, 0, 0, 0, 0, 0, 0, 0, 0, 0, 0, 0, 0, 0, 0, 0, 0, 0, 0, 0, 0, 0, 0, 0, 0, 0, 0, 0, 0, 0, 0, 0, 0, 0, 0, 0, 0, 0, 0, 0, 0, 0, 0, 0, 0, 0, 0, 0, 0, 0, 0, 0, 0, 0, 0, 0, 0, 0, 0, 0, 0, 0, 0, 0, 0, 0, 0, 0, 0, 0, 0, 0, 0, 0, 0, 0, 0, 0, 0, 0, 0, 0, 0, 0, 0, 0, 0, 0, 0, 0, 0, 0, 0, 0, 0, 0, 0, 0, 0, 0, 0, 0, 0, 0, 0, 0, 0, 0, 0, 0, 0, 0, 0, 0, 0, 0, 0, 0, 0, 0, 0, 0, 0, 0, 0, 0, 0, 0, 0, 0, 0, 0, 0, 0, 0, 0, 0, 0, 0, 0, 0, 0, 0, 0, 0, 0, 0, 0, 0, 0, 0, 0, 0, 0, 0, 0, 0, 0, 0, 0, 0, 0, 0, 0, 0, 0, 0, 0, 0, 0, 0, 0, 0, 0, 0, 0, 0, 0, 0, 0, 0, 0, 0, 0, 0, 0, 0, 0, 0, 0, 0, 0, 0, 0, 0, 0, 0, 0, 0, 0, 0, 0, 0, 0, 0, 0, 0, 0, 0, 1, 0, 0, 0, 0, 0, 0, 0, 0, 0, 0, 0, 0, 0, 0, 0, 0, 0, 0, 0, 0, 0, 0, 0, 0, 0, 0, 0, 0, 0, 0, 0, 0, 0, 0, 0, 0, 0, 0, 0, 0, 0, 0, 0, 0, 0, 0, 0, 0, 0, 0, 0, 0, 0, 0, 0, 0, 0, 0, 0, 0, 0, 0, 0, 0, 0, 0, 0, 0, 0, 0, 0, 0, 0, 0, 0, 0, 0, 0, 0, 0, 0, 0, 0, 0, 0, 0, 0, 0, 0, 0, 0, 0, 0, 0, 0, 0, 0, 0, 0, 0, 0, 0, 0, 0, 0, 0, 0, 0, 0, 0, 0, 0, 0, 0, 0, 0, 0, 0, 0, 0, 0, 0, 0, 0, 0, 0, 0, 0, 0, 0, 0, 0, 0, 0, 0, 0, 0, 0, 0, 0, 0, 0, 0, 0, 0, 0, 0, 0, 0, 0, 0, 0, 0, 0, 0, 0, 0, 0, 0, 0, 0, 0, 0, 0, 0, 0, 0, 0, 0, 0, 0, 0, 0, 0, 0, 0, 0, 0, 0, 0, 0, 0, 0, 0, 0, 0, 0, 0, 0, 0, 0, 0, 0, 0, 0, 0, 0, 0, 0, 0, 0, 0, 0, 0, 0, 0, 0, 0, 0, 0, 0, 0, 0, 0, 0, 0, 0, 0, 0, 0, 0, 0, 0, 0, 0, 0, 0, 0, 0, 0, 0, 0, 0, 0, 0, 0, 0, 0, 0, 0, 0, 0, 0, 0, 0, 0, 0, 0, 0, 0, 0, 0, 0, 1, 0, 0, 0, 0, 0, 0, 0, 0, 0, 0, 0, 0, 0, 0, 0, 0, 0, 0, 0, 0, 0, 0, 0, 0, 0, 0, 0, 0, 0, 0, 0, 0, 0, 0, 0, 0, 0, 0, 0, 0, 0, 0, 0, 0, 0, 0, 0, 0, 0, 0, 0, 0, 0, 0, 0, 0, 0, 0, 0, 0, 0, 0, 0, 0, 0, 0, 0, 0, 0, 0, 0, 0, 0, 0, 0, 0, 0, 0, 0, 0, 0, 0, 0, 0, 0, 0, 1, 0, 0, 0, 0, 0, 0, 0, 0, 0, 0, 0, 0, 0, 0, 0, 0, 0, 0, 0, 0, 0, 0, 0, 0, 0, 0, 0, 0, 0, 0, 0, 0, 0, 0, 0, 0, 0, 0, 0, 0, 0, 0, 0, 0, 0, 0, 0, 0, 0, 0, 0, 0, 0, 0, 0, 0, 0, 0, 0, 0, 0, 0, 0, 0, 0, 0, 0, 0, 0, 0, 0, 0, 0, 0, 0, 0, 0, 0, 0, 0, 0, 0, 0, 0, 0, 0, 0, 0, 0, 0, 0, 0, 0, 0, 0, 0, 0, 0, 0, 0, 0, 0, 0, 0, 0, 0, 0, 0, 0, 0, 0, 0, 0, 0, 0, 0, 0, 0, 0, 0, 0, 0, 0, 0, 0, 0, 0, 0, 0, 0, 0, 0, 0, 0, 0, 0, 0, 0, 0, 0, 0, 0, 0, 0, 0, 0, 0, 0, 0, 0, 0, 0, 0, 0, 0, 0, 0, 0, 0, 0, 0, 0, 0, 0, 0, 0, 0, 0, 0, 0, 0, 0, 0, 0, 0, 0, 0, 0, 0, 0, 0, 0, 0, 0, 0, 0, 0, 0, 0, 0, 0, 0, 0, 0, 0, 0, 0, 0, 0, 0, 0, 0, 0, 0, 0, 0, 0, 0, 0, 0, 0, 0, 0, 0, 0, 0, 0, 0, 0, 0, 0, 0, 0, 0, 0, 0, 0, 0, 0, 0, 0, 0, 0, 0, 0, 0, 0, 0, 0, 0, 0, 0, 0, 0, 0, 0, 0, 0, 0, 0, 0, 0, 1, 0, 0, 0, 0, 0, 0, 0, 0, 0, 0, 0, 0, 0, 0, 0, 0, 0, 0, 0, 0, 0, 0, 0, 0, 0, 0, 0, 0, 0, 0, 0, 0, 0, 0, 0, 0, 0, 0, 0, 0, 0, 0, 0, 0, 0, 0, 0, 0, 0, 0, 0, 0, 0, 0, 0, 1, 0, 0, 0, 0, 0, 0, 0, 0, 0, 0, 0, 0, 0, 0, 0, 0, 0, 0, 0, 0, 0, 0, 0, 0, 0, 0, 0, 0, 0, 0, 0, 0, 0, 0, 0, 0, 0, 0, 0, 0, 0, 0, 0, 0, 0, 0, 0, 0, 0, 0, 0, 0, 0, 0, 0, 0, 0, 0, 0, 0, 0, 0, 0, 0, 0, 0, 0, 0, 0, 0, 0, 0, 0, 0, 0, 0, 0, 0, 0, 0, 0, 0, 0, 0, 0, 0, 0, 0, 0, 0, 0, 0, 0, 0, 0, 0, 0, 0, 0, 0, 0, 0, 0, 0, 0, 0, 0, 0, 0, 0, 0, 0, 0, 0, 0, 0, 0, 0, 0, 0, 0, 0, 0, 0, 0, 0, 0, 0, 0, 0, 0, 0, 0, 0, 0, 0, 0, 0, 0, 0, 0, 0, 0, 0, 0, 0, 0, 0, 0, 0, 0, 0, 0, 0, 0, 0, 0, 0, 0, 0, 0, 0, 0, 0, 0, 0, 0, 0, 0, 0, 0, 0, 0, 0, 0, 0, 0, 0, 0, 0, 0, 0, 0, 0, 0, 0, 0, 0, 0, 0, 0, 0, 0, 0, 0, 0, 0, 0, 0, 0, 0, 0, 0, 0, 0, 0, 0, 0, 0, 0, 0, 0, 0, 0, 0, 0, 0, 0, 0, 0, 0, 0, 0, 0, 0, 0, 0, 0, 0, 0, 0, 0, 0, 0, 0, 0, 0, 0, 0, 0, 0, 0, 0, 0, 0, 0, 0, 0, 0, 0, 0, 0, 0, 0, 0, 0, 0, 0, 0, 0, 0, 0, 0, 0, 0, 0, 0, 0, 0, 0, 0, 0, 0, 0, 0, 0, 0, 0, 0, 0, 0, 0, 0, 0, 0, 0, 0, 0, 0, 0, 0, 0, 0, 0, 0, 0, 0, 0, 0, 0, 0, 0, 0, 0, 0, 0, 0, 0, 0, 0, 0, 0, 0, 0, 0, 0, 0, 0, 0, 0, 0, 0, 0, 0, 0, 0, 0, 0, 0, 0, 0, 0, 0, 0, 0, 0, 0, 0, 0, 0, 0, 0, 0, 0, 0, 0, 0, 0, 0, 0, 0, 0, 0, 0, 0, 0, 0, 0, 0, 0, 0, 0, 0, 0, 0, 0, 0, 0, 0, 0, 0, 0, 0, 0, 0, 0, 0, 0, 0, 0, 0, 0, 0, 0, 0, 0, 0, 0, 0, 0, 0, 0, 0, 0, 0, 0, 0, 0, 0, 0, 0, 0, 0, 0, 0, 0, 0, 0, 0, 0, 0, 0, 0, 0, 0, 0, 0, 0, 0, 0, 0, 0, 0, 0, 0, 0, 0, 0, 0, 0, 0, 0, 0, 0, 0, 0, 0, 0, 0, 0, 0, 0, 0, 0, 0, 0, 0, 0, 0, 0, 0, 0, 0, 0, 0, 0, 0, 0, 0, 0, 0, 0, 0, 0, 0, 0, 0, 0, 0, 0, 0, 0, 0, 0, 0, 0, 0, 0, 0, 0, 0, 0, 0, 0, 0, 0, 0, 0, 0, 0, 0, 0, 0, 0, 0, 0, 0, 0, 0, 0, 0, 0, 0, 0, 0, 0, 0, 0, 0, 0, 0, 0, 0, 0, 0, 0, 0, 0, 0, 0, 0, 0, 0, 0, 0, 0, 0, 0, 0, 0, 0, 0, 0, 0, 0, 0, 0, 0, 0, 0, 0, 0, 0, 0, 0, 0, 0, 0, 0, 0, 0, 0, 0, 0, 0, 0, 0, 0, 0, 0, 0, 0, 0, 0, 0, 0, 0, 0, 0, 0, 0, 0, 0, 0, 0, 0, 0, 0, 0, 0, 0, 0, 0, 0, 0, 0, 0, 0, 0, 0, 0, 0, 0, 0, 0, 0, 0, 0, 0, 0, 0, 0, 0, 0, 0, 0, 0, 0, 0, 0, 0, 0, 0, 0, 0, 0, 0, 0, 0, 0, 0, 0, 0, 0, 0, 0, 0, 0, 0, 0, 0, 0, 0, 0, 0, 0, 0, 0, 0, 0, 0, 0, 0, 0, 0, 0, 0, 0, 0, 0, 0, 0, 0, 0, 0, 0, 0, 0, 0, 0, 0, 0, 0, 0, 0, 0, 0, 0, 0, 0, 0, 0, 0, 0, 0, 0, 0, 0, 0, 0, 0, 1, 0, 0, 0, 0, 0, 0, 0, 0, 0, 0, 0, 0, 0, 0, 0, 0, 0, 0, 0, 0, 0, 0, 0, 0, 0, 0, 0, 0, 0, 0, 0, 0, 0, 0, 0, 0, 0, 0, 0, 0, 0, 0, 0, 0, 0, 0, 0, 0, 0, 0, 0, 0, 0, 0, 0, 0, 0, 0, 0, 0, 0, 0, 0, 0, 0, 0, 0, 0, 0, 0, 0, 0, 0, 0, 1, 0, 0, 0, 0, 0, 0, 0, 0, 0, 0, 0, 0, 0, 0, 0, 0, 0, 0, 0, 0, 1, 0, 0, 1, 0, 0, 0, 0, 0, 0, 0, 0, 0, 0, 0, 0, 0, 0, 0, 0, 0, 0, 0, 0, 0, 0, 0, 0, 0, 0, 0, 0, 0, 0, 0, 0, 0, 0, 0, 0, 0, 0, 0, 0, 0, 0, 0, 0, 0, 0, 0, 0, 0, 0, 0, 0, 0, 0, 0, 0, 0, 0, 0, 0, 0, 0, 0, 0, 0, 0, 0, 0, 0, 0, 0, 0, 0, 0, 0, 0, 0, 0, 0, 0, 0, 0, 0, 0, 0, 0, 0, 0, 0, 0, 0, 0, 0, 0, 0, 0, 0, 0, 0, 0, 0, 0, 0, 0, 0, 0, 0, 0, 0, 0, 0, 0, 0, 0, 0, 0, 0, 0, 0, 0, 0, 0, 0, 0, 0, 0, 0, 0, 0, 0, 0, 0, 0, 0, 0, 0, 0, 0, 0, 0, 0, 0, 0, 0, 0, 0, 0, 0, 0, 0, 0, 0, 0, 0, 0, 0, 0, 0, 0, 0, 0, 0, 0, 0, 0, 0, 0, 0, 0, 0, 0, 0, 0, 0, 0, 0, 0, 0, 0, 0, 0, 0, 0, 0, 0, 0, 0, 0, 0, 0, 0, 0, 0, 0, 0, 0, 0, 0, 0, 0, 0, 0, 0, 0, 0, 0, 0, 0, 0, 0, 0, 0, 0, 0, 0, 0, 0, 0, 0, 0, 0, 0, 0, 0, 0, 0, 0, 0, 0, 0, 0, 0, 0, 0, 0, 0, 0, 0, 0, 0, 0, 0, 0, 0, 0, 0, 0, 0, 0, 0, 0, 0, 0, 0, 0, 0, 0, 0, 0, 0, 0, 0, 0, 0, 0, 0, 0, 0, 0, 0, 0, 0, 0, 0, 0, 0, 0, 0, 0, 0, 0, 0, 0, 0, 0, 0, 0, 0, 0, 0, 0, 0, 0, 0, 0, 0, 0, 0, 0, 0, 0, 0, 0, 0, 0, 0, 0, 0, 0, 0, 0, 0, 0, 0, 0, 0, 0, 0, 0, 0, 0, 0, 0, 0, 0, 0, 0, 0, 0, 0, 0, 0, 0, 0, 0, 0, 0, 0, 0, 0, 0, 0, 0, 0, 0, 0, 0, 0, 0, 0, 0, 0, 0, 0, 0, 0, 0, 0, 0, 0, 0, 0, 0, 0, 0, 0, 0, 0, 0, 0, 0, 0, 0, 0, 0, 0, 0, 0, 0, 0, 0, 0, 0, 0, 0, 0, 0, 0, 0, 0, 0, 0, 0, 0, 0, 0, 0, 0, 0, 0, 0, 0, 0, 0, 0, 0, 0, 0, 0, 0, 0, 0, 0, 0, 0, 0, 0, 0, 0, 0, 0, 0, 0, 0, 0, 0, 0, 0, 0, 0, 0, 0, 0, 0, 0, 0, 0, 0, 0, 0, 0, 0, 0, 0, 0, 0, 0, 0, 0, 0, 0, 0, 0, 0, 0, 0, 0, 0, 0, 0, 0, 0, 0, 0, 0, 0, 1, 0, 0, 0, 0, 0, 0, 0, 0, 0, 0, 0, 0, 0, 0, 0, 0, 0, 0, 0, 0, 0, 0, 0, 0, 0, 0, 0, 0, 0, 0, 0, 0, 0, 0, 0, 0, 0, 0, 0, 0, 0, 0, 0, 0, 0, 0, 0, 0, 0, 0, 0, 0, 0, 0, 0, 0, 0, 0, 0, 0, 0, 0, 0, 0, 0, 0, 0, 0, 0, 0, 0, 0, 0, 0, 0, 0, 0, 0, 0, 0, 0, 0, 0, 0, 0, 0, 0, 0, 0, 0, 0, 0, 0, 0, 0, 0, 0, 0, 0, 0, 0, 0, 0, 0, 0, 0, 0, 0, 0, 0, 0, 0, 0, 0, 0, 0, 0, 0, 0, 0, 0, 0, 0, 0, 0, 0, 0, 0, 0, 0, 0, 0, 0, 0, 0, 0, 0, 0, 0, 0, 0, 0, 0, 0, 0, 0, 0, 0, 0, 0, 0, 0, 0, 0, 0, 0, 0, 0, 0, 0, 0, 0, 0, 0, 0, 0, 0, 0, 0, 0, 0, 0, 0, 0, 0, 0, 0, 0, 0, 0, 0, 0, 0, 0, 0, 0, 0, 0, 0, 0, 0, 0, 0, 0, 0, 0, 0, 0, 0, 0, 0, 0, 0, 0, 0, 0, 0, 0, 0, 0, 0, 0, 0, 0, 0, 0, 0, 0, 0, 0, 0, 0, 0, 0, 0, 0, 0, 0, 0, 0, 0, 0, 0, 0, 0, 0, 0, 0, 0, 0, 0, 0, 0, 0, 0, 0, 0, 0, 0, 0, 0, 0, 0, 0, 0, 0, 0, 0, 0, 0, 0, 0, 0, 0, 0, 0, 0, 0, 0, 0, 0, 0, 0, 0, 0, 0, 0, 0, 0, 0, 0, 0, 0, 0, 0, 0, 0, 0, 0, 0, 0, 0, 0, 0, 0, 0, 0, 0, 0, 0, 0, 0, 0, 0, 0, 0, 0, 0, 0, 0, 0, 0, 0, 0, 0, 0, 0, 0, 0, 0, 0, 0, 0, 0, 0, 0, 0, 0, 0, 0, 0, 0, 0, 0, 0, 0, 0, 0, 0, 0, 0, 0, 0, 0, 0, 0, 0, 0, 0, 0, 0, 0, 0, 0, 0, 0, 0, 0, 0, 0, 0, 0, 0, 0, 0, 0, 0, 0, 0, 0, 0, 0, 0, 0, 0, 0, 0, 0, 0, 0, 0, 0, 0, 0, 0, 0, 0, 0, 0, 0, 0, 0, 0, 0, 0, 0, 0, 0, 0, 0, 0, 0, 0, 0, 0, 0, 0, 0, 0, 0, 0, 0, 0, 0, 0, 0, 0, 0, 0, 0, 0, 0, 0, 0, 0, 0, 0, 0, 0, 0, 0, 0, 0, 0, 0, 0, 0, 0, 0, 0, 0, 0, 0, 0, 0, 0, 0, 0, 0, 0, 0, 0, 0, 0, 0, 0, 0, 0, 0, 0, 0, 0, 0, 0, 0, 0, 0, 0, 0, 0, 0, 0, 0, 0, 0, 0, 0, 0, 0, 0, 0, 0, 0, 0, 0, 0, 0, 0, 0, 0, 0, 0, 0, 0, 0, 0, 0, 0, 0, 0, 0, 0, 0, 0, 0, 0, 0, 0, 0, 0, 0, 0, 1, 0, 0, 0, 0, 0, 0, 0, 0, 0, 0, 0, 0, 0, 0, 0, 0, 0, 0, 0, 0, 0, 0, 0, 0, 0, 0, 0, 0, 0, 0, 0, 0, 0, 0, 0, 2, 0, 0, 0, 0, 0, 0, 0, 0, 0, 0, 0, 0, 0, 0, 0, 0, 0, 0, 0, 0, 0, 0, 0, 0, 0, 0, 0, 0, 0, 0, 0, 0, 0, 0, 0, 0, 0, 0, 0, 0, 1, 0, 0, 0, 0, 0, 0, 0, 0, 0, 0, 0, 0, 0, 0, 0, 0, 0, 0, 0, 0, 0, 0, 0, 0, 0, 0, 0, 0, 0, 0, 0, 0, 0, 0, 0, 0, 0, 0, 0, 0, 0, 0, 0, 0, 0, 0, 0, 0, 0, 0, 0, 0, 0, 0, 0, 0, 0, 0, 0, 0, 0, 0, 0, 0, 0, 0, 0, 0, 0, 0, 0, 0, 0, 0, 0, 0, 0, 0, 0, 0, 0, 0, 0, 0, 0, 0, 0, 0, 0, 0, 0, 0, 0, 0, 0, 0, 0, 0, 0, 0, 0, 0, 0, 0, 0, 0, 0, 0, 0, 0, 0, 0, 0, 0, 0, 0, 0, 0, 0, 0, 0, 0, 0, 0, 0, 0, 0, 0, 0, 0, 0, 0, 0, 0, 0, 0, 0, 0, 0, 0, 0, 0, 0, 0, 0, 0, 0, 0, 0, 0, 0, 0, 0, 0, 0, 0, 0, 0, 0, 0, 0, 0, 0, 0, 0, 0, 0, 0, 0, 0, 0, 0, 0, 0, 0, 0, 0, 0, 0, 0, 0, 0, 0, 0, 0, 0, 0, 0, 0, 0, 0, 0, 0, 0, 0, 0, 0, 0, 0, 0, 0, 0, 0, 0, 0, 0, 0, 0, 0, 0, 0, 0, 0, 0, 0, 0, 0, 0, 0, 0, 0, 0, 0, 0, 0, 0, 0, 0, 0, 0, 0, 0, 0, 0, 0, 0, 0, 0, 0, 0, 0, 0, 0, 0, 0, 0, 0, 0, 0, 0, 0, 0, 0, 0, 0, 0, 0, 0, 0, 0, 0, 0, 0, 0, 0, 0, 0, 0, 0, 0, 0, 0, 0, 0, 0, 0, 0, 0, 0, 0, 0, 0, 0, 0, 0, 0, 0, 0, 0, 0, 0, 0, 0, 0, 0, 0, 0, 0, 0, 0, 0, 0, 0, 0, 0, 0, 0, 0, 0, 0, 0, 0, 0, 0, 0, 0, 0, 0, 0, 0, 0, 0, 0, 0, 0, 0, 0, 0, 0, 0, 0, 0, 0, 0, 0, 0, 0, 0, 0, 0, 0, 0, 0, 0, 0, 0, 0, 0, 0, 0, 0, 0, 0, 0, 0, 0, 0, 0, 0, 0, 0, 0, 0, 0, 0, 0, 0, 0, 0, 0, 0, 0, 0, 0, 0, 0, 0, 0, 0, 0, 0, 0, 0, 0, 0, 0, 0, 0, 0, 0, 0, 0, 0, 0, 0, 0, 0, 0, 0, 0, 0, 0, 0, 0, 0, 0, 0, 0, 0, 0, 0, 0, 0, 0, 0, 0, 0, 0, 0, 0, 0, 0, 0, 0, 0, 0, 0, 0, 0, 0, 0, 0, 0, 0, 0, 0, 0, 0, 0, 0, 0, 0, 0, 0, 0, 0, 0, 0, 0, 0, 0, 0, 0, 0, 0, 0, 0, 0, 0, 0, 0, 0, 0, 0, 0, 0, 0, 0, 0, 0, 0, 0, 0, 0, 0, 0, 0, 0, 0, 0, 0, 0, 0, 0, 0, 0, 0, 0, 0, 0, 0, 0, 0, 0, 0, 0, 0, 1, 0, 0, 0, 0, 0, 0, 0, 0, 0, 0, 0, 0, 0, 0, 0, 0, 0, 0, 0, 0, 0, 0, 0, 0, 0, 0, 0, 0, 0, 0, 0, 0, 0, 0, 0, 0, 0, 0, 0, 0, 0, 0, 0, 0, 0, 0, 0, 0, 0, 0, 0, 0, 0, 0, 0, 0, 0, 0, 0, 0, 0, 0, 0, 0, 0, 0, 0, 0, 0, 0, 0, 0, 0, 0, 0, 0, 0, 0, 0, 0, 0, 0, 0, 0, 0, 0, 0, 0, 0, 0, 0, 0, 0, 0, 0, 0, 0, 0, 0, 0, 0, 0, 0, 0, 0, 0, 0, 0, 0, 0, 2, 0, 0, 0, 0, 0, 0, 0, 0, 0, 0, 0, 0, 0, 0, 0, 0, 0, 0, 0, 0, 0, 0, 0, 0, 0, 0, 0, 0, 0, 0, 0, 0, 0, 0, 0, 0, 0, 0, 0, 0, 0, 0, 0, 0, 0, 0, 0, 0, 0, 0, 0, 0, 0, 0, 0, 0, 0, 0, 0, 0, 0, 0, 0, 0, 0, 0, 0, 0, 0, 0, 0, 0, 0, 0, 0, 0, 0, 0, 0, 0, 0, 0, 0, 0, 0, 0, 0, 0, 0, 0, 0, 0, 0, 0, 0, 0, 0, 0, 0, 0, 0, 0, 0, 0, 0, 0, 0, 0, 0, 0, 0, 0, 0, 0, 0, 0, 0, 0, 0, 0, 0, 0, 0, 0, 0, 0, 0, 0, 0, 0, 0, 0, 0, 0, 0, 0, 0, 0, 0, 0, 0, 0, 0, 0, 0, 0, 0, 0, 0, 0, 0, 0, 0, 0, 0, 0, 0, 0, 0, 0, 0, 0, 0, 0, 0, 0, 0, 0, 0, 0, 0, 0, 0, 0, 0, 0, 0, 0, 0, 0, 0, 0, 0, 0, 0, 0, 0, 0, 0, 0, 0, 0, 0, 0, 0, 0, 0, 0, 0, 0, 0, 0, 0, 0, 0, 0, 0, 0, 0, 0, 0, 0, 0, 0, 0, 0, 0, 0, 0, 0, 0, 0, 0, 0, 0, 0, 0, 0, 0, 0, 0, 0, 0, 0, 0, 0, 0, 0, 0, 0, 0, 0, 0, 0, 0, 0, 0, 0, 0, 0, 0, 0, 0, 0, 0, 0, 0, 0, 0, 0, 0, 0, 0, 0, 0, 0, 0, 0, 0, 0, 0, 0, 0, 0, 0, 0, 0, 0, 0, 0, 0, 0, 0, 0, 0, 0, 0, 0, 0, 0, 0, 0, 0, 0, 0, 0, 0, 0, 0, 0, 0, 0, 0, 0, 0, 0, 0, 0, 0, 0, 0, 0, 0, 0, 0, 0, 0, 0, 0, 0, 0, 0, 0, 0, 0, 0, 0, 0, 0, 0, 0, 0, 0, 0, 0, 0, 0, 0, 0, 0, 0, 0, 0, 0, 0, 0, 0, 0, 0, 0, 0, 0, 0, 0, 0, 0, 0, 0, 0, 0, 0, 0, 0, 0, 0, 0, 0, 0, 0, 0, 0, 0, 0, 0, 0, 0, 0, 0, 0, 0, 0, 0, 0, 0, 0, 0, 0, 0, 0, 0, 0, 0, 0, 0, 0, 0, 0, 0, 0, 0, 0, 0, 0, 0, 0, 0, 0, 0, 0, 0, 0, 0, 0, 0, 0, 0, 0, 0, 0, 0, 0, 0, 0, 0, 0, 0, 0, 0, 0, 0, 0, 0, 0, 0, 0, 0, 0, 0, 0, 0, 0, 0, 0, 0, 0, 0, 0, 0, 0, 0, 0, 0, 0, 0, 0, 0, 0, 0, 0, 0, 0, 0, 0, 0, 0, 0, 0, 0, 0, 0, 0, 0, 0, 0, 0, 0, 0, 0, 0, 0, 0, 0, 0, 0, 0, 0, 0, 0, 0, 0, 0, 0, 0, 0, 0, 0, 0, 0, 0, 0, 0, 0, 0, 0, 0, 0, 0, 0, 0, 0, 0, 0, 0, 0, 0, 0, 0, 0, 0, 0, 0, 0, 0, 0, 0, 0, 0, 0, 0, 0, 0, 0, 0, 0, 0, 0, 0, 0, 0, 0, 0, 0, 0, 0, 0, 0, 0, 0, 0, 0, 0, 0, 0, 0, 0, 0, 0, 0, 0, 0, 0, 0, 0, 0, 0, 0, 0, 0, 0, 0, 0, 0, 0, 0, 0, 0, 0, 0, 0, 0, 0, 0, 0, 0, 0, 0, 0, 0, 0, 0, 0, 0, 0, 0, 0, 0, 0, 0, 0, 0, 0, 0, 0, 0, 0, 0, 0, 0, 0, 0, 0, 0, 0, 0, 0, 0, 0, 0, 0, 0, 0, 0, 0, 0, 0, 0, 0, 0, 0, 0, 0, 0, 0, 0, 0, 0, 0, 0, 0, 0, 0, 0, 0, 0, 0, 0, 0, 0, 0, 0, 0, 0, 0, 0, 0, 0, 0, 0, 0, 0, 0, 0, 0, 0, 0, 0, 0, 0, 0, 0, 0, 0, 0, 0, 0, 0, 0, 0, 0, 0, 0, 0, 0, 0, 0, 0, 0, 0, 0, 0, 1, 0, 0, 0, 0, 0, 0, 0, 0, 0, 0, 0, 0, 0, 0, 0, 0, 0, 0, 0, 0, 0, 0, 0, 0, 0, 0, 0, 0, 0, 0, 0, 0, 0, 0, 0, 0, 0, 0, 0, 0, 0, 0, 0, 0, 0, 0, 0, 0, 0, 0, 0, 0, 0, 0, 0, 0, 0, 0, 0, 0, 0, 0, 0, 0, 0, 0, 0, 0, 0, 0, 0, 0, 0, 0, 0, 0, 0, 0, 0, 0, 0, 0, 0, 0, 0, 0, 0, 0, 0, 0, 0, 0, 0, 0, 0, 0, 0, 0, 0, 0, 0, 0, 0, 0, 0, 0, 0, 1, 0, 0, 0, 0, 0, 0, 0, 0, 0, 0, 0, 0, 0, 0, 0, 0, 0, 0, 0, 0, 0, 0, 0, 0, 0, 0, 0, 0, 0, 0, 0, 0, 0, 0, 0, 0, 0, 0, 0, 0, 0, 0, 0, 0, 0, 0, 0, 0, 0, 0, 0, 0, 0, 0, 0, 0, 0, 0, 0, 0, 0, 0, 0, 0, 0, 0, 0, 0, 0, 0, 0, 0, 0, 0, 0, 0, 0, 0, 0, 0, 0, 0, 0, 0, 0, 0, 0, 0, 0, 0, 0, 0, 0, 0, 0, 0, 0, 0, 0, 0, 0, 0, 0, 0, 0, 0, 0, 0, 0, 0, 0, 0, 0, 0, 0, 0, 0, 0, 0, 0, 0, 0, 0, 0, 0, 0, 0, 0, 0, 0, 0, 0, 0, 0, 0, 0, 0, 0, 0, 0, 0, 0, 0, 0, 0, 0, 0, 0, 0, 0, 0, 0, 0, 0, 0, 0, 0, 0, 0, 0, 0, 0, 0, 0, 0, 0, 0, 0, 0, 0, 0, 0, 0, 0, 0, 0, 0, 0, 0, 0, 0, 0, 0, 0, 0, 0, 0, 0, 0, 0, 0, 0, 0, 0, 0, 0, 0, 0, 0, 0, 0, 0, 0, 0, 0, 0, 0, 0, 0, 0, 0, 0, 0, 0, 0, 0, 0, 0, 0, 0, 0, 0, 0, 0, 0, 0, 0, 0, 0, 0, 0, 0, 0, 0, 0, 0, 0, 0, 0, 0, 0, 0, 0, 0, 0, 0, 0, 0, 0, 0, 0, 0, 0, 0, 0, 0, 0, 0, 0, 0, 0, 0, 0, 0, 0, 0, 0, 0, 0, 0, 0, 0, 0, 0, 0, 0, 0, 0, 0, 0, 0, 0, 0, 0, 0, 0, 0, 0, 0, 0, 0, 0, 0, 0, 0, 0, 0, 0, 0, 0, 0, 0, 0, 0, 0, 0, 0, 0, 0, 0, 0, 0, 0, 0, 0, 0, 0, 0, 0, 0, 0, 0, 0, 0, 0, 0, 0, 0, 0, 0, 0, 0, 0, 0, 0, 0, 0, 0, 0, 0, 0, 0, 0, 0, 0, 0, 0, 0, 0, 0, 0, 0, 0, 0, 0, 0, 0, 0, 0, 0, 0, 0, 0, 0, 0, 0, 0, 0, 0, 0, 0, 0, 0, 0, 0, 0, 0, 0, 0, 0, 0, 0, 0, 0, 0, 0, 0, 0, 0, 0, 0, 0, 0, 0, 0, 0, 0, 0, 0, 0, 0, 0, 0, 0, 0, 0, 0, 0, 0, 0, 0, 0, 0, 0, 0, 0, 0, 0, 0, 0, 0, 0, 0, 0, 0, 0, 0, 0, 0, 0, 0, 0, 0, 0, 0, 0, 0, 0, 0, 0, 0, 0, 0, 0, 0, 0, 0, 0, 0, 0, 0, 0, 0, 0, 0, 0, 0, 0, 0, 0, 0, 0, 0, 2, 0, 1, 0], type: <class 'list'>, valid types: <class 'bytes'>, <class 'bytearray'>, file-like object",
     "output_type": "error",
     "traceback": [
      "\u001b[0;31m---------------------------------------------------------------------------\u001b[0m",
      "\u001b[0;31mParamValidationError\u001b[0m                      Traceback (most recent call last)",
      "\u001b[0;32m<ipython-input-45-c9ab54ae3a48>\u001b[0m in \u001b[0;36m<module>\u001b[0;34m\u001b[0m\n\u001b[1;32m      1\u001b[0m response = runtime.invoke_endpoint(EndpointName = xgb_predictor.endpoint, # The name of the endpoint we created\n\u001b[1;32m      2\u001b[0m                                        \u001b[0mContentType\u001b[0m \u001b[0;34m=\u001b[0m \u001b[0;34m'text/csv'\u001b[0m\u001b[0;34m,\u001b[0m                     \u001b[0;31m# The data format that is expected\u001b[0m\u001b[0;34m\u001b[0m\u001b[0;34m\u001b[0m\u001b[0m\n\u001b[0;32m----> 3\u001b[0;31m                                        Body = test_bow)\n\u001b[0m",
      "\u001b[0;32m~/anaconda3/envs/python3/lib/python3.6/site-packages/botocore/client.py\u001b[0m in \u001b[0;36m_api_call\u001b[0;34m(self, *args, **kwargs)\u001b[0m\n\u001b[1;32m    384\u001b[0m                     \"%s() only accepts keyword arguments.\" % py_operation_name)\n\u001b[1;32m    385\u001b[0m             \u001b[0;31m# The \"self\" in this scope is referring to the BaseClient.\u001b[0m\u001b[0;34m\u001b[0m\u001b[0;34m\u001b[0m\u001b[0;34m\u001b[0m\u001b[0m\n\u001b[0;32m--> 386\u001b[0;31m             \u001b[0;32mreturn\u001b[0m \u001b[0mself\u001b[0m\u001b[0;34m.\u001b[0m\u001b[0m_make_api_call\u001b[0m\u001b[0;34m(\u001b[0m\u001b[0moperation_name\u001b[0m\u001b[0;34m,\u001b[0m \u001b[0mkwargs\u001b[0m\u001b[0;34m)\u001b[0m\u001b[0;34m\u001b[0m\u001b[0;34m\u001b[0m\u001b[0m\n\u001b[0m\u001b[1;32m    387\u001b[0m \u001b[0;34m\u001b[0m\u001b[0m\n\u001b[1;32m    388\u001b[0m         \u001b[0m_api_call\u001b[0m\u001b[0;34m.\u001b[0m\u001b[0m__name__\u001b[0m \u001b[0;34m=\u001b[0m \u001b[0mstr\u001b[0m\u001b[0;34m(\u001b[0m\u001b[0mpy_operation_name\u001b[0m\u001b[0;34m)\u001b[0m\u001b[0;34m\u001b[0m\u001b[0;34m\u001b[0m\u001b[0m\n",
      "\u001b[0;32m~/anaconda3/envs/python3/lib/python3.6/site-packages/botocore/client.py\u001b[0m in \u001b[0;36m_make_api_call\u001b[0;34m(self, operation_name, api_params)\u001b[0m\n\u001b[1;32m    676\u001b[0m         }\n\u001b[1;32m    677\u001b[0m         request_dict = self._convert_to_request_dict(\n\u001b[0;32m--> 678\u001b[0;31m             api_params, operation_model, context=request_context)\n\u001b[0m\u001b[1;32m    679\u001b[0m \u001b[0;34m\u001b[0m\u001b[0m\n\u001b[1;32m    680\u001b[0m         \u001b[0mservice_id\u001b[0m \u001b[0;34m=\u001b[0m \u001b[0mself\u001b[0m\u001b[0;34m.\u001b[0m\u001b[0m_service_model\u001b[0m\u001b[0;34m.\u001b[0m\u001b[0mservice_id\u001b[0m\u001b[0;34m.\u001b[0m\u001b[0mhyphenize\u001b[0m\u001b[0;34m(\u001b[0m\u001b[0;34m)\u001b[0m\u001b[0;34m\u001b[0m\u001b[0;34m\u001b[0m\u001b[0m\n",
      "\u001b[0;32m~/anaconda3/envs/python3/lib/python3.6/site-packages/botocore/client.py\u001b[0m in \u001b[0;36m_convert_to_request_dict\u001b[0;34m(self, api_params, operation_model, context)\u001b[0m\n\u001b[1;32m    724\u001b[0m             api_params, operation_model, context)\n\u001b[1;32m    725\u001b[0m         request_dict = self._serializer.serialize_to_request(\n\u001b[0;32m--> 726\u001b[0;31m             api_params, operation_model)\n\u001b[0m\u001b[1;32m    727\u001b[0m         \u001b[0;32mif\u001b[0m \u001b[0;32mnot\u001b[0m \u001b[0mself\u001b[0m\u001b[0;34m.\u001b[0m\u001b[0m_client_config\u001b[0m\u001b[0;34m.\u001b[0m\u001b[0minject_host_prefix\u001b[0m\u001b[0;34m:\u001b[0m\u001b[0;34m\u001b[0m\u001b[0;34m\u001b[0m\u001b[0m\n\u001b[1;32m    728\u001b[0m             \u001b[0mrequest_dict\u001b[0m\u001b[0;34m.\u001b[0m\u001b[0mpop\u001b[0m\u001b[0;34m(\u001b[0m\u001b[0;34m'host_prefix'\u001b[0m\u001b[0;34m,\u001b[0m \u001b[0;32mNone\u001b[0m\u001b[0;34m)\u001b[0m\u001b[0;34m\u001b[0m\u001b[0;34m\u001b[0m\u001b[0m\n",
      "\u001b[0;32m~/anaconda3/envs/python3/lib/python3.6/site-packages/botocore/validate.py\u001b[0m in \u001b[0;36mserialize_to_request\u001b[0;34m(self, parameters, operation_model)\u001b[0m\n\u001b[1;32m    317\u001b[0m                                                     operation_model.input_shape)\n\u001b[1;32m    318\u001b[0m             \u001b[0;32mif\u001b[0m \u001b[0mreport\u001b[0m\u001b[0;34m.\u001b[0m\u001b[0mhas_errors\u001b[0m\u001b[0;34m(\u001b[0m\u001b[0;34m)\u001b[0m\u001b[0;34m:\u001b[0m\u001b[0;34m\u001b[0m\u001b[0;34m\u001b[0m\u001b[0m\n\u001b[0;32m--> 319\u001b[0;31m                 \u001b[0;32mraise\u001b[0m \u001b[0mParamValidationError\u001b[0m\u001b[0;34m(\u001b[0m\u001b[0mreport\u001b[0m\u001b[0;34m=\u001b[0m\u001b[0mreport\u001b[0m\u001b[0;34m.\u001b[0m\u001b[0mgenerate_report\u001b[0m\u001b[0;34m(\u001b[0m\u001b[0;34m)\u001b[0m\u001b[0;34m)\u001b[0m\u001b[0;34m\u001b[0m\u001b[0;34m\u001b[0m\u001b[0m\n\u001b[0m\u001b[1;32m    320\u001b[0m         return self._serializer.serialize_to_request(parameters,\n\u001b[1;32m    321\u001b[0m                                                      operation_model)\n",
      "\u001b[0;31mParamValidationError\u001b[0m: Parameter validation failed:\nInvalid type for parameter Body, value: [0, 0, 0, 0, 0, 0, 0, 0, 0, 0, 0, 0, 0, 0, 0, 0, 0, 0, 0, 0, 0, 0, 0, 0, 0, 0, 0, 0, 0, 0, 0, 0, 0, 0, 0, 0, 0, 0, 0, 0, 0, 0, 0, 0, 0, 0, 0, 0, 0, 0, 0, 0, 0, 0, 0, 0, 0, 0, 0, 0, 0, 0, 0, 0, 0, 0, 0, 0, 0, 0, 0, 0, 0, 0, 0, 0, 0, 0, 0, 0, 0, 0, 0, 0, 0, 0, 0, 0, 0, 0, 0, 0, 0, 0, 0, 0, 0, 0, 0, 0, 0, 0, 0, 0, 0, 0, 0, 0, 0, 0, 0, 0, 0, 0, 0, 0, 0, 0, 0, 0, 0, 0, 0, 0, 0, 0, 0, 0, 0, 0, 0, 0, 0, 0, 0, 0, 0, 0, 0, 0, 0, 0, 0, 0, 0, 0, 0, 0, 0, 0, 0, 0, 0, 0, 0, 0, 0, 0, 0, 0, 0, 0, 0, 0, 0, 0, 0, 0, 0, 0, 0, 0, 0, 0, 0, 0, 0, 0, 0, 0, 0, 0, 0, 0, 0, 0, 0, 0, 0, 0, 0, 0, 0, 0, 0, 0, 0, 0, 0, 0, 0, 0, 0, 0, 0, 0, 0, 0, 0, 0, 0, 0, 0, 0, 0, 0, 0, 0, 0, 0, 0, 0, 0, 0, 0, 0, 1, 0, 0, 0, 0, 0, 0, 0, 0, 0, 0, 0, 0, 0, 0, 0, 0, 0, 0, 0, 0, 0, 0, 0, 0, 0, 0, 0, 0, 0, 1, 0, 0, 0, 0, 0, 0, 0, 0, 0, 0, 0, 0, 0, 0, 0, 0, 0, 0, 0, 0, 0, 0, 0, 0, 0, 0, 0, 0, 0, 0, 0, 0, 0, 0, 0, 0, 0, 0, 0, 0, 0, 0, 0, 0, 0, 0, 0, 0, 0, 0, 0, 0, 0, 0, 0, 0, 0, 0, 0, 0, 0, 0, 0, 0, 0, 0, 0, 0, 0, 0, 0, 0, 0, 0, 0, 0, 0, 0, 0, 0, 0, 0, 0, 0, 0, 0, 0, 0, 0, 0, 0, 0, 0, 0, 0, 0, 0, 0, 0, 0, 0, 0, 0, 0, 0, 0, 0, 0, 0, 0, 0, 0, 0, 0, 0, 0, 0, 0, 0, 0, 0, 0, 0, 0, 0, 0, 0, 0, 0, 0, 0, 0, 0, 0, 0, 0, 0, 0, 0, 0, 0, 0, 0, 0, 0, 0, 0, 0, 0, 0, 0, 0, 0, 0, 0, 0, 0, 0, 0, 0, 0, 0, 0, 0, 0, 0, 0, 0, 0, 0, 0, 0, 0, 0, 0, 0, 0, 0, 0, 0, 0, 0, 0, 0, 0, 0, 0, 0, 0, 0, 0, 0, 0, 0, 0, 0, 0, 0, 0, 0, 0, 0, 0, 0, 0, 0, 0, 0, 0, 0, 0, 0, 0, 0, 0, 0, 0, 0, 0, 0, 0, 0, 0, 0, 0, 0, 0, 0, 0, 0, 0, 0, 0, 0, 0, 0, 0, 0, 0, 0, 0, 0, 0, 0, 0, 0, 0, 0, 0, 0, 0, 0, 0, 0, 0, 0, 0, 0, 0, 0, 0, 0, 0, 0, 0, 0, 0, 0, 0, 0, 0, 0, 0, 0, 0, 0, 0, 0, 0, 0, 0, 0, 0, 0, 0, 0, 0, 0, 0, 0, 0, 0, 0, 0, 0, 0, 0, 0, 0, 0, 0, 0, 0, 0, 0, 0, 0, 0, 0, 0, 0, 0, 0, 0, 0, 0, 0, 0, 0, 0, 0, 0, 0, 0, 0, 0, 0, 0, 0, 0, 0, 0, 0, 0, 0, 0, 0, 0, 0, 0, 0, 0, 0, 0, 0, 0, 0, 0, 0, 0, 0, 0, 0, 0, 0, 0, 0, 0, 0, 0, 0, 0, 0, 0, 0, 0, 0, 0, 0, 0, 0, 0, 0, 0, 0, 0, 0, 0, 0, 1, 0, 0, 0, 0, 0, 0, 0, 0, 0, 0, 0, 0, 0, 0, 0, 0, 0, 0, 0, 0, 0, 0, 0, 0, 0, 0, 0, 0, 0, 0, 0, 0, 0, 0, 0, 0, 0, 0, 0, 0, 0, 0, 0, 0, 0, 0, 0, 0, 0, 0, 0, 0, 0, 0, 0, 0, 0, 0, 0, 0, 0, 0, 0, 0, 0, 0, 0, 0, 0, 0, 0, 0, 0, 0, 0, 0, 0, 0, 0, 0, 0, 0, 0, 0, 0, 0, 0, 0, 0, 0, 0, 0, 0, 0, 0, 0, 0, 0, 0, 0, 0, 0, 0, 0, 0, 0, 0, 0, 0, 0, 0, 0, 0, 0, 0, 0, 0, 0, 0, 0, 0, 0, 0, 0, 0, 0, 0, 0, 0, 0, 0, 0, 0, 0, 0, 0, 0, 0, 0, 0, 0, 0, 0, 0, 0, 0, 0, 0, 0, 0, 0, 0, 0, 0, 0, 0, 0, 0, 0, 0, 0, 0, 0, 0, 0, 0, 0, 0, 0, 0, 0, 0, 0, 0, 0, 0, 0, 0, 0, 0, 0, 0, 0, 0, 0, 0, 0, 0, 0, 0, 0, 0, 0, 0, 0, 0, 0, 0, 0, 0, 0, 0, 0, 0, 0, 0, 0, 0, 0, 0, 0, 0, 0, 0, 0, 0, 0, 0, 0, 0, 0, 0, 0, 0, 0, 0, 0, 0, 0, 0, 0, 0, 0, 0, 0, 0, 0, 0, 0, 0, 0, 0, 0, 0, 0, 0, 0, 0, 0, 0, 0, 0, 0, 1, 0, 0, 0, 0, 0, 0, 0, 0, 0, 0, 0, 0, 0, 0, 0, 0, 0, 0, 0, 0, 0, 0, 0, 0, 0, 0, 0, 0, 0, 0, 0, 0, 0, 0, 0, 0, 0, 0, 0, 0, 0, 0, 0, 0, 0, 0, 0, 0, 0, 0, 0, 0, 0, 0, 0, 0, 0, 0, 0, 0, 0, 0, 0, 0, 0, 0, 0, 0, 0, 0, 0, 0, 0, 0, 0, 0, 0, 0, 0, 0, 0, 0, 0, 0, 0, 0, 1, 0, 0, 0, 0, 0, 0, 0, 0, 0, 0, 0, 0, 0, 0, 0, 0, 0, 0, 0, 0, 0, 0, 0, 0, 0, 0, 0, 0, 0, 0, 0, 0, 0, 0, 0, 0, 0, 0, 0, 0, 0, 0, 0, 0, 0, 0, 0, 0, 0, 0, 0, 0, 0, 0, 0, 0, 0, 0, 0, 0, 0, 0, 0, 0, 0, 0, 0, 0, 0, 0, 0, 0, 0, 0, 0, 0, 0, 0, 0, 0, 0, 0, 0, 0, 0, 0, 0, 0, 0, 0, 0, 0, 0, 0, 0, 0, 0, 0, 0, 0, 0, 0, 0, 0, 0, 0, 0, 0, 0, 0, 0, 0, 0, 0, 0, 0, 0, 0, 0, 0, 0, 0, 0, 0, 0, 0, 0, 0, 0, 0, 0, 0, 0, 0, 0, 0, 0, 0, 0, 0, 0, 0, 0, 0, 0, 0, 0, 0, 0, 0, 0, 0, 0, 0, 0, 0, 0, 0, 0, 0, 0, 0, 0, 0, 0, 0, 0, 0, 0, 0, 0, 0, 0, 0, 0, 0, 0, 0, 0, 0, 0, 0, 0, 0, 0, 0, 0, 0, 0, 0, 0, 0, 0, 0, 0, 0, 0, 0, 0, 0, 0, 0, 0, 0, 0, 0, 0, 0, 0, 0, 0, 0, 0, 0, 0, 0, 0, 0, 0, 0, 0, 0, 0, 0, 0, 0, 0, 0, 0, 0, 0, 0, 0, 0, 0, 0, 0, 0, 0, 0, 0, 0, 0, 0, 0, 0, 0, 0, 0, 0, 0, 0, 1, 0, 0, 0, 0, 0, 0, 0, 0, 0, 0, 0, 0, 0, 0, 0, 0, 0, 0, 0, 0, 0, 0, 0, 0, 0, 0, 0, 0, 0, 0, 0, 0, 0, 0, 0, 0, 0, 0, 0, 0, 0, 0, 0, 0, 0, 0, 0, 0, 0, 0, 0, 0, 0, 0, 0, 1, 0, 0, 0, 0, 0, 0, 0, 0, 0, 0, 0, 0, 0, 0, 0, 0, 0, 0, 0, 0, 0, 0, 0, 0, 0, 0, 0, 0, 0, 0, 0, 0, 0, 0, 0, 0, 0, 0, 0, 0, 0, 0, 0, 0, 0, 0, 0, 0, 0, 0, 0, 0, 0, 0, 0, 0, 0, 0, 0, 0, 0, 0, 0, 0, 0, 0, 0, 0, 0, 0, 0, 0, 0, 0, 0, 0, 0, 0, 0, 0, 0, 0, 0, 0, 0, 0, 0, 0, 0, 0, 0, 0, 0, 0, 0, 0, 0, 0, 0, 0, 0, 0, 0, 0, 0, 0, 0, 0, 0, 0, 0, 0, 0, 0, 0, 0, 0, 0, 0, 0, 0, 0, 0, 0, 0, 0, 0, 0, 0, 0, 0, 0, 0, 0, 0, 0, 0, 0, 0, 0, 0, 0, 0, 0, 0, 0, 0, 0, 0, 0, 0, 0, 0, 0, 0, 0, 0, 0, 0, 0, 0, 0, 0, 0, 0, 0, 0, 0, 0, 0, 0, 0, 0, 0, 0, 0, 0, 0, 0, 0, 0, 0, 0, 0, 0, 0, 0, 0, 0, 0, 0, 0, 0, 0, 0, 0, 0, 0, 0, 0, 0, 0, 0, 0, 0, 0, 0, 0, 0, 0, 0, 0, 0, 0, 0, 0, 0, 0, 0, 0, 0, 0, 0, 0, 0, 0, 0, 0, 0, 0, 0, 0, 0, 0, 0, 0, 0, 0, 0, 0, 0, 0, 0, 0, 0, 0, 0, 0, 0, 0, 0, 0, 0, 0, 0, 0, 0, 0, 0, 0, 0, 0, 0, 0, 0, 0, 0, 0, 0, 0, 0, 0, 0, 0, 0, 0, 0, 0, 0, 0, 0, 0, 0, 0, 0, 0, 0, 0, 0, 0, 0, 0, 0, 0, 0, 0, 0, 0, 0, 0, 0, 0, 0, 0, 0, 0, 0, 0, 0, 0, 0, 0, 0, 0, 0, 0, 0, 0, 0, 0, 0, 0, 0, 0, 0, 0, 0, 0, 0, 0, 0, 0, 0, 0, 0, 0, 0, 0, 0, 0, 0, 0, 0, 0, 0, 0, 0, 0, 0, 0, 0, 0, 0, 0, 0, 0, 0, 0, 0, 0, 0, 0, 0, 0, 0, 0, 0, 0, 0, 0, 0, 0, 0, 0, 0, 0, 0, 0, 0, 0, 0, 0, 0, 0, 0, 0, 0, 0, 0, 0, 0, 0, 0, 0, 0, 0, 0, 0, 0, 0, 0, 0, 0, 0, 0, 0, 0, 0, 0, 0, 0, 0, 0, 0, 0, 0, 0, 0, 0, 0, 0, 0, 0, 0, 0, 0, 0, 0, 0, 0, 0, 0, 0, 0, 0, 0, 0, 0, 0, 0, 0, 0, 0, 0, 0, 0, 0, 0, 0, 0, 0, 0, 0, 0, 0, 0, 0, 0, 0, 0, 0, 0, 0, 0, 0, 0, 0, 0, 0, 0, 0, 0, 0, 0, 0, 0, 0, 0, 0, 0, 0, 0, 0, 0, 0, 0, 0, 0, 0, 0, 0, 0, 0, 0, 0, 0, 0, 0, 0, 0, 0, 0, 0, 0, 0, 0, 0, 0, 0, 0, 0, 0, 0, 0, 0, 0, 0, 0, 0, 0, 0, 0, 0, 0, 0, 0, 0, 0, 0, 0, 0, 0, 0, 0, 0, 0, 0, 0, 0, 0, 0, 0, 0, 0, 0, 0, 0, 0, 0, 0, 0, 0, 0, 0, 0, 0, 0, 0, 0, 0, 0, 0, 0, 0, 0, 0, 0, 0, 0, 0, 0, 0, 0, 0, 0, 0, 0, 0, 0, 0, 0, 0, 0, 0, 0, 0, 0, 0, 0, 0, 0, 0, 0, 0, 0, 0, 0, 0, 0, 0, 0, 0, 0, 0, 0, 0, 0, 0, 0, 0, 0, 0, 0, 0, 0, 0, 0, 0, 0, 0, 0, 0, 0, 0, 0, 0, 0, 0, 0, 0, 0, 0, 0, 0, 0, 0, 0, 0, 0, 0, 0, 0, 0, 0, 0, 0, 0, 0, 0, 0, 0, 0, 0, 0, 0, 0, 0, 0, 0, 0, 0, 0, 0, 0, 0, 0, 0, 0, 0, 0, 0, 0, 0, 0, 0, 0, 0, 0, 0, 0, 0, 1, 0, 0, 0, 0, 0, 0, 0, 0, 0, 0, 0, 0, 0, 0, 0, 0, 0, 0, 0, 0, 0, 0, 0, 0, 0, 0, 0, 0, 0, 0, 0, 0, 0, 0, 0, 0, 0, 0, 0, 0, 0, 0, 0, 0, 0, 0, 0, 0, 0, 0, 0, 0, 0, 0, 0, 0, 0, 0, 0, 0, 0, 0, 0, 0, 0, 0, 0, 0, 0, 0, 0, 0, 0, 0, 1, 0, 0, 0, 0, 0, 0, 0, 0, 0, 0, 0, 0, 0, 0, 0, 0, 0, 0, 0, 0, 1, 0, 0, 1, 0, 0, 0, 0, 0, 0, 0, 0, 0, 0, 0, 0, 0, 0, 0, 0, 0, 0, 0, 0, 0, 0, 0, 0, 0, 0, 0, 0, 0, 0, 0, 0, 0, 0, 0, 0, 0, 0, 0, 0, 0, 0, 0, 0, 0, 0, 0, 0, 0, 0, 0, 0, 0, 0, 0, 0, 0, 0, 0, 0, 0, 0, 0, 0, 0, 0, 0, 0, 0, 0, 0, 0, 0, 0, 0, 0, 0, 0, 0, 0, 0, 0, 0, 0, 0, 0, 0, 0, 0, 0, 0, 0, 0, 0, 0, 0, 0, 0, 0, 0, 0, 0, 0, 0, 0, 0, 0, 0, 0, 0, 0, 0, 0, 0, 0, 0, 0, 0, 0, 0, 0, 0, 0, 0, 0, 0, 0, 0, 0, 0, 0, 0, 0, 0, 0, 0, 0, 0, 0, 0, 0, 0, 0, 0, 0, 0, 0, 0, 0, 0, 0, 0, 0, 0, 0, 0, 0, 0, 0, 0, 0, 0, 0, 0, 0, 0, 0, 0, 0, 0, 0, 0, 0, 0, 0, 0, 0, 0, 0, 0, 0, 0, 0, 0, 0, 0, 0, 0, 0, 0, 0, 0, 0, 0, 0, 0, 0, 0, 0, 0, 0, 0, 0, 0, 0, 0, 0, 0, 0, 0, 0, 0, 0, 0, 0, 0, 0, 0, 0, 0, 0, 0, 0, 0, 0, 0, 0, 0, 0, 0, 0, 0, 0, 0, 0, 0, 0, 0, 0, 0, 0, 0, 0, 0, 0, 0, 0, 0, 0, 0, 0, 0, 0, 0, 0, 0, 0, 0, 0, 0, 0, 0, 0, 0, 0, 0, 0, 0, 0, 0, 0, 0, 0, 0, 0, 0, 0, 0, 0, 0, 0, 0, 0, 0, 0, 0, 0, 0, 0, 0, 0, 0, 0, 0, 0, 0, 0, 0, 0, 0, 0, 0, 0, 0, 0, 0, 0, 0, 0, 0, 0, 0, 0, 0, 0, 0, 0, 0, 0, 0, 0, 0, 0, 0, 0, 0, 0, 0, 0, 0, 0, 0, 0, 0, 0, 0, 0, 0, 0, 0, 0, 0, 0, 0, 0, 0, 0, 0, 0, 0, 0, 0, 0, 0, 0, 0, 0, 0, 0, 0, 0, 0, 0, 0, 0, 0, 0, 0, 0, 0, 0, 0, 0, 0, 0, 0, 0, 0, 0, 0, 0, 0, 0, 0, 0, 0, 0, 0, 0, 0, 0, 0, 0, 0, 0, 0, 0, 0, 0, 0, 0, 0, 0, 0, 0, 0, 0, 0, 0, 0, 0, 0, 0, 0, 0, 0, 0, 0, 0, 0, 0, 0, 0, 0, 0, 0, 0, 0, 0, 0, 0, 0, 0, 0, 0, 0, 0, 0, 0, 0, 0, 0, 0, 0, 0, 0, 0, 0, 0, 0, 0, 0, 0, 0, 0, 0, 0, 0, 0, 0, 0, 0, 0, 0, 0, 0, 1, 0, 0, 0, 0, 0, 0, 0, 0, 0, 0, 0, 0, 0, 0, 0, 0, 0, 0, 0, 0, 0, 0, 0, 0, 0, 0, 0, 0, 0, 0, 0, 0, 0, 0, 0, 0, 0, 0, 0, 0, 0, 0, 0, 0, 0, 0, 0, 0, 0, 0, 0, 0, 0, 0, 0, 0, 0, 0, 0, 0, 0, 0, 0, 0, 0, 0, 0, 0, 0, 0, 0, 0, 0, 0, 0, 0, 0, 0, 0, 0, 0, 0, 0, 0, 0, 0, 0, 0, 0, 0, 0, 0, 0, 0, 0, 0, 0, 0, 0, 0, 0, 0, 0, 0, 0, 0, 0, 0, 0, 0, 0, 0, 0, 0, 0, 0, 0, 0, 0, 0, 0, 0, 0, 0, 0, 0, 0, 0, 0, 0, 0, 0, 0, 0, 0, 0, 0, 0, 0, 0, 0, 0, 0, 0, 0, 0, 0, 0, 0, 0, 0, 0, 0, 0, 0, 0, 0, 0, 0, 0, 0, 0, 0, 0, 0, 0, 0, 0, 0, 0, 0, 0, 0, 0, 0, 0, 0, 0, 0, 0, 0, 0, 0, 0, 0, 0, 0, 0, 0, 0, 0, 0, 0, 0, 0, 0, 0, 0, 0, 0, 0, 0, 0, 0, 0, 0, 0, 0, 0, 0, 0, 0, 0, 0, 0, 0, 0, 0, 0, 0, 0, 0, 0, 0, 0, 0, 0, 0, 0, 0, 0, 0, 0, 0, 0, 0, 0, 0, 0, 0, 0, 0, 0, 0, 0, 0, 0, 0, 0, 0, 0, 0, 0, 0, 0, 0, 0, 0, 0, 0, 0, 0, 0, 0, 0, 0, 0, 0, 0, 0, 0, 0, 0, 0, 0, 0, 0, 0, 0, 0, 0, 0, 0, 0, 0, 0, 0, 0, 0, 0, 0, 0, 0, 0, 0, 0, 0, 0, 0, 0, 0, 0, 0, 0, 0, 0, 0, 0, 0, 0, 0, 0, 0, 0, 0, 0, 0, 0, 0, 0, 0, 0, 0, 0, 0, 0, 0, 0, 0, 0, 0, 0, 0, 0, 0, 0, 0, 0, 0, 0, 0, 0, 0, 0, 0, 0, 0, 0, 0, 0, 0, 0, 0, 0, 0, 0, 0, 0, 0, 0, 0, 0, 0, 0, 0, 0, 0, 0, 0, 0, 0, 0, 0, 0, 0, 0, 0, 0, 0, 0, 0, 0, 0, 0, 0, 0, 0, 0, 0, 0, 0, 0, 0, 0, 0, 0, 0, 0, 0, 0, 0, 0, 0, 0, 0, 0, 0, 0, 0, 0, 0, 0, 0, 0, 0, 0, 0, 0, 0, 0, 0, 0, 0, 0, 0, 0, 0, 0, 0, 0, 0, 0, 0, 0, 0, 0, 0, 0, 0, 0, 0, 0, 0, 0, 0, 0, 0, 0, 0, 0, 0, 0, 0, 0, 0, 0, 0, 0, 0, 0, 0, 0, 0, 0, 0, 0, 0, 0, 0, 0, 0, 0, 0, 0, 0, 0, 0, 0, 0, 0, 0, 0, 0, 0, 0, 0, 0, 0, 0, 0, 0, 0, 0, 0, 0, 0, 0, 0, 0, 0, 0, 0, 0, 0, 0, 0, 0, 0, 0, 0, 0, 0, 1, 0, 0, 0, 0, 0, 0, 0, 0, 0, 0, 0, 0, 0, 0, 0, 0, 0, 0, 0, 0, 0, 0, 0, 0, 0, 0, 0, 0, 0, 0, 0, 0, 0, 0, 0, 2, 0, 0, 0, 0, 0, 0, 0, 0, 0, 0, 0, 0, 0, 0, 0, 0, 0, 0, 0, 0, 0, 0, 0, 0, 0, 0, 0, 0, 0, 0, 0, 0, 0, 0, 0, 0, 0, 0, 0, 0, 1, 0, 0, 0, 0, 0, 0, 0, 0, 0, 0, 0, 0, 0, 0, 0, 0, 0, 0, 0, 0, 0, 0, 0, 0, 0, 0, 0, 0, 0, 0, 0, 0, 0, 0, 0, 0, 0, 0, 0, 0, 0, 0, 0, 0, 0, 0, 0, 0, 0, 0, 0, 0, 0, 0, 0, 0, 0, 0, 0, 0, 0, 0, 0, 0, 0, 0, 0, 0, 0, 0, 0, 0, 0, 0, 0, 0, 0, 0, 0, 0, 0, 0, 0, 0, 0, 0, 0, 0, 0, 0, 0, 0, 0, 0, 0, 0, 0, 0, 0, 0, 0, 0, 0, 0, 0, 0, 0, 0, 0, 0, 0, 0, 0, 0, 0, 0, 0, 0, 0, 0, 0, 0, 0, 0, 0, 0, 0, 0, 0, 0, 0, 0, 0, 0, 0, 0, 0, 0, 0, 0, 0, 0, 0, 0, 0, 0, 0, 0, 0, 0, 0, 0, 0, 0, 0, 0, 0, 0, 0, 0, 0, 0, 0, 0, 0, 0, 0, 0, 0, 0, 0, 0, 0, 0, 0, 0, 0, 0, 0, 0, 0, 0, 0, 0, 0, 0, 0, 0, 0, 0, 0, 0, 0, 0, 0, 0, 0, 0, 0, 0, 0, 0, 0, 0, 0, 0, 0, 0, 0, 0, 0, 0, 0, 0, 0, 0, 0, 0, 0, 0, 0, 0, 0, 0, 0, 0, 0, 0, 0, 0, 0, 0, 0, 0, 0, 0, 0, 0, 0, 0, 0, 0, 0, 0, 0, 0, 0, 0, 0, 0, 0, 0, 0, 0, 0, 0, 0, 0, 0, 0, 0, 0, 0, 0, 0, 0, 0, 0, 0, 0, 0, 0, 0, 0, 0, 0, 0, 0, 0, 0, 0, 0, 0, 0, 0, 0, 0, 0, 0, 0, 0, 0, 0, 0, 0, 0, 0, 0, 0, 0, 0, 0, 0, 0, 0, 0, 0, 0, 0, 0, 0, 0, 0, 0, 0, 0, 0, 0, 0, 0, 0, 0, 0, 0, 0, 0, 0, 0, 0, 0, 0, 0, 0, 0, 0, 0, 0, 0, 0, 0, 0, 0, 0, 0, 0, 0, 0, 0, 0, 0, 0, 0, 0, 0, 0, 0, 0, 0, 0, 0, 0, 0, 0, 0, 0, 0, 0, 0, 0, 0, 0, 0, 0, 0, 0, 0, 0, 0, 0, 0, 0, 0, 0, 0, 0, 0, 0, 0, 0, 0, 0, 0, 0, 0, 0, 0, 0, 0, 0, 0, 0, 0, 0, 0, 0, 0, 0, 0, 0, 0, 0, 0, 0, 0, 0, 0, 0, 0, 0, 0, 0, 0, 0, 0, 0, 0, 0, 0, 0, 0, 0, 0, 0, 0, 0, 0, 0, 0, 0, 0, 0, 0, 0, 0, 0, 0, 0, 0, 0, 0, 0, 0, 0, 0, 0, 0, 0, 0, 0, 0, 0, 0, 0, 0, 0, 0, 0, 0, 0, 0, 0, 0, 0, 0, 0, 0, 0, 0, 0, 0, 0, 0, 0, 0, 0, 0, 0, 0, 0, 0, 0, 0, 0, 0, 0, 0, 0, 1, 0, 0, 0, 0, 0, 0, 0, 0, 0, 0, 0, 0, 0, 0, 0, 0, 0, 0, 0, 0, 0, 0, 0, 0, 0, 0, 0, 0, 0, 0, 0, 0, 0, 0, 0, 0, 0, 0, 0, 0, 0, 0, 0, 0, 0, 0, 0, 0, 0, 0, 0, 0, 0, 0, 0, 0, 0, 0, 0, 0, 0, 0, 0, 0, 0, 0, 0, 0, 0, 0, 0, 0, 0, 0, 0, 0, 0, 0, 0, 0, 0, 0, 0, 0, 0, 0, 0, 0, 0, 0, 0, 0, 0, 0, 0, 0, 0, 0, 0, 0, 0, 0, 0, 0, 0, 0, 0, 0, 0, 0, 2, 0, 0, 0, 0, 0, 0, 0, 0, 0, 0, 0, 0, 0, 0, 0, 0, 0, 0, 0, 0, 0, 0, 0, 0, 0, 0, 0, 0, 0, 0, 0, 0, 0, 0, 0, 0, 0, 0, 0, 0, 0, 0, 0, 0, 0, 0, 0, 0, 0, 0, 0, 0, 0, 0, 0, 0, 0, 0, 0, 0, 0, 0, 0, 0, 0, 0, 0, 0, 0, 0, 0, 0, 0, 0, 0, 0, 0, 0, 0, 0, 0, 0, 0, 0, 0, 0, 0, 0, 0, 0, 0, 0, 0, 0, 0, 0, 0, 0, 0, 0, 0, 0, 0, 0, 0, 0, 0, 0, 0, 0, 0, 0, 0, 0, 0, 0, 0, 0, 0, 0, 0, 0, 0, 0, 0, 0, 0, 0, 0, 0, 0, 0, 0, 0, 0, 0, 0, 0, 0, 0, 0, 0, 0, 0, 0, 0, 0, 0, 0, 0, 0, 0, 0, 0, 0, 0, 0, 0, 0, 0, 0, 0, 0, 0, 0, 0, 0, 0, 0, 0, 0, 0, 0, 0, 0, 0, 0, 0, 0, 0, 0, 0, 0, 0, 0, 0, 0, 0, 0, 0, 0, 0, 0, 0, 0, 0, 0, 0, 0, 0, 0, 0, 0, 0, 0, 0, 0, 0, 0, 0, 0, 0, 0, 0, 0, 0, 0, 0, 0, 0, 0, 0, 0, 0, 0, 0, 0, 0, 0, 0, 0, 0, 0, 0, 0, 0, 0, 0, 0, 0, 0, 0, 0, 0, 0, 0, 0, 0, 0, 0, 0, 0, 0, 0, 0, 0, 0, 0, 0, 0, 0, 0, 0, 0, 0, 0, 0, 0, 0, 0, 0, 0, 0, 0, 0, 0, 0, 0, 0, 0, 0, 0, 0, 0, 0, 0, 0, 0, 0, 0, 0, 0, 0, 0, 0, 0, 0, 0, 0, 0, 0, 0, 0, 0, 0, 0, 0, 0, 0, 0, 0, 0, 0, 0, 0, 0, 0, 0, 0, 0, 0, 0, 0, 0, 0, 0, 0, 0, 0, 0, 0, 0, 0, 0, 0, 0, 0, 0, 0, 0, 0, 0, 0, 0, 0, 0, 0, 0, 0, 0, 0, 0, 0, 0, 0, 0, 0, 0, 0, 0, 0, 0, 0, 0, 0, 0, 0, 0, 0, 0, 0, 0, 0, 0, 0, 0, 0, 0, 0, 0, 0, 0, 0, 0, 0, 0, 0, 0, 0, 0, 0, 0, 0, 0, 0, 0, 0, 0, 0, 0, 0, 0, 0, 0, 0, 0, 0, 0, 0, 0, 0, 0, 0, 0, 0, 0, 0, 0, 0, 0, 0, 0, 0, 0, 0, 0, 0, 0, 0, 0, 0, 0, 0, 0, 0, 0, 0, 0, 0, 0, 0, 0, 0, 0, 0, 0, 0, 0, 0, 0, 0, 0, 0, 0, 0, 0, 0, 0, 0, 0, 0, 0, 0, 0, 0, 0, 0, 0, 0, 0, 0, 0, 0, 0, 0, 0, 0, 0, 0, 0, 0, 0, 0, 0, 0, 0, 0, 0, 0, 0, 0, 0, 0, 0, 0, 0, 0, 0, 0, 0, 0, 0, 0, 0, 0, 0, 0, 0, 0, 0, 0, 0, 0, 0, 0, 0, 0, 0, 0, 0, 0, 0, 0, 0, 0, 0, 0, 0, 0, 0, 0, 0, 0, 0, 0, 0, 0, 0, 0, 0, 0, 0, 0, 0, 0, 0, 0, 0, 0, 0, 0, 0, 0, 0, 0, 0, 0, 0, 0, 0, 0, 0, 0, 0, 0, 0, 0, 0, 0, 0, 0, 0, 0, 0, 0, 0, 0, 0, 0, 0, 0, 0, 0, 0, 0, 0, 0, 0, 0, 0, 0, 0, 0, 0, 0, 0, 0, 0, 0, 0, 0, 0, 0, 0, 0, 0, 0, 0, 0, 0, 0, 0, 0, 0, 0, 0, 0, 0, 0, 0, 0, 0, 0, 0, 0, 0, 0, 0, 0, 0, 0, 0, 0, 0, 0, 0, 0, 0, 0, 0, 0, 0, 0, 0, 0, 0, 0, 0, 0, 0, 0, 0, 0, 0, 0, 0, 0, 0, 0, 0, 0, 0, 0, 0, 0, 0, 0, 0, 0, 0, 0, 0, 0, 0, 0, 0, 0, 0, 0, 0, 0, 0, 0, 0, 0, 0, 0, 0, 0, 0, 1, 0, 0, 0, 0, 0, 0, 0, 0, 0, 0, 0, 0, 0, 0, 0, 0, 0, 0, 0, 0, 0, 0, 0, 0, 0, 0, 0, 0, 0, 0, 0, 0, 0, 0, 0, 0, 0, 0, 0, 0, 0, 0, 0, 0, 0, 0, 0, 0, 0, 0, 0, 0, 0, 0, 0, 0, 0, 0, 0, 0, 0, 0, 0, 0, 0, 0, 0, 0, 0, 0, 0, 0, 0, 0, 0, 0, 0, 0, 0, 0, 0, 0, 0, 0, 0, 0, 0, 0, 0, 0, 0, 0, 0, 0, 0, 0, 0, 0, 0, 0, 0, 0, 0, 0, 0, 0, 0, 1, 0, 0, 0, 0, 0, 0, 0, 0, 0, 0, 0, 0, 0, 0, 0, 0, 0, 0, 0, 0, 0, 0, 0, 0, 0, 0, 0, 0, 0, 0, 0, 0, 0, 0, 0, 0, 0, 0, 0, 0, 0, 0, 0, 0, 0, 0, 0, 0, 0, 0, 0, 0, 0, 0, 0, 0, 0, 0, 0, 0, 0, 0, 0, 0, 0, 0, 0, 0, 0, 0, 0, 0, 0, 0, 0, 0, 0, 0, 0, 0, 0, 0, 0, 0, 0, 0, 0, 0, 0, 0, 0, 0, 0, 0, 0, 0, 0, 0, 0, 0, 0, 0, 0, 0, 0, 0, 0, 0, 0, 0, 0, 0, 0, 0, 0, 0, 0, 0, 0, 0, 0, 0, 0, 0, 0, 0, 0, 0, 0, 0, 0, 0, 0, 0, 0, 0, 0, 0, 0, 0, 0, 0, 0, 0, 0, 0, 0, 0, 0, 0, 0, 0, 0, 0, 0, 0, 0, 0, 0, 0, 0, 0, 0, 0, 0, 0, 0, 0, 0, 0, 0, 0, 0, 0, 0, 0, 0, 0, 0, 0, 0, 0, 0, 0, 0, 0, 0, 0, 0, 0, 0, 0, 0, 0, 0, 0, 0, 0, 0, 0, 0, 0, 0, 0, 0, 0, 0, 0, 0, 0, 0, 0, 0, 0, 0, 0, 0, 0, 0, 0, 0, 0, 0, 0, 0, 0, 0, 0, 0, 0, 0, 0, 0, 0, 0, 0, 0, 0, 0, 0, 0, 0, 0, 0, 0, 0, 0, 0, 0, 0, 0, 0, 0, 0, 0, 0, 0, 0, 0, 0, 0, 0, 0, 0, 0, 0, 0, 0, 0, 0, 0, 0, 0, 0, 0, 0, 0, 0, 0, 0, 0, 0, 0, 0, 0, 0, 0, 0, 0, 0, 0, 0, 0, 0, 0, 0, 0, 0, 0, 0, 0, 0, 0, 0, 0, 0, 0, 0, 0, 0, 0, 0, 0, 0, 0, 0, 0, 0, 0, 0, 0, 0, 0, 0, 0, 0, 0, 0, 0, 0, 0, 0, 0, 0, 0, 0, 0, 0, 0, 0, 0, 0, 0, 0, 0, 0, 0, 0, 0, 0, 0, 0, 0, 0, 0, 0, 0, 0, 0, 0, 0, 0, 0, 0, 0, 0, 0, 0, 0, 0, 0, 0, 0, 0, 0, 0, 0, 0, 0, 0, 0, 0, 0, 0, 0, 0, 0, 0, 0, 0, 0, 0, 0, 0, 0, 0, 0, 0, 0, 0, 0, 0, 0, 0, 0, 0, 0, 0, 0, 0, 0, 0, 0, 0, 0, 0, 0, 0, 0, 0, 0, 0, 0, 0, 0, 0, 0, 0, 0, 0, 0, 0, 0, 0, 0, 0, 0, 0, 0, 0, 0, 0, 0, 0, 0, 0, 0, 0, 0, 0, 0, 0, 0, 0, 0, 0, 0, 0, 0, 0, 0, 0, 0, 2, 0, 1, 0], type: <class 'list'>, valid types: <class 'bytes'>, <class 'bytearray'>, file-like object"
     ]
    }
   ],
   "source": [
    "response = runtime.invoke_endpoint(EndpointName = xgb_predictor.endpoint, # The name of the endpoint we created\n",
    "                                       ContentType = 'text/csv',                     # The data format that is expected\n",
    "                                       Body = test_bow)"
   ]
  },
  {
   "cell_type": "markdown",
   "metadata": {},
   "source": [
    "So why did we get an error?\n",
    "\n",
    "Because we tried to send the endpoint a list of integers but it expected us to send data of type `text/csv`. So, we need to convert it."
   ]
  },
  {
   "cell_type": "code",
   "execution_count": 46,
   "metadata": {},
   "outputs": [],
   "source": [
    "response = runtime.invoke_endpoint(EndpointName = xgb_predictor.endpoint, # The name of the endpoint we created\n",
    "                                       ContentType = 'text/csv',                     # The data format that is expected\n",
    "                                       Body = ','.join([str(val) for val in test_bow]).encode('utf-8'))"
   ]
  },
  {
   "cell_type": "code",
   "execution_count": 47,
   "metadata": {},
   "outputs": [
    {
     "name": "stdout",
     "output_type": "stream",
     "text": [
      "{'ResponseMetadata': {'RequestId': '053acb1b-7104-49e4-b2bb-a3dad335dd27', 'HTTPStatusCode': 200, 'HTTPHeaders': {'x-amzn-requestid': '053acb1b-7104-49e4-b2bb-a3dad335dd27', 'x-amzn-invoked-production-variant': 'AllTraffic', 'date': 'Thu, 22 Jul 2021 04:50:50 GMT', 'content-type': 'text/csv; charset=utf-8', 'content-length': '18'}, 'RetryAttempts': 0}, 'ContentType': 'text/csv; charset=utf-8', 'InvokedProductionVariant': 'AllTraffic', 'Body': <botocore.response.StreamingBody object at 0x7ff8448c4588>}\n"
     ]
    }
   ],
   "source": [
    "print(response)"
   ]
  },
  {
   "cell_type": "markdown",
   "metadata": {},
   "source": [
    "As we can see, the response from our model is a somewhat complicated looking dict that contains a bunch of information. The bit that we are most interested in is `'Body'` object which is a streaming object that we need to `read` in order to make use of."
   ]
  },
  {
   "cell_type": "code",
   "execution_count": 48,
   "metadata": {},
   "outputs": [
    {
     "name": "stdout",
     "output_type": "stream",
     "text": [
      "0.3955116868019104\n"
     ]
    }
   ],
   "source": [
    "response = response['Body'].read().decode('utf-8')\n",
    "print(response)"
   ]
  },
  {
   "cell_type": "markdown",
   "metadata": {},
   "source": [
    "Now that we know how to process the incoming user data we can start setting up the infrastructure to make our simple web app work. To do this we will make use of two different services. Amazon's Lambda and API Gateway services.\n",
    "\n",
    "Lambda is a service which allows someone to write some relatively simple code and have it executed whenever a chosen trigger occurs. For example, you may want to update a database whenever new data is uploaded to a folder stored on S3.\n",
    "\n",
    "API Gateway is a service that allows you to create HTTP endpoints (url addresses) which are connected to other AWS services. One of the benefits to this is that you get to decide what credentials, if any, are required to access these endpoints.\n",
    "\n",
    "In our case we are going to set up an HTTP endpoint through API Gateway which is open to the public. Then, whenever anyone sends data to our public endpoint we will trigger a Lambda function which will send the input (in our case a review) to our model's endpoint and then return the result."
   ]
  },
  {
   "cell_type": "markdown",
   "metadata": {},
   "source": [
    "### Setting up a Lambda function\n",
    "\n",
    "The first thing we are going to do is set up a Lambda function. This Lambda function will be executed whenever our public API has data sent to it. When it is executed it will receive the data, perform any sort of processing that is required, send the data (the review) to the SageMaker endpoint we've created and then return the result.\n",
    "\n",
    "#### Part A: Create an IAM Role for the Lambda function\n",
    "\n",
    "Since we want the Lambda function to call a SageMaker endpoint, we need to make sure that it has permission to do so. To do this, we will construct a role that we can later give the Lambda function.\n",
    "\n",
    "Using the AWS Console, navigate to the **IAM** page and click on **Roles**. Then, click on **Create role**. Make sure that the **AWS service** is the type of trusted entity selected and choose **Lambda** as the service that will use this role, then click **Next: Permissions**.\n",
    "\n",
    "In the search box type `sagemaker` and select the check box next to the **AmazonSageMakerFullAccess** policy. Then, click on **Next: Review**.\n",
    "\n",
    "Lastly, give this role a name. Make sure you use a name that you will remember later on, for example `LambdaSageMakerRole`. Then, click on **Create role**."
   ]
  },
  {
   "cell_type": "markdown",
   "metadata": {},
   "source": [
    "#### Part B: Create a Lambda function\n",
    "\n",
    "Now it is time to actually create the Lambda function. Remember from earlier that in order to process the user provided input and send it to our endpoint we need to gather two pieces of information:\n",
    "\n",
    " - The name of the endpoint, and\n",
    " - the vocabulary object.\n",
    "\n",
    "We will copy these pieces of information to our Lambda function after we create it.\n",
    "\n",
    "To start, using the AWS Console, navigate to the AWS Lambda page and click on **Create a function**. When you get to the next page, make sure that **Author from scratch** is selected. Now, name your Lambda function, using a name that you will remember later on, for example `sentiment_analysis_xgboost_func`. Make sure that the **Python 3.6** runtime is selected and then choose the role that you created in the previous part. Then, click on **Create Function**.\n",
    "\n",
    "On the next page you will see some information about the Lambda function you've just created. If you scroll down you should see an editor in which you can write the code that will be executed when your Lambda function is triggered. Collecting the code we wrote above to process a single review and adding it to the provided example `lambda_handler` we arrive at the following.\n",
    "\n",
    "```python\n",
    "# We need to use the low-level library to interact with SageMaker since the SageMaker API\n",
    "# is not available natively through Lambda.\n",
    "import boto3\n",
    "\n",
    "# And we need the regular expression library to do some of the data processing\n",
    "import re\n",
    "\n",
    "REPLACE_NO_SPACE = re.compile(\"(\\.)|(\\;)|(\\:)|(\\!)|(\\')|(\\?)|(\\,)|(\\\")|(\\()|(\\))|(\\[)|(\\])\")\n",
    "REPLACE_WITH_SPACE = re.compile(\"(<br\\s*/><br\\s*/>)|(\\-)|(\\/)\")\n",
    "\n",
    "def review_to_words(review):\n",
    "    words = REPLACE_NO_SPACE.sub(\"\", review.lower())\n",
    "    words = REPLACE_WITH_SPACE.sub(\" \", words)\n",
    "    return words\n",
    "    \n",
    "def bow_encoding(words, vocabulary):\n",
    "    bow = [0] * len(vocabulary) # Start by setting the count for each word in the vocabulary to zero.\n",
    "    for word in words.split():  # For each word in the string\n",
    "        if word in vocabulary:  # If the word is one that occurs in the vocabulary, increase its count.\n",
    "            bow[vocabulary[word]] += 1\n",
    "    return bow\n",
    "\n",
    "\n",
    "def lambda_handler(event, context):\n",
    "    \n",
    "    vocab = \"*** ACTUAL VOCABULARY GOES HERE ***\"\n",
    "    \n",
    "    words = review_to_words(event['body'])\n",
    "    bow = bow_encoding(words, vocab)\n",
    "\n",
    "    # The SageMaker runtime is what allows us to invoke the endpoint that we've created.\n",
    "    runtime = boto3.Session().client('sagemaker-runtime')\n",
    "\n",
    "    # Now we use the SageMaker runtime to invoke our endpoint, sending the review we were given\n",
    "    response = runtime.invoke_endpoint(EndpointName = '***ENDPOINT NAME HERE***',# The name of the endpoint we created\n",
    "                                       ContentType = 'text/csv',                 # The data format that is expected\n",
    "                                       Body = ','.join([str(val) for val in bow]).encode('utf-8')) # The actual review\n",
    "\n",
    "    # The response is an HTTP response whose body contains the result of our inference\n",
    "    result = response['Body'].read().decode('utf-8')\n",
    "    \n",
    "    # Round the result so that our web app only gets '1' or '0' as a response.\n",
    "    result = round(float(result))\n",
    "\n",
    "    return {\n",
    "        'statusCode' : 200,\n",
    "        'headers' : { 'Content-Type' : 'text/plain', 'Access-Control-Allow-Origin' : '*' },\n",
    "        'body' : str(result)\n",
    "    }\n",
    "```"
   ]
  },
  {
   "cell_type": "markdown",
   "metadata": {},
   "source": [
    "Once you have copy and pasted the code above into the Lambda code editor, replace the `**ENDPOINT NAME HERE**` portion with the name of the endpoint that we deployed earlier. You can determine the name of the endpoint using the code cell below."
   ]
  },
  {
   "cell_type": "code",
   "execution_count": 49,
   "metadata": {},
   "outputs": [
    {
     "data": {
      "text/plain": [
       "'xgboost-2021-07-22-04-12-05-540'"
      ]
     },
     "execution_count": 49,
     "metadata": {},
     "output_type": "execute_result"
    }
   ],
   "source": [
    "xgb_predictor.endpoint"
   ]
  },
  {
   "cell_type": "markdown",
   "metadata": {},
   "source": [
    "In addition, you will need to copy the vocabulary dict to the appropriate place in the code at the beginning of the `lambda_handler` method. The cell below prints out the vocabulary dict in a way that is easy to copy and paste."
   ]
  },
  {
   "cell_type": "code",
   "execution_count": 50,
   "metadata": {},
   "outputs": [
    {
     "name": "stdout",
     "output_type": "stream",
     "text": [
      "{'the': 4426, 'plot': 3309, 'was': 4805, 'very': 4723, 'thin': 4449, 'although': 201, 'idea': 2213, 'of': 3083, 'naked': 2959, 'sexy': 3911, 'man': 2721, 'eating': 1413, 'is': 2360, 'good': 1937, 'one': 3107, 'film': 1716, 'just': 2437, 'seemed': 3862, 'to': 4507, 'from': 1840, 'meaningless': 2782, 'scene': 3809, 'another': 250, 'with': 4911, 'far': 1653, 'too': 4522, 'few': 1700, 'splatter': 4118, 'lesbian': 2573, 'mouth': 2920, 'shots': 3950, 'in': 2257, 'between': 475, 'characters': 760, 'were': 4848, 'wooden': 4934, 'and': 226, 'dimensional': 1253, 'ending': 1471, 'made': 2697, 'no': 3020, 'sense': 3877, 'considering': 952, 'it': 2366, 'had': 2003, 'tom': 4514, 'you': 4986, 'would': 4957, 'have': 2052, 'expected': 1577, 'decent': 1147, 'special': 4097, 'effects': 1431, 'some': 4061, 'quite': 3495, 'but': 636, 'there': 4438, 'them': 4432, 'points': 3319, 'go': 1924, 'for': 1784, 'occasional': 3074, 'bush': 632, 'naturally': 2974, 'course': 1019, 'moments': 2887, 'also': 199, 'thought': 4462, 'that': 4424, 'pool': 3327, 'under': 4639, 'could': 1007, 'be': 418, 'viewed': 4737, 'as': 311, 'an': 223, 'innovative': 2295, 'take': 4349, 'on': 3105, 'shower': 3957, 'many': 2732, 'elements': 1443, 'into': 2332, 'making': 2718, 'first': 1736, 'rate': 3526, 'horror': 2168, 'they': 4442, 'poorly': 3329, 'executed': 1565, 'or': 3124, 'used': 4693, 'if': 2222, 'been': 438, 'watching': 4815, 'this': 4457, 'alone': 194, 'aged': 149, '15': 7, 'really': 3556, 'enjoyed': 1486, 'about': 67, '10': 0, 'minutes': 2859, 'hand': 2015, 'remote': 3622, 'control': 977, 'then': 4436, 'lost': 2660, 'interest': 2323, 'suddenly': 4273, 'needed': 2988, 'my': 2951, 'best': 469, 'friends': 1837, 'brought': 600, 'movie': 2926, 'over': 3148, 'night': 3013, 'words': 4938, 'wanna': 4786, 'watch': 4811, 'worst': 4952, 'ever': 1538, 'always': 203, 'enjoy': 1484, 'laugh': 2529, 'at': 331, 'bad': 382, 'flick': 1754, 'said': 3774, 'yes': 4982, 'your': 4991, 'typical': 4623, 'cheesy': 781, 'slasher': 4020, 'beyond': 476, 'lowest': 2678, 'low': 2676, 'obviously': 3072, 'budget': 610, 'extremely': 1610, 'acting': 99, 'so': 4046, 'called': 652, 'cameras': 660, 'horrible': 2163, 'soundtrack': 4085, 'makes': 2716, 'movies': 2927, 'like': 2599, 'house': 2178, 'look': 2646, 'oscar': 3133, 'winning': 4898, 'masterpieces': 2760, 'only': 3110, 'thing': 4450, 'seconds': 3848, 'getting': 1901, 'topless': 4527, 'she': 3923, 'nice': 3008, 'most': 2909, 'what': 4858, 'during': 1387, 'along': 195, 'lines': 2612, 'wow': 4962, 'actually': 109, 'im': 2232, 'not': 3040, 'drunk': 1375, 'enough': 1491, 'conclusion': 936, 'dont': 1324, 'waste': 4808, 'time': 4495, 'money': 2888, 'can': 665, 'imagine': 2238, 'better': 472, 'than': 4420, 'hey': 2095, 'before': 440, 'all': 187, 'chick': 786, 'me': 2778, 'am': 204, 'large': 2517, 'strong': 4229, 'who': 4871, 'happens': 2029, 'think': 4452, 'last': 2521, '20': 29, 'years': 4979, 'superb': 4296, 'story': 4207, 'marvelous': 2750, 'wonderful': 4928, 'heart': 2064, 'soul': 4079, 'nor': 3032, 'cast': 710, 'known': 2492, 'while': 4868, 'holly': 2136, 'hunter': 2199, 'joan': 2404, 'among': 217, 'greatest': 1966, 'actresses': 106, 'appear': 273, 'view': 4736, 'may': 2775, 'fact': 1621, 'her': 2085, 'talent': 4354, 'roles': 3727, 'has': 2043, 'appeared': 276, 'any': 256, 'amazing': 209, 'book': 535, 'cannot': 670, 'lay': 2542, 'down': 1335, 'when': 4862, 'reached': 3537, 'page': 3167, 'wish': 4904, 'more': 2904, 'life': 2592, 'understand': 4643, 'why': 4878, 'here': 2086, 'imdb': 2240, 'rating': 3529, 'utterly': 4702, 'perhaps': 3235, 'do': 1302, 'well': 4843, 'sad': 3767, 'films': 1721, 'american': 213, 'beauty': 430, 'leaving': 2557, 'vegas': 4717, 'beast': 422, 'fight': 1707, 'club': 863, 'ratings': 3530, 'off': 3084, 'popularity': 3334, 'least': 2554, 'viewers': 4739, 'opinion': 3118, 'should': 3951, 'received': 3564, 'rubbish': 3748, 'ok': 3098, 'realize': 3552, 'are': 285, 'lot': 2661, 'different': 1248, 'stories': 4205, 'world': 4946, 'audiences': 353, 'commentary': 899, 'lovely': 2671, 'directed': 1259, 'acted': 98, 'written': 4972, 'seems': 3864, 'looked': 2647, 'academy': 77, 'awards': 367, 'how': 2181, 'predictable': 3367, 'want': 4788, 'see': 3855, 'powerful': 3360, 'happy': 2032, 'beautiful': 428, 'own': 3158, 'originally': 3131, 'ago': 154, 'believe': 454, 'turkey': 4604, 'okay': 3099, 'by': 642, 'standards': 4145, 'its': 2370, 'still': 4188, 'got': 1944, 'almost': 193, 'production': 3419, 'values': 4710, 'little': 2624, 'level': 2584, 'third': 4455, 'grade': 1951, 'play': 3296, 'grown': 1984, 'sort': 4077, 'camp': 662, 'classic': 835, 'director': 1264, 'todd': 4510, 'effect': 1428, 'theyre': 4445, 'ed': 1415, 'wood': 4933, 'regard': 3588, 'pick': 3265, 'out': 3141, 'continuity': 972, 'errors': 1516, 'same': 3778, 'zombie': 4997, 'two': 4620, 'locations': 2636, 'other': 3135, 'flaws': 1752, 'ill': 2228, 'say': 3799, 'guy': 2000, 'his': 2118, 'productions': 3420, 'isnt': 2362, 'great': 1964, 'he': 2056, 'gotten': 1947, 'must': 2950, 'add': 115, 'actor': 103, 'actress': 105, 'though': 4461, 'school': 3813, 'surprised': 4313, 'rather': 3528, 'score': 3822, 'saw': 3798, 'reminded': 3619, 'come': 886, 'back': 378, 'children': 792, 'michael': 2829, 'keaton': 2448, 'straight': 4210, 'up': 4683, 'comedy': 890, 'might': 2835, 'find': 1726, 'joy': 2422, 'gentle': 1890, 'kind': 2476, 'ron': 3734, 'howard': 2182, 'thats': 4425, 'check': 777, 'key': 2458, 'charm': 767, 'right': 3696, 'project': 3427, 'ho': 2127, 'bit': 488, 'dated': 1119, 'because': 432, 'takes': 4351, 'places': 3284, 'stage': 4139, 'pre': 3365, 'global': 1920, 'country': 1014, 'business': 633, 'based': 404, 'delivers': 1172, 'laughs': 2534, 'lesson': 2577, 'people': 3221, 'learn': 2550, 'each': 1395, 'benefit': 465, 'without': 4913, 'particular': 3194, 'liked': 2600, 'whole': 4873, 'provides': 3450, 'slow': 4031, 'constant': 957, 'mean': 2779, 'way': 4820, 'second': 3846, 'chances': 748, 'holds': 2131, 'us': 4690, 'puts': 3481, 'emotional': 1459, 'audience': 352, 'dreams': 1355, 'true': 4596, 'loved': 2670, 'remember': 3616, 'feel': 1684, 'year': 4978, 'perfect': 3224, 'ages': 152, 'hits': 2125, 'major': 2711, 'home': 2142, 'run': 3755, 'john': 2409, 'scott': 3824, 'wayne': 4821, 'partner': 3198, 'charlie': 765, 'trail': 4553, 'buddies': 608, 'make': 2713, 'their': 4431, 'pretty': 3384, 'fair': 1630, 'finds': 1728, 'unless': 4669, 'hes': 2093, 'willing': 4889, 'accept': 80, 'twenty': 4612, 'five': 1743, 'dollar': 1314, 'prize': 3405, 'hell': 2077, 'al': 170, 'jim': 2402, 'paul': 3214, 'fix': 1744, 'decide': 1148, 'theyd': 4443, 'rest': 3657, 'shoot': 3942, 'henry': 2084, 'hall': 2009, 'killers': 2471, 'use': 4692, 'running': 3756, 'gag': 1861, 'where': 4864, 'various': 4715, 'wild': 4885, 'foot': 1781, 'him': 2110, 'silly': 3976, 'youre': 4992, 'theres': 4440, 'neat': 2982, 'tea': 4373, 'ad': 110, 'scenes': 3811, 'which': 4867, 'love': 2669, 'anne': 246, 'mary': 2751, 'appears': 278, 'later': 2525, 'once': 3106, 'again': 146, 'robbery': 3711, 'having': 2054, 'change': 749, 'seeing': 3857, 'ways': 4822, 'wants': 4791, 'clean': 838, 'sheriff': 3929, 'shoots': 3944, 'being': 448, 'tells': 4397, 'doctor': 1304, 'sister': 4001, 'unbelievable': 4634, 'middle': 2833, 'guys': 2001, 'villains': 4745, 'desert': 1198, 'westerns': 4854, 'lone': 2642, 'star': 4150, 'era': 1513, 'george': 1893, 'both': 547, 'usually': 4700, 'seen': 3865, 'these': 4441, 'fan': 1648, 'youll': 4988, 'will': 4886, 'probably': 3407, 'found': 1811, 'pass': 3201, 'chance': 747, 'historical': 2119, 'value': 4709, 'portrayal': 3341, 'cheap': 774, 'soap': 4047, 'opera': 3116, 'twist': 4617, 'facts': 1624, 'funny': 1852, 'gave': 1875, 'birth': 486, 'please': 3304, 'pregnant': 3369, 'queen': 3485, 'especially': 1520, 'bother': 548, 'room': 3735, 'reason': 3557, 'tried': 4584, 'gods': 1928, 'sake': 3775, 'justify': 2439, 'description': 1197, 'decisions': 1152, 'anything': 260, 'feelings': 1686, 'did': 1241, 'everything': 1544, 'reasons': 3560, 'power': 3359, 'self': 3869, 'family': 1645, 'survival': 4320, 'something': 4066, 'stood': 4199, 'either': 1438, 'murdered': 2940, 'brothers': 599, 'mark': 2739, 'anthony': 253, 'unfortunately': 4654, 'kill': 2468, 'gay': 1876, 'end': 1468, 'oh': 3096, 'dear': 1140, 'lord': 2652, 'theyve': 4446, 'turned': 4606, 'fairly': 1631, 'provoking': 3452, 'fest': 1696, 'original': 3129, 'version': 4720, 'beautifully': 429, 'vague': 4705, 'our': 3139, 'hero': 2088, 'trying': 4601, 'drive': 1363, 'san': 3780, 'win': 4892, 'bet': 470, 'risk': 3704, 'price': 3389, 'handful': 2017, 'sure': 4308, 'we': 4823, 'flashbacks': 1747, 'picture': 3269, 'presumably': 3380, 'led': 2558, 'entire': 1502, 'point': 3316, 'distance': 1294, 'left': 2561, 'road': 3709, 'together': 4511, 'itself': 2371, 'lives': 2628, 'free': 1827, 'means': 2783, 'anyone': 259, 'several': 3905, 'times': 4497, 'stopped': 4202, 'driver': 1366, 'moving': 2928, 'even': 1533, 'cops': 993, 'chasing': 772, 'quest': 3486, 'took': 4523, 'arrested': 298, 'live': 2625, 'died': 1244, 'lived': 2626, 'wide': 4880, 'open': 3112, 'remake': 3612, 'history': 2121, 'including': 2264, 'name': 2960, 'get': 1899, 'hospital': 2172, 'wife': 4884, 'suffering': 4277, 'devoted': 1231, 'husband': 2204, 'excited': 1561, 'father': 1666, 'comes': 891, 'decision': 1151, 'after': 143, 'hearing': 2063, 'delivery': 1173, 'leave': 2555, 'question': 3487, 'suggest': 4280, 'jumped': 2430, 'car': 680, 'ran': 3513, 'part': 3193, 'super': 4295, 'blind': 506, 'brilliantly': 584, 'portrayed': 3342, 'jason': 2383, 'give': 1912, 'break': 569, 'bette': 471, 'humorous': 2193, 'capable': 672, 'bringing': 586, 'tears': 4380, 'old': 3100, 'jokes': 2415, 'new': 3003, 'merely': 2815, 'songs': 4072, 'punch': 3466, 'singing': 3995, 'ones': 3108, 'such': 4268, 'rose': 3739, 'stay': 4166, 'wind': 4893, 'beneath': 464, 'appreciate': 279, 'miss': 2866, 'since': 3990, 'next': 3007, 'strongly': 4231, 'recommended': 3572, 'mixture': 2878, 'adult': 125, 'eyed': 1612, 'appreciation': 281, 'pushing': 3479, 'david': 1124, '1999': 27, 'set': 3898, 'release': 3602, 'richard': 3686, 'late': 2523, 'medical': 2790, 'condition': 937, 'poor': 3328, 'mostly': 2910, 'behind': 447, 'knows': 2493, 'decides': 1150, 'remarkable': 3613, 'endearing': 1469, 'every': 1539, 'through': 4477, 'actions': 101, 'put': 3480, 'things': 4451, 'experience': 1580, 'daughter': 1121, 'struggles': 4235, 'speech': 4102, 'effort': 1432, 'worth': 4953, 'help': 2079, 'progresses': 3426, 'journey': 2421, 'human': 2188, 'early': 1400, 'begin': 442, 'ambitious': 211, 'elderly': 1440, 'age': 148, 'reasonably': 3559, 'slowly': 4032, 'achieve': 92, 'unlikely': 4671, 'simple': 3983, 'brother': 598, 'likely': 2601, 'die': 1243, 'visit': 4755, 'falling': 1639, 'spoken': 4126, 'long': 2644, 'meets': 2795, 'towards': 4540, 'essence': 1521, 'know': 2489, 'does': 1308, 'sandra': 3782, 'person': 3238, 'move': 2921, 'los': 2653, 'angeles': 233, 'opening': 3114, 'tour': 4538, 'cant': 671, 'row': 3744, 'lucky': 2683, 'show': 3953, 'now': 3054, 'york': 4985, 'nothing': 3047, 'bruce': 602, 'smith': 4038, 'missing': 2869, 'action': 100, 'barbara': 397, 'streisand': 4218, 'continues': 971, 'head': 2057, 'leaves': 2556, 'ms': 2931, 'wanted': 4789, 'push': 3477, 'truth': 4599, 'honesty': 2148, 'humor': 2192, 'laura': 2536, 'prince': 3396, 'script': 3834, 'sadness': 3770, 'ups': 4686, '70s': 56, '80s': 59, 'comics': 895, 'stolen': 4195, 'much': 2934, 'herself': 2092, 'wont': 4932, 'names': 2963, 'plays': 3301, 'rules': 3754, 'shows': 3960, 'performances': 3229, 'performer': 3231, 'stayed': 4167, 'forward': 1808, 'reminiscent': 3621, 'jazz': 2387, 'miles': 2843, 'tv': 4610, 'intimate': 2331, 'acts': 107, 'everyone': 1542, 'judy': 2426, 'couldnt': 1008, 'touch': 4533, 'coming': 896, 'going': 1931, 'silent': 3975, 'theater': 4427, 'total': 4531, 'awe': 370, 'meet': 2793, 'meant': 2784, 'hopefully': 2157, 'listen': 2619, 'copy': 994, 'giving': 1915, 'hurts': 2203, 'thank': 4421, 'sorts': 4078, 'presence': 3373, 'certainly': 738, 'shes': 3930, 'damn': 1100, 'looks': 2649, 'walking': 4779, 'member': 2800, 'incredible': 2269, 'yet': 4984, 'hope': 2155, 'youve': 4995, 'heck': 2071, 'tough': 4537, 'crazy': 1035, 'send': 3875, 'knowing': 2490, 'kicking': 2462, 'continue': 969, 'lady': 2507, 'sea': 3838, 'gary': 1873, 'cooper': 990, 'souls': 4080, 'title': 4504, 'describes': 1196, 'starring': 4154, 'team': 4378, 'stan': 4142, 'laurel': 2537, 'oliver': 3102, 'hardy': 2037, 'ocean': 3079, 'escaped': 1518, 'killer': 2470, 'nick': 3012, 'played': 3297, 'criminal': 1057, 'amusing': 221, 'chilling': 794, 'fine': 1729, 'boys': 559, 'comedic': 888, 'despite': 1211, 'never': 3001, 'tribute': 4581, 'charisma': 762, 'supposed': 4306, 'protagonists': 3442, 'average': 362, 'material': 2766, 'spots': 4132, 'instance': 2304, 'previous': 3387, 'noted': 3045, 'james': 2378, 'tries': 4585, 'lacks': 2505, 'scenario': 3808, 'taking': 4352, 'place': 3282, 'apartment': 265, 'completely': 922, 'highly': 2105, 'pleasant': 3302, 'entertainment': 1500, 'brief': 579, 'doesnt': 1309, 'wear': 4830, 'welcome': 4842, 'certain': 737, 'viewing': 4740, 'final': 1722, 'producer': 3415, 'hal': 2006, 'havent': 2053, 'post': 3352, 'those': 4460, 'measure': 2786, 'weakest': 4825, 'seem': 3861, 'alien': 183, 'environment': 1505, 'colorful': 878, 'supporting': 4304, 'players': 3299, 'musical': 2947, 'scores': 3823, 'arent': 288, 'meaning': 2780, 'pathetic': 3210, 'pity': 3281, 'generally': 1881, 'public': 3460, 'minor': 2857, 'entry': 1504, 'allowed': 190, 'force': 1786, 'complete': 921, 'artistic': 308, 'freedom': 1828, 'studios': 4241, 'golden': 1934, 'needs': 2990, 'shouldnt': 3952, 'talk': 4358, 'cell': 730, 'phone': 3255, 'driving': 1368, 'mall': 2720, 'susan': 4326, 'stick': 4185, 'producing': 3417, 'em': 1452, 'writer': 4968, 'four': 1812, 'thugs': 4484, 'tell': 4395, 'gun': 1996, 'starts': 4159, 'martial': 2747, 'arts': 310, 'manages': 2725, 'away': 369, 'gets': 1900, 'forest': 1791, 'didnt': 1242, 'someones': 4065, 'guns': 1998, 'match': 2762, 'ha': 2002, 'iron': 2354, 'christmas': 810, 'johnny': 2410, 'gangster': 1868, 'done': 1322, '1984': 23, 'mother': 2911, 'da': 1094, 'peter': 3247, 'boss': 546, 'girlfriend': 1910, 'stars': 4155, 'include': 2261, 'danny': 1112, 'joe': 2407, 'pet': 3246, 'store': 4204, 'owner': 3159, '1930s': 11, 'catches': 715, 'kid': 2464, 'stealing': 4171, 'flashback': 1746, 'came': 656, 'young': 4989, 'operation': 3117, 'week': 4837, 'began': 441, 'working': 4944, 'mob': 2879, 'uses': 4697, 'hilarious': 2106, 'foul': 1810, 'body': 527, 'replaced': 3634, 'gives': 1914, 'performance': 3228, 'ball': 388, 'de': 1131, 'english': 1483, 'language': 2516, 'hear': 2061, 'read': 3543, 'angry': 238, 'face': 1616, 'tired': 4501, 'toward': 4539, 'terrific': 4409, 'boy': 557, 'underrated': 4642, 'released': 3603, 'gem': 1877, 'today': 4508, 'real': 3547, 'immensely': 2243, 'enjoyable': 1485, 'korean': 2495, 'ability': 65, 'quiet': 3492, 'capture': 676, 'tend': 4400, 'ive': 2372, 'directors': 1266, 'closest': 857, 'awesome': 371, 'charming': 768, 'girl': 1909, 'however': 2183, 'summary': 4290, 'perspective': 3245, 'start': 4156, 'doing': 1312, 'instead': 2307, 'praise': 3364, 'non': 3027, 'christian': 808, 'lee': 2559, 'captured': 677, 'modern': 2882, 'church': 813, 'regardless': 3590, 'waiting': 4772, 'truly': 4597, 'portrays': 3344, 'darker': 1116, 'speak': 4094, 'share': 3920, 'faith': 1633, 'religious': 3608, 'motives': 2916, 'disney': 1289, 'need': 2987, 'curse': 1086, 'lust': 2689, 'fall': 1637, 'christians': 809, 'available': 361, 'seek': 3858, 'everyday': 1541, 'horrors': 2169, 'character': 758, 'totally': 4532, 'honest': 2146, 'brutal': 603, 'woman': 4921, 'god': 1926, 'bitter': 491, 'loses': 2657, 'exists': 1573, 'refuses': 3587, 'loving': 2675, 'morality': 2903, 'madness': 2698, 'asks': 319, 'questions': 3489, 'mind': 2849, 'allow': 189, 'terrible': 4407, 'happen': 2026, 'answer': 251, 'interpretation': 2328, 'future': 1856, 'main': 2707, 'brings': 587, 'secret': 3849, 'sunshine': 4294, 'full': 1846, 'circle': 821, 'lies': 2591, 'worked': 4941, 'series': 3890, 'dark': 1115, 'angels': 234, 'potential': 3355, 'slight': 4027, 'problem': 3408, 'finding': 1727, 'feet': 1688, 'unusual': 4681, 'feeling': 1685, 'focused': 1767, 'todays': 4509, 'catch': 714, 'instantly': 2306, 'halfway': 2008, 'minute': 2858, 'pilot': 3276, 'feels': 1687, 'episodes': 1508, 'focus': 1766, 'half': 2007, 'introduced': 2337, 'max': 2774, 'filled': 1715, 'drives': 1367, 'interesting': 2325, 'using': 4698, 'abilities': 64, 'co': 867, 'workers': 4943, 'domestic': 1318, 'problems': 3409, 'ordinary': 3128, 'normal': 3033, 'television': 4394, 'otherwise': 3137, 'hit': 2122, 'purpose': 3474, 'throughout': 4478, 'attention': 345, 'journalist': 2420, 'mission': 2870, 'save': 3794, 'dirty': 1268, 'resulting': 3661, 'mess': 2818, 'sets': 3899, 'premise': 3370, 'works': 4945, 'pieces': 3273, 'couple': 1016, 'image': 2233, 'episode': 1507, 'easily': 1406, 'told': 4513, 'eight': 1436, 'less': 2575, 'support': 4303, 'doubt': 1332, 'changed': 750, 'quality': 3484, 'id': 2212, 'jessica': 2398, 'short': 3946, 'terms': 4406, 'convincing': 985, 'news': 3005, 'top': 4525, 'notch': 3043, 'considered': 951, 'expensive': 1579, 'produce': 3413, 'unfortunate': 4653, 'order': 3126, 'season': 3843, 'simply': 3986, 'garbage': 1870, 'reality': 3551, 'angel': 231, 'imagination': 2236, 'draw': 1349, 'seven': 3903, 'ten': 4399, 'above': 68, 'within': 4912, 'often': 3095, 'matters': 2770, 'concerned': 932, 'agree': 155, 'critics': 1064, 'incredibly': 2270, 'downright': 1337, 'others': 3136, 'awful': 372, 'mix': 2876, 'science': 3816, 'propaganda': 3435, 'offended': 3085, 'examples': 1554, 'term': 4405, 'manner': 2729, 'cause': 723, 'obscure': 3068, 'master': 2757, 'himself': 2111, 'described': 1195, 'politics': 3326, 'indeed': 2271, 'general': 1880, 'clear': 839, 'intent': 2318, 'slave': 4022, 'states': 4163, 'hitler': 2124, 'party': 3200, 'movement': 2923, 'claim': 828, 'considerable': 950, 'study': 4242, 'ah': 158, 'americans': 214, 'instant': 2305, 'mistake': 2871, 'asked': 317, 'clearly': 840, 'attempts': 343, 'ask': 316, 'possibly': 3351, 'answers': 252, 'exist': 1569, 'expert': 1585, 'mention': 2810, 'speaks': 4096, 'voice': 4761, 'amazed': 208, 'grasp': 1960, 'century': 736, 'past': 3207, 'present': 3374, 'existed': 1570, 'atlantis': 332, 'suppose': 4305, 'financial': 1725, 'advice': 133, 'forgot': 1796, 'creator': 1043, 'fault': 1668, 'funniest': 1851, 'watched': 4813, 'dvd': 1391, 'disc': 1278, 'features': 1680, 'necessarily': 2983, 'care': 684, 'judge': 2424, 'case': 707, 'basis': 408, 'big': 478, 'studio': 4240, 'smaller': 4034, 'forgive': 1795, 'imaginative': 2237, 'sequences': 3888, 'alan': 171, 'claire': 831, 'across': 96, 'unrealistic': 4677, 'personally': 3243, 'helped': 2080, 'engage': 1479, 'gratuitous': 1961, 'sex': 3907, 'nudity': 3059, 'sometimes': 4067, 'swear': 4334, 'cameos': 658, 'actors': 104, 'days': 1130, 'pay': 3216, 'per': 3223, 'number': 3060, 'call': 651, 'rent': 3626, 'calling': 653, 'someone': 4064, 'asking': 318, 'hours': 2177, 'soft': 4051, 'core': 995, 'angle': 236, 'crap': 1031, 'bring': 585, 'kick': 2460, 'hard': 2033, 'shut': 3961, 'commit': 904, 'bank': 394, 'goes': 1930, 'plenty': 3307, 'spoof': 4127, 'category': 718, 'dare': 1113, 'report': 3635, 'pretentious': 3383, 'drivel': 1364, 'develop': 1222, 'existent': 1572, 'promising': 3433, 'shall': 3916, 'aspect': 321, 'uninteresting': 4660, 'ends': 1474, 'boring': 543, 'protagonist': 3441, 'goal': 1925, 'empty': 1465, 'lack': 2502, 'formula': 1802, 'confused': 941, 'zero': 4996, 'content': 966, 'high': 2100, 'expectations': 1576, 'renting': 3629, 'disappointed': 1273, 'fell': 1690, 'apart': 264, 'wasnt': 4807, 'except': 1556, 'maybe': 2776, 'dick': 1239, 'ian': 2209, 'la': 2500, 'solid': 4057, 'work': 4940, 'job': 2405, 'universe': 4666, 'weak': 4824, 'fortunately': 1805, 'success': 4265, 'excellent': 1555, 'humour': 2194, 'fabulous': 1615, 'music': 2946, 'else': 1448, 'festival': 1697, 'reunion': 3669, 'brilliant': 583, 'careers': 687, 'lynch': 2691, 'around': 297, 'travels': 4569, 'six': 4010, 'weeks': 4839, 'role': 3726, 'small': 4033, 'cinema': 816, 'missed': 2867, 'notable': 3041, 'living': 2629, 'loss': 2659, 'dad': 1095, 'photos': 3261, 'shock': 3938, 'rock': 3720, 'genre': 1888, 'explicit': 1591, 'act': 97, 'expect': 1575, 'porn': 3336, 'become': 433, 'hasnt': 2044, 'industry': 2280, 'already': 197, 'rape': 3521, 'fool': 1779, 'believing': 457, 'miike': 2837, 'fails': 1628, 'becomes': 434, 'mild': 2839, 'choose': 799, 'adventure': 130, 'game': 1864, 'offers': 3090, 'fun': 1848, 'easy': 1410, 'staying': 4168, 'comic': 893, 'providing': 3451, 'learning': 2552, 'narration': 2965, 'animated': 241, 'lengthy': 2570, 'advantage': 129, 'cartoon': 704, 'worse': 4951, 'whos': 4876, 'afraid': 140, 'brave': 567, 'went': 4847, 'library': 2589, 'celluloid': 731, 'kids': 2467, 'effective': 1429, 'talents': 4356, 'christopher': 811, 'lloyd': 2630, 'pointless': 3318, 'dull': 1384, 'voices': 4763, 'goldberg': 1933, 'patrick': 3213, 'leonard': 2572, 'hollywood': 2137, 'frank': 1821, 'describe': 1194, '1990s': 25, 'equivalent': 1512, 'water': 4816, 'bland': 500, 'animation': 242, 'godfather': 1927, 'aside': 315, 'alike': 185, 'tony': 4521, 'forced': 1787, 'psychiatrist': 3455, 'panic': 3181, 'attacks': 339, 'learns': 2553, 'families': 1644, 'ruthless': 3764, 'analysis': 224, 'dr': 1340, 'personality': 3242, 'nearly': 2981, 'recognized': 3570, 'equally': 1510, 'talented': 4355, 'van': 4713, 'street': 4216, 'band': 391, 'friend': 1835, 'uncle': 4636, 'fans': 1650, 'exception': 1557, 'stunning': 4244, 'unconvincing': 4638, 'hold': 2129, 'moment': 2886, 'deliver': 1169, 'build': 614, 'suspense': 4330, 'police': 3322, 'dentist': 1180, 'record': 3573, 'kidnapped': 2466, 'escapes': 1519, 'arrive': 300, 'anti': 254, 'inside': 2297, 'thinking': 4453, 'adds': 119, 'fully': 1847, 'aware': 368, 'tension': 4404, 'insult': 2309, 'viewer': 4738, 'personal': 3240, 'fear': 1676, 'hitchcock': 2123, 'proved': 3446, 'disappointment': 1275, 'sit': 4003, 'quick': 3490, 'twelve': 4611, 'definitely': 1162, 'compared': 912, 'covers': 1024, 'themes': 4434, '25': 40, 'day': 1129, 'heard': 2062, 'writing': 4971, 'guess': 1989, 'succeeded': 4263, 'wonder': 4926, 'qualities': 3483, 'credit': 1049, 'given': 1913, 'basic': 406, 'thriller': 4472, 'murder': 2939, 'keeps': 2451, 'guessing': 1991, 'kinds': 2478, 'standard': 4144, 'st': 4137, 'reminds': 3620, 'type': 4621, '40s': 49, 'neither': 2996, 'dramatic': 1348, 'complicated': 925, 'robert': 3713, 'lewis': 2586, 'adapted': 114, 'screen': 3829, 'reads': 3545, 'jane': 2380, 'men': 2805, 'tale': 4353, 'romance': 3732, 'battle': 414, 'prison': 3401, 'mistaken': 2872, 'line': 2610, 'barely': 399, 'knew': 2486, 'absolutely': 72, 'stellar': 4174, 'jean': 2389, 'anna': 245, 'refreshing': 3586, 'delight': 1167, 'richardson': 3688, 'walks': 4780, 'wise': 4903, 'aunt': 355, 'grant': 1956, 'relief': 3605, 'highest': 2102, 'energy': 1478, 'elm': 1447, 'freddy': 1826, 'killing': 2472, 'actual': 108, 'development': 1225, 'insulting': 2310, 'scary': 3807, 'tag': 4348, 'table': 4346, 'ray': 3533, 'spike': 4111, 'vs': 4767, 'eddie': 1416, 'chris': 806, 'started': 4157, 'against': 147, 'according': 88, 'turns': 4609, 'german': 1896, 'corner': 996, 'outside': 3146, 'ring': 3698, 'onto': 3111, 'double': 1331, 'irish': 2353, 'caught': 722, 'fire': 1734, 'drops': 1372, 'held': 2074, 'bay': 416, 'shortly': 3947, 'continued': 970, 'rescue': 3643, 'managed': 2723, 'moved': 2922, 'sent': 3880, 'bomb': 531, 'winner': 4897, 'championship': 745, 'jamie': 2379, 'noble': 3021, 'billy': 482, 'locked': 2637, 'moves': 2925, 'spread': 4133, 'threw': 4470, 'taken': 4350, 'arm': 292, 'bar': 396, 'attack': 337, 'finish': 1732, 'shooting': 3943, 'press': 3379, 'broke': 593, 'attempt': 340, 'rolled': 3729, 'soon': 4074, 'european': 1530, 'william': 4887, 'jeff': 2390, 'knock': 2488, 'shot': 3949, 'surprise': 4312, 'keep': 2449, 'promised': 3431, 'career': 686, 'vengeance': 4719, 'teach': 4374, 'until': 4680, 'grab': 1949, 'followed': 1773, 'nasty': 2968, 'connected': 945, 'cover': 1022, 'walls': 4783, 'ideas': 2215, 'via': 4726, 'mr': 2929, 'fits': 1741, 'kicked': 2461, 'steel': 4173, 'steps': 4177, 'frustration': 1843, 'pulled': 3462, 'charge': 761, 'floor': 1759, 'throwing': 4480, 'ease': 1404, 'painfully': 3172, 'suffer': 4275, 'returned': 3666, 'temple': 4398, 'rolling': 3730, 'count': 1010, 'immediately': 2242, 'blows': 517, 'leg': 2562, 'picked': 3266, 'chair': 742, 'faced': 1617, 'kicks': 2463, 'thrown': 4481, 'camera': 659, 'cable': 644, 'spanish': 4092, 'position': 3345, 'delivered': 1170, 'throat': 4476, 'met': 2822, 'blow': 514, 'drop': 1369, 'hoped': 2156, 'eric': 1514, 'involved': 2346, 'signed': 3971, 'raw': 3532, 'spent': 4108, 'looking': 2648, 'talking': 4360, 'hed': 2072, 'opportunities': 3120, 'issue': 2364, 'pitch': 3279, 'cut': 1089, 'stop': 4201, 'forth': 1804, 'shake': 3914, 'devil': 1228, 'further': 1853, 'trouble': 4592, 'remembered': 3617, 'nobody': 3022, 'offer': 3087, 'official': 3094, 'switch': 4339, 'difference': 1246, 'side': 3965, 'storm': 4206, 'edge': 1418, 'loud': 2664, 'usa': 4691, 'boot': 538, 'icon': 2211, 'dropped': 1370, 'test': 4416, 'allowing': 191, 'threat': 4467, 'kurt': 2499, 'three': 4469, 'successful': 4266, 'hanging': 2023, 'balance': 387, 'form': 1798, 'beat': 423, 'repeatedly': 3632, 'peoples': 3222, 'nearby': 2980, 'bottle': 550, 'turn': 4605, 'hands': 2020, 'dead': 1132, 'somehow': 4063, 'tap': 4364, 'ride': 3692, 'covered': 1023, 'pain': 3170, 'counter': 1011, 'angles': 237, 'rocky': 3723, 'bottom': 551, 'finally': 1724, 'lately': 2524, 'werent': 4849, 'mill': 2845, 'sci': 3815, 'fi': 1701, 'approach': 282, 'painted': 3174, 'whats': 4860, 'close': 853, 'technology': 4385, 'overly': 3155, 'impressive': 2253, 'props': 3439, 'intentionally': 2320, 'shallow': 3917, 'jeremy': 2394, 'figure': 1711, 'interested': 2324, 'important': 2247, 'disturbing': 1300, 're': 3535, 'scooby': 3820, 'doo': 1325, 'company': 910, 'sound': 4081, 'sounded': 4082, 'outfit': 3144, 'villain': 4744, 'surely': 4309, 'following': 1774, 'style': 4249, 'bizarre': 492, 'weird': 4841, 'grew': 1972, 'handle': 2018, 'proper': 3436, 'enjoying': 1487, 'properly': 3437, 'besides': 468, 'saying': 3800, 'surface': 4310, 'sexual': 3908, 'texas': 4418, 'oil': 3097, 'deep': 1154, 'social': 4049, '1950s': 14, 'douglas': 1334, 'falls': 1640, 'bacall': 377, 'pal': 3177, 'hudson': 2184, 'loves': 2674, 'fly': 1763, 'dorothy': 1330, 'won': 4925, 'biggest': 480, 'epic': 1506, 'nature': 2975, '11': 2, 'surprising': 4315, 'america': 212, 'segment': 3867, 'ken': 2453, 'british': 589, 'events': 1536, 'shocking': 3940, 'painful': 3171, 'etc': 1527, 'majority': 2712, 'writers': 4969, 'tragedy': 4551, 'anybody': 257, '3000': 43, 'deaths': 1142, 'weight': 4840, 'elsewhere': 1449, 'west': 4852, 'thousands': 4466, 'victims': 4730, 'wake': 4774, 'tragic': 4552, 'subsequent': 4257, '12': 3, 'months': 2897, 'solution': 4059, 'revenge': 3675, 'fathers': 1667, 'built': 618, 'justice': 2438, 'sees': 3866, 'wonders': 4931, 'drink': 1361, 'bullet': 620, 'firstly': 1737, 'disagree': 1269, 'user': 4696, 'calls': 654, 'glover': 1923, 'serious': 3891, 'screening': 3830, 'chicago': 785, 'intended': 2315, 'trilogy': 4586, 'art': 304, 'porno': 3337, 'trailer': 4554, 'synopsis': 4344, 'goofy': 1939, 'pot': 3354, 'smoking': 4040, 'dancing': 1107, 'dolls': 1316, 'entertained': 1498, 'striking': 4226, 'images': 2235, 'fantastic': 1651, 'amounts': 220, 'ladies': 2506, 'joseph': 2419, 'brady': 561, 'gene': 1879, 'kelly': 2452, 'shy': 3962, 'innocent': 2294, 'sinatra': 3989, 'guessed': 1990, '1940s': 13, 'ridiculous': 3693, 'annoying': 249, 'numbers': 3061, 'catching': 716, 'magical': 2704, 'none': 3028, 'particularly': 3195, 'memorable': 2802, 'rich': 3685, 'mgm': 2828, 'literally': 2622, 'breath': 573, 'highlights': 2104, 'famous': 1647, 'sequence': 3887, 'dances': 1106, 'jerry': 2396, 'mouse': 2919, 'cameo': 657, 'dean': 1139, 'steals': 4172, 'huge': 2185, 'visually': 4758, 'possible': 3350, 'lit': 2621, 'entirely': 1503, 'virtually': 4751, 'black': 493, 'video': 4733, 'transfer': 4559, 'alas': 172, 'word': 4937, 'filmmakers': 1720, 'throw': 4479, 'unoriginal': 4673, 'logic': 2638, 'abandoned': 62, 'danger': 1109, 'message': 2819, 'everybody': 1540, 'adequate': 120, 'simplistic': 3985, 'let': 2579, 'thinks': 4454, 'genuinely': 1892, 'emotions': 1461, 'express': 1600, 'single': 3996, 'facial': 1619, 'expression': 1602, 'speed': 4103, 'defend': 1158, 'entertaining': 1499, 'thomas': 4458, 'compare': 911, 'elephant': 1444, 'theatre': 4429, 'satisfied': 3789, 'brain': 562, 'obvious': 3071, 'succeeds': 4264, 'parody': 3192, 'reference': 3582, 'stale': 4141, 'student': 4238, 'rise': 3702, 'excuse': 1564, 'proof': 3434, 'crafted': 1029, 'reviewer': 3677, 'roll': 3728, 'catholic': 720, 'mass': 2753, '35': 45, 'stuff': 4243, 'sexuality': 3909, 'wouldnt': 4958, 'rented': 3628, 'ugly': 4625, 'taste': 4369, 'hate': 2046, 'themselves': 4435, 'offensive': 3086, 'respect': 3652, 'education': 1424, 'teachers': 4376, '50s': 52, 'whatever': 4859, 'write': 4967, 'heads': 2059, 'essential': 1522, 'ya': 4976, 'advanced': 128, 'degree': 1164, 'stand': 4143, 'matter': 2769, 'lousy': 2667, 'rotten': 3740, 'badly': 383, 'trust': 4598, 'taught': 4370, 'mixed': 2877, 'stupid': 4247, 'sat': 3786, 'semi': 3874, 'sucks': 4271, 'positive': 3346, 'girls': 1911, 'clothing': 861, 'deal': 1135, 'confusion': 943, 'bought': 552, 'raped': 3522, 'popcorn': 3331, 'believable': 453, 'accent': 78, 'mans': 2730, 'military': 2844, 'ship': 3934, 'captain': 674, 'daddy': 1096, 'paid': 3169, 'crime': 1055, 'central': 735, 'unaware': 4632, 'edited': 1420, 'shown': 3959, 'internet': 2327, 'glad': 1916, 'chose': 804, 'felt': 1692, 'compelled': 915, 'discovered': 1280, 'britain': 588, 'influenced': 2287, 'fat': 1663, 'matt': 2768, 'piece': 3272, 'genius': 1887, 'serial': 3889, 'unique': 4662, 'location': 2635, 'town': 4541, 'favorite': 1671, 'clever': 841, 'wholly': 4874, 'unexpected': 4650, 'compelling': 916, 'comedies': 889, 'hill': 2108, 'red': 3576, 'keeping': 2450, 'appearances': 275, 'office': 3091, 'unlike': 4670, 'sick': 3963, 'twisted': 4618, 'broadcast': 591, 'lame': 2510, 'channels': 754, 'guts': 1999, 'versions': 4721, 'thankfully': 4422, 'medium': 2792, 'decade': 1144, 'tiny': 4500, 'graphic': 1958, 'drug': 1373, 'adults': 126, 'showing': 3958, 'behavior': 446, 'obsession': 3070, 'blowing': 515, 'format': 1799, 'lots': 2662, 'wasted': 4809, 'air': 164, 'anyway': 261, 'saving': 3797, 'spring': 4134, 'visits': 4756, 'chain': 741, 'paint': 3173, 'note': 3044, 'greater': 1965, 'track': 4544, 'gone': 1935, 'bloody': 513, 'theme': 4433, 'created': 1037, 'demented': 1176, 'sight': 3969, 'horrifying': 2167, 'performers': 3232, 'try': 4600, 'slap': 4018, 'sign': 3970, 'death': 1141, 'exceptionally': 1559, 'gorgeous': 1942, 'clark': 832, 'fighter': 1708, 'crew': 1053, 'opens': 3115, 'gang': 1867, 'members': 2801, 'criminals': 1058, 'beloved': 461, 'grand': 1953, 'parents': 3188, 'teeth': 4393, 'butt': 638, 'beating': 425, 'hot': 2174, 'appreciated': 280, 'nude': 3058, 'irritating': 2359, 'harsh': 2040, 'sheer': 3925, 'ears': 1402, 'concerning': 933, 'dialogue': 1234, 'occurs': 3078, 'park': 3190, 'sole': 4055, 'eye': 1611, 'sleazy': 4023, 'briefly': 580, 'court': 1020, 'group': 1980, 'mate': 2765, 'severe': 3906, 'strangely': 4212, 'buddy': 609, 'extra': 1606, 'edward': 1426, 'direction': 1261, 'pace': 3161, 'numerous': 3062, 'pull': 3461, 'stops': 4203, 'exciting': 1563, 'anderson': 227, 'gritty': 1977, 'photography': 3260, 'exploitation': 1592, 'hardcore': 2034, 'junk': 2436, 'eg': 1434, 'recently': 3567, 'difficult': 1249, 'understanding': 4645, 'presents': 3377, 'contemporary': 965, 'fairy': 1632, 'recall': 3562, 'reading': 3544, 'sleep': 4024, 'similar': 3978, 'background': 380, 'reflection': 3585, 'dozen': 1338, 'recent': 3566, 'memory': 2804, 'ghosts': 1903, 'speaking': 4095, 'flat': 1748, 'oz': 3160, 'cup': 1080, 'drawing': 1350, 'cartoons': 705, 'friendly': 1836, 'child': 789, 'beginning': 443, 'explore': 1594, 'community': 908, 'reach': 3536, 'cabin': 643, 'rarely': 3524, 'eerie': 1427, 'sounds': 4084, 'overdone': 3152, 'doors': 1329, 'door': 1328, 'repeated': 3631, 'wrap': 4963, 'cinderella': 815, 'hadnt': 2004, 'magic': 2703, 'remains': 3611, 'contains': 964, 'entertain': 1497, 'step': 4175, 'sisters': 4002, 'perfectly': 3226, 'evil': 1548, 'dress': 1357, 'sum': 4289, 'princess': 3397, 'smile': 4036, 'moral': 2902, 'smiling': 4037, 'bob': 524, 'fish': 1738, 'appalling': 268, 'uncomfortable': 4637, 'area': 286, 'white': 4870, 'books': 536, 'popular': 3333, 'typically': 4624, 'appearing': 277, 'stilted': 4190, 'climax': 849, 'cat': 713, 'shop': 3945, 'opportunity': 3121, 'signs': 3973, 'saved': 3795, 'recommend': 3571, 'below': 462, 'par': 3184, 'shakespeare': 3915, 'serving': 3897, 'crimes': 1056, 'results': 3662, 'casting': 711, 'costumes': 1006, 'presentation': 3375, 'occurred': 3077, 'setting': 3900, 'island': 2361, 'contact': 961, 'surrounding': 4319, 'redemption': 3578, 'tear': 4379, 'spoke': 4125, 'depressing': 1188, 'thoughts': 4464, 'event': 1535, 'map': 2733, 'follow': 1772, 'example': 1553, 'stands': 4147, 'prisoners': 3403, 'confidence': 938, 'prepared': 3371, 'kim': 2475, 'cheese': 780, 'laughed': 2532, 'twice': 4613, 'says': 3801, 'streets': 4217, 'forget': 1793, 'yourself': 4993, 'japan': 2381, 'research': 3644, 'suited': 4286, 'ninja': 3018, 'skill': 4013, 'hollow': 2135, 'dozens': 1339, 'drawn': 1351, 'reduced': 3579, 'trash': 4565, 'visual': 4757, 'lead': 2545, 'fighting': 1709, '30': 42, 'franco': 1820, 'clumsy': 866, 'enter': 1494, 'balls': 390, 'flicks': 1755, 'curiosity': 1082, 'roman': 3731, 'concept': 930, 'polanski': 3321, 'playing': 3300, 'favorites': 1672, 'baby': 376, 'mental': 2808, 'former': 1800, 'suicide': 4283, 'victim': 4729, 'building': 615, 'noise': 3024, 'slightest': 4028, 'increasingly': 2268, 'carries': 699, 'dressing': 1359, 'fatal': 1664, 'window': 4894, 'bang': 393, 'disappoint': 1272, 'descent': 1193, 'surreal': 4317, 'resident': 3647, 'drag': 1342, 'thirty': 4456, 'psychological': 3458, 'trip': 4588, 'happened': 2027, 'ended': 1470, 'latter': 2528, 'portraying': 3343, 'directing': 1260, 'phantom': 3251, 'batman': 413, 'robin': 3715, 'forever': 1792, 'range': 3516, 'wrong': 4973, 'whatsoever': 4861, 'valuable': 4708, 'wendy': 4846, 'reveals': 3673, 'rob': 3710, 'virgin': 4749, 'challenge': 743, 'ready': 3546, 'whose': 4877, 'married': 2744, 'responsibility': 3655, 'gift': 1906, 'worker': 4942, 'helping': 2081, 'broken': 594, 'loser': 2655, 'touching': 4536, 'responsible': 3656, 'whether': 4866, 'marriage': 2743, 'technique': 4383, 'disjointed': 1287, 'hour': 2176, '40': 48, 'jumps': 2432, 'editing': 1421, 'flow': 1762, 'stronger': 4230, 'screenplay': 3831, 'rare': 3523, 'cuba': 1075, 'junior': 2435, 'riveting': 3708, 'amazingly': 210, 'parts': 3199, 'worthy': 4956, 'creating': 1039, 'grow': 1982, 'warning': 4800, 'spoilers': 4124, 'dropping': 1371, 'hints': 2113, 'player': 3298, 'london': 2641, 'ruin': 3750, 'prime': 3395, 'jet': 2400, 'pack': 3165, 'ben': 463, 'rocket': 3721, 'faces': 1618, 'enemies': 1476, 'pure': 3471, 'levels': 2585, 'mini': 2854, 'loads': 2633, 'bonus': 534, 'multi': 2935, 'challenging': 744, 'games': 1865, 'load': 2631, 'repetitive': 3633, 'improved': 2255, 'graphics': 1959, 'odd': 3080, 'comment': 898, 'improvement': 2256, 'older': 3101, 'realized': 3553, 'racial': 3501, 'breaks': 571, 'overall': 3150, 'host': 2173, 'celebrity': 729, 'dislike': 1288, 'guest': 1992, 'weekend': 4838, 'clips': 852, 'bits': 490, 'possessed': 3347, 'demon': 1177, 'food': 1778, 'dedicated': 1153, 'bunch': 623, 'kept': 2456, 'consistently': 954, 'youd': 4987, 'spiritual': 4116, 'anymore': 258, 'channel': 753, '2005': 35, 'forms': 1801, '2007': 37, 'french': 1830, 'berlin': 467, 'traveling': 4568, 'whenever': 4863, 'possibility': 3349, 'aid': 160, 'convinced': 984, 'marie': 2737, 'disappointing': 1274, 'insane': 2296, 'alive': 186, 'witnessed': 4915, 'persons': 3244, 'agreed': 156, 'notion': 3050, 'individual': 2277, 'believes': 456, 'similarities': 3979, 'hardly': 2036, 'blade': 495, 'context': 968, 'therefore': 4439, 'source': 4086, 'waited': 4771, 'soccer': 4048, 'football': 1783, 'clue': 864, 'ignore': 2224, 'heaven': 2068, 'color': 877, 'sweet': 4336, 'lovable': 2668, 'root': 3737, 'indian': 2274, 'culture': 1079, 'wedding': 4836, 'accents': 79, 'subtitles': 4259, 'criticism': 1063, 'constantly': 958, 'changing': 752, 'date': 1118, 'sports': 4130, 'women': 4923, 'warming': 4795, 'outstanding': 3147, 'sue': 4274, 'touched': 4534, 'strange': 4211, 'shape': 3919, 'animal': 239, 'aliens': 184, 'result': 3660, 'online': 3109, 'rated': 3527, 'finished': 1733, 'review': 3676, 'account': 89, 'myself': 2953, 'tiresome': 4502, 'reviews': 3679, 'homosexual': 2145, 'teens': 4392, 'suffered': 4276, 'issues': 2365, 'somewhere': 4069, 'hopes': 2159, 'cliché': 844, 'ridden': 3691, 'quotes': 3497, 'able': 66, 'cinematographer': 819, 'attempting': 342, 'watchable': 4812, 'decided': 1149, 'unnecessary': 4672, 'fitting': 1742, 'heavy': 2070, 'accepted': 82, 'plain': 3286, 'jay': 2386, 'raised': 3508, 'kung': 2498, 'fu': 1844, 'corrupt': 1001, 'upon': 4684, 'luck': 2681, 'cash': 709, 'skills': 4014, 'basketball': 409, 'chosen': 805, 'spot': 4131, 'university': 4667, 'media': 2789, 'leads': 2548, 'rival': 3706, 'quirky': 3493, 'sticks': 4186, 'crowd': 1067, 'luckily': 2682, 'surprisingly': 4316, 'slick': 4026, 'stylish': 4251, 'emotion': 1458, 'larger': 2519, 'revolves': 3682, 'matches': 2764, 'cgi': 740, 'element': 1442, 'existence': 1571, 'significant': 3972, 'fast': 1661, 'choreography': 802, 'artist': 307, 'chinese': 796, 'blockbuster': 509, 'indie': 2276, 'critic': 1061, 'intelligent': 2314, 'producers': 3416, 'curious': 1083, 'yellow': 4981, 'pile': 3275, 'political': 3324, 'views': 4742, 'seriously': 3892, 'male': 2719, '17': 9, 'granted': 1957, 'nowhere': 3056, 'crappy': 1032, 'brown': 601, 'treated': 4573, 'site': 4005, 'vincent': 4746, 'johnson': 2411, 'pink': 3277, 'visible': 4753, 'crying': 1074, 'mentally': 2809, 'display': 1291, 'female': 1693, 'admittedly': 123, 'womens': 4924, 'bodies': 526, 'uk': 4626, 'translation': 4562, 'fresh': 1833, 'scripted': 3835, 'painting': 3175, 'ape': 266, 'horse': 2170, 'cats': 721, 'voiced': 4762, 'dig': 1250, 'telling': 4396, 'monk': 2889, 'breaking': 570, 'europe': 1529, 'lonely': 2643, 'named': 2961, 'superior': 4300, 'lose': 2654, 'train': 4556, 'sits': 4006, 'opposite': 3123, 'troubled': 4593, 'charles': 764, 'hotel': 2175, 'near': 2979, 'mysterious': 2955, 'sentimental': 3882, 'melodramatic': 2798, 'campy': 664, 'extreme': 1609, 'horses': 2171, 'figures': 1713, 'sky': 4017, 'nicely': 3009, 'suits': 4287, 'handsome': 2021, 'helps': 2082, 'drama': 1346, 'nervous': 2999, 'laughter': 2535, 'urban': 4688, 'easier': 1405, 'create': 1036, 'hitting': 2126, 'substance': 4258, 'dialog': 1232, 'hip': 2114, 'revealing': 3672, 'trite': 4589, 'international': 2326, 'cinematic': 818, 'masses': 2755, 'exotic': 1574, 'lovers': 2673, 'ancient': 225, 'equipment': 1511, 'sing': 3992, 'glorious': 1921, 'hence': 2083, 'familiar': 1643, 'altogether': 202, 'introduction': 2339, 'accompanied': 86, 'visuals': 4759, 'kinda': 2477, 'twins': 4616, '13': 4, 'somewhat': 4068, 'veteran': 4724, 'silence': 3974, 'credibility': 1047, 'department': 1182, 'safety': 3772, 'danes': 1108, 'quickly': 3491, 'discovers': 1281, 'obsessed': 3069, 'aint': 163, 'hundreds': 2196, 'desperate': 1208, 'methods': 2825, 'physical': 3262, 'conflicts': 940, 'letting': 2583, 'teenage': 4389, 'battles': 415, 'worried': 4949, 'dangerous': 1110, 'laughable': 2530, 'admit': 122, 'disbelief': 1277, 'limits': 2607, 'destruction': 1216, 'evidence': 1546, 'hurt': 2202, 'ground': 1979, 'letter': 2581, 'australian': 357, 'service': 3896, 'struggling': 4236, 'represented': 3638, 'impossible': 2249, 'staff': 4138, 'closed': 854, 'shame': 3918, 'tone': 4517, 'poignant': 3315, 'promise': 3430, 'details': 1219, 'convince': 983, 'experienced': 1581, 'sadly': 3769, 'obnoxious': 3067, 'dumb': 1385, 'ass': 323, 'joke': 2414, 'disneys': 1290, 'song': 4071, 'arrogant': 303, 'creativity': 1042, 'kubrick': 2496, 'king': 2479, '1980': 20, 'stanley': 4148, 'ruined': 3751, 'kings': 2481, 'correct': 1000, 'purely': 3472, 'adaptation': 113, 'novel': 3052, 'shining': 3933, 'failure': 1629, 'narrative': 2966, 'blame': 499, 'screenwriter': 3833, 'diane': 1238, 'author': 359, 'le': 2544, 'divorce': 1301, 'reputation': 3640, 'subtle': 4260, 'relations': 3596, 'blue': 518, 'merits': 2817, 'logical': 2639, 'consider': 949, 'conventional': 979, 'succeed': 4262, 'overlook': 3153, 'nightmares': 3015, 'notes': 3046, 'jack': 2373, 'ghost': 1902, 'mirror': 2861, 'convoluted': 987, 'growing': 1983, 'exactly': 1551, 'lets': 2580, 'trapped': 4564, 'walk': 4775, 'closet': 858, 'climactic': 848, 'explain': 1586, 'nicholson': 3011, 'pops': 3332, 'field': 1704, 'wall': 4781, 'closing': 859, 'exact': 1550, 'storyline': 4208, 'mood': 2898, 'supernatural': 4302, 'improve': 2254, 'viewings': 4741, 'blood': 512, 'absurd': 73, 'infamous': 2284, 'cynical': 1093, 'son': 4070, 'sitting': 4007, 'brilliance': 582, 'assume': 328, 'scenery': 3810, 'shelley': 3928, 'don': 1320, 'passed': 3202, 'cars': 702, 'likes': 2602, 'treat': 4572, 'pushed': 3478, 'murders': 2943, 'sadistic': 3768, 'tedious': 4387, 'dawn': 1127, 'gain': 1863, 'insight': 2298, 'primary': 3394, 'educational': 1425, 'target': 4366, 'produced': 3414, 'buy': 640, 'wearing': 4831, 'wed': 4835, 'spend': 4105, 'philosophical': 3253, 'youth': 4994, '1960s': 15, 'realism': 3549, 'emotionally': 1460, 'driven': 1365, 'cinematography': 820, 'cry': 1073, 'attractive': 351, 'stooges': 4200, 'redeeming': 3577, 'drinking': 1362, 'heavily': 2069, 'larry': 2520, 'filmed': 1717, 'antics': 255, 'subject': 4253, 'wait': 4770, 'kitchen': 2485, 'eat': 1411, 'contrary': 974, 'comments': 901, 'chuck': 812, 'stretched': 4222, 'fit': 1740, 'currently': 1085, 'aired': 165, 'fifteen': 1706, 'packed': 3166, 'fail': 1625, 'survive': 4321, 'fill': 1714, 'filming': 1718, '2001': 31, 'terrorist': 4413, 'paying': 3217, 'avoid': 363, 'bin': 483, 'planned': 3290, 'nuclear': 3057, 'device': 1227, 'united': 4664, 'chase': 769, 'begins': 444, 'plus': 3311, 'smart': 4035, 'simmons': 3981, 'eyes': 1613, 'border': 539, 'aids': 161, 'household': 2179, 'believed': 455, 'ensues': 1493, 'hoping': 2160, 'videos': 4734, 'interview': 2329, 'inspiration': 2300, 'whom': 4875, 'seemingly': 3863, 'costume': 1005, 'current': 1084, 'cold': 872, 'sell': 3871, 'punk': 3468, 'hippie': 2115, 'portrait': 3339, '60': 53, '90': 60, 'unknown': 4668, 'melting': 2799, 'tommy': 4516, 'martin': 2748, 'dreadful': 1353, 'random': 3514, 'gags': 1862, 'talks': 4361, 'officers': 3093, 'anger': 235, 'reaction': 3541, 'julie': 2428, 'timing': 4498, 'pair': 3176, 'remotely': 3623, 'horrific': 2166, 'deserve': 1199, 'wrote': 4974, 'embarrassed': 1453, 'stupidity': 4248, '80': 58, 'irony': 2357, 'attempted': 341, 'vacation': 4704, 'stock': 4193, 'adam': 111, 'sandler': 3781, 'warn': 4797, 'stinks': 4192, 'credits': 1050, 'lighting': 2596, 'accident': 84, 'picks': 3268, 'lab': 2501, 'pan': 3180, 'neck': 2985, 'torn': 4528, 'mystery': 2956, 'impressed': 2251, 'technically': 4382, 'melodrama': 2797, 'activities': 102, 'hunting': 2201, 'offering': 3089, 'wives': 4918, 'footage': 1782, 'recognize': 3569, 'animals': 240, 'fascinating': 1658, 'bear': 420, 'whale': 4857, 'documentary': 1307, 'makers': 2715, 'authentic': 358, 'stated': 4161, 'royal': 3746, 'canadian': 667, 'strictly': 4223, 'leading': 2547, 'professional': 3421, 'earlier': 1399, 'makeup': 2717, 'starting': 4158, 'scripts': 3836, 'colors': 879, 'overrated': 3156, 'pie': 3271, 'ingredients': 2289, 'outer': 3143, 'space': 4090, 'crude': 1069, 'unintentionally': 4659, 'affair': 135, 'ridiculously': 3694, 'basically': 407, 'hint': 2112, 'futuristic': 1857, 'computer': 927, 'displays': 1293, 'mistakes': 2873, 'deserves': 1201, 'higher': 2101, 'lower': 2677, 'achieved': 93, 'conspiracy': 956, 'western': 4853, 'president': 3378, 'return': 3665, 'multiple': 2936, 'narrator': 2967, 'seat': 3845, 'allows': 192, 'connect': 944, 'wonderfully': 4929, 'ahead': 159, 'masterpiece': 2759, 'citizen': 824, 'search': 3841, 'dubbed': 1379, '50': 51, 'stephen': 4176, 'detective': 1220, 'donald': 1321, 'sutherland': 4333, 'investigation': 2343, 'jeffrey': 2391, 'hbo': 2055, 'theatrical': 4430, 'holes': 2133, 'choice': 797, 'talked': 4359, 'imagined': 2239, 'guarantee': 1987, 'thoroughly': 4459, 'sequel': 3885, 'inferior': 2285, 'indians': 2275, 'chief': 788, 'leader': 2546, 'warriors': 4803, 'harris': 2038, 'resist': 3648, 'vision': 4754, 'uneven': 4649, 'corny': 997, 'sequels': 3886, '18': 10, 'tracy': 4546, 'negative': 2991, 'mainly': 2708, 'messed': 2821, 'madonna': 2699, 'warren': 4801, 'beatty': 427, 'competent': 917, 'added': 116, 'pacino': 3164, 'apparently': 270, 'bold': 528, 'previously': 3388, 'niro': 3019, 'thanks': 4423, 'travel': 4567, 'creepy': 1052, 'outrageous': 3145, 'creative': 1041, 'figured': 1712, 'passes': 3203, 'dubbing': 1380, 'usual': 4699, 'countries': 1013, 'solve': 4060, 'strikes': 4225, 'technical': 4381, 'classical': 836, 'slightly': 4029, 'unpleasant': 4674, 'stress': 4220, 'prefer': 3368, 'un': 4630, 'dies': 1245, 'mountain': 2917, 'lover': 2672, 'cute': 1090, 'causing': 726, 'theaters': 4428, 'canada': 666, 'mothers': 2912, 'attitudes': 347, 'unfolds': 4651, 'empathy': 1462, 'likable': 2598, 'lake': 2509, 'relationship': 3597, 'sons': 4073, 'experiences': 1582, 'ellen': 1446, 'stone': 4197, 'hook': 2152, 'complex': 923, 'lily': 2605, 'mars': 2746, 'consists': 955, 'light': 2595, 'breathtaking': 574, 'dvds': 1392, 'contained': 963, 'broadway': 592, 'alternate': 200, 'concerns': 934, 'identity': 2217, 'involving': 2349, 'dancers': 1105, 'dancer': 1104, 'legs': 2566, 'dating': 1120, 'mentioned': 2811, 'reporter': 3636, 'confusing': 942, 'performed': 3230, 'hilariously': 2107, 'print': 3399, 'buffs': 612, 'fashioned': 1660, 'chorus': 803, 'exposure': 1599, 'musicals': 2948, 'dance': 1103, 'combination': 883, 'flesh': 1753, 'introduce': 2336, 'passion': 3205, 'performing': 3233, 'sacrifice': 3766, 'ballet': 389, 'hundred': 2195, 'hello': 2078, 'exploration': 1593, 'memories': 2803, 'vehicle': 4718, 'miscast': 2862, 'reed': 3580, 'michelle': 2830, 'jones': 2418, 'finale': 1723, 'hype': 2207, 'revelation': 3674, 'contest': 967, 'metal': 2823, 'dressed': 1358, 'hideous': 2098, 'monsters': 2893, 'gradually': 1952, 'importantly': 2248, 'absolute': 71, 'singer': 3993, 'hopeless': 2158, 'clichés': 846, 'supposedly': 4307, 'greatly': 1967, 'busy': 635, 'illness': 2230, 'screaming': 3827, 'sinister': 3998, 'explanation': 1590, 'atmosphere': 333, 'cards': 683, 'traditional': 4550, 'asian': 314, 'national': 2970, 'land': 2511, 'thousand': 4465, 'ideal': 2214, 'potentially': 3356, 'tales': 4357, 'blend': 504, 'board': 522, 'intrigued': 2334, 'attitude': 346, 'killed': 2469, 'florida': 1761, 'projects': 3428, 'neighbors': 2994, 'cried': 1054, 'realistic': 3550, 'fate': 1665, 'rings': 3699, 'period': 3236, 'african': 142, '1970s': 17, '1980s': 21, 'dying': 1393, 'sitcom': 4004, 'singers': 3994, 'philosophy': 3254, 'system': 4345, 'planet': 3289, 'lifestyle': 2593, 'program': 3424, 'property': 3438, '2000': 30, 'cameron': 661, 'award': 366, 'searching': 3842, 'helen': 2075, 'jobs': 2406, 'foreign': 1790, 'hunt': 2198, 'japanese': 2382, 'secondly': 3847, 'types': 4622, 'nations': 2971, 'escape': 1517, 'costs': 1004, 'maker': 2714, 'plant': 3293, 'credible': 1048, 'prove': 3445, 'becoming': 435, 'shirley': 3936, 'manager': 2724, 'deeply': 1156, 'related': 3594, 'dream': 1354, 'college': 875, 'cultural': 1078, 'situation': 4008, 'explosion': 1596, 'represents': 3639, 'transformation': 4560, 'society': 4050, 'marks': 2742, 'understood': 4647, '70': 55, 'profound': 3423, 'changes': 751, 'represent': 3637, 'perform': 3227, 'hide': 2097, 'couples': 1017, 'magnificent': 2705, 'depicted': 1183, 'hiding': 2099, 'instinct': 2308, 'method': 2824, 'students': 4239, 'suffers': 4278, 'access': 83, 'weapons': 4829, 'fake': 1635, 'professor': 3422, 'flying': 1764, 'accurate': 90, 'plane': 3288, 'inner': 2292, 'returning': 3667, 'depicts': 1186, 'enterprise': 1495, 'achievement': 94, 'extras': 1608, 'flaw': 1749, 'putting': 3482, 'offered': 3088, 'whilst': 4869, 'involvement': 2347, 'notice': 3048, 'discuss': 1283, 'stunt': 4245, 'claims': 830, 'feature': 1678, 'discussion': 1284, 'tracks': 4545, 'bourne': 554, 'thrilling': 4474, 'installment': 2303, 'heres': 2087, 'damon': 1101, 'summer': 4291, 'desire': 1205, 'reactions': 3542, 'wrapped': 4964, 'thrillers': 4473, 'treats': 4575, 'sexually': 3910, 'bored': 541, 'directly': 1263, 'string': 4227, 'involve': 2345, 'class': 833, 'prostitute': 3440, 'nancy': 2964, 'allen': 188, 'caine': 647, 'rip': 3700, 'homage': 2141, 'loaded': 2632, 'jump': 2429, 'scares': 3806, 'trademark': 4548, 'cliff': 847, 'jesse': 2397, 'needless': 2989, 'atrocious': 335, 'kills': 2474, 'horrendous': 2162, 'caused': 724, 'glory': 1922, 'path': 3209, 'pictures': 3270, 'morgan': 2905, 'freeman': 1829, 'romantic': 3733, 'yesterday': 4983, 'carry': 700, 'gray': 1963, 'realizes': 3554, 'common': 906, 'intriguing': 2335, 'ludicrous': 2685, 'twists': 4619, 'process': 3412, 'chemistry': 782, 'captivating': 675, 'discovery': 1282, 'discover': 1279, 'captures': 678, 'yeah': 4977, 'collection': 874, 'combined': 885, 'critical': 1062, 'generic': 1885, 'affected': 137, 'state': 4160, 'tie': 4488, 'coherent': 871, 'fourth': 1813, 'novels': 3053, 'gore': 1941, 'motion': 2913, 'swedish': 4335, 'stays': 4169, 'generous': 1886, 'hidden': 2096, 'sleeping': 4025, 'advance': 127, 'suspenseful': 4331, 'enters': 1496, 'folks': 1771, 'daniel': 1111, 'harry': 2039, 'hills': 2109, 'reviewers': 3678, 'curtis': 1087, 'childish': 791, 'storytelling': 4209, 'behave': 445, 'separate': 3883, 'nights': 3016, 'capital': 673, 'southern': 4088, 'designed': 1203, 'scare': 3803, 'chapter': 757, 'sarah': 3785, 'decades': 1145, 'drunken': 1376, 'pleasure': 3306, 'wore': 4939, 'baseball': 403, 'anyways': 262, 'mysteries': 2954, 'radio': 3504, 'city': 825, 'due': 1382, 'burns': 628, 'walter': 4784, 'matthau': 2771, 'deserved': 1200, 'younger': 4990, 'front': 1841, 'kudos': 2497, 'vhs': 4725, 'recording': 3575, 'woody': 4936, 'earth': 1403, 'creatures': 1046, 'eventually': 1537, 'population': 3335, 'racist': 3503, 'albeit': 173, 'satire': 3788, 'pointed': 3317, 'fiction': 1702, 'wanting': 4790, 'matrix': 2767, 'remind': 3618, 'jesus': 2399, 'fired': 1735, 'whoever': 4872, 'heat': 2067, 'pleased': 3305, 'sam': 3777, 'sullivan': 4288, 'jr': 2423, 'facing': 1620, 'hanks': 2025, 'serves': 3895, 'tied': 4489, 'contract': 973, 'law': 2538, 'pretend': 3381, 'oscars': 3134, 'rain': 3506, 'shadows': 3913, '75': 57, 'product': 3418, 'darkness': 1117, 'heroes': 2089, 'runs': 3757, 'rachel': 3500, 'ward': 4793, 'pop': 3330, 'featuring': 1681, 'headed': 2058, 'turner': 4607, 'conservative': 948, 'liberal': 2588, 'opposed': 3122, 'war': 4792, 'iraq': 2351, 'safe': 3771, 'cusack': 1088, 'bbc': 417, 'appeal': 271, 'suit': 4284, 'intentions': 2321, 'intention': 2319, 'unfunny': 4655, 'comical': 894, 'daily': 1097, 'blank': 501, 'list': 2617, 'deliberately': 1166, 'references': 3583, 'neo': 2998, 'wing': 4896, 'detailed': 1218, 'subtlety': 4261, 'homer': 2144, 'simpson': 3987, 'proves': 3447, 'required': 3641, 'nevertheless': 3002, 'nurse': 3063, 'ted': 4386, 'inept': 2281, 'conversation': 980, 'wandering': 4785, 'machine': 2693, 'armed': 293, 'plan': 3287, 'tree': 4576, 'ear': 1397, 'realise': 3548, 'dude': 1381, 'league': 2549, 'race': 3499, 'satisfying': 3791, 'bill': 481, 'sin': 3988, 'dog': 1310, 'centers': 734, 'inappropriate': 2259, 'displayed': 1292, 'boom': 537, 'mike': 2838, 'consistent': 953, 'contain': 962, 'sun': 4292, 'beach': 419, 'hooked': 2153, 'lying': 2690, 'trees': 4577, 'crash': 1033, 'intelligence': 2313, 'tunes': 4603, '16': 8, 'section': 3853, 'sally': 3776, 'anywhere': 263, 'kevin': 2457, 'surrounded': 4318, 'grave': 1962, 'laughing': 2533, 'namely': 2962, 'endings': 1472, 'relationships': 3598, 'creators': 1044, 'horrid': 2165, 'nonsense': 3030, 'glimpse': 1919, 'randomly': 3515, 'became': 431, 'beer': 439, 'prior': 3400, 'provided': 3449, 'resolution': 3649, 'spell': 4104, 'occasionally': 3075, 'con': 928, 'artists': 309, 'margaret': 2735, 'ford': 1789, 'perfection': 3225, 'suspects': 4328, 'essentially': 1523, 'flawless': 1751, 'rank': 3518, 'genres': 1889, 'cringe': 1059, 'toilet': 4512, 'teenagers': 4391, 'commented': 900, 'comfortable': 892, 'cool': 989, 'lie': 2590, 'thus': 4486, 'mechanical': 2788, 'staged': 4140, 'hollywoods': 2138, 'abraham': 69, 'natural': 2973, 'factor': 1622, 'akshay': 169, 'scream': 3826, 'fashion': 1659, 'hole': 2132, 'pretending': 3382, 'initial': 2290, 'extent': 1605, 'senseless': 3878, 'abysmal': 76, 'blair': 497, 'witch': 4909, 'warned': 4798, 'longer': 2645, 'cared': 685, 'macy': 2695, 'tonight': 4519, 'unbelievably': 4635, 'davis': 1126, 'empire': 1464, 'andy': 230, 'clichéd': 845, 'direct': 1258, 'normally': 3034, 'reasonable': 3558, 'circumstances': 822, 'pat': 3208, 'officer': 3092, 'commercials': 903, 'cave': 727, 'strangers': 4214, 'alright': 198, 'flop': 1760, 'somebody': 4062, 'couldve': 1009, 'mask': 2752, 'terror': 4412, 'possibilities': 3348, 'spoiler': 4123, 'wave': 4818, 'shadow': 3912, 'frightening': 1839, 'burton': 630, 'advise': 134, 'spoil': 4121, 'inventive': 2341, 'claimed': 829, 'roger': 3724, 'worthless': 4954, 'lazy': 2543, 'riding': 3695, 'stretch': 4221, 'ex': 1549, 'luke': 2687, 'wilson': 4891, 'strip': 4228, 'september': 3884, 'millions': 2848, 'gruesome': 1986, 'destroy': 1213, 'buildings': 616, 'depth': 1190, 'laws': 2540, 'happening': 2028, 'practice': 3363, 'patient': 3211, 'donna': 1323, 'coffee': 870, 'theyll': 4444, 'physically': 3263, 'block': 508, 'blob': 507, 'amateurish': 207, 'valley': 4707, 'shorts': 3948, 'evident': 1547, 'lyrics': 2692, 'ultra': 4629, 'doctors': 1305, 'neil': 2995, 'felix': 1689, 'freak': 1824, 'throws': 4482, 'lemmon': 2567, 'terribly': 4408, 'gold': 1932, 'nine': 3017, 'depressed': 1187, 'includes': 2263, 'india': 2273, 'thumbs': 4485, 'picking': 3267, 'carpenter': 694, 'cities': 823, 'desperately': 1209, 'teen': 4388, 'independent': 2272, 'arguably': 289, 'amongst': 218, 'buying': 641, 'unpredictable': 4675, 'lawyer': 2541, 'guilty': 1995, 'serve': 3893, 'sentence': 3881, 'proceeds': 3411, 'reveal': 3670, 'directions': 1262, 'expecting': 1578, 'introduces': 2338, 'guide': 1993, 'suggests': 4282, 'australia': 356, 'russell': 3761, '2004': 34, 'centered': 733, 'sappy': 3784, 'samurai': 3779, 'upset': 4687, 'dry': 1377, 'developed': 1223, 'failed': 1626, 'sub': 4252, 'plots': 3310, 'cox': 1026, 'alfred': 181, 'spider': 4109, 'doc': 1303, 'pit': 3278, 'exceptional': 1558, 'subplots': 4256, 'powers': 3361, 'importance': 2246, 'spirits': 4115, 'generations': 1884, 'mere': 2814, 'backdrop': 379, 'jimmy': 2403, 'crush': 1072, 'snl': 4044, 'appropriate': 283, 'drew': 1360, 'goodness': 1938, 'taxi': 4371, 'fever': 1699, 'wishing': 4907, 'italy': 2368, 'purchase': 3469, 'undoubtedly': 4648, 'holding': 2130, 'carrey': 696, 'haunted': 2050, 'countryside': 1015, 'castle': 712, 'vicious': 4728, 'torture': 4529, 'italian': 2367, 'arrival': 299, 'strike': 4224, 'sir': 4000, 'suspect': 4327, 'treatment': 4574, 'gothic': 1945, 'giallo': 1904, 'limited': 2606, 'england': 1482, 'depicting': 1184, 'listening': 2620, 'lumet': 2688, 'retired': 3664, 'situations': 4009, 'structure': 4233, 'wouldve': 4959, 'training': 4558, 'alex': 179, 'debut': 1143, '1968': 16, 'robinson': 3716, 'roy': 3745, 'march': 2734, 'directs': 1267, 'moon': 2900, 'breasts': 572, 'north': 3036, 'east': 1407, 'spain': 4091, 'ironic': 2355, 'letters': 2582, 'bag': 384, 'furthermore': 1854, 'link': 2613, 'nostalgic': 3039, 'effectively': 1430, 'contrast': 975, 'hong': 2149, 'kong': 2494, 'showed': 3956, 'china': 795, 'stereotypes': 4179, 'overlooked': 3154, 'widely': 4881, 'controversial': 978, 'ultimately': 4628, 'relatively': 3600, 'wealthy': 4827, 'appearance': 274, 'depression': 1189, 'ought': 3138, 'local': 2634, 'mafia': 2700, 'accidentally': 85, 'witness': 4914, 'committed': 905, 'backgrounds': 381, 'belongs': 460, 'kate': 2446, 'principal': 3398, 'ritter': 3705, 'dealt': 1138, 'russian': 3762, 'follows': 1775, 'meat': 2787, 'showcase': 3954, 'soviet': 4089, 'incoherent': 2265, 'government': 1948, 'selling': 3873, 'incomprehensible': 2267, 'avoided': 364, 'weapon': 4828, 'army': 295, 'wwii': 4975, 'aka': 168, 'requires': 3642, 'borrowed': 545, 'pursuit': 3476, 'titles': 4506, 'unit': 4663, 'cases': 708, 'spirit': 4113, 'disgusting': 1286, 'charismatic': 763, 'unbearable': 4633, 'comedian': 887, '24': 39, 'brooks': 596, 'companion': 909, 'philip': 3252, 'perry': 3237, 'stewart': 4184, 'sword': 4340, 'abc': 63, 'frankly': 1823, 'settings': 3901, 'conflict': 939, 'steal': 4170, 'suck': 4269, 'miserably': 2864, 'ultimate': 4627, 'prisoner': 3402, 'sean': 3840, 'extraordinary': 1607, 'grace': 1950, 'shoes': 3941, 'candy': 668, 'wondered': 4927, 'adding': 117, 'noticed': 3049, 'foster': 1809, 'careful': 688, 'sharp': 3922, 'object': 3066, '14': 6, 'drugs': 1374, 'mediocre': 2791, 'suitable': 4285, 'irrelevant': 2358, 'hair': 2005, 'cruise': 1071, 'choices': 798, 'questionable': 3488, 'carrie': 697, '90s': 61, 'paris': 3189, 'dialogues': 1235, 'minds': 2852, 'wondering': 4930, 'distracting': 1297, 'relative': 3599, 'editor': 1423, 'julia': 2427, 'loose': 2650, 'rushed': 3760, 'sorry': 4076, 'honestly': 2147, 'wound': 4960, 'clothes': 860, 'saves': 3796, 'afterwards': 145, 'engaged': 1480, 'amount': 219, 'regular': 3592, 'snow': 4045, 'winter': 4900, 'killings': 2473, 'massacre': 2754, 'halloween': 2010, 'violent': 4748, 'hammer': 2014, 'scared': 3805, '60s': 54, 'childhood': 790, 'zombies': 4998, 'thrills': 4475, 'haunting': 2051, 'spooky': 4128, 'design': 1202, 'pacing': 3163, 'frequently': 1832, 'lights': 2597, 'jealous': 2388, 'weve': 4856, 'worthwhile': 4955, 'lucas': 2680, 'wars': 4804, 'travesty': 4570, 'yelling': 4980, 'planning': 3291, 'prequel': 3372, 'digital': 1251, 'everyones': 1543, 'bears': 421, 'doll': 1313, 'jumping': 2431, 'specific': 4099, 'fights': 1710, 'choreographed': 801, 'bigger': 479, 'rough': 3741, 'colour': 880, 'reaches': 3538, 'arms': 294, 'screams': 3828, 'base': 402, 'settle': 3902, 'polished': 3323, 'manage': 2722, 'variety': 4714, 'endless': 1473, 'marry': 2745, 'clues': 865, 'station': 4164, 'acceptable': 81, 'burn': 625, 'unable': 4631, 'uninspired': 4657, 'dinner': 1254, 'bore': 540, 'impression': 2252, 'teenager': 4390, 'unsettling': 4679, 'handled': 2019, 'tense': 4403, 'monster': 2892, 'exposed': 1598, 'nowadays': 3055, 'urge': 4689, 'elvira': 1450, 'genuine': 1891, 'cult': 1077, 'fame': 1642, 'mistress': 2874, 'influence': 2286, 'mid': 2832, 'rental': 3627, 'impress': 2250, 'forgettable': 1794, 'partly': 3197, 'mansion': 2731, 'witty': 4917, 'liners': 2611, 'saturday': 3792, 'builds': 617, 'mildly': 2840, 'showdown': 3955, 'wizard': 4919, 'gas': 1874, 'latest': 2526, 'violence': 4747, 'psychic': 3456, 'religion': 3607, 'caring': 691, 'engaging': 1481, 'creates': 1038, 'affect': 136, 'text': 4419, 'fellow': 1691, 'dealing': 1136, 'styles': 4250, 'remain': 3609, 'utter': 4701, 'wasting': 4810, 'heroine': 2091, 'guard': 1988, 'disaster': 1276, 'stuck': 4237, 'revealed': 3671, 'homeless': 2143, 'mindless': 2851, 'lane': 2515, 'worlds': 4947, 'fantasy': 1652, 'inspired': 2301, 'ie': 2221, 'boat': 523, 'brains': 563, 'miller': 2846, 'clint': 850, 'eastwood': 1409, 'pro': 3406, 'wrestling': 4966, 'eastern': 1408, 'promises': 3432, 'exercise': 1568, 'techniques': 4384, 'dennis': 1179, 'repeat': 3630, 'diana': 1237, 'shelf': 3926, 'fare': 1655, 'morning': 2906, 'california': 650, 'excitement': 1562, 'frequent': 1831, 'gordon': 1940, 'convincingly': 986, 'eccentric': 1414, 'zone': 4999, 'rogers': 3725, 'adorable': 124, 'impact': 2244, 'blonde': 511, 'bat': 410, 'matthew': 2772, '3rd': 47, 'taylor': 4372, 'brenda': 575, 'pokemon': 3320, 'provide': 3448, '20th': 38, 'iran': 2350, 'mountains': 2918, 'landscapes': 2514, 'distinct': 1296, 'mexican': 2826, 'sends': 3876, 'banned': 395, 'snake': 4042, '45': 50, 'pays': 3218, 'struck': 4232, 'eve': 1532, 'elizabeth': 1445, 'bell': 458, 'drags': 1345, 'misses': 2868, 'santa': 3783, 'executive': 1567, 'fred': 1825, '1972': 18, 'starred': 4153, 'murderous': 2942, 'length': 2569, 'segments': 3868, 'flash': 1745, 'established': 1524, 'inevitably': 2283, 'dollars': 1315, 'copies': 992, 'button': 639, 'legend': 2564, 'chest': 784, 'determined': 1221, 'piano': 3264, 'garbo': 1871, 'germany': 1898, 'box': 555, 'erotic': 1515, 'eva': 1531, 'beats': 426, 'minimal': 2855, 'truck': 4595, 'chooses': 800, 'selfish': 3870, 'scale': 3802, 'explains': 1589, 'hates': 2048, 'aspects': 322, 'frame': 1815, 'naive': 2958, 'midnight': 2834, 'mtv': 2933, 'contrived': 976, 'boyfriend': 558, 'encounters': 1467, 'bed': 436, 'alcoholic': 177, 'secretary': 3850, 'secretly': 3851, 'jaw': 2384, 'fictional': 1703, 'loosely': 2651, 'enjoyment': 1488, 'code': 869, 'stanwyck': 4149, 'maggie': 2702, 'tape': 4365, 'holiday': 2134, 'soldier': 4053, 'columbo': 881, 'differences': 1247, 'placed': 3283, 'bride': 577, 'disappeared': 1271, 'absence': 70, 'unwatchable': 4682, 'falk': 1636, 'experiment': 1583, 'karen': 2444, 'jennifer': 2392, 'virginia': 4750, 'basement': 405, 'returns': 3668, 'explained': 1587, 'massive': 2756, 'lacking': 2504, 'skin': 4015, 'amateur': 206, 'gory': 1943, 'tradition': 4549, 'trio': 4587, 'involves': 2348, 'floating': 1758, 'green': 1971, 'enjoys': 1489, 'flight': 1757, 'brooklyn': 595, 'bright': 581, 'scientific': 3817, 'rat': 3525, 'size': 4012, 'creature': 1045, 'giant': 1905, 'civilization': 827, 'sid': 3964, 'trashy': 4566, 'mine': 2853, 'anime': 243, 'cg': 739, 'failing': 1627, 'causes': 725, 'sophisticated': 4075, 'brosnan': 597, 'bond': 532, 'mainstream': 2709, 'sidekick': 3966, 'neighbor': 2992, 'accomplished': 87, 'health': 2060, 'baker': 385, 'buck': 605, 'stinker': 4191, 'apparent': 269, 'model': 2880, 'childrens': 793, 'misery': 2865, 'grandmother': 1955, 'worry': 4950, 'explaining': 1588, 'cheated': 775, 'woods': 4935, 'attacked': 338, 'regarding': 3589, 'experiments': 1584, 'wes': 4851, 'steve': 4181, 'pleasantly': 3303, 'stiff': 4187, 'sloppy': 4030, 'horribly': 2164, 'transition': 4561, 'commercial': 902, 'overacting': 3149, 'thick': 4447, 'hated': 2047, 'south': 4087, 'ignorant': 2223, 'mentions': 2813, 'proud': 3444, 'bible': 477, 'pulling': 3463, 'jon': 2416, 'pitt': 3280, 'ham': 2011, 'museum': 2945, 'groups': 1981, 'alcohol': 176, 'sink': 3999, 'toys': 4543, 'equal': 1509, 'hatred': 2049, 'plans': 3292, 'april': 284, 'market': 2740, 'preview': 3386, 'focuses': 1768, 'abuse': 74, 'split': 4120, 'kiss': 2483, 'stomach': 4196, 'terrifying': 4410, 'nightmare': 3014, 'territory': 4411, 'cleverly': 842, 'heroic': 2090, 'voight': 4764, 'burt': 629, 'reynolds': 3684, 'bobby': 525, 'ned': 2986, 'river': 3707, 'pig': 3274, 'unseen': 4678, 'surviving': 4323, 'efforts': 1433, 'dogs': 1311, 'isolated': 2363, 'landscape': 2513, 'finest': 1730, 'shirt': 3937, 'spectacular': 4101, 'africa': 141, 'kingdom': 2480, 'jackson': 2375, 'wannabe': 4787, 'bridge': 578, 'agent': 150, 'demand': 1174, 'dramas': 1347, 'diamond': 1236, '2nd': 41, 'spy': 4135, 'tends': 4402, 'aimed': 162, 'coach': 868, 'addition': 118, 'walked': 4776, 'seeking': 3859, 'olivier': 3103, 'paper': 3183, 'dignity': 1252, 'personalities': 3241, 'embarrassing': 1454, 'connection': 946, 'catchy': 717, 'warmth': 4796, 'enthusiasm': 1501, 'generation': 1883, 'von': 4765, 'month': 2896, 'tender': 4401, 'happiness': 2031, 'unhappy': 4656, 'noir': 3023, 'cross': 1066, 'status': 4165, 'cares': 690, 'ripped': 3701, 'twin': 4615, 'center': 732, 'asleep': 320, 'awkward': 374, 'routine': 3743, 'sympathy': 4343, 'mom': 2885, 'humanity': 2189, 'glass': 1917, 'toy': 4542, 'abusive': 75, 'spoiled': 4122, 'shine': 3931, 'practically': 3362, 'blew': 505, 'village': 4743, 'trade': 4547, 'distribution': 1298, 'idiot': 2218, 'recognition': 3568, 'opinions': 3119, 'colonel': 876, 'seasons': 3844, 'stargate': 4151, 'spin': 4112, 'vote': 4766, 'titled': 4505, 'bugs': 613, 'solely': 4056, 'virus': 4752, 'interaction': 2322, 'watches': 4814, 'williams': 4888, 'despair': 1207, 'spends': 4107, 'nose': 3037, 'females': 1694, 'detail': 1217, 'cop': 991, 'lou': 2663, 'theory': 4437, 'nail': 2957, 'fury': 1855, 'chased': 770, 'treasure': 4571, 'minded': 2850, 'forgotten': 1797, 'damage': 1099, 'hired': 2117, 'rid': 3690, 'leo': 2571, 'peace': 3219, 'lawrence': 2539, 'carried': 698, 'hire': 2116, 'grim': 1974, 'burning': 627, 'vivid': 4760, 'lively': 2627, 'atmospheric': 334, 'grey': 1973, 'revolution': 3680, 'prevent': 3385, 'ireland': 2352, 'dragged': 1343, 'frankenstein': 1822, 'classics': 837, 'largely': 2518, 'ignored': 2225, 'rendition': 3625, 'fond': 1776, 'brando': 566, 'concern': 931, 'complaint': 920, 'included': 2262, 'receive': 3563, 'walker': 4778, 'helicopter': 2076, 'trap': 4563, 'deadly': 1133, 'heights': 2073, 'filmmaker': 1719, 'france': 1816, 'nominated': 3025, 'tim': 4494, 'judging': 2425, 'merit': 2816, 'opened': 3113, 'carefully': 689, 'comparison': 914, 'literature': 2623, 'fascinated': 1657, 'fox': 1814, 'magazine': 2701, 'similarly': 3980, 'edition': 1422, 'false': 1641, 'advertising': 132, 'duty': 1390, 'arrives': 302, 'jewish': 2401, 'newly': 3004, 'nazi': 2977, 'statement': 4162, 'astaire': 330, 'ginger': 1908, 'joined': 2413, 'navy': 2976, 'subplot': 4255, 'sings': 3997, 'solo': 4058, 'tune': 4602, 'evening': 1534, 'cole': 873, 'necessary': 2984, 'photographed': 3258, 'adventures': 131, 'hearts': 2066, 'warm': 4794, 'writes': 4970, 'farce': 1654, 'rick': 3689, 'politically': 3325, 'americas': 215, 'native': 2972, 'complain': 919, 'information': 2288, 'mrs': 2930, 'learned': 2551, 'forbidden': 1785, 'topic': 4526, 'satisfy': 3790, 'historically': 2120, 'courage': 1018, 'precious': 3366, 'admire': 121, 'survived': 4322, 'quote': 3496, 'attend': 344, 'acid': 95, 'ships': 3935, 'del': 1165, 'jaws': 2385, 'nonsensical': 3031, 'satan': 3787, 'relevant': 3604, 'matched': 2763, 'ensemble': 1492, 'butler': 637, 'occur': 3076, 'elaborate': 1439, 'dracula': 1341, 'vampire': 4711, 'tortured': 4530, 'movements': 2924, 'alexander': 180, 'louis': 2665, 'wit': 4908, 'poetry': 3314, 'cliche': 843, 'doomed': 1327, 'plausible': 3295, 'gangsters': 1869, 'crucial': 1068, 'assumed': 329, 'rooms': 3736, 'suffice': 4279, 'ranks': 3519, 'godzilla': 1929, 'audio': 354, 'airplane': 166, 'enemy': 1477, 'sneak': 4043, 'dynamic': 1394, 'amanda': 205, 'manhattan': 2726, 'odds': 3082, 'belief': 451, 'passing': 3204, 'photographer': 3259, 'elegant': 1441, 'smoke': 4039, 'losing': 2658, 'concert': 935, 'rap': 3520, 'hysterical': 2208, '2002': 32, 'cinemas': 817, 'rochester': 3719, 'moody': 2899, 'sudden': 4272, 'hunters': 2200, 'christ': 807, 'everywhere': 1545, 'oddly': 3081, 'destiny': 1212, 'paltrow': 3178, 'resemblance': 3645, 'likewise': 2603, 'threatening': 4468, 'cruel': 1070, 'brian': 576, 'innocence': 2293, 'successfully': 4267, 'expressed': 1601, 'sucked': 4270, 'web': 4833, 'tongue': 4518, 'cheek': 779, 'harder': 2035, 'bo': 521, 'folk': 1770, 'vampires': 4712, 'ralph': 3510, 'relation': 3595, 'rush': 3759, 'liking': 2604, 'regret': 3591, 'standing': 4146, 'characterization': 759, 'garden': 1872, 'bakshi': 386, 'underground': 4640, 'roots': 3738, 'nuts': 3064, 'checking': 778, 'forty': 1807, 'bound': 553, 'ii': 2226, 'iii': 2227, 'imagery': 2234, 'menacing': 2807, 'hang': 2022, 'intensity': 2317, 'countless': 1012, 'earned': 1401, 'mad': 2696, 'shocked': 3939, 'carrying': 701, 'attraction': 350, 'closer': 856, 'listed': 2618, 'explored': 1595, 'knife': 2487, 'blown': 516, 'mexico': 2827, 'conceived': 929, 'seagal': 3839, 'steven': 4182, 'dub': 1378, 'saga': 3773, 'legendary': 2565, 'civil': 826, 'lincoln': 2608, 'definition': 1163, 'rabbit': 3498, 'identify': 2216, 'troops': 4591, 'forces': 1788, 'alert': 178, 'beings': 449, 'universal': 4665, 'latin': 2527, 'greek': 1970, 'overcome': 3151, 'vaguely': 4706, 'plastic': 3294, 'knowledge': 2491, 'rubber': 3747, 'fbi': 1675, 'slaughter': 4021, 'brad': 560, 'washington': 4806, 'hank': 2024, 'ruth': 3763, 'paced': 3162, 'destroyed': 1214, 'friday': 1834, 'machines': 2694, 'recorded': 3574, 'bathroom': 412, 'ashamed': 312, 'orange': 3125, 'struggle': 4234, 'annoyed': 248, 'join': 2412, 'awfully': 373, 'closely': 855, 'survivor': 4324, '1983': 22, '13th': 5, 'suspend': 4329, 'bumbling': 622, 'cutting': 1092, 'generated': 1882, 'jonathan': 2417, 'hood': 2151, 'franchise': 1817, 'nonetheless': 3029, 'feminist': 1695, 'womans': 4922, 'marketing': 2741, 'assault': 324, 'presented': 3376, 'associated': 327, 'cannibal': 669, 'caliber': 649, 'notorious': 3051, 'humans': 2190, 'legal': 2563, 'photo': 3257, 'fancy': 1649, 'wears': 4832, 'nelson': 2997, 'defense': 1159, 'restaurant': 3658, 'composed': 926, 'robot': 3717, 'mst3k': 2932, 'humble': 2191, 'kay': 2447, 'seeks': 3860, 'buried': 624, 'unforgettable': 4652, 'welles': 4844, 'artificial': 306, 'kane': 2442, 'union': 4661, 'corpse': 999, 'ties': 4490, 'superficial': 4298, 'cd': 728, 'blatant': 502, 'deeper': 1155, 'der': 1191, 'bands': 392, 'website': 4834, 'fortune': 1806, 'capturing': 679, 'notably': 3042, 'montage': 2894, 'primarily': 3393, 'losers': 2656, 'meanwhile': 2785, 'quit': 3494, 'tall': 4362, 'delivering': 1171, 'muslim': 2949, 'francis': 1818, 'argument': 291, 'surprises': 4314, 'ice': 2210, 'pages': 3168, 'bedroom': 437, 'familys': 1646, 'born': 544, 'timeless': 4496, 'realizing': 3555, 'blah': 496, 'motivation': 2914, 'itll': 2369, 'elvis': 1451, 'gripping': 1976, 'intrigue': 2333, 'streep': 4215, 'glenn': 1918, 'argue': 290, 'develops': 1226, 'maria': 2736, 'gender': 1878, 'relatives': 3601, 'portray': 3340, 'spite': 4117, 'distant': 1295, 'sixties': 4011, 'inspiring': 2302, 'rights': 3697, 'agrees': 157, 'estate': 1525, 'implausible': 2245, 'deceased': 1146, 'holy': 2140, 'louise': 2666, 'afternoon': 144, 'prom': 3429, 'attracted': 349, 'emphasis': 1463, 'bone': 533, 'powell': 3358, 'june': 2433, 'raymond': 3534, 'relate': 3593, 'beaten': 424, 'poverty': 3357, 'hyde': 2206, 'friendship': 1838, 'desired': 1206, 'enormous': 1490, 'sensitive': 3879, 'charlotte': 766, 'vast': 4716, '1996': 26, 'depiction': 1185, '2003': 33, 'consequences': 947, 'worn': 4948, 'sincere': 3991, 'boredom': 542, 'touches': 4535, 'aforementioned': 139, 'draws': 1352, 'parallel': 3185, 'che': 773, 'revolutionary': 3681, 'square': 4136, 'jungle': 2434, 'deals': 1137, 'developing': 1224, 'focusing': 1769, 'chess': 783, 'screens': 3832, 'occasion': 3073, 'seventies': 3904, 'shark': 3921, 'pulp': 3465, 'task': 4368, 'agents': 151, 'stranger': 4213, 'wallace': 4782, 'conversations': 981, 'willis': 4890, 'skip': 4016, 'waters': 4817, 'orders': 3127, 'soldiers': 4054, 'round': 3742, 'idiots': 2220, 'ramones': 3512, 'appealing': 272, 'ironically': 2356, 'ruins': 3752, 'devils': 1229, 'carradine': 695, 'psychotic': 3459, 'execution': 1566, 'rural': 3758, 'teacher': 4375, 'loyal': 2679, 'davies': 1125, 'slapstick': 4019, 'chaplin': 756, '2006': 36, 'tricks': 4583, 'poster': 3353, 'sides': 3967, 'menace': 2806, 'punishment': 3467, 'nation': 2969, 'spending': 4106, 'models': 2881, 'annie': 247, 'mature': 2773, 'lifetime': 2594, 'network': 3000, '100': 1, 'ethan': 1528, 'omen': 3104, 'eighties': 1437, 'tons': 4520, 'aging': 153, 'cost': 1003, 'intense': 2316, 'cuts': 1091, 'eaten': 1412, 'bleak': 503, 'react': 3540, 'afford': 138, 'combat': 882, 'served': 3894, 'faster': 1662, 'gerard': 1895, 'lesser': 2576, 'jackie': 2374, 'fay': 1674, 'timothy': 4499, 'remarkably': 3614, 'faithful': 1634, 'idiotic': 2219, 'houses': 2180, 'psycho': 3457, 'comparing': 913, 'lol': 2640, 'murphy': 2944, 'richards': 3687, 'retarded': 3663, 'stereotypical': 4180, 'raising': 3509, 'protect': 3443, 'carter': 703, 'warrior': 4802, 'sympathetic': 4342, 'daughters': 1122, 'mitchell': 2875, 'blacks': 494, 'corporate': 998, 'favor': 1670, 'parker': 3191, 'burned': 626, 'chan': 746, 'command': 897, 'rex': 3683, 'scientist': 3818, 'widow': 4883, 'frustrated': 1842, 'flawed': 1750, 'sunday': 4293, 'neighborhood': 2993, 'passionate': 3206, 'monkey': 2890, 'invasion': 2340, 'fx': 1858, 'jerk': 2395, 'defined': 1160, 'broad': 590, 'disease': 1285, 'laid': 2508, 'rocks': 3722, 'shines': 3932, 'mail': 2706, 'ps': 3453, 'edie': 1419, 'juvenile': 2441, 'invisible': 2344, 'communist': 907, 'widmark': 4882, 'peters': 3248, 'joey': 2408, 'devoid': 1230, 'pseudo': 3454, 'tight': 4492, 'highlight': 2103, 'kirk': 2482, 'trial': 4580, 'simon': 3982, 'dragon': 1344, 'authority': 360, 'greed': 1968, 'sold': 4052, 'featured': 1679, 'miserable': 2863, 'persona': 3239, 'strength': 4219, 'delightful': 1168, 'exaggerated': 1552, 'jail': 2376, 'norman': 3035, 'calm': 655, 'craig': 1030, 'swim': 4337, 'lucy': 2684, 'turning': 4608, 'tiger': 4491, 'birthday': 487, 'wicked': 4879, 'swimming': 4338, 'imitation': 2241, 'flies': 1756, 'lips': 2615, 'attached': 336, 'meeting': 2794, 'upper': 4685, 'victoria': 4732, 'parent': 3187, 'blond': 510, 'response': 3654, 'silver': 3977, 'fulci': 1845, 'buff': 611, 'unintentional': 4658, 'ourselves': 3140, 'lessons': 2578, 'classes': 834, 'hearted': 2065, 'bare': 398, 'arnold': 296, 'bus': 631, 'huh': 2187, 'priceless': 3390, 'priest': 3392, 'gotta': 1946, 'tremendous': 4579, 'dreary': 1356, 'integrity': 2311, 'stiller': 4189, 'winters': 4901, 'outcome': 3142, 'pulls': 3464, 'bird': 484, 'ticket': 4487, 'complexity': 924, 'paulie': 3215, 'expressions': 1603, 'reflect': 3584, 'excessive': 1560, 'robots': 3718, 'cia': 814, 'werewolf': 4850, 'schools': 3814, 'resembles': 3646, 'kenneth': 2455, 'brand': 565, 'flynn': 1765, 'bite': 489, 'racism': 3502, 'wet': 4855, 'emma': 1457, 'simplicity': 3984, 'phony': 3256, 'teaching': 4377, 'initially': 2291, 'paranoia': 3186, 'fears': 1677, 'nostalgia': 3038, 'nomination': 3026, '1st': 28, 'originality': 3130, 'mummy': 2937, 'testament': 4417, 'sidney': 3968, 'pamela': 3179, 'staring': 4152, 'creation': 1040, 'portion': 3338, 'crisis': 1060, 'businessman': 634, 'andrew': 228, 'interviews': 2330, 'lacked': 2503, 'bettie': 473, 'ashley': 313, 'warner': 4799, 'rage': 3505, 'stevens': 4183, 'mentioning': 2812, 'trek': 4578, 'ryan': 3765, 'bollywood': 530, 'meaningful': 2781, 'intellectual': 2312, 'et': 1526, 'tad': 4347, 'dave': 1123, 'stunts': 4246, 'funnier': 1850, 'terry': 4415, 'hat': 2045, 'gonna': 1936, 'tarzan': 4367, 'crocodile': 1065, 'linda': 2609, 'boxing': 556, 'progress': 3425, 'understandable': 4644, 'greedy': 1969, 'wins': 4899, 'competition': 918, 'incompetent': 2266, 'kidding': 2465, 'patients': 3212, 'attorney': 348, 'security': 3854, 'vietnam': 4735, 'funeral': 1849, 'raise': 3507, 'suspicious': 4332, 'winds': 4895, 'brutally': 604, 'trick': 4582, 'happily': 2030, 'encounter': 1466, 'chases': 771, 'pants': 3182, 'splendid': 4119, 'vulnerable': 4768, 'shell': 3927, 'ann': 244, 'accused': 91, 'craven': 1034, 'embarrassment': 1455, 'stereotype': 4178, 'blake': 498, 'gross': 1978, 'remarks': 3615, 'sellers': 3872, 'lasted': 2522, 'blues': 519, 'troubles': 4594, 'spare': 4093, 'explosions': 1597, 'mario': 2738, 'defeat': 1157, 'surfing': 4311, 'spielberg': 4110, 'superbly': 4297, 'denzel': 1181, 'areas': 287, 'terrorists': 4414, 'inducing': 2279, 'witnesses': 4916, 'landing': 2512, 'fetched': 1698, 'doubts': 1333, 'babe': 375, 'creep': 1051, 'spirited': 4114, 'million': 2847, 'resources': 3651, 'domino': 1319, 'cube': 1076, 'lena': 2568, 'pg': 3250, 'waitress': 4773, 'overwhelming': 3157, 'mighty': 2836, 'tomatoes': 4515, 'rats': 3531, 'wolf': 4920, 'purple': 3473, 'triumph': 4590, 'albert': 174, 'rule': 3753, 'whereas': 4865, 'mile': 2842, 'disappear': 1270, 'dialogs': 1233, 'belong': 459, 'grows': 1985, 'hop': 2154, 'pride': 3391, 'nyc': 3065, 'album': 175, 'scottish': 3825, 'clip': 851, 'dutch': 1389, 'kennedy': 2454, 'grinch': 1975, 'stole': 4194, 'fallen': 1638, 'honor': 2150, 'favourite': 1673, 'khan': 2459, 'secrets': 3852, 'awake': 365, 'feed': 1683, 'thru': 4483, 'till': 4493, 'inspector': 2299, 'gadget': 1860, 'justin': 2440, 'angela': 232, 'twilight': 4614, 'faults': 1669, 'trailers': 4555, 'definite': 1161, 'thrill': 4471, 'cowboy': 1025, 'bud': 607, 'fields': 1705, 'bull': 619, 'smooth': 4041, 'messages': 2820, 'cage': 645, 'poetic': 3313, 'roberts': 3714, 'lisa': 2616, 'directorial': 1265, 'resort': 3650, 'moronic': 2907, 'chicks': 787, '1973': 19, 'proceedings': 3410, 'wacky': 4769, 'symbolism': 4341, 'demons': 1178, 'ego': 1435, 'maintain': 2710, 'mundane': 2938, 'shed': 3924, 'chaos': 755, 'fisher': 1739, 'amy': 222, 'assistant': 326, 'individuals': 2278, 'survivors': 4325, 'subjects': 4254, 'masters': 2761, 'lees': 2560, 'molly': 2884, 'daring': 1114, 'constructed': 959, 'parties': 3196, 'dawson': 1128, 'crack': 1027, 'illogical': 2231, 'convey': 982, 'wounded': 4961, 'poem': 3312, 'eager': 1396, 'species': 4098, 'cardboard': 682, 'extended': 1604, 'underlying': 4641, 'cary': 706, 'gifted': 1907, 'respected': 3653, 'campbell': 663, 'hopper': 2161, 'scrooge': 3837, 'dickens': 1240, 'thief': 4448, 'carl': 692, 'masterful': 2758, 'illegal': 2229, 'plague': 3285, 'cousin': 1021, 'deaf': 1134, 'jenny': 2393, 'titanic': 4503, 'removed': 3624, 'pearl': 3220, 'handed': 2016, 'arrived': 301, 'hoffman': 2128, 'corruption': 1002, 'dire': 1257, 'edgar': 1417, 'inevitable': 2282, 'wealth': 4826, 'suggested': 4281, 'morris': 2908, 'combine': 884, 'murderer': 2941, 'waves': 4819, 'remaining': 3610, 'hamilton': 2012, 'private': 3404, 'specifically': 4100, 'sounding': 4083, 'tame': 4363, 'cheating': 776, 'newspaper': 3006, 'karloff': 2445, 'scope': 3821, 'mayor': 2777, 'emily': 1456, 'hugh': 2186, 'manipulative': 2727, 'branagh': 564, 'fonda': 1777, '30s': 44, 'barry': 401, 'blunt': 520, 'brazil': 568, 'monkeys': 2891, 'rebel': 3561, 'useless': 4695, 'cake': 648, 'dinosaur': 1255, 'trained': 4557, 'eyre': 1614, 'dalton': 1098, 'assigned': 325, 'versus': 4722, 'disturbed': 1299, 'adams': 112, 'airport': 167, 'scientists': 3819, 'birds': 485, 'gabriel': 1859, 'betty': 474, 'bullets': 621, 'nicholas': 3010, 'ruby': 3749, 'bothered': 549, 'wreck': 4965, 'beliefs': 452, 'desperation': 1210, 'factory': 1623, 'superhero': 4299, 'understated': 4646, 'useful': 4694, 'hung': 2197, 'cagney': 646, 'vice': 4727, 'scheme': 3812, 'orson': 3132, 'craft': 1028, 'myers': 2952, 'restored': 3659, 'relies': 3606, 'bath': 411, 'minimum': 2856, 'wisdom': 4902, 'wells': 4845, 'lion': 2614, 'hamlet': 2013, 'heston': 2094, 'montana': 2895, 'alice': 182, 'incident': 2260, 'dan': 1102, 'mann': 2728, 'cure': 1081, 'motivations': 2915, 'investigate': 2342, 'farm': 1656, 'holmes': 2139, 'reel': 3581, 'demands': 1175, 'arthur': 305, '1933': 12, 'bela': 450, 'lugosi': 2686, 'destroying': 1215, 'nazis': 2978, 'husbands': 2205, 'wished': 4905, 'cook': 988, 'fooled': 1780, 'germans': 1897, 'apes': 267, 'victor': 4731, 'scarecrow': 3804, 'purchased': 3470, 'reaching': 3539, 'stones': 4198, 'superman': 4301, 'fed': 1682, 'francisco': 1819, 'modesty': 2883, 'endure': 1475, 'mickey': 2831, 'card': 681, 'catherine': 719, 'documentaries': 1306, 'inane': 2258, 'duke': 1383, 'jake': 2377, 'bargain': 400, 'rising': 3703, 'andrews': 229, 'derek': 1192, 'bucks': 606, 'dust': 1388, 'finger': 1731, 'bergman': 466, 'rambo': 3511, 'alongside': 196, 'duo': 1386, 'thoughtful': 4463, 'plight': 3308, 'carol': 693, 'gundam': 1997, 'leslie': 2574, 'petty': 3249, 'sport': 4129, 'doom': 1326, 'purposes': 3475, 'hart': 2041, 'guilt': 1994, 'downhill': 1336, 'dolph': 1317, 'wishes': 4906, 'moore': 2901, 'clown': 862, 'earl': 1398, 'tooth': 4524, 'formulaic': 1803, 'li': 2587, 'grandfather': 1954, 'savage': 3793, 'rangers': 3517, 'robbins': 3712, 'gandhi': 1866, 'mel': 2796, 'amitabh': 216, 'unreal': 4676, 'mildred': 2841, 'construction': 960, 'kissing': 2484, 'harvey': 2042, 'performs': 3234, 'walken': 4777, 'receives': 3565, 'laughably': 2531, 'seed': 3856, 'georges': 1894, 'kapoor': 2443, 'dinosaurs': 1256, 'miracle': 2860, 'witches': 4910, '1990': 24, 'designs': 1204, 'uwe': 4703, 'boll': 529, 'marty': 2749, '3d': 46}\n"
     ]
    }
   ],
   "source": [
    "print(str(vocabulary))"
   ]
  },
  {
   "cell_type": "markdown",
   "metadata": {},
   "source": [
    "Once you have added the endpoint name to the Lambda function, click on **Save**. Your Lambda function is now up and running. Next we need to create a way for our web app to execute the Lambda function."
   ]
  },
  {
   "cell_type": "markdown",
   "metadata": {},
   "source": [
    "### Setting up API Gateway\n",
    "\n",
    "Now that our Lambda function is set up, it is time to create a new API using API Gateway that will trigger the Lambda function we have just created.\n",
    "\n",
    "Using AWS Console, navigate to **Amazon API Gateway** and then click on **Get started**.\n",
    "\n",
    "On the next page, make sure that **New API** is selected and give the new api a name, for example, `sentiment_analysis_web_app`. Then, click on **Create API**.\n",
    "\n",
    "Now we have created an API, however it doesn't currently do anything. What we want it to do is to trigger the Lambda function that we created earlier.\n",
    "\n",
    "Select the **Actions** dropdown menu and click **Create Method**. A new blank method will be created, select its dropdown menu and select **POST**, then click on the check mark beside it.\n",
    "\n",
    "For the integration point, make sure that **Lambda Function** is selected and click on the **Use Lambda Proxy integration**. This option makes sure that the data that is sent to the API is then sent directly to the Lambda function with no processing. It also means that the return value must be a proper response object as it will also not be processed by API Gateway.\n",
    "\n",
    "Type the name of the Lambda function you created earlier into the **Lambda Function** text entry box and then click on **Save**. Click on **OK** in the pop-up box that then appears, giving permission to API Gateway to invoke the Lambda function you created.\n",
    "\n",
    "The last step in creating the API Gateway is to select the **Actions** dropdown and click on **Deploy API**. You will need to create a new Deployment stage and name it anything you like, for example `prod`.\n",
    "\n",
    "You have now successfully set up a public API to access your SageMaker model. Make sure to copy or write down the URL provided to invoke your newly created public API as this will be needed in the next step. This URL can be found at the top of the page, highlighted in blue next to the text **Invoke URL**."
   ]
  },
  {
   "cell_type": "markdown",
   "metadata": {},
   "source": [
    "## Step 7: Deploying our web app\n",
    "\n",
    "Now that we have a publicly available API, we can start using it in a web app. For our purposes, we have provided a simple static html file which can make use of the public api you created earlier.\n",
    "\n",
    "In the `website` folder there should be a file called `index.html`. Download the file to your computer and open that file up in a text editor of your choice. There should be a line which contains **\\*\\*REPLACE WITH PUBLIC API URL\\*\\***. Replace this string with the url that you wrote down in the last step and then save the file.\n",
    "\n",
    "Now, if you open `index.html` on your local computer, your browser will behave as a local web server and you can use the provided site to interact with your SageMaker model.\n",
    "\n",
    "If you'd like to go further, you can host this html file anywhere you'd like, for example using github or hosting a static site on Amazon's S3. Once you have done this you can share the link with anyone you'd like and have them play with it too!\n",
    "\n",
    "> **Important Note** In order for the web app to communicate with the SageMaker endpoint, the endpoint has to actually be deployed and running. This means that you are paying for it. Make sure that the endpoint is running when you want to use the web app but that you shut it down when you don't need it, otherwise you will end up with a surprisingly large AWS bill."
   ]
  },
  {
   "cell_type": "markdown",
   "metadata": {},
   "source": [
    "### Delete the endpoint\n",
    "\n",
    "Remember to always shut down your endpoint if you are no longer using it. You are charged for the length of time that the endpoint is running so if you forget and leave it on you could end up with an unexpectedly large bill."
   ]
  },
  {
   "cell_type": "code",
   "execution_count": 51,
   "metadata": {},
   "outputs": [],
   "source": [
    "xgb_predictor.delete_endpoint()"
   ]
  },
  {
   "cell_type": "markdown",
   "metadata": {},
   "source": [
    "## Optional: Clean up\n",
    "\n",
    "The default notebook instance on SageMaker doesn't have a lot of excess disk space available. As you continue to complete and execute notebooks you will eventually fill up this disk space, leading to errors which can be difficult to diagnose. Once you are completely finished using a notebook it is a good idea to remove the files that you created along the way. Of course, you can do this from the terminal or from the notebook hub if you would like. The cell below contains some commands to clean up the created files from within the notebook."
   ]
  },
  {
   "cell_type": "code",
   "execution_count": 52,
   "metadata": {},
   "outputs": [],
   "source": [
    "# First we will remove all of the files contained in the data_dir directory\n",
    "!rm $data_dir/*\n",
    "\n",
    "# And then we delete the directory itself\n",
    "!rmdir $data_dir\n",
    "\n",
    "# Similarly we remove the files in the cache_dir directory and the directory itself\n",
    "!rm $cache_dir/*\n",
    "!rmdir $cache_dir"
   ]
  },
  {
   "cell_type": "code",
   "execution_count": null,
   "metadata": {},
   "outputs": [],
   "source": []
  }
 ],
 "metadata": {
  "kernelspec": {
   "display_name": "conda_python3",
   "language": "python",
   "name": "conda_python3"
  },
  "language_info": {
   "codemirror_mode": {
    "name": "ipython",
    "version": 3
   },
   "file_extension": ".py",
   "mimetype": "text/x-python",
   "name": "python",
   "nbconvert_exporter": "python",
   "pygments_lexer": "ipython3",
   "version": "3.6.13"
  }
 },
 "nbformat": 4,
 "nbformat_minor": 2
}
